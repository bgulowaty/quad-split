{
 "cells": [
  {
   "cell_type": "code",
   "execution_count": 1,
   "id": "initial_id",
   "metadata": {
    "collapsed": true,
    "ExecuteTime": {
     "end_time": "2023-12-03T13:56:49.013141Z",
     "start_time": "2023-12-03T13:56:48.103112Z"
    }
   },
   "outputs": [],
   "source": [
    "from mlutils.datasets.dataset import Dataset\n",
    "from mlutils.mlflow.utils import get_run_params, terminate_run, finish_run_and_print_exception"
   ]
  },
  {
   "cell_type": "code",
   "execution_count": 5,
   "outputs": [],
   "source": [
    "train_path = \"../datasets/notebooks/processed/pima-5-1tra.csv\""
   ],
   "metadata": {
    "collapsed": false,
    "ExecuteTime": {
     "end_time": "2023-12-03T13:58:12.620520Z",
     "start_time": "2023-12-03T13:58:12.617268Z"
    }
   },
   "id": "29749685b88fa199"
  },
  {
   "cell_type": "code",
   "execution_count": 6,
   "outputs": [],
   "source": [
    "test_path = train_path.replace('tra', 'tst')\n",
    "name = train_path.split(\"/\")[-1].split('-')[0]\n",
    "dataset = Dataset.read_dataset(train_path, test_path, name) \\\n",
    "    .encode_x_to_labels() \\\n",
    "    .encode_y_to_numeric_labels()\n"
   ],
   "metadata": {
    "collapsed": false,
    "ExecuteTime": {
     "end_time": "2023-12-03T13:58:21.816545Z",
     "start_time": "2023-12-03T13:58:21.801963Z"
    }
   },
   "id": "5056781813dcf435"
  },
  {
   "cell_type": "code",
   "execution_count": 17,
   "outputs": [],
   "source": [
    "import numpy as np\n",
    "import problexity as px\n",
    "from problexity import ComplexityCalculator"
   ],
   "metadata": {
    "collapsed": false,
    "ExecuteTime": {
     "end_time": "2023-12-03T14:08:02.206493Z",
     "start_time": "2023-12-03T14:08:02.200900Z"
    }
   },
   "id": "36868e08fe3341bd"
  },
  {
   "cell_type": "code",
   "execution_count": 27,
   "outputs": [
    {
     "name": "stdout",
     "output_type": "stream",
     "text": [
      "0.6405073571001472\n",
      "0.7264019832035894\n",
      "0.993485342019544\n",
      "0.35350222733137066\n",
      "0.28664495114006516\n",
      "0.30293159609120524\n",
      "0.16449511400651465\n",
      "0.5262749546649009\n"
     ]
    },
    {
     "name": "stderr",
     "output_type": "stream",
     "text": [
      "/Users/bgulowaty/studia/projekty/quad-splits/.venv/lib/python3.8/site-packages/sklearn/svm/_classes.py:32: FutureWarning: The default value of `dual` will change from `True` to `'auto'` in 1.5. Set the value of `dual` explicitly to suppress the warning.\n",
      "  warnings.warn(\n",
      "/Users/bgulowaty/studia/projekty/quad-splits/.venv/lib/python3.8/site-packages/sklearn/svm/_base.py:1250: ConvergenceWarning: Liblinear failed to converge, increase the number of iterations.\n",
      "  warnings.warn(\n",
      "/Users/bgulowaty/studia/projekty/quad-splits/.venv/lib/python3.8/site-packages/sklearn/svm/_classes.py:32: FutureWarning: The default value of `dual` will change from `True` to `'auto'` in 1.5. Set the value of `dual` explicitly to suppress the warning.\n",
      "  warnings.warn(\n",
      "/Users/bgulowaty/studia/projekty/quad-splits/.venv/lib/python3.8/site-packages/sklearn/svm/_base.py:1250: ConvergenceWarning: Liblinear failed to converge, increase the number of iterations.\n",
      "  warnings.warn(\n",
      "/Users/bgulowaty/studia/projekty/quad-splits/.venv/lib/python3.8/site-packages/sklearn/svm/_classes.py:32: FutureWarning: The default value of `dual` will change from `True` to `'auto'` in 1.5. Set the value of `dual` explicitly to suppress the warning.\n",
      "  warnings.warn(\n",
      "/Users/bgulowaty/studia/projekty/quad-splits/.venv/lib/python3.8/site-packages/sklearn/svm/_base.py:1250: ConvergenceWarning: Liblinear failed to converge, increase the number of iterations.\n",
      "  warnings.warn(\n"
     ]
    },
    {
     "name": "stdout",
     "output_type": "stream",
     "text": [
      "0.34690553745928343\n",
      "0.6405073571001472\n",
      "0.7264019832035894\n",
      "0.993485342019544\n",
      "0.6856677524429967\n",
      "0.013029315960912053\n",
      "0.004885993485342019\n"
     ]
    }
   ],
   "source": [
    "for metric in [px.f1, px.f2, px.f3, px.l1, px.l2, px.l3, px.n1, px.n2, px.n3, px.f1, px.f2, px.f3, px.t1, px.t2, px.t3]:\n",
    "    print(metric(dataset.train.x, dataset.train.y))"
   ],
   "metadata": {
    "collapsed": false,
    "ExecuteTime": {
     "end_time": "2023-12-03T14:17:00.727109Z",
     "start_time": "2023-12-03T14:17:00.285797Z"
    }
   },
   "id": "577dd60833e27426"
  }
 ],
 "metadata": {
  "kernelspec": {
   "display_name": "Python 3",
   "language": "python",
   "name": "python3"
  },
  "language_info": {
   "codemirror_mode": {
    "name": "ipython",
    "version": 2
   },
   "file_extension": ".py",
   "mimetype": "text/x-python",
   "name": "python",
   "nbconvert_exporter": "python",
   "pygments_lexer": "ipython2",
   "version": "2.7.6"
  }
 },
 "nbformat": 4,
 "nbformat_minor": 5
}

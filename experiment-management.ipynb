{
 "cells": [
  {
   "cell_type": "code",
   "id": "ddde3ae6873e45b1",
   "metadata": {
    "collapsed": false,
    "jupyter": {
     "outputs_hidden": false,
     "is_executing": true
    }
   },
   "source": [
    "%load_ext autoreload\n",
    "%autoreload 2\n",
    "\n"
   ],
   "outputs": [],
   "execution_count": null
  },
  {
   "cell_type": "code",
   "id": "fb328bf281754dbe",
   "metadata": {
    "collapsed": false,
    "jupyter": {
     "outputs_hidden": false
    },
    "ExecuteTime": {
     "end_time": "2024-08-04T11:39:13.747665Z",
     "start_time": "2024-08-04T11:39:13.733362Z"
    }
   },
   "source": [
    "DATASETS = ['wisconsin', 'bupa', 'bands', 'ionosphere', 'hepatitis', 'saheart',\n",
    "            'haberman', 'housevotes', 'heart', 'australian', 'tic-tac-toe',\n",
    "            'mammographic', 'monk-2', 'appendicitis', 'breast', 'crx']\n",
    "random_shuffles = [42, 69, 22, 1, 99]\n",
    "COMPLEXITY_MEASURES = ['f2', 't4', 'c1', 'n3', 'l2', 'density']\n",
    "BASE_CLFS = ['knn', 'bayes', 'dt', 'svm']"
   ],
   "outputs": [],
   "execution_count": 17
  },
  {
   "cell_type": "code",
   "id": "initial_id",
   "metadata": {
    "ExecuteTime": {
     "end_time": "2024-08-04T11:39:12.125249Z",
     "start_time": "2024-08-04T11:39:12.108821Z"
    }
   },
   "source": [
    "from mlutils.mlflow.utils import create_runs_for_params, get_unfinished_run_ids, get_runs, get_unfinished_runs, get_run_params, experiment_name_to_id\n",
    "from glob import glob\n",
    "from mlutils.distributedcomputing.experiments import run_experiments\n",
    "from sklearn.model_selection import ParameterGrid\n",
    "from mlflow import MlflowClient\n",
    "import mlflow\n",
    "from pathlib import Path\n",
    "from datasetz.core.load_dataset import load_embedded_dataset\n",
    "\n",
    "client = MlflowClient(tracking_uri=\"http://192.168.1.181:5010\")\n",
    "mlflow.set_tracking_uri(\"http://192.168.1.181:5010\")\n",
    "\n"
   ],
   "outputs": [],
   "execution_count": 16
  },
  {
   "cell_type": "code",
   "id": "77372bbd19958470",
   "metadata": {
    "collapsed": false,
    "jupyter": {
     "outputs_hidden": false
    },
    "ExecuteTime": {
     "end_time": "2024-08-04T11:43:20.593313Z",
     "start_time": "2024-08-04T11:43:20.578725Z"
    }
   },
   "source": [
    "params = ParameterGrid({\n",
    "    'dataset': DATASETS,\n",
    "    # 'base_clf': [\"svm\", \"dt\", \"knn\"],\n",
    "    'data_shuffle_random_state': random_shuffles,\n",
    "    'should_take_test': [True, False],\n",
    "    'min_samples': [28],\n",
    "    \"complexity_measure\": [\"n3\"],\n",
    "    \"min_split_percentage\": [0.183],\n",
    "    \"n_estimators\": [3,5,7],\n",
    "})\n",
    "\n",
    "\n",
    "print(f\"params={len(params)}\")"
   ],
   "outputs": [
    {
     "name": "stdout",
     "output_type": "stream",
     "text": [
      "params=480\n"
     ]
    }
   ],
   "execution_count": 19
  },
  {
   "metadata": {
    "ExecuteTime": {
     "end_time": "2024-08-04T11:44:02.622279Z",
     "start_time": "2024-08-04T11:43:32.618196Z"
    }
   },
   "cell_type": "code",
   "source": "runs = create_runs_for_params(params, experiment_name='04.08-quadsplit-explain-v1-extended', client=client)",
   "id": "618e3b7c388e3e8a",
   "outputs": [
    {
     "name": "stderr",
     "output_type": "stream",
     "text": [
      "2024-08-04 13:43:32.706 | INFO     | mlutils.mlflow.utils:create_runs_for_params:32 - Experiment not found, creating new. Id=74\n",
      "100%|██████████| 480/480 [00:29<00:00, 16.42it/s]\n"
     ]
    }
   ],
   "execution_count": 20
  },
  {
   "cell_type": "code",
   "id": "5e05cf6f699fe925",
   "metadata": {
    "collapsed": false,
    "jupyter": {
     "outputs_hidden": false
    },
    "scrolled": true,
    "ExecuteTime": {
     "end_time": "2024-07-08T22:03:25.456879Z",
     "start_time": "2024-07-08T22:02:50.539273Z"
    }
   },
   "source": "runs = create_runs_for_params(params, experiment_name='09.07-quadsplit-explain-v1', client=client)",
   "outputs": [
    {
     "name": "stderr",
     "output_type": "stream",
     "text": [
      "2024-07-09 00:02:50.625 | INFO     | mlutils.mlflow.utils:create_runs_for_params:32 - Experiment not found, creating new. Id=60\n",
      "100%|██████████| 960/960 [00:34<00:00, 28.02it/s]\n"
     ]
    }
   ],
   "execution_count": 6
  },
  {
   "metadata": {
    "ExecuteTime": {
     "end_time": "2024-07-08T22:09:42.687590Z",
     "start_time": "2024-07-08T22:07:41.041131Z"
    }
   },
   "cell_type": "code",
   "source": "runsv2 = create_runs_for_params(params, experiment_name='09.07-quadsplit-explain-v2', client=client)",
   "id": "156cacf0a157db3e",
   "outputs": [
    {
     "name": "stderr",
     "output_type": "stream",
     "text": [
      "2024-07-09 00:07:41.114 | INFO     | mlutils.mlflow.utils:create_runs_for_params:32 - Experiment not found, creating new. Id=61\n",
      "100%|██████████| 2880/2880 [02:00<00:00, 23.83it/s]\n"
     ]
    }
   ],
   "execution_count": 9
  },
  {
   "metadata": {
    "ExecuteTime": {
     "end_time": "2024-07-08T19:36:41.892246Z",
     "start_time": "2024-07-08T19:36:41.837481Z"
    }
   },
   "cell_type": "code",
   "source": "experiment_name_to_id('06.07-quadsplit-3', client)",
   "id": "a7d9e70a4b7fca1a",
   "outputs": [
    {
     "data": {
      "text/plain": [
       "'58'"
      ]
     },
     "execution_count": 9,
     "metadata": {},
     "output_type": "execute_result"
    }
   ],
   "execution_count": 9
  },
  {
   "metadata": {
    "ExecuteTime": {
     "end_time": "2024-07-27T14:23:32.122303Z",
     "start_time": "2024-07-27T14:23:17.689888Z"
    }
   },
   "cell_type": "code",
   "source": "runs= get_runs(experiment_name_to_id('06.07-quadsplit-3', client))",
   "id": "227bf369e5b82117",
   "outputs": [],
   "execution_count": 10
  },
  {
   "cell_type": "code",
   "id": "3d5e4d87ba44d40e",
   "metadata": {
    "collapsed": false,
    "is_executing": true,
    "jupyter": {
     "outputs_hidden": false
    },
    "scrolled": true,
    "ExecuteTime": {
     "end_time": "2024-08-04T11:44:31.502206Z",
     "start_time": "2024-08-04T11:44:10.720745Z"
    }
   },
   "source": "run_experiments(runs, 'experiment_quad_split_explain', notebook_path=\"quadsplit_entrypoint-2.ipynb\", output_dir_path=Path(\"/tmp\"), backend='pueue', pueue_group=\"quad-split\")\n",
   "outputs": [
    {
     "name": "stderr",
     "output_type": "stream",
     "text": [
      "2024-08-04 13:44:10.733 | INFO     | mlutils.distributedcomputing.experiments:run_experiments:13 - {'notebook_path': 'quadsplit_entrypoint-2.ipynb', 'output_dir_path': PosixPath('/tmp'), 'pueue_group': 'quad-split'}\n",
      "2024-08-04 13:44:10.734 | WARNING  | mlutils.distributedcomputing.experiments:run_experiments:91 - Using pueue backend. Make sure you execute this function not from experiment notebook!\n",
      "2024-08-04 13:44:10.821 | INFO     | mlutils.distributedcomputing.job_scheduling:create_experiment_notebook:101 - \n",
      "    Creating experiment notebook\n",
      "        notebook_name=quadsplit_entrypoint-2.ipynb\n",
      "        experiment_function=experiment_quad_split_explain\n",
      "        instance_id_param_name=EXPERIMENT_INSTANCE_ID\n",
      "        \n",
      "2024-08-04 13:44:10.826 | INFO     | mlutils.distributedcomputing.experiments:run_experiments:108 - Notebook path=/Users/bgulowaty/studia/projekty/quad-splits/quadsplit_entrypoint-2-9670d642-dd6e-4fd7-b7a0-5bece18c00d0.ipynb\n",
      "2024-08-04 13:44:10.826 | INFO     | mlutils.distributedcomputing.job_scheduling:run_experiments_in_puepe:204 - \n",
      "        papermill_path=/Users/bgulowaty/studia/projekty/quad-splits/.venv/bin/papermill,\n",
      "        output_dir_path=/tmp\n",
      "2024-08-04 13:44:10.827 | DEBUG    | mlutils.distributedcomputing.job_scheduling:run_experiments_in_puepe:219 - /opt/homebrew/bin/pueue add -g quad-split \"/Users/bgulowaty/studia/projekty/quad-splits/.venv/bin/papermill --log-output --log-level DEBUG /Users/bgulowaty/studia/projekty/quad-splits/quadsplit_entrypoint-2-9670d642-dd6e-4fd7-b7a0-5bece18c00d0.ipynb /tmp/222ca2495c51431bb525e20ad6be8b6b.ipynb -p EXPERIMENT_INSTANCE_ID 222ca2495c51431bb525e20ad6be8b6b\"\n",
      "2024-08-04 13:44:10.849 | DEBUG    | mlutils.distributedcomputing.job_scheduling:run_experiments_in_puepe:219 - /opt/homebrew/bin/pueue add -g quad-split \"/Users/bgulowaty/studia/projekty/quad-splits/.venv/bin/papermill --log-output --log-level DEBUG /Users/bgulowaty/studia/projekty/quad-splits/quadsplit_entrypoint-2-9670d642-dd6e-4fd7-b7a0-5bece18c00d0.ipynb /tmp/649e9b66f4c644c4be682cc424e5da02.ipynb -p EXPERIMENT_INSTANCE_ID 649e9b66f4c644c4be682cc424e5da02\"\n",
      "2024-08-04 13:44:10.875 | DEBUG    | mlutils.distributedcomputing.job_scheduling:run_experiments_in_puepe:219 - /opt/homebrew/bin/pueue add -g quad-split \"/Users/bgulowaty/studia/projekty/quad-splits/.venv/bin/papermill --log-output --log-level DEBUG /Users/bgulowaty/studia/projekty/quad-splits/quadsplit_entrypoint-2-9670d642-dd6e-4fd7-b7a0-5bece18c00d0.ipynb /tmp/b307178df7634ad5baf00612865ff434.ipynb -p EXPERIMENT_INSTANCE_ID b307178df7634ad5baf00612865ff434\"\n",
      "2024-08-04 13:44:10.899 | DEBUG    | mlutils.distributedcomputing.job_scheduling:run_experiments_in_puepe:219 - /opt/homebrew/bin/pueue add -g quad-split \"/Users/bgulowaty/studia/projekty/quad-splits/.venv/bin/papermill --log-output --log-level DEBUG /Users/bgulowaty/studia/projekty/quad-splits/quadsplit_entrypoint-2-9670d642-dd6e-4fd7-b7a0-5bece18c00d0.ipynb /tmp/27b051d6c9044b0fa078c0189df24bd2.ipynb -p EXPERIMENT_INSTANCE_ID 27b051d6c9044b0fa078c0189df24bd2\"\n",
      "2024-08-04 13:44:10.921 | DEBUG    | mlutils.distributedcomputing.job_scheduling:run_experiments_in_puepe:219 - /opt/homebrew/bin/pueue add -g quad-split \"/Users/bgulowaty/studia/projekty/quad-splits/.venv/bin/papermill --log-output --log-level DEBUG /Users/bgulowaty/studia/projekty/quad-splits/quadsplit_entrypoint-2-9670d642-dd6e-4fd7-b7a0-5bece18c00d0.ipynb /tmp/f719fe33c9354e348f734d01be19dab1.ipynb -p EXPERIMENT_INSTANCE_ID f719fe33c9354e348f734d01be19dab1\"\n",
      "2024-08-04 13:44:10.946 | DEBUG    | mlutils.distributedcomputing.job_scheduling:run_experiments_in_puepe:219 - /opt/homebrew/bin/pueue add -g quad-split \"/Users/bgulowaty/studia/projekty/quad-splits/.venv/bin/papermill --log-output --log-level DEBUG /Users/bgulowaty/studia/projekty/quad-splits/quadsplit_entrypoint-2-9670d642-dd6e-4fd7-b7a0-5bece18c00d0.ipynb /tmp/78a2c00f1c87444385eb0cda34028326.ipynb -p EXPERIMENT_INSTANCE_ID 78a2c00f1c87444385eb0cda34028326\"\n",
      "2024-08-04 13:44:10.969 | DEBUG    | mlutils.distributedcomputing.job_scheduling:run_experiments_in_puepe:219 - /opt/homebrew/bin/pueue add -g quad-split \"/Users/bgulowaty/studia/projekty/quad-splits/.venv/bin/papermill --log-output --log-level DEBUG /Users/bgulowaty/studia/projekty/quad-splits/quadsplit_entrypoint-2-9670d642-dd6e-4fd7-b7a0-5bece18c00d0.ipynb /tmp/9c223584823b43089770c8e465126bc8.ipynb -p EXPERIMENT_INSTANCE_ID 9c223584823b43089770c8e465126bc8\"\n",
      "2024-08-04 13:44:10.994 | DEBUG    | mlutils.distributedcomputing.job_scheduling:run_experiments_in_puepe:219 - /opt/homebrew/bin/pueue add -g quad-split \"/Users/bgulowaty/studia/projekty/quad-splits/.venv/bin/papermill --log-output --log-level DEBUG /Users/bgulowaty/studia/projekty/quad-splits/quadsplit_entrypoint-2-9670d642-dd6e-4fd7-b7a0-5bece18c00d0.ipynb /tmp/6ccaea4e0eae4fc0aaec959391c7ff49.ipynb -p EXPERIMENT_INSTANCE_ID 6ccaea4e0eae4fc0aaec959391c7ff49\"\n",
      "2024-08-04 13:44:11.017 | DEBUG    | mlutils.distributedcomputing.job_scheduling:run_experiments_in_puepe:219 - /opt/homebrew/bin/pueue add -g quad-split \"/Users/bgulowaty/studia/projekty/quad-splits/.venv/bin/papermill --log-output --log-level DEBUG /Users/bgulowaty/studia/projekty/quad-splits/quadsplit_entrypoint-2-9670d642-dd6e-4fd7-b7a0-5bece18c00d0.ipynb /tmp/3e780fa708484237897c8bd1d9805a4f.ipynb -p EXPERIMENT_INSTANCE_ID 3e780fa708484237897c8bd1d9805a4f\"\n"
     ]
    },
    {
     "name": "stdout",
     "output_type": "stream",
     "text": [
      "New task added (id 1280).\n",
      "New task added (id 1281).\n",
      "New task added (id 1282).\n",
      "New task added (id 1283).\n",
      "New task added (id 1284).\n",
      "New task added (id 1285).\n",
      "New task added (id 1286).\n",
      "New task added (id 1287).\n",
      "New task added (id 1288).\n"
     ]
    },
    {
     "name": "stderr",
     "output_type": "stream",
     "text": [
      "2024-08-04 13:44:11.049 | DEBUG    | mlutils.distributedcomputing.job_scheduling:run_experiments_in_puepe:219 - /opt/homebrew/bin/pueue add -g quad-split \"/Users/bgulowaty/studia/projekty/quad-splits/.venv/bin/papermill --log-output --log-level DEBUG /Users/bgulowaty/studia/projekty/quad-splits/quadsplit_entrypoint-2-9670d642-dd6e-4fd7-b7a0-5bece18c00d0.ipynb /tmp/a158fa3800c64e529487fd32fa394964.ipynb -p EXPERIMENT_INSTANCE_ID a158fa3800c64e529487fd32fa394964\"\n",
      "2024-08-04 13:44:11.073 | DEBUG    | mlutils.distributedcomputing.job_scheduling:run_experiments_in_puepe:219 - /opt/homebrew/bin/pueue add -g quad-split \"/Users/bgulowaty/studia/projekty/quad-splits/.venv/bin/papermill --log-output --log-level DEBUG /Users/bgulowaty/studia/projekty/quad-splits/quadsplit_entrypoint-2-9670d642-dd6e-4fd7-b7a0-5bece18c00d0.ipynb /tmp/806d4e2c52a1466fb75068b3b4d21ad1.ipynb -p EXPERIMENT_INSTANCE_ID 806d4e2c52a1466fb75068b3b4d21ad1\"\n",
      "2024-08-04 13:44:11.230 | DEBUG    | mlutils.distributedcomputing.job_scheduling:run_experiments_in_puepe:219 - /opt/homebrew/bin/pueue add -g quad-split \"/Users/bgulowaty/studia/projekty/quad-splits/.venv/bin/papermill --log-output --log-level DEBUG /Users/bgulowaty/studia/projekty/quad-splits/quadsplit_entrypoint-2-9670d642-dd6e-4fd7-b7a0-5bece18c00d0.ipynb /tmp/78e0bf47e08140d9be861f045f2ebc43.ipynb -p EXPERIMENT_INSTANCE_ID 78e0bf47e08140d9be861f045f2ebc43\"\n",
      "2024-08-04 13:44:11.261 | DEBUG    | mlutils.distributedcomputing.job_scheduling:run_experiments_in_puepe:219 - /opt/homebrew/bin/pueue add -g quad-split \"/Users/bgulowaty/studia/projekty/quad-splits/.venv/bin/papermill --log-output --log-level DEBUG /Users/bgulowaty/studia/projekty/quad-splits/quadsplit_entrypoint-2-9670d642-dd6e-4fd7-b7a0-5bece18c00d0.ipynb /tmp/5dc6b735a0d04616a8a9528794b72106.ipynb -p EXPERIMENT_INSTANCE_ID 5dc6b735a0d04616a8a9528794b72106\"\n"
     ]
    },
    {
     "name": "stdout",
     "output_type": "stream",
     "text": [
      "New task added (id 1289).\n",
      "New task added (id 1290).\n",
      "New task added (id 1291).\n"
     ]
    },
    {
     "name": "stderr",
     "output_type": "stream",
     "text": [
      "2024-08-04 13:44:11.293 | DEBUG    | mlutils.distributedcomputing.job_scheduling:run_experiments_in_puepe:219 - /opt/homebrew/bin/pueue add -g quad-split \"/Users/bgulowaty/studia/projekty/quad-splits/.venv/bin/papermill --log-output --log-level DEBUG /Users/bgulowaty/studia/projekty/quad-splits/quadsplit_entrypoint-2-9670d642-dd6e-4fd7-b7a0-5bece18c00d0.ipynb /tmp/eee75dab384844a391b9430f52f84e36.ipynb -p EXPERIMENT_INSTANCE_ID eee75dab384844a391b9430f52f84e36\"\n",
      "2024-08-04 13:44:11.322 | DEBUG    | mlutils.distributedcomputing.job_scheduling:run_experiments_in_puepe:219 - /opt/homebrew/bin/pueue add -g quad-split \"/Users/bgulowaty/studia/projekty/quad-splits/.venv/bin/papermill --log-output --log-level DEBUG /Users/bgulowaty/studia/projekty/quad-splits/quadsplit_entrypoint-2-9670d642-dd6e-4fd7-b7a0-5bece18c00d0.ipynb /tmp/258ed8ea0aca455491ab5856e5f9f624.ipynb -p EXPERIMENT_INSTANCE_ID 258ed8ea0aca455491ab5856e5f9f624\"\n",
      "2024-08-04 13:44:11.350 | DEBUG    | mlutils.distributedcomputing.job_scheduling:run_experiments_in_puepe:219 - /opt/homebrew/bin/pueue add -g quad-split \"/Users/bgulowaty/studia/projekty/quad-splits/.venv/bin/papermill --log-output --log-level DEBUG /Users/bgulowaty/studia/projekty/quad-splits/quadsplit_entrypoint-2-9670d642-dd6e-4fd7-b7a0-5bece18c00d0.ipynb /tmp/4587a504f0cb4f058ceca2a5db4bacf4.ipynb -p EXPERIMENT_INSTANCE_ID 4587a504f0cb4f058ceca2a5db4bacf4\"\n",
      "2024-08-04 13:44:11.390 | DEBUG    | mlutils.distributedcomputing.job_scheduling:run_experiments_in_puepe:219 - /opt/homebrew/bin/pueue add -g quad-split \"/Users/bgulowaty/studia/projekty/quad-splits/.venv/bin/papermill --log-output --log-level DEBUG /Users/bgulowaty/studia/projekty/quad-splits/quadsplit_entrypoint-2-9670d642-dd6e-4fd7-b7a0-5bece18c00d0.ipynb /tmp/aaf7a5eeeeb64b8297641efc754103c7.ipynb -p EXPERIMENT_INSTANCE_ID aaf7a5eeeeb64b8297641efc754103c7\"\n",
      "2024-08-04 13:44:11.424 | DEBUG    | mlutils.distributedcomputing.job_scheduling:run_experiments_in_puepe:219 - /opt/homebrew/bin/pueue add -g quad-split \"/Users/bgulowaty/studia/projekty/quad-splits/.venv/bin/papermill --log-output --log-level DEBUG /Users/bgulowaty/studia/projekty/quad-splits/quadsplit_entrypoint-2-9670d642-dd6e-4fd7-b7a0-5bece18c00d0.ipynb /tmp/7d4c7d9effc84821b254159fbfdf8c0a.ipynb -p EXPERIMENT_INSTANCE_ID 7d4c7d9effc84821b254159fbfdf8c0a\"\n",
      "2024-08-04 13:44:11.459 | DEBUG    | mlutils.distributedcomputing.job_scheduling:run_experiments_in_puepe:219 - /opt/homebrew/bin/pueue add -g quad-split \"/Users/bgulowaty/studia/projekty/quad-splits/.venv/bin/papermill --log-output --log-level DEBUG /Users/bgulowaty/studia/projekty/quad-splits/quadsplit_entrypoint-2-9670d642-dd6e-4fd7-b7a0-5bece18c00d0.ipynb /tmp/ba16a8e3a4ea4242895e1092a3fec754.ipynb -p EXPERIMENT_INSTANCE_ID ba16a8e3a4ea4242895e1092a3fec754\"\n"
     ]
    },
    {
     "name": "stdout",
     "output_type": "stream",
     "text": [
      "New task added (id 1292).\n",
      "New task added (id 1293).\n",
      "New task added (id 1294).\n",
      "New task added (id 1295).\n",
      "New task added (id 1296).\n",
      "New task added (id 1297).\n"
     ]
    },
    {
     "name": "stderr",
     "output_type": "stream",
     "text": [
      "2024-08-04 13:44:11.515 | DEBUG    | mlutils.distributedcomputing.job_scheduling:run_experiments_in_puepe:219 - /opt/homebrew/bin/pueue add -g quad-split \"/Users/bgulowaty/studia/projekty/quad-splits/.venv/bin/papermill --log-output --log-level DEBUG /Users/bgulowaty/studia/projekty/quad-splits/quadsplit_entrypoint-2-9670d642-dd6e-4fd7-b7a0-5bece18c00d0.ipynb /tmp/ec184e13ade246c6ab0a1e3daab3a87e.ipynb -p EXPERIMENT_INSTANCE_ID ec184e13ade246c6ab0a1e3daab3a87e\"\n",
      "2024-08-04 13:44:11.547 | DEBUG    | mlutils.distributedcomputing.job_scheduling:run_experiments_in_puepe:219 - /opt/homebrew/bin/pueue add -g quad-split \"/Users/bgulowaty/studia/projekty/quad-splits/.venv/bin/papermill --log-output --log-level DEBUG /Users/bgulowaty/studia/projekty/quad-splits/quadsplit_entrypoint-2-9670d642-dd6e-4fd7-b7a0-5bece18c00d0.ipynb /tmp/0ab46c7b57d04144aa70bc76c9fa5a32.ipynb -p EXPERIMENT_INSTANCE_ID 0ab46c7b57d04144aa70bc76c9fa5a32\"\n",
      "2024-08-04 13:44:11.573 | DEBUG    | mlutils.distributedcomputing.job_scheduling:run_experiments_in_puepe:219 - /opt/homebrew/bin/pueue add -g quad-split \"/Users/bgulowaty/studia/projekty/quad-splits/.venv/bin/papermill --log-output --log-level DEBUG /Users/bgulowaty/studia/projekty/quad-splits/quadsplit_entrypoint-2-9670d642-dd6e-4fd7-b7a0-5bece18c00d0.ipynb /tmp/ba85f7676753406f8e1821bdc749f6a0.ipynb -p EXPERIMENT_INSTANCE_ID ba85f7676753406f8e1821bdc749f6a0\"\n",
      "2024-08-04 13:44:11.626 | DEBUG    | mlutils.distributedcomputing.job_scheduling:run_experiments_in_puepe:219 - /opt/homebrew/bin/pueue add -g quad-split \"/Users/bgulowaty/studia/projekty/quad-splits/.venv/bin/papermill --log-output --log-level DEBUG /Users/bgulowaty/studia/projekty/quad-splits/quadsplit_entrypoint-2-9670d642-dd6e-4fd7-b7a0-5bece18c00d0.ipynb /tmp/9ae58e427d044ccfa17a44dd1b7205ba.ipynb -p EXPERIMENT_INSTANCE_ID 9ae58e427d044ccfa17a44dd1b7205ba\"\n",
      "2024-08-04 13:44:11.655 | DEBUG    | mlutils.distributedcomputing.job_scheduling:run_experiments_in_puepe:219 - /opt/homebrew/bin/pueue add -g quad-split \"/Users/bgulowaty/studia/projekty/quad-splits/.venv/bin/papermill --log-output --log-level DEBUG /Users/bgulowaty/studia/projekty/quad-splits/quadsplit_entrypoint-2-9670d642-dd6e-4fd7-b7a0-5bece18c00d0.ipynb /tmp/dd7d60d9bebb4112ad35e401750c630f.ipynb -p EXPERIMENT_INSTANCE_ID dd7d60d9bebb4112ad35e401750c630f\"\n",
      "2024-08-04 13:44:11.688 | DEBUG    | mlutils.distributedcomputing.job_scheduling:run_experiments_in_puepe:219 - /opt/homebrew/bin/pueue add -g quad-split \"/Users/bgulowaty/studia/projekty/quad-splits/.venv/bin/papermill --log-output --log-level DEBUG /Users/bgulowaty/studia/projekty/quad-splits/quadsplit_entrypoint-2-9670d642-dd6e-4fd7-b7a0-5bece18c00d0.ipynb /tmp/fc886ec242af4177815f3263645a42da.ipynb -p EXPERIMENT_INSTANCE_ID fc886ec242af4177815f3263645a42da\"\n"
     ]
    },
    {
     "name": "stdout",
     "output_type": "stream",
     "text": [
      "New task added (id 1298).\n",
      "New task added (id 1299).\n",
      "New task added (id 1300).\n",
      "New task added (id 1301).\n",
      "New task added (id 1302).\n",
      "New task added (id 1303).\n"
     ]
    },
    {
     "name": "stderr",
     "output_type": "stream",
     "text": [
      "2024-08-04 13:44:11.843 | DEBUG    | mlutils.distributedcomputing.job_scheduling:run_experiments_in_puepe:219 - /opt/homebrew/bin/pueue add -g quad-split \"/Users/bgulowaty/studia/projekty/quad-splits/.venv/bin/papermill --log-output --log-level DEBUG /Users/bgulowaty/studia/projekty/quad-splits/quadsplit_entrypoint-2-9670d642-dd6e-4fd7-b7a0-5bece18c00d0.ipynb /tmp/aa29bce429c14f98b12aeeaf4a2354ef.ipynb -p EXPERIMENT_INSTANCE_ID aa29bce429c14f98b12aeeaf4a2354ef\"\n",
      "2024-08-04 13:44:11.918 | DEBUG    | mlutils.distributedcomputing.job_scheduling:run_experiments_in_puepe:219 - /opt/homebrew/bin/pueue add -g quad-split \"/Users/bgulowaty/studia/projekty/quad-splits/.venv/bin/papermill --log-output --log-level DEBUG /Users/bgulowaty/studia/projekty/quad-splits/quadsplit_entrypoint-2-9670d642-dd6e-4fd7-b7a0-5bece18c00d0.ipynb /tmp/13033162214d4de9a067dbc2cb948793.ipynb -p EXPERIMENT_INSTANCE_ID 13033162214d4de9a067dbc2cb948793\"\n",
      "2024-08-04 13:44:12.017 | DEBUG    | mlutils.distributedcomputing.job_scheduling:run_experiments_in_puepe:219 - /opt/homebrew/bin/pueue add -g quad-split \"/Users/bgulowaty/studia/projekty/quad-splits/.venv/bin/papermill --log-output --log-level DEBUG /Users/bgulowaty/studia/projekty/quad-splits/quadsplit_entrypoint-2-9670d642-dd6e-4fd7-b7a0-5bece18c00d0.ipynb /tmp/59e749e9764c4d2f8e4768e69366faf5.ipynb -p EXPERIMENT_INSTANCE_ID 59e749e9764c4d2f8e4768e69366faf5\"\n"
     ]
    },
    {
     "name": "stdout",
     "output_type": "stream",
     "text": [
      "New task added (id 1304).\n",
      "New task added (id 1305).\n",
      "New task added (id 1306).\n"
     ]
    },
    {
     "name": "stderr",
     "output_type": "stream",
     "text": [
      "2024-08-04 13:44:12.141 | DEBUG    | mlutils.distributedcomputing.job_scheduling:run_experiments_in_puepe:219 - /opt/homebrew/bin/pueue add -g quad-split \"/Users/bgulowaty/studia/projekty/quad-splits/.venv/bin/papermill --log-output --log-level DEBUG /Users/bgulowaty/studia/projekty/quad-splits/quadsplit_entrypoint-2-9670d642-dd6e-4fd7-b7a0-5bece18c00d0.ipynb /tmp/fec2af2681dc4a1184f334227235adcb.ipynb -p EXPERIMENT_INSTANCE_ID fec2af2681dc4a1184f334227235adcb\"\n",
      "2024-08-04 13:44:12.196 | DEBUG    | mlutils.distributedcomputing.job_scheduling:run_experiments_in_puepe:219 - /opt/homebrew/bin/pueue add -g quad-split \"/Users/bgulowaty/studia/projekty/quad-splits/.venv/bin/papermill --log-output --log-level DEBUG /Users/bgulowaty/studia/projekty/quad-splits/quadsplit_entrypoint-2-9670d642-dd6e-4fd7-b7a0-5bece18c00d0.ipynb /tmp/d0e0243a0ca44ab984f7c11d34fbf1a5.ipynb -p EXPERIMENT_INSTANCE_ID d0e0243a0ca44ab984f7c11d34fbf1a5\"\n",
      "2024-08-04 13:44:12.233 | DEBUG    | mlutils.distributedcomputing.job_scheduling:run_experiments_in_puepe:219 - /opt/homebrew/bin/pueue add -g quad-split \"/Users/bgulowaty/studia/projekty/quad-splits/.venv/bin/papermill --log-output --log-level DEBUG /Users/bgulowaty/studia/projekty/quad-splits/quadsplit_entrypoint-2-9670d642-dd6e-4fd7-b7a0-5bece18c00d0.ipynb /tmp/3c226d0eda7a462c99acf432d6a4a918.ipynb -p EXPERIMENT_INSTANCE_ID 3c226d0eda7a462c99acf432d6a4a918\"\n",
      "2024-08-04 13:44:12.270 | DEBUG    | mlutils.distributedcomputing.job_scheduling:run_experiments_in_puepe:219 - /opt/homebrew/bin/pueue add -g quad-split \"/Users/bgulowaty/studia/projekty/quad-splits/.venv/bin/papermill --log-output --log-level DEBUG /Users/bgulowaty/studia/projekty/quad-splits/quadsplit_entrypoint-2-9670d642-dd6e-4fd7-b7a0-5bece18c00d0.ipynb /tmp/58433e6dc9fd4e9a86be5b3854c794a5.ipynb -p EXPERIMENT_INSTANCE_ID 58433e6dc9fd4e9a86be5b3854c794a5\"\n",
      "2024-08-04 13:44:12.310 | DEBUG    | mlutils.distributedcomputing.job_scheduling:run_experiments_in_puepe:219 - /opt/homebrew/bin/pueue add -g quad-split \"/Users/bgulowaty/studia/projekty/quad-splits/.venv/bin/papermill --log-output --log-level DEBUG /Users/bgulowaty/studia/projekty/quad-splits/quadsplit_entrypoint-2-9670d642-dd6e-4fd7-b7a0-5bece18c00d0.ipynb /tmp/03c86c2c13984a8399f03f312bcd2c87.ipynb -p EXPERIMENT_INSTANCE_ID 03c86c2c13984a8399f03f312bcd2c87\"\n",
      "2024-08-04 13:44:12.337 | DEBUG    | mlutils.distributedcomputing.job_scheduling:run_experiments_in_puepe:219 - /opt/homebrew/bin/pueue add -g quad-split \"/Users/bgulowaty/studia/projekty/quad-splits/.venv/bin/papermill --log-output --log-level DEBUG /Users/bgulowaty/studia/projekty/quad-splits/quadsplit_entrypoint-2-9670d642-dd6e-4fd7-b7a0-5bece18c00d0.ipynb /tmp/92287474f1924236bf4abec764dc1baf.ipynb -p EXPERIMENT_INSTANCE_ID 92287474f1924236bf4abec764dc1baf\"\n"
     ]
    },
    {
     "name": "stdout",
     "output_type": "stream",
     "text": [
      "New task added (id 1307).\n",
      "New task added (id 1308).\n",
      "New task added (id 1309).\n",
      "New task added (id 1310).\n",
      "New task added (id 1311).\n",
      "New task added (id 1312).\n"
     ]
    },
    {
     "name": "stderr",
     "output_type": "stream",
     "text": [
      "2024-08-04 13:44:12.362 | DEBUG    | mlutils.distributedcomputing.job_scheduling:run_experiments_in_puepe:219 - /opt/homebrew/bin/pueue add -g quad-split \"/Users/bgulowaty/studia/projekty/quad-splits/.venv/bin/papermill --log-output --log-level DEBUG /Users/bgulowaty/studia/projekty/quad-splits/quadsplit_entrypoint-2-9670d642-dd6e-4fd7-b7a0-5bece18c00d0.ipynb /tmp/991cf56cf3b647379b74bba9ab6897e6.ipynb -p EXPERIMENT_INSTANCE_ID 991cf56cf3b647379b74bba9ab6897e6\"\n",
      "2024-08-04 13:44:12.388 | DEBUG    | mlutils.distributedcomputing.job_scheduling:run_experiments_in_puepe:219 - /opt/homebrew/bin/pueue add -g quad-split \"/Users/bgulowaty/studia/projekty/quad-splits/.venv/bin/papermill --log-output --log-level DEBUG /Users/bgulowaty/studia/projekty/quad-splits/quadsplit_entrypoint-2-9670d642-dd6e-4fd7-b7a0-5bece18c00d0.ipynb /tmp/5ea72a71bb1f47e3af9b757c87f7a260.ipynb -p EXPERIMENT_INSTANCE_ID 5ea72a71bb1f47e3af9b757c87f7a260\"\n",
      "2024-08-04 13:44:12.416 | DEBUG    | mlutils.distributedcomputing.job_scheduling:run_experiments_in_puepe:219 - /opt/homebrew/bin/pueue add -g quad-split \"/Users/bgulowaty/studia/projekty/quad-splits/.venv/bin/papermill --log-output --log-level DEBUG /Users/bgulowaty/studia/projekty/quad-splits/quadsplit_entrypoint-2-9670d642-dd6e-4fd7-b7a0-5bece18c00d0.ipynb /tmp/47e0f5f23caa40ae94f92951cf2076cd.ipynb -p EXPERIMENT_INSTANCE_ID 47e0f5f23caa40ae94f92951cf2076cd\"\n",
      "2024-08-04 13:44:12.446 | DEBUG    | mlutils.distributedcomputing.job_scheduling:run_experiments_in_puepe:219 - /opt/homebrew/bin/pueue add -g quad-split \"/Users/bgulowaty/studia/projekty/quad-splits/.venv/bin/papermill --log-output --log-level DEBUG /Users/bgulowaty/studia/projekty/quad-splits/quadsplit_entrypoint-2-9670d642-dd6e-4fd7-b7a0-5bece18c00d0.ipynb /tmp/fb5fa5930bc042bc8acaf7b7b302163b.ipynb -p EXPERIMENT_INSTANCE_ID fb5fa5930bc042bc8acaf7b7b302163b\"\n",
      "2024-08-04 13:44:12.483 | DEBUG    | mlutils.distributedcomputing.job_scheduling:run_experiments_in_puepe:219 - /opt/homebrew/bin/pueue add -g quad-split \"/Users/bgulowaty/studia/projekty/quad-splits/.venv/bin/papermill --log-output --log-level DEBUG /Users/bgulowaty/studia/projekty/quad-splits/quadsplit_entrypoint-2-9670d642-dd6e-4fd7-b7a0-5bece18c00d0.ipynb /tmp/788772c8614048d2a98c3c7b5d762b5b.ipynb -p EXPERIMENT_INSTANCE_ID 788772c8614048d2a98c3c7b5d762b5b\"\n",
      "2024-08-04 13:44:12.522 | DEBUG    | mlutils.distributedcomputing.job_scheduling:run_experiments_in_puepe:219 - /opt/homebrew/bin/pueue add -g quad-split \"/Users/bgulowaty/studia/projekty/quad-splits/.venv/bin/papermill --log-output --log-level DEBUG /Users/bgulowaty/studia/projekty/quad-splits/quadsplit_entrypoint-2-9670d642-dd6e-4fd7-b7a0-5bece18c00d0.ipynb /tmp/bbddb6da164b42e99d7b351992ce33bc.ipynb -p EXPERIMENT_INSTANCE_ID bbddb6da164b42e99d7b351992ce33bc\"\n",
      "2024-08-04 13:44:12.554 | DEBUG    | mlutils.distributedcomputing.job_scheduling:run_experiments_in_puepe:219 - /opt/homebrew/bin/pueue add -g quad-split \"/Users/bgulowaty/studia/projekty/quad-splits/.venv/bin/papermill --log-output --log-level DEBUG /Users/bgulowaty/studia/projekty/quad-splits/quadsplit_entrypoint-2-9670d642-dd6e-4fd7-b7a0-5bece18c00d0.ipynb /tmp/4ae26378bf124fc5b066e2a125cb2cba.ipynb -p EXPERIMENT_INSTANCE_ID 4ae26378bf124fc5b066e2a125cb2cba\"\n"
     ]
    },
    {
     "name": "stdout",
     "output_type": "stream",
     "text": [
      "New task added (id 1313).\n",
      "New task added (id 1314).\n",
      "New task added (id 1315).\n",
      "New task added (id 1316).\n",
      "New task added (id 1317).\n",
      "New task added (id 1318).\n",
      "New task added (id 1319).\n"
     ]
    },
    {
     "name": "stderr",
     "output_type": "stream",
     "text": [
      "2024-08-04 13:44:12.618 | DEBUG    | mlutils.distributedcomputing.job_scheduling:run_experiments_in_puepe:219 - /opt/homebrew/bin/pueue add -g quad-split \"/Users/bgulowaty/studia/projekty/quad-splits/.venv/bin/papermill --log-output --log-level DEBUG /Users/bgulowaty/studia/projekty/quad-splits/quadsplit_entrypoint-2-9670d642-dd6e-4fd7-b7a0-5bece18c00d0.ipynb /tmp/fef5c9479929495585f670d316a27d65.ipynb -p EXPERIMENT_INSTANCE_ID fef5c9479929495585f670d316a27d65\"\n",
      "2024-08-04 13:44:12.650 | DEBUG    | mlutils.distributedcomputing.job_scheduling:run_experiments_in_puepe:219 - /opt/homebrew/bin/pueue add -g quad-split \"/Users/bgulowaty/studia/projekty/quad-splits/.venv/bin/papermill --log-output --log-level DEBUG /Users/bgulowaty/studia/projekty/quad-splits/quadsplit_entrypoint-2-9670d642-dd6e-4fd7-b7a0-5bece18c00d0.ipynb /tmp/7e92dc6467eb40689f5b52587036a0a7.ipynb -p EXPERIMENT_INSTANCE_ID 7e92dc6467eb40689f5b52587036a0a7\"\n",
      "2024-08-04 13:44:12.679 | DEBUG    | mlutils.distributedcomputing.job_scheduling:run_experiments_in_puepe:219 - /opt/homebrew/bin/pueue add -g quad-split \"/Users/bgulowaty/studia/projekty/quad-splits/.venv/bin/papermill --log-output --log-level DEBUG /Users/bgulowaty/studia/projekty/quad-splits/quadsplit_entrypoint-2-9670d642-dd6e-4fd7-b7a0-5bece18c00d0.ipynb /tmp/4c207bda330a4f019bbaea3be99a8562.ipynb -p EXPERIMENT_INSTANCE_ID 4c207bda330a4f019bbaea3be99a8562\"\n",
      "2024-08-04 13:44:12.720 | DEBUG    | mlutils.distributedcomputing.job_scheduling:run_experiments_in_puepe:219 - /opt/homebrew/bin/pueue add -g quad-split \"/Users/bgulowaty/studia/projekty/quad-splits/.venv/bin/papermill --log-output --log-level DEBUG /Users/bgulowaty/studia/projekty/quad-splits/quadsplit_entrypoint-2-9670d642-dd6e-4fd7-b7a0-5bece18c00d0.ipynb /tmp/dcfe7d65c4c8460292e099c6ff8b6b36.ipynb -p EXPERIMENT_INSTANCE_ID dcfe7d65c4c8460292e099c6ff8b6b36\"\n",
      "2024-08-04 13:44:12.772 | DEBUG    | mlutils.distributedcomputing.job_scheduling:run_experiments_in_puepe:219 - /opt/homebrew/bin/pueue add -g quad-split \"/Users/bgulowaty/studia/projekty/quad-splits/.venv/bin/papermill --log-output --log-level DEBUG /Users/bgulowaty/studia/projekty/quad-splits/quadsplit_entrypoint-2-9670d642-dd6e-4fd7-b7a0-5bece18c00d0.ipynb /tmp/a138bc916fe04ce1ba668643b931a079.ipynb -p EXPERIMENT_INSTANCE_ID a138bc916fe04ce1ba668643b931a079\"\n",
      "2024-08-04 13:44:12.806 | DEBUG    | mlutils.distributedcomputing.job_scheduling:run_experiments_in_puepe:219 - /opt/homebrew/bin/pueue add -g quad-split \"/Users/bgulowaty/studia/projekty/quad-splits/.venv/bin/papermill --log-output --log-level DEBUG /Users/bgulowaty/studia/projekty/quad-splits/quadsplit_entrypoint-2-9670d642-dd6e-4fd7-b7a0-5bece18c00d0.ipynb /tmp/329d03d06ad84ff6a75f2a1657f3128d.ipynb -p EXPERIMENT_INSTANCE_ID 329d03d06ad84ff6a75f2a1657f3128d\"\n"
     ]
    },
    {
     "name": "stdout",
     "output_type": "stream",
     "text": [
      "New task added (id 1320).\n",
      "New task added (id 1321).\n",
      "New task added (id 1322).\n",
      "New task added (id 1323).\n",
      "New task added (id 1324).\n",
      "New task added (id 1325).\n"
     ]
    },
    {
     "name": "stderr",
     "output_type": "stream",
     "text": [
      "2024-08-04 13:44:12.829 | DEBUG    | mlutils.distributedcomputing.job_scheduling:run_experiments_in_puepe:219 - /opt/homebrew/bin/pueue add -g quad-split \"/Users/bgulowaty/studia/projekty/quad-splits/.venv/bin/papermill --log-output --log-level DEBUG /Users/bgulowaty/studia/projekty/quad-splits/quadsplit_entrypoint-2-9670d642-dd6e-4fd7-b7a0-5bece18c00d0.ipynb /tmp/1c5b5870755d4a7bbe04cf370523fc17.ipynb -p EXPERIMENT_INSTANCE_ID 1c5b5870755d4a7bbe04cf370523fc17\"\n",
      "2024-08-04 13:44:12.876 | DEBUG    | mlutils.distributedcomputing.job_scheduling:run_experiments_in_puepe:219 - /opt/homebrew/bin/pueue add -g quad-split \"/Users/bgulowaty/studia/projekty/quad-splits/.venv/bin/papermill --log-output --log-level DEBUG /Users/bgulowaty/studia/projekty/quad-splits/quadsplit_entrypoint-2-9670d642-dd6e-4fd7-b7a0-5bece18c00d0.ipynb /tmp/993b3c609eb94602bc720cc99fa56f6f.ipynb -p EXPERIMENT_INSTANCE_ID 993b3c609eb94602bc720cc99fa56f6f\"\n",
      "2024-08-04 13:44:12.908 | DEBUG    | mlutils.distributedcomputing.job_scheduling:run_experiments_in_puepe:219 - /opt/homebrew/bin/pueue add -g quad-split \"/Users/bgulowaty/studia/projekty/quad-splits/.venv/bin/papermill --log-output --log-level DEBUG /Users/bgulowaty/studia/projekty/quad-splits/quadsplit_entrypoint-2-9670d642-dd6e-4fd7-b7a0-5bece18c00d0.ipynb /tmp/4bbf454bb4ab4a39adbf75f331600a31.ipynb -p EXPERIMENT_INSTANCE_ID 4bbf454bb4ab4a39adbf75f331600a31\"\n",
      "2024-08-04 13:44:12.940 | DEBUG    | mlutils.distributedcomputing.job_scheduling:run_experiments_in_puepe:219 - /opt/homebrew/bin/pueue add -g quad-split \"/Users/bgulowaty/studia/projekty/quad-splits/.venv/bin/papermill --log-output --log-level DEBUG /Users/bgulowaty/studia/projekty/quad-splits/quadsplit_entrypoint-2-9670d642-dd6e-4fd7-b7a0-5bece18c00d0.ipynb /tmp/51037f1e2beb4c8ea1282739154ca35c.ipynb -p EXPERIMENT_INSTANCE_ID 51037f1e2beb4c8ea1282739154ca35c\"\n",
      "2024-08-04 13:44:12.971 | DEBUG    | mlutils.distributedcomputing.job_scheduling:run_experiments_in_puepe:219 - /opt/homebrew/bin/pueue add -g quad-split \"/Users/bgulowaty/studia/projekty/quad-splits/.venv/bin/papermill --log-output --log-level DEBUG /Users/bgulowaty/studia/projekty/quad-splits/quadsplit_entrypoint-2-9670d642-dd6e-4fd7-b7a0-5bece18c00d0.ipynb /tmp/3c55c1cbdf544b3f8247f4a6d7467c4b.ipynb -p EXPERIMENT_INSTANCE_ID 3c55c1cbdf544b3f8247f4a6d7467c4b\"\n",
      "2024-08-04 13:44:13.016 | DEBUG    | mlutils.distributedcomputing.job_scheduling:run_experiments_in_puepe:219 - /opt/homebrew/bin/pueue add -g quad-split \"/Users/bgulowaty/studia/projekty/quad-splits/.venv/bin/papermill --log-output --log-level DEBUG /Users/bgulowaty/studia/projekty/quad-splits/quadsplit_entrypoint-2-9670d642-dd6e-4fd7-b7a0-5bece18c00d0.ipynb /tmp/6a761dc944c9460390269d39e4fec8c7.ipynb -p EXPERIMENT_INSTANCE_ID 6a761dc944c9460390269d39e4fec8c7\"\n"
     ]
    },
    {
     "name": "stdout",
     "output_type": "stream",
     "text": [
      "New task added (id 1326).\n",
      "New task added (id 1327).\n",
      "New task added (id 1328).\n",
      "New task added (id 1329).\n",
      "New task added (id 1330).\n",
      "New task added (id 1331).\n"
     ]
    },
    {
     "name": "stderr",
     "output_type": "stream",
     "text": [
      "2024-08-04 13:44:13.097 | DEBUG    | mlutils.distributedcomputing.job_scheduling:run_experiments_in_puepe:219 - /opt/homebrew/bin/pueue add -g quad-split \"/Users/bgulowaty/studia/projekty/quad-splits/.venv/bin/papermill --log-output --log-level DEBUG /Users/bgulowaty/studia/projekty/quad-splits/quadsplit_entrypoint-2-9670d642-dd6e-4fd7-b7a0-5bece18c00d0.ipynb /tmp/038d6a6b2d9548818bda4202b49965d5.ipynb -p EXPERIMENT_INSTANCE_ID 038d6a6b2d9548818bda4202b49965d5\"\n",
      "2024-08-04 13:44:13.136 | DEBUG    | mlutils.distributedcomputing.job_scheduling:run_experiments_in_puepe:219 - /opt/homebrew/bin/pueue add -g quad-split \"/Users/bgulowaty/studia/projekty/quad-splits/.venv/bin/papermill --log-output --log-level DEBUG /Users/bgulowaty/studia/projekty/quad-splits/quadsplit_entrypoint-2-9670d642-dd6e-4fd7-b7a0-5bece18c00d0.ipynb /tmp/63f2fdaa7e3345bfb193bdbde1fe943c.ipynb -p EXPERIMENT_INSTANCE_ID 63f2fdaa7e3345bfb193bdbde1fe943c\"\n",
      "2024-08-04 13:44:13.163 | DEBUG    | mlutils.distributedcomputing.job_scheduling:run_experiments_in_puepe:219 - /opt/homebrew/bin/pueue add -g quad-split \"/Users/bgulowaty/studia/projekty/quad-splits/.venv/bin/papermill --log-output --log-level DEBUG /Users/bgulowaty/studia/projekty/quad-splits/quadsplit_entrypoint-2-9670d642-dd6e-4fd7-b7a0-5bece18c00d0.ipynb /tmp/9cf56fa297074600bf6009dfb4ae800e.ipynb -p EXPERIMENT_INSTANCE_ID 9cf56fa297074600bf6009dfb4ae800e\"\n",
      "2024-08-04 13:44:13.195 | DEBUG    | mlutils.distributedcomputing.job_scheduling:run_experiments_in_puepe:219 - /opt/homebrew/bin/pueue add -g quad-split \"/Users/bgulowaty/studia/projekty/quad-splits/.venv/bin/papermill --log-output --log-level DEBUG /Users/bgulowaty/studia/projekty/quad-splits/quadsplit_entrypoint-2-9670d642-dd6e-4fd7-b7a0-5bece18c00d0.ipynb /tmp/c456baaa1b0649d2a8f66c6e12d54e2f.ipynb -p EXPERIMENT_INSTANCE_ID c456baaa1b0649d2a8f66c6e12d54e2f\"\n",
      "2024-08-04 13:44:13.254 | DEBUG    | mlutils.distributedcomputing.job_scheduling:run_experiments_in_puepe:219 - /opt/homebrew/bin/pueue add -g quad-split \"/Users/bgulowaty/studia/projekty/quad-splits/.venv/bin/papermill --log-output --log-level DEBUG /Users/bgulowaty/studia/projekty/quad-splits/quadsplit_entrypoint-2-9670d642-dd6e-4fd7-b7a0-5bece18c00d0.ipynb /tmp/9dca82f02ccb456683ccc8849abe9946.ipynb -p EXPERIMENT_INSTANCE_ID 9dca82f02ccb456683ccc8849abe9946\"\n",
      "2024-08-04 13:44:13.283 | DEBUG    | mlutils.distributedcomputing.job_scheduling:run_experiments_in_puepe:219 - /opt/homebrew/bin/pueue add -g quad-split \"/Users/bgulowaty/studia/projekty/quad-splits/.venv/bin/papermill --log-output --log-level DEBUG /Users/bgulowaty/studia/projekty/quad-splits/quadsplit_entrypoint-2-9670d642-dd6e-4fd7-b7a0-5bece18c00d0.ipynb /tmp/08360c8e453941d1ba0b525b664f3f5c.ipynb -p EXPERIMENT_INSTANCE_ID 08360c8e453941d1ba0b525b664f3f5c\"\n"
     ]
    },
    {
     "name": "stdout",
     "output_type": "stream",
     "text": [
      "New task added (id 1332).\n",
      "New task added (id 1333).\n",
      "New task added (id 1334).\n",
      "New task added (id 1335).\n",
      "New task added (id 1336).\n",
      "New task added (id 1337).\n"
     ]
    },
    {
     "name": "stderr",
     "output_type": "stream",
     "text": [
      "2024-08-04 13:44:13.316 | DEBUG    | mlutils.distributedcomputing.job_scheduling:run_experiments_in_puepe:219 - /opt/homebrew/bin/pueue add -g quad-split \"/Users/bgulowaty/studia/projekty/quad-splits/.venv/bin/papermill --log-output --log-level DEBUG /Users/bgulowaty/studia/projekty/quad-splits/quadsplit_entrypoint-2-9670d642-dd6e-4fd7-b7a0-5bece18c00d0.ipynb /tmp/3cd088b13dd44438823de4146249edfe.ipynb -p EXPERIMENT_INSTANCE_ID 3cd088b13dd44438823de4146249edfe\"\n",
      "2024-08-04 13:44:13.360 | DEBUG    | mlutils.distributedcomputing.job_scheduling:run_experiments_in_puepe:219 - /opt/homebrew/bin/pueue add -g quad-split \"/Users/bgulowaty/studia/projekty/quad-splits/.venv/bin/papermill --log-output --log-level DEBUG /Users/bgulowaty/studia/projekty/quad-splits/quadsplit_entrypoint-2-9670d642-dd6e-4fd7-b7a0-5bece18c00d0.ipynb /tmp/50c4991352404b7cb1b7ceef4d829933.ipynb -p EXPERIMENT_INSTANCE_ID 50c4991352404b7cb1b7ceef4d829933\"\n",
      "2024-08-04 13:44:13.396 | DEBUG    | mlutils.distributedcomputing.job_scheduling:run_experiments_in_puepe:219 - /opt/homebrew/bin/pueue add -g quad-split \"/Users/bgulowaty/studia/projekty/quad-splits/.venv/bin/papermill --log-output --log-level DEBUG /Users/bgulowaty/studia/projekty/quad-splits/quadsplit_entrypoint-2-9670d642-dd6e-4fd7-b7a0-5bece18c00d0.ipynb /tmp/31a0efcdb14845229269ad61a32ccd38.ipynb -p EXPERIMENT_INSTANCE_ID 31a0efcdb14845229269ad61a32ccd38\"\n",
      "2024-08-04 13:44:13.429 | DEBUG    | mlutils.distributedcomputing.job_scheduling:run_experiments_in_puepe:219 - /opt/homebrew/bin/pueue add -g quad-split \"/Users/bgulowaty/studia/projekty/quad-splits/.venv/bin/papermill --log-output --log-level DEBUG /Users/bgulowaty/studia/projekty/quad-splits/quadsplit_entrypoint-2-9670d642-dd6e-4fd7-b7a0-5bece18c00d0.ipynb /tmp/6bb6759c561d4fd09ca4d65c6eadacf5.ipynb -p EXPERIMENT_INSTANCE_ID 6bb6759c561d4fd09ca4d65c6eadacf5\"\n",
      "2024-08-04 13:44:13.472 | DEBUG    | mlutils.distributedcomputing.job_scheduling:run_experiments_in_puepe:219 - /opt/homebrew/bin/pueue add -g quad-split \"/Users/bgulowaty/studia/projekty/quad-splits/.venv/bin/papermill --log-output --log-level DEBUG /Users/bgulowaty/studia/projekty/quad-splits/quadsplit_entrypoint-2-9670d642-dd6e-4fd7-b7a0-5bece18c00d0.ipynb /tmp/4a29f7e674b34df4b37f46b0fba5df8a.ipynb -p EXPERIMENT_INSTANCE_ID 4a29f7e674b34df4b37f46b0fba5df8a\"\n"
     ]
    },
    {
     "name": "stdout",
     "output_type": "stream",
     "text": [
      "New task added (id 1338).\n",
      "New task added (id 1339).\n",
      "New task added (id 1340).\n",
      "New task added (id 1341).\n",
      "New task added (id 1342).\n"
     ]
    },
    {
     "name": "stderr",
     "output_type": "stream",
     "text": [
      "2024-08-04 13:44:13.551 | DEBUG    | mlutils.distributedcomputing.job_scheduling:run_experiments_in_puepe:219 - /opt/homebrew/bin/pueue add -g quad-split \"/Users/bgulowaty/studia/projekty/quad-splits/.venv/bin/papermill --log-output --log-level DEBUG /Users/bgulowaty/studia/projekty/quad-splits/quadsplit_entrypoint-2-9670d642-dd6e-4fd7-b7a0-5bece18c00d0.ipynb /tmp/c5f51f4df2c84163be8f5faaf8f4a06b.ipynb -p EXPERIMENT_INSTANCE_ID c5f51f4df2c84163be8f5faaf8f4a06b\"\n",
      "2024-08-04 13:44:13.591 | DEBUG    | mlutils.distributedcomputing.job_scheduling:run_experiments_in_puepe:219 - /opt/homebrew/bin/pueue add -g quad-split \"/Users/bgulowaty/studia/projekty/quad-splits/.venv/bin/papermill --log-output --log-level DEBUG /Users/bgulowaty/studia/projekty/quad-splits/quadsplit_entrypoint-2-9670d642-dd6e-4fd7-b7a0-5bece18c00d0.ipynb /tmp/ac66249bbb5a4a018dd9d7a0630d4c9f.ipynb -p EXPERIMENT_INSTANCE_ID ac66249bbb5a4a018dd9d7a0630d4c9f\"\n",
      "2024-08-04 13:44:13.619 | DEBUG    | mlutils.distributedcomputing.job_scheduling:run_experiments_in_puepe:219 - /opt/homebrew/bin/pueue add -g quad-split \"/Users/bgulowaty/studia/projekty/quad-splits/.venv/bin/papermill --log-output --log-level DEBUG /Users/bgulowaty/studia/projekty/quad-splits/quadsplit_entrypoint-2-9670d642-dd6e-4fd7-b7a0-5bece18c00d0.ipynb /tmp/6f5fc9ee69e34343a9da0def9fbedcaf.ipynb -p EXPERIMENT_INSTANCE_ID 6f5fc9ee69e34343a9da0def9fbedcaf\"\n",
      "2024-08-04 13:44:13.692 | DEBUG    | mlutils.distributedcomputing.job_scheduling:run_experiments_in_puepe:219 - /opt/homebrew/bin/pueue add -g quad-split \"/Users/bgulowaty/studia/projekty/quad-splits/.venv/bin/papermill --log-output --log-level DEBUG /Users/bgulowaty/studia/projekty/quad-splits/quadsplit_entrypoint-2-9670d642-dd6e-4fd7-b7a0-5bece18c00d0.ipynb /tmp/593092155e474070967d0f7bd67ae460.ipynb -p EXPERIMENT_INSTANCE_ID 593092155e474070967d0f7bd67ae460\"\n",
      "2024-08-04 13:44:13.728 | DEBUG    | mlutils.distributedcomputing.job_scheduling:run_experiments_in_puepe:219 - /opt/homebrew/bin/pueue add -g quad-split \"/Users/bgulowaty/studia/projekty/quad-splits/.venv/bin/papermill --log-output --log-level DEBUG /Users/bgulowaty/studia/projekty/quad-splits/quadsplit_entrypoint-2-9670d642-dd6e-4fd7-b7a0-5bece18c00d0.ipynb /tmp/12971121043a4e609d042004a6d79228.ipynb -p EXPERIMENT_INSTANCE_ID 12971121043a4e609d042004a6d79228\"\n"
     ]
    },
    {
     "name": "stdout",
     "output_type": "stream",
     "text": [
      "New task added (id 1343).\n",
      "New task added (id 1344).\n",
      "New task added (id 1345).\n",
      "New task added (id 1346).\n",
      "New task added (id 1347).\n"
     ]
    },
    {
     "name": "stderr",
     "output_type": "stream",
     "text": [
      "2024-08-04 13:44:13.761 | DEBUG    | mlutils.distributedcomputing.job_scheduling:run_experiments_in_puepe:219 - /opt/homebrew/bin/pueue add -g quad-split \"/Users/bgulowaty/studia/projekty/quad-splits/.venv/bin/papermill --log-output --log-level DEBUG /Users/bgulowaty/studia/projekty/quad-splits/quadsplit_entrypoint-2-9670d642-dd6e-4fd7-b7a0-5bece18c00d0.ipynb /tmp/2e4c4586733b4cdb8b192dc35ab00eb5.ipynb -p EXPERIMENT_INSTANCE_ID 2e4c4586733b4cdb8b192dc35ab00eb5\"\n",
      "2024-08-04 13:44:13.800 | DEBUG    | mlutils.distributedcomputing.job_scheduling:run_experiments_in_puepe:219 - /opt/homebrew/bin/pueue add -g quad-split \"/Users/bgulowaty/studia/projekty/quad-splits/.venv/bin/papermill --log-output --log-level DEBUG /Users/bgulowaty/studia/projekty/quad-splits/quadsplit_entrypoint-2-9670d642-dd6e-4fd7-b7a0-5bece18c00d0.ipynb /tmp/15835452f36e4a489fa60856a43b0c5a.ipynb -p EXPERIMENT_INSTANCE_ID 15835452f36e4a489fa60856a43b0c5a\"\n",
      "2024-08-04 13:44:13.888 | DEBUG    | mlutils.distributedcomputing.job_scheduling:run_experiments_in_puepe:219 - /opt/homebrew/bin/pueue add -g quad-split \"/Users/bgulowaty/studia/projekty/quad-splits/.venv/bin/papermill --log-output --log-level DEBUG /Users/bgulowaty/studia/projekty/quad-splits/quadsplit_entrypoint-2-9670d642-dd6e-4fd7-b7a0-5bece18c00d0.ipynb /tmp/7a2b94ded64344cf92bdaf9cd982e3c4.ipynb -p EXPERIMENT_INSTANCE_ID 7a2b94ded64344cf92bdaf9cd982e3c4\"\n",
      "2024-08-04 13:44:13.924 | DEBUG    | mlutils.distributedcomputing.job_scheduling:run_experiments_in_puepe:219 - /opt/homebrew/bin/pueue add -g quad-split \"/Users/bgulowaty/studia/projekty/quad-splits/.venv/bin/papermill --log-output --log-level DEBUG /Users/bgulowaty/studia/projekty/quad-splits/quadsplit_entrypoint-2-9670d642-dd6e-4fd7-b7a0-5bece18c00d0.ipynb /tmp/373d592d0a0b47b697e79bf636be60d1.ipynb -p EXPERIMENT_INSTANCE_ID 373d592d0a0b47b697e79bf636be60d1\"\n"
     ]
    },
    {
     "name": "stdout",
     "output_type": "stream",
     "text": [
      "New task added (id 1348).\n",
      "New task added (id 1349).\n",
      "New task added (id 1350).\n",
      "New task added (id 1351).\n"
     ]
    },
    {
     "name": "stderr",
     "output_type": "stream",
     "text": [
      "2024-08-04 13:44:13.972 | DEBUG    | mlutils.distributedcomputing.job_scheduling:run_experiments_in_puepe:219 - /opt/homebrew/bin/pueue add -g quad-split \"/Users/bgulowaty/studia/projekty/quad-splits/.venv/bin/papermill --log-output --log-level DEBUG /Users/bgulowaty/studia/projekty/quad-splits/quadsplit_entrypoint-2-9670d642-dd6e-4fd7-b7a0-5bece18c00d0.ipynb /tmp/2d6f71007a8a45ec805843aa29c761cb.ipynb -p EXPERIMENT_INSTANCE_ID 2d6f71007a8a45ec805843aa29c761cb\"\n",
      "2024-08-04 13:44:14.005 | DEBUG    | mlutils.distributedcomputing.job_scheduling:run_experiments_in_puepe:219 - /opt/homebrew/bin/pueue add -g quad-split \"/Users/bgulowaty/studia/projekty/quad-splits/.venv/bin/papermill --log-output --log-level DEBUG /Users/bgulowaty/studia/projekty/quad-splits/quadsplit_entrypoint-2-9670d642-dd6e-4fd7-b7a0-5bece18c00d0.ipynb /tmp/8c0fdd72442a402bb4bc739ac3b361ab.ipynb -p EXPERIMENT_INSTANCE_ID 8c0fdd72442a402bb4bc739ac3b361ab\"\n",
      "2024-08-04 13:44:14.040 | DEBUG    | mlutils.distributedcomputing.job_scheduling:run_experiments_in_puepe:219 - /opt/homebrew/bin/pueue add -g quad-split \"/Users/bgulowaty/studia/projekty/quad-splits/.venv/bin/papermill --log-output --log-level DEBUG /Users/bgulowaty/studia/projekty/quad-splits/quadsplit_entrypoint-2-9670d642-dd6e-4fd7-b7a0-5bece18c00d0.ipynb /tmp/eaa954ee92f649c99ab956bb0f82a956.ipynb -p EXPERIMENT_INSTANCE_ID eaa954ee92f649c99ab956bb0f82a956\"\n",
      "2024-08-04 13:44:14.119 | DEBUG    | mlutils.distributedcomputing.job_scheduling:run_experiments_in_puepe:219 - /opt/homebrew/bin/pueue add -g quad-split \"/Users/bgulowaty/studia/projekty/quad-splits/.venv/bin/papermill --log-output --log-level DEBUG /Users/bgulowaty/studia/projekty/quad-splits/quadsplit_entrypoint-2-9670d642-dd6e-4fd7-b7a0-5bece18c00d0.ipynb /tmp/43a7fb1baa9c4ee184b65df9350ee819.ipynb -p EXPERIMENT_INSTANCE_ID 43a7fb1baa9c4ee184b65df9350ee819\"\n",
      "2024-08-04 13:44:14.152 | DEBUG    | mlutils.distributedcomputing.job_scheduling:run_experiments_in_puepe:219 - /opt/homebrew/bin/pueue add -g quad-split \"/Users/bgulowaty/studia/projekty/quad-splits/.venv/bin/papermill --log-output --log-level DEBUG /Users/bgulowaty/studia/projekty/quad-splits/quadsplit_entrypoint-2-9670d642-dd6e-4fd7-b7a0-5bece18c00d0.ipynb /tmp/f0989e49177c40608ee75de7e9b11cbc.ipynb -p EXPERIMENT_INSTANCE_ID f0989e49177c40608ee75de7e9b11cbc\"\n"
     ]
    },
    {
     "name": "stdout",
     "output_type": "stream",
     "text": [
      "New task added (id 1352).\n",
      "New task added (id 1353).\n",
      "New task added (id 1354).\n",
      "New task added (id 1355).\n",
      "New task added (id 1356).\n"
     ]
    },
    {
     "name": "stderr",
     "output_type": "stream",
     "text": [
      "2024-08-04 13:44:14.213 | DEBUG    | mlutils.distributedcomputing.job_scheduling:run_experiments_in_puepe:219 - /opt/homebrew/bin/pueue add -g quad-split \"/Users/bgulowaty/studia/projekty/quad-splits/.venv/bin/papermill --log-output --log-level DEBUG /Users/bgulowaty/studia/projekty/quad-splits/quadsplit_entrypoint-2-9670d642-dd6e-4fd7-b7a0-5bece18c00d0.ipynb /tmp/34aa7f13cea549efb177fe02ead2e9ff.ipynb -p EXPERIMENT_INSTANCE_ID 34aa7f13cea549efb177fe02ead2e9ff\"\n",
      "2024-08-04 13:44:14.252 | DEBUG    | mlutils.distributedcomputing.job_scheduling:run_experiments_in_puepe:219 - /opt/homebrew/bin/pueue add -g quad-split \"/Users/bgulowaty/studia/projekty/quad-splits/.venv/bin/papermill --log-output --log-level DEBUG /Users/bgulowaty/studia/projekty/quad-splits/quadsplit_entrypoint-2-9670d642-dd6e-4fd7-b7a0-5bece18c00d0.ipynb /tmp/26ca77f1151145a39144728301ce615c.ipynb -p EXPERIMENT_INSTANCE_ID 26ca77f1151145a39144728301ce615c\"\n",
      "2024-08-04 13:44:14.286 | DEBUG    | mlutils.distributedcomputing.job_scheduling:run_experiments_in_puepe:219 - /opt/homebrew/bin/pueue add -g quad-split \"/Users/bgulowaty/studia/projekty/quad-splits/.venv/bin/papermill --log-output --log-level DEBUG /Users/bgulowaty/studia/projekty/quad-splits/quadsplit_entrypoint-2-9670d642-dd6e-4fd7-b7a0-5bece18c00d0.ipynb /tmp/6ee08667574547f4a2e02a55b324682e.ipynb -p EXPERIMENT_INSTANCE_ID 6ee08667574547f4a2e02a55b324682e\"\n",
      "2024-08-04 13:44:14.326 | DEBUG    | mlutils.distributedcomputing.job_scheduling:run_experiments_in_puepe:219 - /opt/homebrew/bin/pueue add -g quad-split \"/Users/bgulowaty/studia/projekty/quad-splits/.venv/bin/papermill --log-output --log-level DEBUG /Users/bgulowaty/studia/projekty/quad-splits/quadsplit_entrypoint-2-9670d642-dd6e-4fd7-b7a0-5bece18c00d0.ipynb /tmp/b8d383c85a30448ca78e853de180a1d5.ipynb -p EXPERIMENT_INSTANCE_ID b8d383c85a30448ca78e853de180a1d5\"\n",
      "2024-08-04 13:44:14.362 | DEBUG    | mlutils.distributedcomputing.job_scheduling:run_experiments_in_puepe:219 - /opt/homebrew/bin/pueue add -g quad-split \"/Users/bgulowaty/studia/projekty/quad-splits/.venv/bin/papermill --log-output --log-level DEBUG /Users/bgulowaty/studia/projekty/quad-splits/quadsplit_entrypoint-2-9670d642-dd6e-4fd7-b7a0-5bece18c00d0.ipynb /tmp/3b4d7a8b0c104966b956f8f4cc02a0ea.ipynb -p EXPERIMENT_INSTANCE_ID 3b4d7a8b0c104966b956f8f4cc02a0ea\"\n",
      "2024-08-04 13:44:14.396 | DEBUG    | mlutils.distributedcomputing.job_scheduling:run_experiments_in_puepe:219 - /opt/homebrew/bin/pueue add -g quad-split \"/Users/bgulowaty/studia/projekty/quad-splits/.venv/bin/papermill --log-output --log-level DEBUG /Users/bgulowaty/studia/projekty/quad-splits/quadsplit_entrypoint-2-9670d642-dd6e-4fd7-b7a0-5bece18c00d0.ipynb /tmp/92cca5525c534ecbb8af9e1e3f8932e1.ipynb -p EXPERIMENT_INSTANCE_ID 92cca5525c534ecbb8af9e1e3f8932e1\"\n"
     ]
    },
    {
     "name": "stdout",
     "output_type": "stream",
     "text": [
      "New task added (id 1357).\n",
      "New task added (id 1358).\n",
      "New task added (id 1359).\n",
      "New task added (id 1360).\n",
      "New task added (id 1361).\n",
      "New task added (id 1362).\n"
     ]
    },
    {
     "name": "stderr",
     "output_type": "stream",
     "text": [
      "2024-08-04 13:44:14.424 | DEBUG    | mlutils.distributedcomputing.job_scheduling:run_experiments_in_puepe:219 - /opt/homebrew/bin/pueue add -g quad-split \"/Users/bgulowaty/studia/projekty/quad-splits/.venv/bin/papermill --log-output --log-level DEBUG /Users/bgulowaty/studia/projekty/quad-splits/quadsplit_entrypoint-2-9670d642-dd6e-4fd7-b7a0-5bece18c00d0.ipynb /tmp/c954cf2c490e443bb5094b05c6ff68bc.ipynb -p EXPERIMENT_INSTANCE_ID c954cf2c490e443bb5094b05c6ff68bc\"\n",
      "2024-08-04 13:44:14.475 | DEBUG    | mlutils.distributedcomputing.job_scheduling:run_experiments_in_puepe:219 - /opt/homebrew/bin/pueue add -g quad-split \"/Users/bgulowaty/studia/projekty/quad-splits/.venv/bin/papermill --log-output --log-level DEBUG /Users/bgulowaty/studia/projekty/quad-splits/quadsplit_entrypoint-2-9670d642-dd6e-4fd7-b7a0-5bece18c00d0.ipynb /tmp/553c6a60e4d747028e34272c7cb3cdfd.ipynb -p EXPERIMENT_INSTANCE_ID 553c6a60e4d747028e34272c7cb3cdfd\"\n",
      "2024-08-04 13:44:14.507 | DEBUG    | mlutils.distributedcomputing.job_scheduling:run_experiments_in_puepe:219 - /opt/homebrew/bin/pueue add -g quad-split \"/Users/bgulowaty/studia/projekty/quad-splits/.venv/bin/papermill --log-output --log-level DEBUG /Users/bgulowaty/studia/projekty/quad-splits/quadsplit_entrypoint-2-9670d642-dd6e-4fd7-b7a0-5bece18c00d0.ipynb /tmp/a11364a3c84c43e9a56b60ddb7050569.ipynb -p EXPERIMENT_INSTANCE_ID a11364a3c84c43e9a56b60ddb7050569\"\n",
      "2024-08-04 13:44:14.539 | DEBUG    | mlutils.distributedcomputing.job_scheduling:run_experiments_in_puepe:219 - /opt/homebrew/bin/pueue add -g quad-split \"/Users/bgulowaty/studia/projekty/quad-splits/.venv/bin/papermill --log-output --log-level DEBUG /Users/bgulowaty/studia/projekty/quad-splits/quadsplit_entrypoint-2-9670d642-dd6e-4fd7-b7a0-5bece18c00d0.ipynb /tmp/26c6135850b44369a37251a9bd5ef183.ipynb -p EXPERIMENT_INSTANCE_ID 26c6135850b44369a37251a9bd5ef183\"\n",
      "2024-08-04 13:44:14.573 | DEBUG    | mlutils.distributedcomputing.job_scheduling:run_experiments_in_puepe:219 - /opt/homebrew/bin/pueue add -g quad-split \"/Users/bgulowaty/studia/projekty/quad-splits/.venv/bin/papermill --log-output --log-level DEBUG /Users/bgulowaty/studia/projekty/quad-splits/quadsplit_entrypoint-2-9670d642-dd6e-4fd7-b7a0-5bece18c00d0.ipynb /tmp/b181c1c7c6674596bde57c80022d485a.ipynb -p EXPERIMENT_INSTANCE_ID b181c1c7c6674596bde57c80022d485a\"\n",
      "2024-08-04 13:44:14.602 | DEBUG    | mlutils.distributedcomputing.job_scheduling:run_experiments_in_puepe:219 - /opt/homebrew/bin/pueue add -g quad-split \"/Users/bgulowaty/studia/projekty/quad-splits/.venv/bin/papermill --log-output --log-level DEBUG /Users/bgulowaty/studia/projekty/quad-splits/quadsplit_entrypoint-2-9670d642-dd6e-4fd7-b7a0-5bece18c00d0.ipynb /tmp/cbb58a53e244458e83ed37db7968956b.ipynb -p EXPERIMENT_INSTANCE_ID cbb58a53e244458e83ed37db7968956b\"\n"
     ]
    },
    {
     "name": "stdout",
     "output_type": "stream",
     "text": [
      "New task added (id 1363).\n",
      "New task added (id 1364).\n",
      "New task added (id 1365).\n",
      "New task added (id 1366).\n",
      "New task added (id 1367).\n",
      "New task added (id 1368).\n"
     ]
    },
    {
     "name": "stderr",
     "output_type": "stream",
     "text": [
      "2024-08-04 13:44:14.629 | DEBUG    | mlutils.distributedcomputing.job_scheduling:run_experiments_in_puepe:219 - /opt/homebrew/bin/pueue add -g quad-split \"/Users/bgulowaty/studia/projekty/quad-splits/.venv/bin/papermill --log-output --log-level DEBUG /Users/bgulowaty/studia/projekty/quad-splits/quadsplit_entrypoint-2-9670d642-dd6e-4fd7-b7a0-5bece18c00d0.ipynb /tmp/37454fe89e5949e2a939ee6c20657364.ipynb -p EXPERIMENT_INSTANCE_ID 37454fe89e5949e2a939ee6c20657364\"\n",
      "2024-08-04 13:44:14.695 | DEBUG    | mlutils.distributedcomputing.job_scheduling:run_experiments_in_puepe:219 - /opt/homebrew/bin/pueue add -g quad-split \"/Users/bgulowaty/studia/projekty/quad-splits/.venv/bin/papermill --log-output --log-level DEBUG /Users/bgulowaty/studia/projekty/quad-splits/quadsplit_entrypoint-2-9670d642-dd6e-4fd7-b7a0-5bece18c00d0.ipynb /tmp/03149a560cb4405e8abf931ab9c8f862.ipynb -p EXPERIMENT_INSTANCE_ID 03149a560cb4405e8abf931ab9c8f862\"\n",
      "2024-08-04 13:44:14.722 | DEBUG    | mlutils.distributedcomputing.job_scheduling:run_experiments_in_puepe:219 - /opt/homebrew/bin/pueue add -g quad-split \"/Users/bgulowaty/studia/projekty/quad-splits/.venv/bin/papermill --log-output --log-level DEBUG /Users/bgulowaty/studia/projekty/quad-splits/quadsplit_entrypoint-2-9670d642-dd6e-4fd7-b7a0-5bece18c00d0.ipynb /tmp/520b0fba7951419f82484737072f9350.ipynb -p EXPERIMENT_INSTANCE_ID 520b0fba7951419f82484737072f9350\"\n",
      "2024-08-04 13:44:14.751 | DEBUG    | mlutils.distributedcomputing.job_scheduling:run_experiments_in_puepe:219 - /opt/homebrew/bin/pueue add -g quad-split \"/Users/bgulowaty/studia/projekty/quad-splits/.venv/bin/papermill --log-output --log-level DEBUG /Users/bgulowaty/studia/projekty/quad-splits/quadsplit_entrypoint-2-9670d642-dd6e-4fd7-b7a0-5bece18c00d0.ipynb /tmp/62940319e31e4d4ca3c05080e67fdeee.ipynb -p EXPERIMENT_INSTANCE_ID 62940319e31e4d4ca3c05080e67fdeee\"\n",
      "2024-08-04 13:44:14.780 | DEBUG    | mlutils.distributedcomputing.job_scheduling:run_experiments_in_puepe:219 - /opt/homebrew/bin/pueue add -g quad-split \"/Users/bgulowaty/studia/projekty/quad-splits/.venv/bin/papermill --log-output --log-level DEBUG /Users/bgulowaty/studia/projekty/quad-splits/quadsplit_entrypoint-2-9670d642-dd6e-4fd7-b7a0-5bece18c00d0.ipynb /tmp/9705dafc66d148ce9b0d0590d05816c8.ipynb -p EXPERIMENT_INSTANCE_ID 9705dafc66d148ce9b0d0590d05816c8\"\n"
     ]
    },
    {
     "name": "stdout",
     "output_type": "stream",
     "text": [
      "New task added (id 1369).\n",
      "New task added (id 1370).\n",
      "New task added (id 1371).\n",
      "New task added (id 1372).\n",
      "New task added (id 1373).\n"
     ]
    },
    {
     "name": "stderr",
     "output_type": "stream",
     "text": [
      "2024-08-04 13:44:14.856 | DEBUG    | mlutils.distributedcomputing.job_scheduling:run_experiments_in_puepe:219 - /opt/homebrew/bin/pueue add -g quad-split \"/Users/bgulowaty/studia/projekty/quad-splits/.venv/bin/papermill --log-output --log-level DEBUG /Users/bgulowaty/studia/projekty/quad-splits/quadsplit_entrypoint-2-9670d642-dd6e-4fd7-b7a0-5bece18c00d0.ipynb /tmp/01b21f96e3724ea882fb21226d9360b9.ipynb -p EXPERIMENT_INSTANCE_ID 01b21f96e3724ea882fb21226d9360b9\"\n",
      "2024-08-04 13:44:14.887 | DEBUG    | mlutils.distributedcomputing.job_scheduling:run_experiments_in_puepe:219 - /opt/homebrew/bin/pueue add -g quad-split \"/Users/bgulowaty/studia/projekty/quad-splits/.venv/bin/papermill --log-output --log-level DEBUG /Users/bgulowaty/studia/projekty/quad-splits/quadsplit_entrypoint-2-9670d642-dd6e-4fd7-b7a0-5bece18c00d0.ipynb /tmp/f62763416e99480690080dcde94f93d8.ipynb -p EXPERIMENT_INSTANCE_ID f62763416e99480690080dcde94f93d8\"\n",
      "2024-08-04 13:44:14.950 | DEBUG    | mlutils.distributedcomputing.job_scheduling:run_experiments_in_puepe:219 - /opt/homebrew/bin/pueue add -g quad-split \"/Users/bgulowaty/studia/projekty/quad-splits/.venv/bin/papermill --log-output --log-level DEBUG /Users/bgulowaty/studia/projekty/quad-splits/quadsplit_entrypoint-2-9670d642-dd6e-4fd7-b7a0-5bece18c00d0.ipynb /tmp/449fc49f4c1e43f4a66d1b26a113dcc8.ipynb -p EXPERIMENT_INSTANCE_ID 449fc49f4c1e43f4a66d1b26a113dcc8\"\n",
      "2024-08-04 13:44:14.981 | DEBUG    | mlutils.distributedcomputing.job_scheduling:run_experiments_in_puepe:219 - /opt/homebrew/bin/pueue add -g quad-split \"/Users/bgulowaty/studia/projekty/quad-splits/.venv/bin/papermill --log-output --log-level DEBUG /Users/bgulowaty/studia/projekty/quad-splits/quadsplit_entrypoint-2-9670d642-dd6e-4fd7-b7a0-5bece18c00d0.ipynb /tmp/3dd9137b6c374641b9886efddcf216b0.ipynb -p EXPERIMENT_INSTANCE_ID 3dd9137b6c374641b9886efddcf216b0\"\n",
      "2024-08-04 13:44:15.008 | DEBUG    | mlutils.distributedcomputing.job_scheduling:run_experiments_in_puepe:219 - /opt/homebrew/bin/pueue add -g quad-split \"/Users/bgulowaty/studia/projekty/quad-splits/.venv/bin/papermill --log-output --log-level DEBUG /Users/bgulowaty/studia/projekty/quad-splits/quadsplit_entrypoint-2-9670d642-dd6e-4fd7-b7a0-5bece18c00d0.ipynb /tmp/6e6fb58832df4dd097c0fde7f136c708.ipynb -p EXPERIMENT_INSTANCE_ID 6e6fb58832df4dd097c0fde7f136c708\"\n",
      "2024-08-04 13:44:15.039 | DEBUG    | mlutils.distributedcomputing.job_scheduling:run_experiments_in_puepe:219 - /opt/homebrew/bin/pueue add -g quad-split \"/Users/bgulowaty/studia/projekty/quad-splits/.venv/bin/papermill --log-output --log-level DEBUG /Users/bgulowaty/studia/projekty/quad-splits/quadsplit_entrypoint-2-9670d642-dd6e-4fd7-b7a0-5bece18c00d0.ipynb /tmp/92011d4eab7241349d993bd3a96505b9.ipynb -p EXPERIMENT_INSTANCE_ID 92011d4eab7241349d993bd3a96505b9\"\n"
     ]
    },
    {
     "name": "stdout",
     "output_type": "stream",
     "text": [
      "New task added (id 1374).\n",
      "New task added (id 1375).\n",
      "New task added (id 1376).\n",
      "New task added (id 1377).\n",
      "New task added (id 1378).\n",
      "New task added (id 1379).\n"
     ]
    },
    {
     "name": "stderr",
     "output_type": "stream",
     "text": [
      "2024-08-04 13:44:15.090 | DEBUG    | mlutils.distributedcomputing.job_scheduling:run_experiments_in_puepe:219 - /opt/homebrew/bin/pueue add -g quad-split \"/Users/bgulowaty/studia/projekty/quad-splits/.venv/bin/papermill --log-output --log-level DEBUG /Users/bgulowaty/studia/projekty/quad-splits/quadsplit_entrypoint-2-9670d642-dd6e-4fd7-b7a0-5bece18c00d0.ipynb /tmp/5568517c75d04c2daa8e6bf7b5e84f30.ipynb -p EXPERIMENT_INSTANCE_ID 5568517c75d04c2daa8e6bf7b5e84f30\"\n",
      "2024-08-04 13:44:15.117 | DEBUG    | mlutils.distributedcomputing.job_scheduling:run_experiments_in_puepe:219 - /opt/homebrew/bin/pueue add -g quad-split \"/Users/bgulowaty/studia/projekty/quad-splits/.venv/bin/papermill --log-output --log-level DEBUG /Users/bgulowaty/studia/projekty/quad-splits/quadsplit_entrypoint-2-9670d642-dd6e-4fd7-b7a0-5bece18c00d0.ipynb /tmp/a50b4a4395c34bc8a4824ff1945910da.ipynb -p EXPERIMENT_INSTANCE_ID a50b4a4395c34bc8a4824ff1945910da\"\n",
      "2024-08-04 13:44:15.190 | DEBUG    | mlutils.distributedcomputing.job_scheduling:run_experiments_in_puepe:219 - /opt/homebrew/bin/pueue add -g quad-split \"/Users/bgulowaty/studia/projekty/quad-splits/.venv/bin/papermill --log-output --log-level DEBUG /Users/bgulowaty/studia/projekty/quad-splits/quadsplit_entrypoint-2-9670d642-dd6e-4fd7-b7a0-5bece18c00d0.ipynb /tmp/9eafbe0b0f9d41bc87ca868d14111f93.ipynb -p EXPERIMENT_INSTANCE_ID 9eafbe0b0f9d41bc87ca868d14111f93\"\n",
      "2024-08-04 13:44:15.217 | DEBUG    | mlutils.distributedcomputing.job_scheduling:run_experiments_in_puepe:219 - /opt/homebrew/bin/pueue add -g quad-split \"/Users/bgulowaty/studia/projekty/quad-splits/.venv/bin/papermill --log-output --log-level DEBUG /Users/bgulowaty/studia/projekty/quad-splits/quadsplit_entrypoint-2-9670d642-dd6e-4fd7-b7a0-5bece18c00d0.ipynb /tmp/3d93255576c44dd0abf3c74902dfe7d6.ipynb -p EXPERIMENT_INSTANCE_ID 3d93255576c44dd0abf3c74902dfe7d6\"\n",
      "2024-08-04 13:44:15.288 | DEBUG    | mlutils.distributedcomputing.job_scheduling:run_experiments_in_puepe:219 - /opt/homebrew/bin/pueue add -g quad-split \"/Users/bgulowaty/studia/projekty/quad-splits/.venv/bin/papermill --log-output --log-level DEBUG /Users/bgulowaty/studia/projekty/quad-splits/quadsplit_entrypoint-2-9670d642-dd6e-4fd7-b7a0-5bece18c00d0.ipynb /tmp/dbe58620f26b4ca78338fca0a306385b.ipynb -p EXPERIMENT_INSTANCE_ID dbe58620f26b4ca78338fca0a306385b\"\n"
     ]
    },
    {
     "name": "stdout",
     "output_type": "stream",
     "text": [
      "New task added (id 1380).\n",
      "New task added (id 1381).\n",
      "New task added (id 1382).\n",
      "New task added (id 1383).\n",
      "New task added (id 1384).\n"
     ]
    },
    {
     "name": "stderr",
     "output_type": "stream",
     "text": [
      "2024-08-04 13:44:15.318 | DEBUG    | mlutils.distributedcomputing.job_scheduling:run_experiments_in_puepe:219 - /opt/homebrew/bin/pueue add -g quad-split \"/Users/bgulowaty/studia/projekty/quad-splits/.venv/bin/papermill --log-output --log-level DEBUG /Users/bgulowaty/studia/projekty/quad-splits/quadsplit_entrypoint-2-9670d642-dd6e-4fd7-b7a0-5bece18c00d0.ipynb /tmp/89b2f456d20845888028e2b2609e9e3b.ipynb -p EXPERIMENT_INSTANCE_ID 89b2f456d20845888028e2b2609e9e3b\"\n",
      "2024-08-04 13:44:15.381 | DEBUG    | mlutils.distributedcomputing.job_scheduling:run_experiments_in_puepe:219 - /opt/homebrew/bin/pueue add -g quad-split \"/Users/bgulowaty/studia/projekty/quad-splits/.venv/bin/papermill --log-output --log-level DEBUG /Users/bgulowaty/studia/projekty/quad-splits/quadsplit_entrypoint-2-9670d642-dd6e-4fd7-b7a0-5bece18c00d0.ipynb /tmp/486847a308324c569a1c48cf543626ca.ipynb -p EXPERIMENT_INSTANCE_ID 486847a308324c569a1c48cf543626ca\"\n",
      "2024-08-04 13:44:15.412 | DEBUG    | mlutils.distributedcomputing.job_scheduling:run_experiments_in_puepe:219 - /opt/homebrew/bin/pueue add -g quad-split \"/Users/bgulowaty/studia/projekty/quad-splits/.venv/bin/papermill --log-output --log-level DEBUG /Users/bgulowaty/studia/projekty/quad-splits/quadsplit_entrypoint-2-9670d642-dd6e-4fd7-b7a0-5bece18c00d0.ipynb /tmp/a30a679ae7f54b34953416c162b529eb.ipynb -p EXPERIMENT_INSTANCE_ID a30a679ae7f54b34953416c162b529eb\"\n",
      "2024-08-04 13:44:15.439 | DEBUG    | mlutils.distributedcomputing.job_scheduling:run_experiments_in_puepe:219 - /opt/homebrew/bin/pueue add -g quad-split \"/Users/bgulowaty/studia/projekty/quad-splits/.venv/bin/papermill --log-output --log-level DEBUG /Users/bgulowaty/studia/projekty/quad-splits/quadsplit_entrypoint-2-9670d642-dd6e-4fd7-b7a0-5bece18c00d0.ipynb /tmp/eff71b9cf99446a6af89ca10e8a0ebb5.ipynb -p EXPERIMENT_INSTANCE_ID eff71b9cf99446a6af89ca10e8a0ebb5\"\n",
      "2024-08-04 13:44:15.509 | DEBUG    | mlutils.distributedcomputing.job_scheduling:run_experiments_in_puepe:219 - /opt/homebrew/bin/pueue add -g quad-split \"/Users/bgulowaty/studia/projekty/quad-splits/.venv/bin/papermill --log-output --log-level DEBUG /Users/bgulowaty/studia/projekty/quad-splits/quadsplit_entrypoint-2-9670d642-dd6e-4fd7-b7a0-5bece18c00d0.ipynb /tmp/afa21391949f43079729a7f4fc9e5e21.ipynb -p EXPERIMENT_INSTANCE_ID afa21391949f43079729a7f4fc9e5e21\"\n"
     ]
    },
    {
     "name": "stdout",
     "output_type": "stream",
     "text": [
      "New task added (id 1385).\n",
      "New task added (id 1386).\n",
      "New task added (id 1387).\n",
      "New task added (id 1388).\n",
      "New task added (id 1389).\n"
     ]
    },
    {
     "name": "stderr",
     "output_type": "stream",
     "text": [
      "2024-08-04 13:44:15.590 | DEBUG    | mlutils.distributedcomputing.job_scheduling:run_experiments_in_puepe:219 - /opt/homebrew/bin/pueue add -g quad-split \"/Users/bgulowaty/studia/projekty/quad-splits/.venv/bin/papermill --log-output --log-level DEBUG /Users/bgulowaty/studia/projekty/quad-splits/quadsplit_entrypoint-2-9670d642-dd6e-4fd7-b7a0-5bece18c00d0.ipynb /tmp/01a84937d5c0487194f9d41b073cb32f.ipynb -p EXPERIMENT_INSTANCE_ID 01a84937d5c0487194f9d41b073cb32f\"\n",
      "2024-08-04 13:44:15.706 | DEBUG    | mlutils.distributedcomputing.job_scheduling:run_experiments_in_puepe:219 - /opt/homebrew/bin/pueue add -g quad-split \"/Users/bgulowaty/studia/projekty/quad-splits/.venv/bin/papermill --log-output --log-level DEBUG /Users/bgulowaty/studia/projekty/quad-splits/quadsplit_entrypoint-2-9670d642-dd6e-4fd7-b7a0-5bece18c00d0.ipynb /tmp/7e83269e88e04f42ab863a7f4b9abde9.ipynb -p EXPERIMENT_INSTANCE_ID 7e83269e88e04f42ab863a7f4b9abde9\"\n",
      "2024-08-04 13:44:15.751 | DEBUG    | mlutils.distributedcomputing.job_scheduling:run_experiments_in_puepe:219 - /opt/homebrew/bin/pueue add -g quad-split \"/Users/bgulowaty/studia/projekty/quad-splits/.venv/bin/papermill --log-output --log-level DEBUG /Users/bgulowaty/studia/projekty/quad-splits/quadsplit_entrypoint-2-9670d642-dd6e-4fd7-b7a0-5bece18c00d0.ipynb /tmp/9d89cadbbbb54cbaa955af8a601cb47b.ipynb -p EXPERIMENT_INSTANCE_ID 9d89cadbbbb54cbaa955af8a601cb47b\"\n"
     ]
    },
    {
     "name": "stdout",
     "output_type": "stream",
     "text": [
      "New task added (id 1390).\n",
      "New task added (id 1391).\n",
      "New task added (id 1392).\n"
     ]
    },
    {
     "name": "stderr",
     "output_type": "stream",
     "text": [
      "2024-08-04 13:44:15.821 | DEBUG    | mlutils.distributedcomputing.job_scheduling:run_experiments_in_puepe:219 - /opt/homebrew/bin/pueue add -g quad-split \"/Users/bgulowaty/studia/projekty/quad-splits/.venv/bin/papermill --log-output --log-level DEBUG /Users/bgulowaty/studia/projekty/quad-splits/quadsplit_entrypoint-2-9670d642-dd6e-4fd7-b7a0-5bece18c00d0.ipynb /tmp/4f852da0f2f54f36aad64fe06111ddca.ipynb -p EXPERIMENT_INSTANCE_ID 4f852da0f2f54f36aad64fe06111ddca\"\n",
      "2024-08-04 13:44:15.850 | DEBUG    | mlutils.distributedcomputing.job_scheduling:run_experiments_in_puepe:219 - /opt/homebrew/bin/pueue add -g quad-split \"/Users/bgulowaty/studia/projekty/quad-splits/.venv/bin/papermill --log-output --log-level DEBUG /Users/bgulowaty/studia/projekty/quad-splits/quadsplit_entrypoint-2-9670d642-dd6e-4fd7-b7a0-5bece18c00d0.ipynb /tmp/065037bbd00c4165b7528ef8a0ce22bc.ipynb -p EXPERIMENT_INSTANCE_ID 065037bbd00c4165b7528ef8a0ce22bc\"\n",
      "2024-08-04 13:44:15.877 | DEBUG    | mlutils.distributedcomputing.job_scheduling:run_experiments_in_puepe:219 - /opt/homebrew/bin/pueue add -g quad-split \"/Users/bgulowaty/studia/projekty/quad-splits/.venv/bin/papermill --log-output --log-level DEBUG /Users/bgulowaty/studia/projekty/quad-splits/quadsplit_entrypoint-2-9670d642-dd6e-4fd7-b7a0-5bece18c00d0.ipynb /tmp/83b7f6aaab8247fd862758ce4c17f675.ipynb -p EXPERIMENT_INSTANCE_ID 83b7f6aaab8247fd862758ce4c17f675\"\n",
      "2024-08-04 13:44:15.911 | DEBUG    | mlutils.distributedcomputing.job_scheduling:run_experiments_in_puepe:219 - /opt/homebrew/bin/pueue add -g quad-split \"/Users/bgulowaty/studia/projekty/quad-splits/.venv/bin/papermill --log-output --log-level DEBUG /Users/bgulowaty/studia/projekty/quad-splits/quadsplit_entrypoint-2-9670d642-dd6e-4fd7-b7a0-5bece18c00d0.ipynb /tmp/f0a92819934248bdb747368559f26476.ipynb -p EXPERIMENT_INSTANCE_ID f0a92819934248bdb747368559f26476\"\n",
      "2024-08-04 13:44:15.943 | DEBUG    | mlutils.distributedcomputing.job_scheduling:run_experiments_in_puepe:219 - /opt/homebrew/bin/pueue add -g quad-split \"/Users/bgulowaty/studia/projekty/quad-splits/.venv/bin/papermill --log-output --log-level DEBUG /Users/bgulowaty/studia/projekty/quad-splits/quadsplit_entrypoint-2-9670d642-dd6e-4fd7-b7a0-5bece18c00d0.ipynb /tmp/089e6f808f684592a0706980c411622d.ipynb -p EXPERIMENT_INSTANCE_ID 089e6f808f684592a0706980c411622d\"\n",
      "2024-08-04 13:44:15.969 | DEBUG    | mlutils.distributedcomputing.job_scheduling:run_experiments_in_puepe:219 - /opt/homebrew/bin/pueue add -g quad-split \"/Users/bgulowaty/studia/projekty/quad-splits/.venv/bin/papermill --log-output --log-level DEBUG /Users/bgulowaty/studia/projekty/quad-splits/quadsplit_entrypoint-2-9670d642-dd6e-4fd7-b7a0-5bece18c00d0.ipynb /tmp/136c54efa5bf498b963004777944fca5.ipynb -p EXPERIMENT_INSTANCE_ID 136c54efa5bf498b963004777944fca5\"\n",
      "2024-08-04 13:44:16.013 | DEBUG    | mlutils.distributedcomputing.job_scheduling:run_experiments_in_puepe:219 - /opt/homebrew/bin/pueue add -g quad-split \"/Users/bgulowaty/studia/projekty/quad-splits/.venv/bin/papermill --log-output --log-level DEBUG /Users/bgulowaty/studia/projekty/quad-splits/quadsplit_entrypoint-2-9670d642-dd6e-4fd7-b7a0-5bece18c00d0.ipynb /tmp/d9ac8fa89de9420089aadce1968f691b.ipynb -p EXPERIMENT_INSTANCE_ID d9ac8fa89de9420089aadce1968f691b\"\n"
     ]
    },
    {
     "name": "stdout",
     "output_type": "stream",
     "text": [
      "New task added (id 1393).\n",
      "New task added (id 1394).\n",
      "New task added (id 1395).\n",
      "New task added (id 1396).\n",
      "New task added (id 1397).\n",
      "New task added (id 1398).\n",
      "New task added (id 1399).\n"
     ]
    },
    {
     "name": "stderr",
     "output_type": "stream",
     "text": [
      "2024-08-04 13:44:16.083 | DEBUG    | mlutils.distributedcomputing.job_scheduling:run_experiments_in_puepe:219 - /opt/homebrew/bin/pueue add -g quad-split \"/Users/bgulowaty/studia/projekty/quad-splits/.venv/bin/papermill --log-output --log-level DEBUG /Users/bgulowaty/studia/projekty/quad-splits/quadsplit_entrypoint-2-9670d642-dd6e-4fd7-b7a0-5bece18c00d0.ipynb /tmp/e63120e9f32c4a47bc7cd5ae3108a8a5.ipynb -p EXPERIMENT_INSTANCE_ID e63120e9f32c4a47bc7cd5ae3108a8a5\"\n",
      "2024-08-04 13:44:16.105 | DEBUG    | mlutils.distributedcomputing.job_scheduling:run_experiments_in_puepe:219 - /opt/homebrew/bin/pueue add -g quad-split \"/Users/bgulowaty/studia/projekty/quad-splits/.venv/bin/papermill --log-output --log-level DEBUG /Users/bgulowaty/studia/projekty/quad-splits/quadsplit_entrypoint-2-9670d642-dd6e-4fd7-b7a0-5bece18c00d0.ipynb /tmp/4816cd8431ac460e895c59eb8d6f37e8.ipynb -p EXPERIMENT_INSTANCE_ID 4816cd8431ac460e895c59eb8d6f37e8\"\n",
      "2024-08-04 13:44:16.132 | DEBUG    | mlutils.distributedcomputing.job_scheduling:run_experiments_in_puepe:219 - /opt/homebrew/bin/pueue add -g quad-split \"/Users/bgulowaty/studia/projekty/quad-splits/.venv/bin/papermill --log-output --log-level DEBUG /Users/bgulowaty/studia/projekty/quad-splits/quadsplit_entrypoint-2-9670d642-dd6e-4fd7-b7a0-5bece18c00d0.ipynb /tmp/480b3dec4d8f46f9a7a9ddee6caedd7c.ipynb -p EXPERIMENT_INSTANCE_ID 480b3dec4d8f46f9a7a9ddee6caedd7c\"\n",
      "2024-08-04 13:44:16.162 | DEBUG    | mlutils.distributedcomputing.job_scheduling:run_experiments_in_puepe:219 - /opt/homebrew/bin/pueue add -g quad-split \"/Users/bgulowaty/studia/projekty/quad-splits/.venv/bin/papermill --log-output --log-level DEBUG /Users/bgulowaty/studia/projekty/quad-splits/quadsplit_entrypoint-2-9670d642-dd6e-4fd7-b7a0-5bece18c00d0.ipynb /tmp/794c649d21d347519dcac7729df79ea9.ipynb -p EXPERIMENT_INSTANCE_ID 794c649d21d347519dcac7729df79ea9\"\n",
      "2024-08-04 13:44:16.245 | DEBUG    | mlutils.distributedcomputing.job_scheduling:run_experiments_in_puepe:219 - /opt/homebrew/bin/pueue add -g quad-split \"/Users/bgulowaty/studia/projekty/quad-splits/.venv/bin/papermill --log-output --log-level DEBUG /Users/bgulowaty/studia/projekty/quad-splits/quadsplit_entrypoint-2-9670d642-dd6e-4fd7-b7a0-5bece18c00d0.ipynb /tmp/068cc8031dee4b34bf16cb2289a90e00.ipynb -p EXPERIMENT_INSTANCE_ID 068cc8031dee4b34bf16cb2289a90e00\"\n"
     ]
    },
    {
     "name": "stdout",
     "output_type": "stream",
     "text": [
      "New task added (id 1400).\n",
      "New task added (id 1401).\n",
      "New task added (id 1402).\n",
      "New task added (id 1403).\n",
      "New task added (id 1404).\n"
     ]
    },
    {
     "name": "stderr",
     "output_type": "stream",
     "text": [
      "2024-08-04 13:44:16.303 | DEBUG    | mlutils.distributedcomputing.job_scheduling:run_experiments_in_puepe:219 - /opt/homebrew/bin/pueue add -g quad-split \"/Users/bgulowaty/studia/projekty/quad-splits/.venv/bin/papermill --log-output --log-level DEBUG /Users/bgulowaty/studia/projekty/quad-splits/quadsplit_entrypoint-2-9670d642-dd6e-4fd7-b7a0-5bece18c00d0.ipynb /tmp/781c1e71e0b04d75a3ffc04d85f15292.ipynb -p EXPERIMENT_INSTANCE_ID 781c1e71e0b04d75a3ffc04d85f15292\"\n",
      "2024-08-04 13:44:16.333 | DEBUG    | mlutils.distributedcomputing.job_scheduling:run_experiments_in_puepe:219 - /opt/homebrew/bin/pueue add -g quad-split \"/Users/bgulowaty/studia/projekty/quad-splits/.venv/bin/papermill --log-output --log-level DEBUG /Users/bgulowaty/studia/projekty/quad-splits/quadsplit_entrypoint-2-9670d642-dd6e-4fd7-b7a0-5bece18c00d0.ipynb /tmp/2862280c166644428fae2463307c3f6e.ipynb -p EXPERIMENT_INSTANCE_ID 2862280c166644428fae2463307c3f6e\"\n",
      "2024-08-04 13:44:16.365 | DEBUG    | mlutils.distributedcomputing.job_scheduling:run_experiments_in_puepe:219 - /opt/homebrew/bin/pueue add -g quad-split \"/Users/bgulowaty/studia/projekty/quad-splits/.venv/bin/papermill --log-output --log-level DEBUG /Users/bgulowaty/studia/projekty/quad-splits/quadsplit_entrypoint-2-9670d642-dd6e-4fd7-b7a0-5bece18c00d0.ipynb /tmp/bb236aea9ab142d1abf38f6279125c66.ipynb -p EXPERIMENT_INSTANCE_ID bb236aea9ab142d1abf38f6279125c66\"\n",
      "2024-08-04 13:44:16.448 | DEBUG    | mlutils.distributedcomputing.job_scheduling:run_experiments_in_puepe:219 - /opt/homebrew/bin/pueue add -g quad-split \"/Users/bgulowaty/studia/projekty/quad-splits/.venv/bin/papermill --log-output --log-level DEBUG /Users/bgulowaty/studia/projekty/quad-splits/quadsplit_entrypoint-2-9670d642-dd6e-4fd7-b7a0-5bece18c00d0.ipynb /tmp/f62cc46b70e842049d50ab940e3b8c3e.ipynb -p EXPERIMENT_INSTANCE_ID f62cc46b70e842049d50ab940e3b8c3e\"\n",
      "2024-08-04 13:44:16.477 | DEBUG    | mlutils.distributedcomputing.job_scheduling:run_experiments_in_puepe:219 - /opt/homebrew/bin/pueue add -g quad-split \"/Users/bgulowaty/studia/projekty/quad-splits/.venv/bin/papermill --log-output --log-level DEBUG /Users/bgulowaty/studia/projekty/quad-splits/quadsplit_entrypoint-2-9670d642-dd6e-4fd7-b7a0-5bece18c00d0.ipynb /tmp/ee9e78589ab84a91a272b98a7e3f242c.ipynb -p EXPERIMENT_INSTANCE_ID ee9e78589ab84a91a272b98a7e3f242c\"\n",
      "2024-08-04 13:44:16.505 | DEBUG    | mlutils.distributedcomputing.job_scheduling:run_experiments_in_puepe:219 - /opt/homebrew/bin/pueue add -g quad-split \"/Users/bgulowaty/studia/projekty/quad-splits/.venv/bin/papermill --log-output --log-level DEBUG /Users/bgulowaty/studia/projekty/quad-splits/quadsplit_entrypoint-2-9670d642-dd6e-4fd7-b7a0-5bece18c00d0.ipynb /tmp/8718f0e8ef934170b9795816df23140d.ipynb -p EXPERIMENT_INSTANCE_ID 8718f0e8ef934170b9795816df23140d\"\n"
     ]
    },
    {
     "name": "stdout",
     "output_type": "stream",
     "text": [
      "New task added (id 1405).\n",
      "New task added (id 1406).\n",
      "New task added (id 1407).\n",
      "New task added (id 1408).\n",
      "New task added (id 1409).\n",
      "New task added (id 1410).\n"
     ]
    },
    {
     "name": "stderr",
     "output_type": "stream",
     "text": [
      "2024-08-04 13:44:16.544 | DEBUG    | mlutils.distributedcomputing.job_scheduling:run_experiments_in_puepe:219 - /opt/homebrew/bin/pueue add -g quad-split \"/Users/bgulowaty/studia/projekty/quad-splits/.venv/bin/papermill --log-output --log-level DEBUG /Users/bgulowaty/studia/projekty/quad-splits/quadsplit_entrypoint-2-9670d642-dd6e-4fd7-b7a0-5bece18c00d0.ipynb /tmp/4f24f628356c4e6bb8bd3bb953e2c783.ipynb -p EXPERIMENT_INSTANCE_ID 4f24f628356c4e6bb8bd3bb953e2c783\"\n",
      "2024-08-04 13:44:16.586 | DEBUG    | mlutils.distributedcomputing.job_scheduling:run_experiments_in_puepe:219 - /opt/homebrew/bin/pueue add -g quad-split \"/Users/bgulowaty/studia/projekty/quad-splits/.venv/bin/papermill --log-output --log-level DEBUG /Users/bgulowaty/studia/projekty/quad-splits/quadsplit_entrypoint-2-9670d642-dd6e-4fd7-b7a0-5bece18c00d0.ipynb /tmp/45dcce91f785482b8da061800370f240.ipynb -p EXPERIMENT_INSTANCE_ID 45dcce91f785482b8da061800370f240\"\n",
      "2024-08-04 13:44:16.639 | DEBUG    | mlutils.distributedcomputing.job_scheduling:run_experiments_in_puepe:219 - /opt/homebrew/bin/pueue add -g quad-split \"/Users/bgulowaty/studia/projekty/quad-splits/.venv/bin/papermill --log-output --log-level DEBUG /Users/bgulowaty/studia/projekty/quad-splits/quadsplit_entrypoint-2-9670d642-dd6e-4fd7-b7a0-5bece18c00d0.ipynb /tmp/4a7247aa1def4a28b20d19983e9f8b63.ipynb -p EXPERIMENT_INSTANCE_ID 4a7247aa1def4a28b20d19983e9f8b63\"\n",
      "2024-08-04 13:44:16.673 | DEBUG    | mlutils.distributedcomputing.job_scheduling:run_experiments_in_puepe:219 - /opt/homebrew/bin/pueue add -g quad-split \"/Users/bgulowaty/studia/projekty/quad-splits/.venv/bin/papermill --log-output --log-level DEBUG /Users/bgulowaty/studia/projekty/quad-splits/quadsplit_entrypoint-2-9670d642-dd6e-4fd7-b7a0-5bece18c00d0.ipynb /tmp/7821ef2ba3fb476797bcd16a3ea37132.ipynb -p EXPERIMENT_INSTANCE_ID 7821ef2ba3fb476797bcd16a3ea37132\"\n",
      "2024-08-04 13:44:16.703 | DEBUG    | mlutils.distributedcomputing.job_scheduling:run_experiments_in_puepe:219 - /opt/homebrew/bin/pueue add -g quad-split \"/Users/bgulowaty/studia/projekty/quad-splits/.venv/bin/papermill --log-output --log-level DEBUG /Users/bgulowaty/studia/projekty/quad-splits/quadsplit_entrypoint-2-9670d642-dd6e-4fd7-b7a0-5bece18c00d0.ipynb /tmp/67827eee55d8412e9917e3de74c5d340.ipynb -p EXPERIMENT_INSTANCE_ID 67827eee55d8412e9917e3de74c5d340\"\n"
     ]
    },
    {
     "name": "stdout",
     "output_type": "stream",
     "text": [
      "New task added (id 1411).\n",
      "New task added (id 1412).\n",
      "New task added (id 1413).\n",
      "New task added (id 1414).\n",
      "New task added (id 1415).\n"
     ]
    },
    {
     "name": "stderr",
     "output_type": "stream",
     "text": [
      "2024-08-04 13:44:16.775 | DEBUG    | mlutils.distributedcomputing.job_scheduling:run_experiments_in_puepe:219 - /opt/homebrew/bin/pueue add -g quad-split \"/Users/bgulowaty/studia/projekty/quad-splits/.venv/bin/papermill --log-output --log-level DEBUG /Users/bgulowaty/studia/projekty/quad-splits/quadsplit_entrypoint-2-9670d642-dd6e-4fd7-b7a0-5bece18c00d0.ipynb /tmp/b90fdc8f9db64b59aed21084fafe3041.ipynb -p EXPERIMENT_INSTANCE_ID b90fdc8f9db64b59aed21084fafe3041\"\n",
      "2024-08-04 13:44:16.824 | DEBUG    | mlutils.distributedcomputing.job_scheduling:run_experiments_in_puepe:219 - /opt/homebrew/bin/pueue add -g quad-split \"/Users/bgulowaty/studia/projekty/quad-splits/.venv/bin/papermill --log-output --log-level DEBUG /Users/bgulowaty/studia/projekty/quad-splits/quadsplit_entrypoint-2-9670d642-dd6e-4fd7-b7a0-5bece18c00d0.ipynb /tmp/83a4a88e97444a5b99fab75cdd15efaa.ipynb -p EXPERIMENT_INSTANCE_ID 83a4a88e97444a5b99fab75cdd15efaa\"\n",
      "2024-08-04 13:44:16.939 | DEBUG    | mlutils.distributedcomputing.job_scheduling:run_experiments_in_puepe:219 - /opt/homebrew/bin/pueue add -g quad-split \"/Users/bgulowaty/studia/projekty/quad-splits/.venv/bin/papermill --log-output --log-level DEBUG /Users/bgulowaty/studia/projekty/quad-splits/quadsplit_entrypoint-2-9670d642-dd6e-4fd7-b7a0-5bece18c00d0.ipynb /tmp/91aa987ad55e402dae9728441da823c5.ipynb -p EXPERIMENT_INSTANCE_ID 91aa987ad55e402dae9728441da823c5\"\n"
     ]
    },
    {
     "name": "stdout",
     "output_type": "stream",
     "text": [
      "New task added (id 1416).\n",
      "New task added (id 1417).\n",
      "New task added (id 1418).\n"
     ]
    },
    {
     "name": "stderr",
     "output_type": "stream",
     "text": [
      "2024-08-04 13:44:17.001 | DEBUG    | mlutils.distributedcomputing.job_scheduling:run_experiments_in_puepe:219 - /opt/homebrew/bin/pueue add -g quad-split \"/Users/bgulowaty/studia/projekty/quad-splits/.venv/bin/papermill --log-output --log-level DEBUG /Users/bgulowaty/studia/projekty/quad-splits/quadsplit_entrypoint-2-9670d642-dd6e-4fd7-b7a0-5bece18c00d0.ipynb /tmp/b750903a819b4e4e9daa572b1bc69e78.ipynb -p EXPERIMENT_INSTANCE_ID b750903a819b4e4e9daa572b1bc69e78\"\n",
      "2024-08-04 13:44:17.099 | DEBUG    | mlutils.distributedcomputing.job_scheduling:run_experiments_in_puepe:219 - /opt/homebrew/bin/pueue add -g quad-split \"/Users/bgulowaty/studia/projekty/quad-splits/.venv/bin/papermill --log-output --log-level DEBUG /Users/bgulowaty/studia/projekty/quad-splits/quadsplit_entrypoint-2-9670d642-dd6e-4fd7-b7a0-5bece18c00d0.ipynb /tmp/c851aff51f514b939262f32f0d7bafc0.ipynb -p EXPERIMENT_INSTANCE_ID c851aff51f514b939262f32f0d7bafc0\"\n",
      "2024-08-04 13:44:17.136 | DEBUG    | mlutils.distributedcomputing.job_scheduling:run_experiments_in_puepe:219 - /opt/homebrew/bin/pueue add -g quad-split \"/Users/bgulowaty/studia/projekty/quad-splits/.venv/bin/papermill --log-output --log-level DEBUG /Users/bgulowaty/studia/projekty/quad-splits/quadsplit_entrypoint-2-9670d642-dd6e-4fd7-b7a0-5bece18c00d0.ipynb /tmp/e05a74ea0dcd40ae9ddb1794b6198182.ipynb -p EXPERIMENT_INSTANCE_ID e05a74ea0dcd40ae9ddb1794b6198182\"\n",
      "2024-08-04 13:44:17.167 | DEBUG    | mlutils.distributedcomputing.job_scheduling:run_experiments_in_puepe:219 - /opt/homebrew/bin/pueue add -g quad-split \"/Users/bgulowaty/studia/projekty/quad-splits/.venv/bin/papermill --log-output --log-level DEBUG /Users/bgulowaty/studia/projekty/quad-splits/quadsplit_entrypoint-2-9670d642-dd6e-4fd7-b7a0-5bece18c00d0.ipynb /tmp/4054ff8967964a06ba9f644222d030a0.ipynb -p EXPERIMENT_INSTANCE_ID 4054ff8967964a06ba9f644222d030a0\"\n"
     ]
    },
    {
     "name": "stdout",
     "output_type": "stream",
     "text": [
      "New task added (id 1419).\n",
      "New task added (id 1420).\n",
      "New task added (id 1421).\n",
      "New task added (id 1422).\n"
     ]
    },
    {
     "name": "stderr",
     "output_type": "stream",
     "text": [
      "2024-08-04 13:44:17.257 | DEBUG    | mlutils.distributedcomputing.job_scheduling:run_experiments_in_puepe:219 - /opt/homebrew/bin/pueue add -g quad-split \"/Users/bgulowaty/studia/projekty/quad-splits/.venv/bin/papermill --log-output --log-level DEBUG /Users/bgulowaty/studia/projekty/quad-splits/quadsplit_entrypoint-2-9670d642-dd6e-4fd7-b7a0-5bece18c00d0.ipynb /tmp/8201022e3d3642edacfb361c17f71115.ipynb -p EXPERIMENT_INSTANCE_ID 8201022e3d3642edacfb361c17f71115\"\n",
      "2024-08-04 13:44:17.306 | DEBUG    | mlutils.distributedcomputing.job_scheduling:run_experiments_in_puepe:219 - /opt/homebrew/bin/pueue add -g quad-split \"/Users/bgulowaty/studia/projekty/quad-splits/.venv/bin/papermill --log-output --log-level DEBUG /Users/bgulowaty/studia/projekty/quad-splits/quadsplit_entrypoint-2-9670d642-dd6e-4fd7-b7a0-5bece18c00d0.ipynb /tmp/6f338f42b91d47239705d63a980d8223.ipynb -p EXPERIMENT_INSTANCE_ID 6f338f42b91d47239705d63a980d8223\"\n",
      "2024-08-04 13:44:17.343 | DEBUG    | mlutils.distributedcomputing.job_scheduling:run_experiments_in_puepe:219 - /opt/homebrew/bin/pueue add -g quad-split \"/Users/bgulowaty/studia/projekty/quad-splits/.venv/bin/papermill --log-output --log-level DEBUG /Users/bgulowaty/studia/projekty/quad-splits/quadsplit_entrypoint-2-9670d642-dd6e-4fd7-b7a0-5bece18c00d0.ipynb /tmp/835e040e9acb48638d92bbc3b88766a8.ipynb -p EXPERIMENT_INSTANCE_ID 835e040e9acb48638d92bbc3b88766a8\"\n",
      "2024-08-04 13:44:17.456 | DEBUG    | mlutils.distributedcomputing.job_scheduling:run_experiments_in_puepe:219 - /opt/homebrew/bin/pueue add -g quad-split \"/Users/bgulowaty/studia/projekty/quad-splits/.venv/bin/papermill --log-output --log-level DEBUG /Users/bgulowaty/studia/projekty/quad-splits/quadsplit_entrypoint-2-9670d642-dd6e-4fd7-b7a0-5bece18c00d0.ipynb /tmp/cb3763632e7c4420afa42405fee10df5.ipynb -p EXPERIMENT_INSTANCE_ID cb3763632e7c4420afa42405fee10df5\"\n"
     ]
    },
    {
     "name": "stdout",
     "output_type": "stream",
     "text": [
      "New task added (id 1423).\n",
      "New task added (id 1424).\n",
      "New task added (id 1425).\n",
      "New task added (id 1426).\n"
     ]
    },
    {
     "name": "stderr",
     "output_type": "stream",
     "text": [
      "2024-08-04 13:44:17.486 | DEBUG    | mlutils.distributedcomputing.job_scheduling:run_experiments_in_puepe:219 - /opt/homebrew/bin/pueue add -g quad-split \"/Users/bgulowaty/studia/projekty/quad-splits/.venv/bin/papermill --log-output --log-level DEBUG /Users/bgulowaty/studia/projekty/quad-splits/quadsplit_entrypoint-2-9670d642-dd6e-4fd7-b7a0-5bece18c00d0.ipynb /tmp/422e6d059e1e4285a62762beed8e5a98.ipynb -p EXPERIMENT_INSTANCE_ID 422e6d059e1e4285a62762beed8e5a98\"\n",
      "2024-08-04 13:44:17.562 | DEBUG    | mlutils.distributedcomputing.job_scheduling:run_experiments_in_puepe:219 - /opt/homebrew/bin/pueue add -g quad-split \"/Users/bgulowaty/studia/projekty/quad-splits/.venv/bin/papermill --log-output --log-level DEBUG /Users/bgulowaty/studia/projekty/quad-splits/quadsplit_entrypoint-2-9670d642-dd6e-4fd7-b7a0-5bece18c00d0.ipynb /tmp/f4d424ca7d4d464a91fdb461e0dc1374.ipynb -p EXPERIMENT_INSTANCE_ID f4d424ca7d4d464a91fdb461e0dc1374\"\n",
      "2024-08-04 13:44:17.603 | DEBUG    | mlutils.distributedcomputing.job_scheduling:run_experiments_in_puepe:219 - /opt/homebrew/bin/pueue add -g quad-split \"/Users/bgulowaty/studia/projekty/quad-splits/.venv/bin/papermill --log-output --log-level DEBUG /Users/bgulowaty/studia/projekty/quad-splits/quadsplit_entrypoint-2-9670d642-dd6e-4fd7-b7a0-5bece18c00d0.ipynb /tmp/5541e939d26447f19915980163f8e3dd.ipynb -p EXPERIMENT_INSTANCE_ID 5541e939d26447f19915980163f8e3dd\"\n",
      "2024-08-04 13:44:17.634 | DEBUG    | mlutils.distributedcomputing.job_scheduling:run_experiments_in_puepe:219 - /opt/homebrew/bin/pueue add -g quad-split \"/Users/bgulowaty/studia/projekty/quad-splits/.venv/bin/papermill --log-output --log-level DEBUG /Users/bgulowaty/studia/projekty/quad-splits/quadsplit_entrypoint-2-9670d642-dd6e-4fd7-b7a0-5bece18c00d0.ipynb /tmp/a877466e59724075898f74476ba2fa3a.ipynb -p EXPERIMENT_INSTANCE_ID a877466e59724075898f74476ba2fa3a\"\n",
      "2024-08-04 13:44:17.676 | DEBUG    | mlutils.distributedcomputing.job_scheduling:run_experiments_in_puepe:219 - /opt/homebrew/bin/pueue add -g quad-split \"/Users/bgulowaty/studia/projekty/quad-splits/.venv/bin/papermill --log-output --log-level DEBUG /Users/bgulowaty/studia/projekty/quad-splits/quadsplit_entrypoint-2-9670d642-dd6e-4fd7-b7a0-5bece18c00d0.ipynb /tmp/0ca5022bdc624b6d92d54150440e7e95.ipynb -p EXPERIMENT_INSTANCE_ID 0ca5022bdc624b6d92d54150440e7e95\"\n"
     ]
    },
    {
     "name": "stdout",
     "output_type": "stream",
     "text": [
      "New task added (id 1427).\n",
      "New task added (id 1428).\n",
      "New task added (id 1429).\n",
      "New task added (id 1430).\n",
      "New task added (id 1431).\n"
     ]
    },
    {
     "name": "stderr",
     "output_type": "stream",
     "text": [
      "2024-08-04 13:44:17.703 | DEBUG    | mlutils.distributedcomputing.job_scheduling:run_experiments_in_puepe:219 - /opt/homebrew/bin/pueue add -g quad-split \"/Users/bgulowaty/studia/projekty/quad-splits/.venv/bin/papermill --log-output --log-level DEBUG /Users/bgulowaty/studia/projekty/quad-splits/quadsplit_entrypoint-2-9670d642-dd6e-4fd7-b7a0-5bece18c00d0.ipynb /tmp/f45d026c4ee94370aef7e9454d045b82.ipynb -p EXPERIMENT_INSTANCE_ID f45d026c4ee94370aef7e9454d045b82\"\n",
      "2024-08-04 13:44:17.729 | DEBUG    | mlutils.distributedcomputing.job_scheduling:run_experiments_in_puepe:219 - /opt/homebrew/bin/pueue add -g quad-split \"/Users/bgulowaty/studia/projekty/quad-splits/.venv/bin/papermill --log-output --log-level DEBUG /Users/bgulowaty/studia/projekty/quad-splits/quadsplit_entrypoint-2-9670d642-dd6e-4fd7-b7a0-5bece18c00d0.ipynb /tmp/2d1f8dc6a63647b7b3969705725a1224.ipynb -p EXPERIMENT_INSTANCE_ID 2d1f8dc6a63647b7b3969705725a1224\"\n",
      "2024-08-04 13:44:17.756 | DEBUG    | mlutils.distributedcomputing.job_scheduling:run_experiments_in_puepe:219 - /opt/homebrew/bin/pueue add -g quad-split \"/Users/bgulowaty/studia/projekty/quad-splits/.venv/bin/papermill --log-output --log-level DEBUG /Users/bgulowaty/studia/projekty/quad-splits/quadsplit_entrypoint-2-9670d642-dd6e-4fd7-b7a0-5bece18c00d0.ipynb /tmp/52ea82c808414fc5a32f6d5b3fa7c935.ipynb -p EXPERIMENT_INSTANCE_ID 52ea82c808414fc5a32f6d5b3fa7c935\"\n",
      "2024-08-04 13:44:17.788 | DEBUG    | mlutils.distributedcomputing.job_scheduling:run_experiments_in_puepe:219 - /opt/homebrew/bin/pueue add -g quad-split \"/Users/bgulowaty/studia/projekty/quad-splits/.venv/bin/papermill --log-output --log-level DEBUG /Users/bgulowaty/studia/projekty/quad-splits/quadsplit_entrypoint-2-9670d642-dd6e-4fd7-b7a0-5bece18c00d0.ipynb /tmp/8cbad5fcd9c447e78d560dc85965895c.ipynb -p EXPERIMENT_INSTANCE_ID 8cbad5fcd9c447e78d560dc85965895c\"\n",
      "2024-08-04 13:44:17.837 | DEBUG    | mlutils.distributedcomputing.job_scheduling:run_experiments_in_puepe:219 - /opt/homebrew/bin/pueue add -g quad-split \"/Users/bgulowaty/studia/projekty/quad-splits/.venv/bin/papermill --log-output --log-level DEBUG /Users/bgulowaty/studia/projekty/quad-splits/quadsplit_entrypoint-2-9670d642-dd6e-4fd7-b7a0-5bece18c00d0.ipynb /tmp/567cf3ddada54a7db2de4de8d0765c4f.ipynb -p EXPERIMENT_INSTANCE_ID 567cf3ddada54a7db2de4de8d0765c4f\"\n",
      "2024-08-04 13:44:17.864 | DEBUG    | mlutils.distributedcomputing.job_scheduling:run_experiments_in_puepe:219 - /opt/homebrew/bin/pueue add -g quad-split \"/Users/bgulowaty/studia/projekty/quad-splits/.venv/bin/papermill --log-output --log-level DEBUG /Users/bgulowaty/studia/projekty/quad-splits/quadsplit_entrypoint-2-9670d642-dd6e-4fd7-b7a0-5bece18c00d0.ipynb /tmp/b307097f6910424cb0947a7de9415661.ipynb -p EXPERIMENT_INSTANCE_ID b307097f6910424cb0947a7de9415661\"\n",
      "2024-08-04 13:44:17.899 | DEBUG    | mlutils.distributedcomputing.job_scheduling:run_experiments_in_puepe:219 - /opt/homebrew/bin/pueue add -g quad-split \"/Users/bgulowaty/studia/projekty/quad-splits/.venv/bin/papermill --log-output --log-level DEBUG /Users/bgulowaty/studia/projekty/quad-splits/quadsplit_entrypoint-2-9670d642-dd6e-4fd7-b7a0-5bece18c00d0.ipynb /tmp/f803714b04f94cb6818a2b3933931c25.ipynb -p EXPERIMENT_INSTANCE_ID f803714b04f94cb6818a2b3933931c25\"\n"
     ]
    },
    {
     "name": "stdout",
     "output_type": "stream",
     "text": [
      "New task added (id 1432).\n",
      "New task added (id 1433).\n",
      "New task added (id 1434).\n",
      "New task added (id 1435).\n",
      "New task added (id 1436).\n",
      "New task added (id 1437).\n",
      "New task added (id 1438).\n"
     ]
    },
    {
     "name": "stderr",
     "output_type": "stream",
     "text": [
      "2024-08-04 13:44:17.927 | DEBUG    | mlutils.distributedcomputing.job_scheduling:run_experiments_in_puepe:219 - /opt/homebrew/bin/pueue add -g quad-split \"/Users/bgulowaty/studia/projekty/quad-splits/.venv/bin/papermill --log-output --log-level DEBUG /Users/bgulowaty/studia/projekty/quad-splits/quadsplit_entrypoint-2-9670d642-dd6e-4fd7-b7a0-5bece18c00d0.ipynb /tmp/a515d546674741f680c2faa0d0dec314.ipynb -p EXPERIMENT_INSTANCE_ID a515d546674741f680c2faa0d0dec314\"\n",
      "2024-08-04 13:44:17.993 | DEBUG    | mlutils.distributedcomputing.job_scheduling:run_experiments_in_puepe:219 - /opt/homebrew/bin/pueue add -g quad-split \"/Users/bgulowaty/studia/projekty/quad-splits/.venv/bin/papermill --log-output --log-level DEBUG /Users/bgulowaty/studia/projekty/quad-splits/quadsplit_entrypoint-2-9670d642-dd6e-4fd7-b7a0-5bece18c00d0.ipynb /tmp/42cd326bddd14f49b2eba5b19bdee7b6.ipynb -p EXPERIMENT_INSTANCE_ID 42cd326bddd14f49b2eba5b19bdee7b6\"\n",
      "2024-08-04 13:44:18.033 | DEBUG    | mlutils.distributedcomputing.job_scheduling:run_experiments_in_puepe:219 - /opt/homebrew/bin/pueue add -g quad-split \"/Users/bgulowaty/studia/projekty/quad-splits/.venv/bin/papermill --log-output --log-level DEBUG /Users/bgulowaty/studia/projekty/quad-splits/quadsplit_entrypoint-2-9670d642-dd6e-4fd7-b7a0-5bece18c00d0.ipynb /tmp/812950f462a44120a9403857f64fe29c.ipynb -p EXPERIMENT_INSTANCE_ID 812950f462a44120a9403857f64fe29c\"\n",
      "2024-08-04 13:44:18.065 | DEBUG    | mlutils.distributedcomputing.job_scheduling:run_experiments_in_puepe:219 - /opt/homebrew/bin/pueue add -g quad-split \"/Users/bgulowaty/studia/projekty/quad-splits/.venv/bin/papermill --log-output --log-level DEBUG /Users/bgulowaty/studia/projekty/quad-splits/quadsplit_entrypoint-2-9670d642-dd6e-4fd7-b7a0-5bece18c00d0.ipynb /tmp/8f31c4527a95494b9e1a310bc89f009a.ipynb -p EXPERIMENT_INSTANCE_ID 8f31c4527a95494b9e1a310bc89f009a\"\n",
      "2024-08-04 13:44:18.125 | DEBUG    | mlutils.distributedcomputing.job_scheduling:run_experiments_in_puepe:219 - /opt/homebrew/bin/pueue add -g quad-split \"/Users/bgulowaty/studia/projekty/quad-splits/.venv/bin/papermill --log-output --log-level DEBUG /Users/bgulowaty/studia/projekty/quad-splits/quadsplit_entrypoint-2-9670d642-dd6e-4fd7-b7a0-5bece18c00d0.ipynb /tmp/d6bc577ff52d4d29822305254d8a5953.ipynb -p EXPERIMENT_INSTANCE_ID d6bc577ff52d4d29822305254d8a5953\"\n"
     ]
    },
    {
     "name": "stdout",
     "output_type": "stream",
     "text": [
      "New task added (id 1439).\n",
      "New task added (id 1440).\n",
      "New task added (id 1441).\n",
      "New task added (id 1442).\n",
      "New task added (id 1443).\n"
     ]
    },
    {
     "name": "stderr",
     "output_type": "stream",
     "text": [
      "2024-08-04 13:44:18.156 | DEBUG    | mlutils.distributedcomputing.job_scheduling:run_experiments_in_puepe:219 - /opt/homebrew/bin/pueue add -g quad-split \"/Users/bgulowaty/studia/projekty/quad-splits/.venv/bin/papermill --log-output --log-level DEBUG /Users/bgulowaty/studia/projekty/quad-splits/quadsplit_entrypoint-2-9670d642-dd6e-4fd7-b7a0-5bece18c00d0.ipynb /tmp/11f5710dc36c43378cff6ef598b8df25.ipynb -p EXPERIMENT_INSTANCE_ID 11f5710dc36c43378cff6ef598b8df25\"\n",
      "2024-08-04 13:44:18.182 | DEBUG    | mlutils.distributedcomputing.job_scheduling:run_experiments_in_puepe:219 - /opt/homebrew/bin/pueue add -g quad-split \"/Users/bgulowaty/studia/projekty/quad-splits/.venv/bin/papermill --log-output --log-level DEBUG /Users/bgulowaty/studia/projekty/quad-splits/quadsplit_entrypoint-2-9670d642-dd6e-4fd7-b7a0-5bece18c00d0.ipynb /tmp/8cd79106a6ca4e3ea83139996064b7c2.ipynb -p EXPERIMENT_INSTANCE_ID 8cd79106a6ca4e3ea83139996064b7c2\"\n",
      "2024-08-04 13:44:18.214 | DEBUG    | mlutils.distributedcomputing.job_scheduling:run_experiments_in_puepe:219 - /opt/homebrew/bin/pueue add -g quad-split \"/Users/bgulowaty/studia/projekty/quad-splits/.venv/bin/papermill --log-output --log-level DEBUG /Users/bgulowaty/studia/projekty/quad-splits/quadsplit_entrypoint-2-9670d642-dd6e-4fd7-b7a0-5bece18c00d0.ipynb /tmp/57d608acb98845778fa5288f5a2e7cbc.ipynb -p EXPERIMENT_INSTANCE_ID 57d608acb98845778fa5288f5a2e7cbc\"\n",
      "2024-08-04 13:44:18.267 | DEBUG    | mlutils.distributedcomputing.job_scheduling:run_experiments_in_puepe:219 - /opt/homebrew/bin/pueue add -g quad-split \"/Users/bgulowaty/studia/projekty/quad-splits/.venv/bin/papermill --log-output --log-level DEBUG /Users/bgulowaty/studia/projekty/quad-splits/quadsplit_entrypoint-2-9670d642-dd6e-4fd7-b7a0-5bece18c00d0.ipynb /tmp/2a01b95942db410fb37a65278ce1c8bb.ipynb -p EXPERIMENT_INSTANCE_ID 2a01b95942db410fb37a65278ce1c8bb\"\n",
      "2024-08-04 13:44:18.297 | DEBUG    | mlutils.distributedcomputing.job_scheduling:run_experiments_in_puepe:219 - /opt/homebrew/bin/pueue add -g quad-split \"/Users/bgulowaty/studia/projekty/quad-splits/.venv/bin/papermill --log-output --log-level DEBUG /Users/bgulowaty/studia/projekty/quad-splits/quadsplit_entrypoint-2-9670d642-dd6e-4fd7-b7a0-5bece18c00d0.ipynb /tmp/2b5e971a2f924576a858bd57687fee6f.ipynb -p EXPERIMENT_INSTANCE_ID 2b5e971a2f924576a858bd57687fee6f\"\n"
     ]
    },
    {
     "name": "stdout",
     "output_type": "stream",
     "text": [
      "New task added (id 1444).\n",
      "New task added (id 1445).\n",
      "New task added (id 1446).\n",
      "New task added (id 1447).\n",
      "New task added (id 1448).\n"
     ]
    },
    {
     "name": "stderr",
     "output_type": "stream",
     "text": [
      "2024-08-04 13:44:18.368 | DEBUG    | mlutils.distributedcomputing.job_scheduling:run_experiments_in_puepe:219 - /opt/homebrew/bin/pueue add -g quad-split \"/Users/bgulowaty/studia/projekty/quad-splits/.venv/bin/papermill --log-output --log-level DEBUG /Users/bgulowaty/studia/projekty/quad-splits/quadsplit_entrypoint-2-9670d642-dd6e-4fd7-b7a0-5bece18c00d0.ipynb /tmp/0f3517c817c94cc98b65ffdbe937b53c.ipynb -p EXPERIMENT_INSTANCE_ID 0f3517c817c94cc98b65ffdbe937b53c\"\n",
      "2024-08-04 13:44:18.403 | DEBUG    | mlutils.distributedcomputing.job_scheduling:run_experiments_in_puepe:219 - /opt/homebrew/bin/pueue add -g quad-split \"/Users/bgulowaty/studia/projekty/quad-splits/.venv/bin/papermill --log-output --log-level DEBUG /Users/bgulowaty/studia/projekty/quad-splits/quadsplit_entrypoint-2-9670d642-dd6e-4fd7-b7a0-5bece18c00d0.ipynb /tmp/4192391d8b1c41148895236add130acf.ipynb -p EXPERIMENT_INSTANCE_ID 4192391d8b1c41148895236add130acf\"\n",
      "2024-08-04 13:44:18.428 | DEBUG    | mlutils.distributedcomputing.job_scheduling:run_experiments_in_puepe:219 - /opt/homebrew/bin/pueue add -g quad-split \"/Users/bgulowaty/studia/projekty/quad-splits/.venv/bin/papermill --log-output --log-level DEBUG /Users/bgulowaty/studia/projekty/quad-splits/quadsplit_entrypoint-2-9670d642-dd6e-4fd7-b7a0-5bece18c00d0.ipynb /tmp/d16897eb523e431087bf2d8272ac1575.ipynb -p EXPERIMENT_INSTANCE_ID d16897eb523e431087bf2d8272ac1575\"\n",
      "2024-08-04 13:44:18.479 | DEBUG    | mlutils.distributedcomputing.job_scheduling:run_experiments_in_puepe:219 - /opt/homebrew/bin/pueue add -g quad-split \"/Users/bgulowaty/studia/projekty/quad-splits/.venv/bin/papermill --log-output --log-level DEBUG /Users/bgulowaty/studia/projekty/quad-splits/quadsplit_entrypoint-2-9670d642-dd6e-4fd7-b7a0-5bece18c00d0.ipynb /tmp/490a5fa835764ea8adfee68aff4d43f2.ipynb -p EXPERIMENT_INSTANCE_ID 490a5fa835764ea8adfee68aff4d43f2\"\n",
      "2024-08-04 13:44:18.519 | DEBUG    | mlutils.distributedcomputing.job_scheduling:run_experiments_in_puepe:219 - /opt/homebrew/bin/pueue add -g quad-split \"/Users/bgulowaty/studia/projekty/quad-splits/.venv/bin/papermill --log-output --log-level DEBUG /Users/bgulowaty/studia/projekty/quad-splits/quadsplit_entrypoint-2-9670d642-dd6e-4fd7-b7a0-5bece18c00d0.ipynb /tmp/859992dfcb8842989329d96f8bcc6496.ipynb -p EXPERIMENT_INSTANCE_ID 859992dfcb8842989329d96f8bcc6496\"\n",
      "2024-08-04 13:44:18.546 | DEBUG    | mlutils.distributedcomputing.job_scheduling:run_experiments_in_puepe:219 - /opt/homebrew/bin/pueue add -g quad-split \"/Users/bgulowaty/studia/projekty/quad-splits/.venv/bin/papermill --log-output --log-level DEBUG /Users/bgulowaty/studia/projekty/quad-splits/quadsplit_entrypoint-2-9670d642-dd6e-4fd7-b7a0-5bece18c00d0.ipynb /tmp/8000b8247aec44d08162fb4b78e0496e.ipynb -p EXPERIMENT_INSTANCE_ID 8000b8247aec44d08162fb4b78e0496e\"\n"
     ]
    },
    {
     "name": "stdout",
     "output_type": "stream",
     "text": [
      "New task added (id 1449).\n",
      "New task added (id 1450).\n",
      "New task added (id 1451).\n",
      "New task added (id 1452).\n",
      "New task added (id 1453).\n",
      "New task added (id 1454).\n"
     ]
    },
    {
     "name": "stderr",
     "output_type": "stream",
     "text": [
      "2024-08-04 13:44:18.576 | DEBUG    | mlutils.distributedcomputing.job_scheduling:run_experiments_in_puepe:219 - /opt/homebrew/bin/pueue add -g quad-split \"/Users/bgulowaty/studia/projekty/quad-splits/.venv/bin/papermill --log-output --log-level DEBUG /Users/bgulowaty/studia/projekty/quad-splits/quadsplit_entrypoint-2-9670d642-dd6e-4fd7-b7a0-5bece18c00d0.ipynb /tmp/12e46f25f09d4b10a87578a110748bcb.ipynb -p EXPERIMENT_INSTANCE_ID 12e46f25f09d4b10a87578a110748bcb\"\n",
      "2024-08-04 13:44:18.616 | DEBUG    | mlutils.distributedcomputing.job_scheduling:run_experiments_in_puepe:219 - /opt/homebrew/bin/pueue add -g quad-split \"/Users/bgulowaty/studia/projekty/quad-splits/.venv/bin/papermill --log-output --log-level DEBUG /Users/bgulowaty/studia/projekty/quad-splits/quadsplit_entrypoint-2-9670d642-dd6e-4fd7-b7a0-5bece18c00d0.ipynb /tmp/d0bb21a05a004fd596a9b0efc5190038.ipynb -p EXPERIMENT_INSTANCE_ID d0bb21a05a004fd596a9b0efc5190038\"\n",
      "2024-08-04 13:44:18.660 | DEBUG    | mlutils.distributedcomputing.job_scheduling:run_experiments_in_puepe:219 - /opt/homebrew/bin/pueue add -g quad-split \"/Users/bgulowaty/studia/projekty/quad-splits/.venv/bin/papermill --log-output --log-level DEBUG /Users/bgulowaty/studia/projekty/quad-splits/quadsplit_entrypoint-2-9670d642-dd6e-4fd7-b7a0-5bece18c00d0.ipynb /tmp/3bf9002b146948eda46887ca21d2cf94.ipynb -p EXPERIMENT_INSTANCE_ID 3bf9002b146948eda46887ca21d2cf94\"\n",
      "2024-08-04 13:44:18.690 | DEBUG    | mlutils.distributedcomputing.job_scheduling:run_experiments_in_puepe:219 - /opt/homebrew/bin/pueue add -g quad-split \"/Users/bgulowaty/studia/projekty/quad-splits/.venv/bin/papermill --log-output --log-level DEBUG /Users/bgulowaty/studia/projekty/quad-splits/quadsplit_entrypoint-2-9670d642-dd6e-4fd7-b7a0-5bece18c00d0.ipynb /tmp/c0abaab8f3be496ba65257d68e6d64c6.ipynb -p EXPERIMENT_INSTANCE_ID c0abaab8f3be496ba65257d68e6d64c6\"\n",
      "2024-08-04 13:44:18.760 | DEBUG    | mlutils.distributedcomputing.job_scheduling:run_experiments_in_puepe:219 - /opt/homebrew/bin/pueue add -g quad-split \"/Users/bgulowaty/studia/projekty/quad-splits/.venv/bin/papermill --log-output --log-level DEBUG /Users/bgulowaty/studia/projekty/quad-splits/quadsplit_entrypoint-2-9670d642-dd6e-4fd7-b7a0-5bece18c00d0.ipynb /tmp/34df305d9d504d57aa350ef0a4cb40b8.ipynb -p EXPERIMENT_INSTANCE_ID 34df305d9d504d57aa350ef0a4cb40b8\"\n"
     ]
    },
    {
     "name": "stdout",
     "output_type": "stream",
     "text": [
      "New task added (id 1455).\n",
      "New task added (id 1456).\n",
      "New task added (id 1457).\n",
      "New task added (id 1458).\n",
      "New task added (id 1459).\n"
     ]
    },
    {
     "name": "stderr",
     "output_type": "stream",
     "text": [
      "2024-08-04 13:44:18.812 | DEBUG    | mlutils.distributedcomputing.job_scheduling:run_experiments_in_puepe:219 - /opt/homebrew/bin/pueue add -g quad-split \"/Users/bgulowaty/studia/projekty/quad-splits/.venv/bin/papermill --log-output --log-level DEBUG /Users/bgulowaty/studia/projekty/quad-splits/quadsplit_entrypoint-2-9670d642-dd6e-4fd7-b7a0-5bece18c00d0.ipynb /tmp/e5dca18fc4b54725bcecf539a8b58551.ipynb -p EXPERIMENT_INSTANCE_ID e5dca18fc4b54725bcecf539a8b58551\"\n",
      "2024-08-04 13:44:18.850 | DEBUG    | mlutils.distributedcomputing.job_scheduling:run_experiments_in_puepe:219 - /opt/homebrew/bin/pueue add -g quad-split \"/Users/bgulowaty/studia/projekty/quad-splits/.venv/bin/papermill --log-output --log-level DEBUG /Users/bgulowaty/studia/projekty/quad-splits/quadsplit_entrypoint-2-9670d642-dd6e-4fd7-b7a0-5bece18c00d0.ipynb /tmp/65bd6f62eb6c41408f9f9a75984d607e.ipynb -p EXPERIMENT_INSTANCE_ID 65bd6f62eb6c41408f9f9a75984d607e\"\n",
      "2024-08-04 13:44:18.884 | DEBUG    | mlutils.distributedcomputing.job_scheduling:run_experiments_in_puepe:219 - /opt/homebrew/bin/pueue add -g quad-split \"/Users/bgulowaty/studia/projekty/quad-splits/.venv/bin/papermill --log-output --log-level DEBUG /Users/bgulowaty/studia/projekty/quad-splits/quadsplit_entrypoint-2-9670d642-dd6e-4fd7-b7a0-5bece18c00d0.ipynb /tmp/e5397760ef3f40e8b45c7488c84ff214.ipynb -p EXPERIMENT_INSTANCE_ID e5397760ef3f40e8b45c7488c84ff214\"\n",
      "2024-08-04 13:44:18.950 | DEBUG    | mlutils.distributedcomputing.job_scheduling:run_experiments_in_puepe:219 - /opt/homebrew/bin/pueue add -g quad-split \"/Users/bgulowaty/studia/projekty/quad-splits/.venv/bin/papermill --log-output --log-level DEBUG /Users/bgulowaty/studia/projekty/quad-splits/quadsplit_entrypoint-2-9670d642-dd6e-4fd7-b7a0-5bece18c00d0.ipynb /tmp/1e47ea61f4a94efbafcd9d46180f36cd.ipynb -p EXPERIMENT_INSTANCE_ID 1e47ea61f4a94efbafcd9d46180f36cd\"\n",
      "2024-08-04 13:44:18.985 | DEBUG    | mlutils.distributedcomputing.job_scheduling:run_experiments_in_puepe:219 - /opt/homebrew/bin/pueue add -g quad-split \"/Users/bgulowaty/studia/projekty/quad-splits/.venv/bin/papermill --log-output --log-level DEBUG /Users/bgulowaty/studia/projekty/quad-splits/quadsplit_entrypoint-2-9670d642-dd6e-4fd7-b7a0-5bece18c00d0.ipynb /tmp/a2432eb76d984bb6b63fa01c220d9168.ipynb -p EXPERIMENT_INSTANCE_ID a2432eb76d984bb6b63fa01c220d9168\"\n"
     ]
    },
    {
     "name": "stdout",
     "output_type": "stream",
     "text": [
      "New task added (id 1460).\n",
      "New task added (id 1461).\n",
      "New task added (id 1462).\n",
      "New task added (id 1463).\n",
      "New task added (id 1464).\n"
     ]
    },
    {
     "name": "stderr",
     "output_type": "stream",
     "text": [
      "2024-08-04 13:44:19.043 | DEBUG    | mlutils.distributedcomputing.job_scheduling:run_experiments_in_puepe:219 - /opt/homebrew/bin/pueue add -g quad-split \"/Users/bgulowaty/studia/projekty/quad-splits/.venv/bin/papermill --log-output --log-level DEBUG /Users/bgulowaty/studia/projekty/quad-splits/quadsplit_entrypoint-2-9670d642-dd6e-4fd7-b7a0-5bece18c00d0.ipynb /tmp/fd44f20f96f8459780fceade497be7c7.ipynb -p EXPERIMENT_INSTANCE_ID fd44f20f96f8459780fceade497be7c7\"\n",
      "2024-08-04 13:44:19.079 | DEBUG    | mlutils.distributedcomputing.job_scheduling:run_experiments_in_puepe:219 - /opt/homebrew/bin/pueue add -g quad-split \"/Users/bgulowaty/studia/projekty/quad-splits/.venv/bin/papermill --log-output --log-level DEBUG /Users/bgulowaty/studia/projekty/quad-splits/quadsplit_entrypoint-2-9670d642-dd6e-4fd7-b7a0-5bece18c00d0.ipynb /tmp/d6166784235144cc9d37d95939dc425c.ipynb -p EXPERIMENT_INSTANCE_ID d6166784235144cc9d37d95939dc425c\"\n",
      "2024-08-04 13:44:19.113 | DEBUG    | mlutils.distributedcomputing.job_scheduling:run_experiments_in_puepe:219 - /opt/homebrew/bin/pueue add -g quad-split \"/Users/bgulowaty/studia/projekty/quad-splits/.venv/bin/papermill --log-output --log-level DEBUG /Users/bgulowaty/studia/projekty/quad-splits/quadsplit_entrypoint-2-9670d642-dd6e-4fd7-b7a0-5bece18c00d0.ipynb /tmp/50150d067a81416a8a2f32fdd7738ae9.ipynb -p EXPERIMENT_INSTANCE_ID 50150d067a81416a8a2f32fdd7738ae9\"\n",
      "2024-08-04 13:44:19.201 | DEBUG    | mlutils.distributedcomputing.job_scheduling:run_experiments_in_puepe:219 - /opt/homebrew/bin/pueue add -g quad-split \"/Users/bgulowaty/studia/projekty/quad-splits/.venv/bin/papermill --log-output --log-level DEBUG /Users/bgulowaty/studia/projekty/quad-splits/quadsplit_entrypoint-2-9670d642-dd6e-4fd7-b7a0-5bece18c00d0.ipynb /tmp/f3211860861c46f8aa12a7d3b623bfdf.ipynb -p EXPERIMENT_INSTANCE_ID f3211860861c46f8aa12a7d3b623bfdf\"\n",
      "2024-08-04 13:44:19.235 | DEBUG    | mlutils.distributedcomputing.job_scheduling:run_experiments_in_puepe:219 - /opt/homebrew/bin/pueue add -g quad-split \"/Users/bgulowaty/studia/projekty/quad-splits/.venv/bin/papermill --log-output --log-level DEBUG /Users/bgulowaty/studia/projekty/quad-splits/quadsplit_entrypoint-2-9670d642-dd6e-4fd7-b7a0-5bece18c00d0.ipynb /tmp/17810e754ecc405bb96a05e49944c334.ipynb -p EXPERIMENT_INSTANCE_ID 17810e754ecc405bb96a05e49944c334\"\n"
     ]
    },
    {
     "name": "stdout",
     "output_type": "stream",
     "text": [
      "New task added (id 1465).\n",
      "New task added (id 1466).\n",
      "New task added (id 1467).\n",
      "New task added (id 1468).\n",
      "New task added (id 1469).\n"
     ]
    },
    {
     "name": "stderr",
     "output_type": "stream",
     "text": [
      "2024-08-04 13:44:19.265 | DEBUG    | mlutils.distributedcomputing.job_scheduling:run_experiments_in_puepe:219 - /opt/homebrew/bin/pueue add -g quad-split \"/Users/bgulowaty/studia/projekty/quad-splits/.venv/bin/papermill --log-output --log-level DEBUG /Users/bgulowaty/studia/projekty/quad-splits/quadsplit_entrypoint-2-9670d642-dd6e-4fd7-b7a0-5bece18c00d0.ipynb /tmp/84ffa411934248b28c680ae4421a9602.ipynb -p EXPERIMENT_INSTANCE_ID 84ffa411934248b28c680ae4421a9602\"\n",
      "2024-08-04 13:44:19.297 | DEBUG    | mlutils.distributedcomputing.job_scheduling:run_experiments_in_puepe:219 - /opt/homebrew/bin/pueue add -g quad-split \"/Users/bgulowaty/studia/projekty/quad-splits/.venv/bin/papermill --log-output --log-level DEBUG /Users/bgulowaty/studia/projekty/quad-splits/quadsplit_entrypoint-2-9670d642-dd6e-4fd7-b7a0-5bece18c00d0.ipynb /tmp/7d2b073f5ae9446fbae67b26c8ffb024.ipynb -p EXPERIMENT_INSTANCE_ID 7d2b073f5ae9446fbae67b26c8ffb024\"\n",
      "2024-08-04 13:44:19.340 | DEBUG    | mlutils.distributedcomputing.job_scheduling:run_experiments_in_puepe:219 - /opt/homebrew/bin/pueue add -g quad-split \"/Users/bgulowaty/studia/projekty/quad-splits/.venv/bin/papermill --log-output --log-level DEBUG /Users/bgulowaty/studia/projekty/quad-splits/quadsplit_entrypoint-2-9670d642-dd6e-4fd7-b7a0-5bece18c00d0.ipynb /tmp/cd206b2ed30e4480aff13f829608e7ef.ipynb -p EXPERIMENT_INSTANCE_ID cd206b2ed30e4480aff13f829608e7ef\"\n",
      "2024-08-04 13:44:19.370 | DEBUG    | mlutils.distributedcomputing.job_scheduling:run_experiments_in_puepe:219 - /opt/homebrew/bin/pueue add -g quad-split \"/Users/bgulowaty/studia/projekty/quad-splits/.venv/bin/papermill --log-output --log-level DEBUG /Users/bgulowaty/studia/projekty/quad-splits/quadsplit_entrypoint-2-9670d642-dd6e-4fd7-b7a0-5bece18c00d0.ipynb /tmp/bc46ee23495b4f7299ff74cb863c1bbf.ipynb -p EXPERIMENT_INSTANCE_ID bc46ee23495b4f7299ff74cb863c1bbf\"\n",
      "2024-08-04 13:44:19.428 | DEBUG    | mlutils.distributedcomputing.job_scheduling:run_experiments_in_puepe:219 - /opt/homebrew/bin/pueue add -g quad-split \"/Users/bgulowaty/studia/projekty/quad-splits/.venv/bin/papermill --log-output --log-level DEBUG /Users/bgulowaty/studia/projekty/quad-splits/quadsplit_entrypoint-2-9670d642-dd6e-4fd7-b7a0-5bece18c00d0.ipynb /tmp/ec86a1018ea74eb2ad714b7e322faf9a.ipynb -p EXPERIMENT_INSTANCE_ID ec86a1018ea74eb2ad714b7e322faf9a\"\n"
     ]
    },
    {
     "name": "stdout",
     "output_type": "stream",
     "text": [
      "New task added (id 1470).\n",
      "New task added (id 1471).\n",
      "New task added (id 1472).\n",
      "New task added (id 1473).\n",
      "New task added (id 1474).\n"
     ]
    },
    {
     "name": "stderr",
     "output_type": "stream",
     "text": [
      "2024-08-04 13:44:19.467 | DEBUG    | mlutils.distributedcomputing.job_scheduling:run_experiments_in_puepe:219 - /opt/homebrew/bin/pueue add -g quad-split \"/Users/bgulowaty/studia/projekty/quad-splits/.venv/bin/papermill --log-output --log-level DEBUG /Users/bgulowaty/studia/projekty/quad-splits/quadsplit_entrypoint-2-9670d642-dd6e-4fd7-b7a0-5bece18c00d0.ipynb /tmp/1e149aabd0d74392853f9f7b50239793.ipynb -p EXPERIMENT_INSTANCE_ID 1e149aabd0d74392853f9f7b50239793\"\n",
      "2024-08-04 13:44:19.499 | DEBUG    | mlutils.distributedcomputing.job_scheduling:run_experiments_in_puepe:219 - /opt/homebrew/bin/pueue add -g quad-split \"/Users/bgulowaty/studia/projekty/quad-splits/.venv/bin/papermill --log-output --log-level DEBUG /Users/bgulowaty/studia/projekty/quad-splits/quadsplit_entrypoint-2-9670d642-dd6e-4fd7-b7a0-5bece18c00d0.ipynb /tmp/322d098e5b8349afa7b1d616024763ed.ipynb -p EXPERIMENT_INSTANCE_ID 322d098e5b8349afa7b1d616024763ed\"\n",
      "2024-08-04 13:44:19.581 | DEBUG    | mlutils.distributedcomputing.job_scheduling:run_experiments_in_puepe:219 - /opt/homebrew/bin/pueue add -g quad-split \"/Users/bgulowaty/studia/projekty/quad-splits/.venv/bin/papermill --log-output --log-level DEBUG /Users/bgulowaty/studia/projekty/quad-splits/quadsplit_entrypoint-2-9670d642-dd6e-4fd7-b7a0-5bece18c00d0.ipynb /tmp/a8ab6f7205574359842c8017cc6deea4.ipynb -p EXPERIMENT_INSTANCE_ID a8ab6f7205574359842c8017cc6deea4\"\n",
      "2024-08-04 13:44:19.631 | DEBUG    | mlutils.distributedcomputing.job_scheduling:run_experiments_in_puepe:219 - /opt/homebrew/bin/pueue add -g quad-split \"/Users/bgulowaty/studia/projekty/quad-splits/.venv/bin/papermill --log-output --log-level DEBUG /Users/bgulowaty/studia/projekty/quad-splits/quadsplit_entrypoint-2-9670d642-dd6e-4fd7-b7a0-5bece18c00d0.ipynb /tmp/59e5674c81ef4760907628055cfeeab2.ipynb -p EXPERIMENT_INSTANCE_ID 59e5674c81ef4760907628055cfeeab2\"\n"
     ]
    },
    {
     "name": "stdout",
     "output_type": "stream",
     "text": [
      "New task added (id 1475).\n",
      "New task added (id 1476).\n",
      "New task added (id 1477).\n",
      "New task added (id 1478).\n"
     ]
    },
    {
     "name": "stderr",
     "output_type": "stream",
     "text": [
      "2024-08-04 13:44:19.722 | DEBUG    | mlutils.distributedcomputing.job_scheduling:run_experiments_in_puepe:219 - /opt/homebrew/bin/pueue add -g quad-split \"/Users/bgulowaty/studia/projekty/quad-splits/.venv/bin/papermill --log-output --log-level DEBUG /Users/bgulowaty/studia/projekty/quad-splits/quadsplit_entrypoint-2-9670d642-dd6e-4fd7-b7a0-5bece18c00d0.ipynb /tmp/7428bc77da9044ee8b33b151ba310578.ipynb -p EXPERIMENT_INSTANCE_ID 7428bc77da9044ee8b33b151ba310578\"\n",
      "2024-08-04 13:44:19.752 | DEBUG    | mlutils.distributedcomputing.job_scheduling:run_experiments_in_puepe:219 - /opt/homebrew/bin/pueue add -g quad-split \"/Users/bgulowaty/studia/projekty/quad-splits/.venv/bin/papermill --log-output --log-level DEBUG /Users/bgulowaty/studia/projekty/quad-splits/quadsplit_entrypoint-2-9670d642-dd6e-4fd7-b7a0-5bece18c00d0.ipynb /tmp/2178bd19fa7247398e319db50e6f8fe0.ipynb -p EXPERIMENT_INSTANCE_ID 2178bd19fa7247398e319db50e6f8fe0\"\n",
      "2024-08-04 13:44:19.791 | DEBUG    | mlutils.distributedcomputing.job_scheduling:run_experiments_in_puepe:219 - /opt/homebrew/bin/pueue add -g quad-split \"/Users/bgulowaty/studia/projekty/quad-splits/.venv/bin/papermill --log-output --log-level DEBUG /Users/bgulowaty/studia/projekty/quad-splits/quadsplit_entrypoint-2-9670d642-dd6e-4fd7-b7a0-5bece18c00d0.ipynb /tmp/83ee52e4bda14b21b60402437da73d28.ipynb -p EXPERIMENT_INSTANCE_ID 83ee52e4bda14b21b60402437da73d28\"\n",
      "2024-08-04 13:44:19.901 | DEBUG    | mlutils.distributedcomputing.job_scheduling:run_experiments_in_puepe:219 - /opt/homebrew/bin/pueue add -g quad-split \"/Users/bgulowaty/studia/projekty/quad-splits/.venv/bin/papermill --log-output --log-level DEBUG /Users/bgulowaty/studia/projekty/quad-splits/quadsplit_entrypoint-2-9670d642-dd6e-4fd7-b7a0-5bece18c00d0.ipynb /tmp/6a59d2034a9448b2abea9d161d9ecda6.ipynb -p EXPERIMENT_INSTANCE_ID 6a59d2034a9448b2abea9d161d9ecda6\"\n"
     ]
    },
    {
     "name": "stdout",
     "output_type": "stream",
     "text": [
      "New task added (id 1479).\n",
      "New task added (id 1480).\n",
      "New task added (id 1481).\n",
      "New task added (id 1482).\n"
     ]
    },
    {
     "name": "stderr",
     "output_type": "stream",
     "text": [
      "2024-08-04 13:44:19.932 | DEBUG    | mlutils.distributedcomputing.job_scheduling:run_experiments_in_puepe:219 - /opt/homebrew/bin/pueue add -g quad-split \"/Users/bgulowaty/studia/projekty/quad-splits/.venv/bin/papermill --log-output --log-level DEBUG /Users/bgulowaty/studia/projekty/quad-splits/quadsplit_entrypoint-2-9670d642-dd6e-4fd7-b7a0-5bece18c00d0.ipynb /tmp/b5b87b77c5ca4f91be75003b2e73658b.ipynb -p EXPERIMENT_INSTANCE_ID b5b87b77c5ca4f91be75003b2e73658b\"\n",
      "2024-08-04 13:44:19.962 | DEBUG    | mlutils.distributedcomputing.job_scheduling:run_experiments_in_puepe:219 - /opt/homebrew/bin/pueue add -g quad-split \"/Users/bgulowaty/studia/projekty/quad-splits/.venv/bin/papermill --log-output --log-level DEBUG /Users/bgulowaty/studia/projekty/quad-splits/quadsplit_entrypoint-2-9670d642-dd6e-4fd7-b7a0-5bece18c00d0.ipynb /tmp/b819014ed8174ce19a7aa1f88b62b667.ipynb -p EXPERIMENT_INSTANCE_ID b819014ed8174ce19a7aa1f88b62b667\"\n",
      "2024-08-04 13:44:19.992 | DEBUG    | mlutils.distributedcomputing.job_scheduling:run_experiments_in_puepe:219 - /opt/homebrew/bin/pueue add -g quad-split \"/Users/bgulowaty/studia/projekty/quad-splits/.venv/bin/papermill --log-output --log-level DEBUG /Users/bgulowaty/studia/projekty/quad-splits/quadsplit_entrypoint-2-9670d642-dd6e-4fd7-b7a0-5bece18c00d0.ipynb /tmp/ba6b9177ca8f438caa778b0fd5398a07.ipynb -p EXPERIMENT_INSTANCE_ID ba6b9177ca8f438caa778b0fd5398a07\"\n",
      "2024-08-04 13:44:20.028 | DEBUG    | mlutils.distributedcomputing.job_scheduling:run_experiments_in_puepe:219 - /opt/homebrew/bin/pueue add -g quad-split \"/Users/bgulowaty/studia/projekty/quad-splits/.venv/bin/papermill --log-output --log-level DEBUG /Users/bgulowaty/studia/projekty/quad-splits/quadsplit_entrypoint-2-9670d642-dd6e-4fd7-b7a0-5bece18c00d0.ipynb /tmp/3249d80b37714319ae2e9ae825b1cca8.ipynb -p EXPERIMENT_INSTANCE_ID 3249d80b37714319ae2e9ae825b1cca8\"\n",
      "2024-08-04 13:44:20.097 | DEBUG    | mlutils.distributedcomputing.job_scheduling:run_experiments_in_puepe:219 - /opt/homebrew/bin/pueue add -g quad-split \"/Users/bgulowaty/studia/projekty/quad-splits/.venv/bin/papermill --log-output --log-level DEBUG /Users/bgulowaty/studia/projekty/quad-splits/quadsplit_entrypoint-2-9670d642-dd6e-4fd7-b7a0-5bece18c00d0.ipynb /tmp/d947727f80dd42d9b33e43d0897dc867.ipynb -p EXPERIMENT_INSTANCE_ID d947727f80dd42d9b33e43d0897dc867\"\n"
     ]
    },
    {
     "name": "stdout",
     "output_type": "stream",
     "text": [
      "New task added (id 1483).\n",
      "New task added (id 1484).\n",
      "New task added (id 1485).\n",
      "New task added (id 1486).\n",
      "New task added (id 1487).\n",
      "New task added (id 1488).\n"
     ]
    },
    {
     "name": "stderr",
     "output_type": "stream",
     "text": [
      "2024-08-04 13:44:20.134 | DEBUG    | mlutils.distributedcomputing.job_scheduling:run_experiments_in_puepe:219 - /opt/homebrew/bin/pueue add -g quad-split \"/Users/bgulowaty/studia/projekty/quad-splits/.venv/bin/papermill --log-output --log-level DEBUG /Users/bgulowaty/studia/projekty/quad-splits/quadsplit_entrypoint-2-9670d642-dd6e-4fd7-b7a0-5bece18c00d0.ipynb /tmp/cd6170a04eef48a4a29e562e04239ed9.ipynb -p EXPERIMENT_INSTANCE_ID cd6170a04eef48a4a29e562e04239ed9\"\n",
      "2024-08-04 13:44:20.177 | DEBUG    | mlutils.distributedcomputing.job_scheduling:run_experiments_in_puepe:219 - /opt/homebrew/bin/pueue add -g quad-split \"/Users/bgulowaty/studia/projekty/quad-splits/.venv/bin/papermill --log-output --log-level DEBUG /Users/bgulowaty/studia/projekty/quad-splits/quadsplit_entrypoint-2-9670d642-dd6e-4fd7-b7a0-5bece18c00d0.ipynb /tmp/ae02916bda8240c18cac9208a2c95139.ipynb -p EXPERIMENT_INSTANCE_ID ae02916bda8240c18cac9208a2c95139\"\n",
      "2024-08-04 13:44:20.210 | DEBUG    | mlutils.distributedcomputing.job_scheduling:run_experiments_in_puepe:219 - /opt/homebrew/bin/pueue add -g quad-split \"/Users/bgulowaty/studia/projekty/quad-splits/.venv/bin/papermill --log-output --log-level DEBUG /Users/bgulowaty/studia/projekty/quad-splits/quadsplit_entrypoint-2-9670d642-dd6e-4fd7-b7a0-5bece18c00d0.ipynb /tmp/696e75b6f2bd443dae53f091a61df3ec.ipynb -p EXPERIMENT_INSTANCE_ID 696e75b6f2bd443dae53f091a61df3ec\"\n",
      "2024-08-04 13:44:20.240 | DEBUG    | mlutils.distributedcomputing.job_scheduling:run_experiments_in_puepe:219 - /opt/homebrew/bin/pueue add -g quad-split \"/Users/bgulowaty/studia/projekty/quad-splits/.venv/bin/papermill --log-output --log-level DEBUG /Users/bgulowaty/studia/projekty/quad-splits/quadsplit_entrypoint-2-9670d642-dd6e-4fd7-b7a0-5bece18c00d0.ipynb /tmp/29acd562354849188898c292e715c200.ipynb -p EXPERIMENT_INSTANCE_ID 29acd562354849188898c292e715c200\"\n",
      "2024-08-04 13:44:20.294 | DEBUG    | mlutils.distributedcomputing.job_scheduling:run_experiments_in_puepe:219 - /opt/homebrew/bin/pueue add -g quad-split \"/Users/bgulowaty/studia/projekty/quad-splits/.venv/bin/papermill --log-output --log-level DEBUG /Users/bgulowaty/studia/projekty/quad-splits/quadsplit_entrypoint-2-9670d642-dd6e-4fd7-b7a0-5bece18c00d0.ipynb /tmp/8e3cf6ac4ae745afb6d759c811009e7a.ipynb -p EXPERIMENT_INSTANCE_ID 8e3cf6ac4ae745afb6d759c811009e7a\"\n",
      "2024-08-04 13:44:20.350 | DEBUG    | mlutils.distributedcomputing.job_scheduling:run_experiments_in_puepe:219 - /opt/homebrew/bin/pueue add -g quad-split \"/Users/bgulowaty/studia/projekty/quad-splits/.venv/bin/papermill --log-output --log-level DEBUG /Users/bgulowaty/studia/projekty/quad-splits/quadsplit_entrypoint-2-9670d642-dd6e-4fd7-b7a0-5bece18c00d0.ipynb /tmp/54e8c214099647b5a4fb72d7e29d7384.ipynb -p EXPERIMENT_INSTANCE_ID 54e8c214099647b5a4fb72d7e29d7384\"\n",
      "2024-08-04 13:44:20.378 | DEBUG    | mlutils.distributedcomputing.job_scheduling:run_experiments_in_puepe:219 - /opt/homebrew/bin/pueue add -g quad-split \"/Users/bgulowaty/studia/projekty/quad-splits/.venv/bin/papermill --log-output --log-level DEBUG /Users/bgulowaty/studia/projekty/quad-splits/quadsplit_entrypoint-2-9670d642-dd6e-4fd7-b7a0-5bece18c00d0.ipynb /tmp/75b399975eb0487c8f7248cba1f10278.ipynb -p EXPERIMENT_INSTANCE_ID 75b399975eb0487c8f7248cba1f10278\"\n"
     ]
    },
    {
     "name": "stdout",
     "output_type": "stream",
     "text": [
      "New task added (id 1489).\n",
      "New task added (id 1490).\n",
      "New task added (id 1491).\n",
      "New task added (id 1492).\n",
      "New task added (id 1493).\n",
      "New task added (id 1494).\n"
     ]
    },
    {
     "name": "stderr",
     "output_type": "stream",
     "text": [
      "2024-08-04 13:44:20.427 | DEBUG    | mlutils.distributedcomputing.job_scheduling:run_experiments_in_puepe:219 - /opt/homebrew/bin/pueue add -g quad-split \"/Users/bgulowaty/studia/projekty/quad-splits/.venv/bin/papermill --log-output --log-level DEBUG /Users/bgulowaty/studia/projekty/quad-splits/quadsplit_entrypoint-2-9670d642-dd6e-4fd7-b7a0-5bece18c00d0.ipynb /tmp/f5bcf31f3de940cba9b540288938c851.ipynb -p EXPERIMENT_INSTANCE_ID f5bcf31f3de940cba9b540288938c851\"\n",
      "2024-08-04 13:44:20.489 | DEBUG    | mlutils.distributedcomputing.job_scheduling:run_experiments_in_puepe:219 - /opt/homebrew/bin/pueue add -g quad-split \"/Users/bgulowaty/studia/projekty/quad-splits/.venv/bin/papermill --log-output --log-level DEBUG /Users/bgulowaty/studia/projekty/quad-splits/quadsplit_entrypoint-2-9670d642-dd6e-4fd7-b7a0-5bece18c00d0.ipynb /tmp/467b21f6e98c41948bb43edfcaeea84e.ipynb -p EXPERIMENT_INSTANCE_ID 467b21f6e98c41948bb43edfcaeea84e\"\n",
      "2024-08-04 13:44:20.531 | DEBUG    | mlutils.distributedcomputing.job_scheduling:run_experiments_in_puepe:219 - /opt/homebrew/bin/pueue add -g quad-split \"/Users/bgulowaty/studia/projekty/quad-splits/.venv/bin/papermill --log-output --log-level DEBUG /Users/bgulowaty/studia/projekty/quad-splits/quadsplit_entrypoint-2-9670d642-dd6e-4fd7-b7a0-5bece18c00d0.ipynb /tmp/44220768fa6c4a8989a8e63051f0729e.ipynb -p EXPERIMENT_INSTANCE_ID 44220768fa6c4a8989a8e63051f0729e\"\n",
      "2024-08-04 13:44:20.571 | DEBUG    | mlutils.distributedcomputing.job_scheduling:run_experiments_in_puepe:219 - /opt/homebrew/bin/pueue add -g quad-split \"/Users/bgulowaty/studia/projekty/quad-splits/.venv/bin/papermill --log-output --log-level DEBUG /Users/bgulowaty/studia/projekty/quad-splits/quadsplit_entrypoint-2-9670d642-dd6e-4fd7-b7a0-5bece18c00d0.ipynb /tmp/039cfb19aef140deb5226b910be9ec36.ipynb -p EXPERIMENT_INSTANCE_ID 039cfb19aef140deb5226b910be9ec36\"\n"
     ]
    },
    {
     "name": "stdout",
     "output_type": "stream",
     "text": [
      "New task added (id 1495).\n",
      "New task added (id 1496).\n",
      "New task added (id 1497).\n",
      "New task added (id 1498).\n"
     ]
    },
    {
     "name": "stderr",
     "output_type": "stream",
     "text": [
      "2024-08-04 13:44:20.652 | DEBUG    | mlutils.distributedcomputing.job_scheduling:run_experiments_in_puepe:219 - /opt/homebrew/bin/pueue add -g quad-split \"/Users/bgulowaty/studia/projekty/quad-splits/.venv/bin/papermill --log-output --log-level DEBUG /Users/bgulowaty/studia/projekty/quad-splits/quadsplit_entrypoint-2-9670d642-dd6e-4fd7-b7a0-5bece18c00d0.ipynb /tmp/def453de8b4f44acbcddce0fdcd7e31d.ipynb -p EXPERIMENT_INSTANCE_ID def453de8b4f44acbcddce0fdcd7e31d\"\n",
      "2024-08-04 13:44:20.685 | DEBUG    | mlutils.distributedcomputing.job_scheduling:run_experiments_in_puepe:219 - /opt/homebrew/bin/pueue add -g quad-split \"/Users/bgulowaty/studia/projekty/quad-splits/.venv/bin/papermill --log-output --log-level DEBUG /Users/bgulowaty/studia/projekty/quad-splits/quadsplit_entrypoint-2-9670d642-dd6e-4fd7-b7a0-5bece18c00d0.ipynb /tmp/d7fb5cdc494446dc9f44670e8849010d.ipynb -p EXPERIMENT_INSTANCE_ID d7fb5cdc494446dc9f44670e8849010d\"\n",
      "2024-08-04 13:44:20.716 | DEBUG    | mlutils.distributedcomputing.job_scheduling:run_experiments_in_puepe:219 - /opt/homebrew/bin/pueue add -g quad-split \"/Users/bgulowaty/studia/projekty/quad-splits/.venv/bin/papermill --log-output --log-level DEBUG /Users/bgulowaty/studia/projekty/quad-splits/quadsplit_entrypoint-2-9670d642-dd6e-4fd7-b7a0-5bece18c00d0.ipynb /tmp/bac24d4a052944f89d8514f817814714.ipynb -p EXPERIMENT_INSTANCE_ID bac24d4a052944f89d8514f817814714\"\n",
      "2024-08-04 13:44:20.777 | DEBUG    | mlutils.distributedcomputing.job_scheduling:run_experiments_in_puepe:219 - /opt/homebrew/bin/pueue add -g quad-split \"/Users/bgulowaty/studia/projekty/quad-splits/.venv/bin/papermill --log-output --log-level DEBUG /Users/bgulowaty/studia/projekty/quad-splits/quadsplit_entrypoint-2-9670d642-dd6e-4fd7-b7a0-5bece18c00d0.ipynb /tmp/e8e649b8d5cb49e090b9fbe6f9b6cf54.ipynb -p EXPERIMENT_INSTANCE_ID e8e649b8d5cb49e090b9fbe6f9b6cf54\"\n",
      "2024-08-04 13:44:20.816 | DEBUG    | mlutils.distributedcomputing.job_scheduling:run_experiments_in_puepe:219 - /opt/homebrew/bin/pueue add -g quad-split \"/Users/bgulowaty/studia/projekty/quad-splits/.venv/bin/papermill --log-output --log-level DEBUG /Users/bgulowaty/studia/projekty/quad-splits/quadsplit_entrypoint-2-9670d642-dd6e-4fd7-b7a0-5bece18c00d0.ipynb /tmp/b2bae1c1c0f14c61830c785edb2eaa38.ipynb -p EXPERIMENT_INSTANCE_ID b2bae1c1c0f14c61830c785edb2eaa38\"\n",
      "2024-08-04 13:44:20.845 | DEBUG    | mlutils.distributedcomputing.job_scheduling:run_experiments_in_puepe:219 - /opt/homebrew/bin/pueue add -g quad-split \"/Users/bgulowaty/studia/projekty/quad-splits/.venv/bin/papermill --log-output --log-level DEBUG /Users/bgulowaty/studia/projekty/quad-splits/quadsplit_entrypoint-2-9670d642-dd6e-4fd7-b7a0-5bece18c00d0.ipynb /tmp/adb2cc7dd85a483392fcbe7eb67fff6a.ipynb -p EXPERIMENT_INSTANCE_ID adb2cc7dd85a483392fcbe7eb67fff6a\"\n"
     ]
    },
    {
     "name": "stdout",
     "output_type": "stream",
     "text": [
      "New task added (id 1499).\n",
      "New task added (id 1500).\n",
      "New task added (id 1501).\n",
      "New task added (id 1502).\n",
      "New task added (id 1503).\n",
      "New task added (id 1504).\n"
     ]
    },
    {
     "name": "stderr",
     "output_type": "stream",
     "text": [
      "2024-08-04 13:44:20.881 | DEBUG    | mlutils.distributedcomputing.job_scheduling:run_experiments_in_puepe:219 - /opt/homebrew/bin/pueue add -g quad-split \"/Users/bgulowaty/studia/projekty/quad-splits/.venv/bin/papermill --log-output --log-level DEBUG /Users/bgulowaty/studia/projekty/quad-splits/quadsplit_entrypoint-2-9670d642-dd6e-4fd7-b7a0-5bece18c00d0.ipynb /tmp/35f202987a0e4345adaad39ec18557a2.ipynb -p EXPERIMENT_INSTANCE_ID 35f202987a0e4345adaad39ec18557a2\"\n",
      "2024-08-04 13:44:20.921 | DEBUG    | mlutils.distributedcomputing.job_scheduling:run_experiments_in_puepe:219 - /opt/homebrew/bin/pueue add -g quad-split \"/Users/bgulowaty/studia/projekty/quad-splits/.venv/bin/papermill --log-output --log-level DEBUG /Users/bgulowaty/studia/projekty/quad-splits/quadsplit_entrypoint-2-9670d642-dd6e-4fd7-b7a0-5bece18c00d0.ipynb /tmp/ea6c6f77df1f4132aa5a9c7128c07df4.ipynb -p EXPERIMENT_INSTANCE_ID ea6c6f77df1f4132aa5a9c7128c07df4\"\n",
      "2024-08-04 13:44:20.956 | DEBUG    | mlutils.distributedcomputing.job_scheduling:run_experiments_in_puepe:219 - /opt/homebrew/bin/pueue add -g quad-split \"/Users/bgulowaty/studia/projekty/quad-splits/.venv/bin/papermill --log-output --log-level DEBUG /Users/bgulowaty/studia/projekty/quad-splits/quadsplit_entrypoint-2-9670d642-dd6e-4fd7-b7a0-5bece18c00d0.ipynb /tmp/eab0187e8fed42f18780c4690d7a5243.ipynb -p EXPERIMENT_INSTANCE_ID eab0187e8fed42f18780c4690d7a5243\"\n",
      "2024-08-04 13:44:20.983 | DEBUG    | mlutils.distributedcomputing.job_scheduling:run_experiments_in_puepe:219 - /opt/homebrew/bin/pueue add -g quad-split \"/Users/bgulowaty/studia/projekty/quad-splits/.venv/bin/papermill --log-output --log-level DEBUG /Users/bgulowaty/studia/projekty/quad-splits/quadsplit_entrypoint-2-9670d642-dd6e-4fd7-b7a0-5bece18c00d0.ipynb /tmp/5756bda669c74c538fb9b6023b4cc029.ipynb -p EXPERIMENT_INSTANCE_ID 5756bda669c74c538fb9b6023b4cc029\"\n",
      "2024-08-04 13:44:21.012 | DEBUG    | mlutils.distributedcomputing.job_scheduling:run_experiments_in_puepe:219 - /opt/homebrew/bin/pueue add -g quad-split \"/Users/bgulowaty/studia/projekty/quad-splits/.venv/bin/papermill --log-output --log-level DEBUG /Users/bgulowaty/studia/projekty/quad-splits/quadsplit_entrypoint-2-9670d642-dd6e-4fd7-b7a0-5bece18c00d0.ipynb /tmp/650a57c2126845589477e87f47ebf371.ipynb -p EXPERIMENT_INSTANCE_ID 650a57c2126845589477e87f47ebf371\"\n",
      "2024-08-04 13:44:21.075 | DEBUG    | mlutils.distributedcomputing.job_scheduling:run_experiments_in_puepe:219 - /opt/homebrew/bin/pueue add -g quad-split \"/Users/bgulowaty/studia/projekty/quad-splits/.venv/bin/papermill --log-output --log-level DEBUG /Users/bgulowaty/studia/projekty/quad-splits/quadsplit_entrypoint-2-9670d642-dd6e-4fd7-b7a0-5bece18c00d0.ipynb /tmp/0431c70f949f471888e559f7d7581c6d.ipynb -p EXPERIMENT_INSTANCE_ID 0431c70f949f471888e559f7d7581c6d\"\n"
     ]
    },
    {
     "name": "stdout",
     "output_type": "stream",
     "text": [
      "New task added (id 1505).\n",
      "New task added (id 1506).\n",
      "New task added (id 1507).\n",
      "New task added (id 1508).\n",
      "New task added (id 1509).\n",
      "New task added (id 1510).\n"
     ]
    },
    {
     "name": "stderr",
     "output_type": "stream",
     "text": [
      "2024-08-04 13:44:21.107 | DEBUG    | mlutils.distributedcomputing.job_scheduling:run_experiments_in_puepe:219 - /opt/homebrew/bin/pueue add -g quad-split \"/Users/bgulowaty/studia/projekty/quad-splits/.venv/bin/papermill --log-output --log-level DEBUG /Users/bgulowaty/studia/projekty/quad-splits/quadsplit_entrypoint-2-9670d642-dd6e-4fd7-b7a0-5bece18c00d0.ipynb /tmp/c855ade3e13f460e89dbf715b8fd2395.ipynb -p EXPERIMENT_INSTANCE_ID c855ade3e13f460e89dbf715b8fd2395\"\n",
      "2024-08-04 13:44:21.142 | DEBUG    | mlutils.distributedcomputing.job_scheduling:run_experiments_in_puepe:219 - /opt/homebrew/bin/pueue add -g quad-split \"/Users/bgulowaty/studia/projekty/quad-splits/.venv/bin/papermill --log-output --log-level DEBUG /Users/bgulowaty/studia/projekty/quad-splits/quadsplit_entrypoint-2-9670d642-dd6e-4fd7-b7a0-5bece18c00d0.ipynb /tmp/d4f16346dd174c01ab548eb30410a293.ipynb -p EXPERIMENT_INSTANCE_ID d4f16346dd174c01ab548eb30410a293\"\n",
      "2024-08-04 13:44:21.207 | DEBUG    | mlutils.distributedcomputing.job_scheduling:run_experiments_in_puepe:219 - /opt/homebrew/bin/pueue add -g quad-split \"/Users/bgulowaty/studia/projekty/quad-splits/.venv/bin/papermill --log-output --log-level DEBUG /Users/bgulowaty/studia/projekty/quad-splits/quadsplit_entrypoint-2-9670d642-dd6e-4fd7-b7a0-5bece18c00d0.ipynb /tmp/465fd748b3ef4647aac08be98b506710.ipynb -p EXPERIMENT_INSTANCE_ID 465fd748b3ef4647aac08be98b506710\"\n",
      "2024-08-04 13:44:21.247 | DEBUG    | mlutils.distributedcomputing.job_scheduling:run_experiments_in_puepe:219 - /opt/homebrew/bin/pueue add -g quad-split \"/Users/bgulowaty/studia/projekty/quad-splits/.venv/bin/papermill --log-output --log-level DEBUG /Users/bgulowaty/studia/projekty/quad-splits/quadsplit_entrypoint-2-9670d642-dd6e-4fd7-b7a0-5bece18c00d0.ipynb /tmp/35f289acfc79415698de0697e6f35aed.ipynb -p EXPERIMENT_INSTANCE_ID 35f289acfc79415698de0697e6f35aed\"\n",
      "2024-08-04 13:44:21.286 | DEBUG    | mlutils.distributedcomputing.job_scheduling:run_experiments_in_puepe:219 - /opt/homebrew/bin/pueue add -g quad-split \"/Users/bgulowaty/studia/projekty/quad-splits/.venv/bin/papermill --log-output --log-level DEBUG /Users/bgulowaty/studia/projekty/quad-splits/quadsplit_entrypoint-2-9670d642-dd6e-4fd7-b7a0-5bece18c00d0.ipynb /tmp/8afc4f9f0786414495e761de9d1d950c.ipynb -p EXPERIMENT_INSTANCE_ID 8afc4f9f0786414495e761de9d1d950c\"\n"
     ]
    },
    {
     "name": "stdout",
     "output_type": "stream",
     "text": [
      "New task added (id 1511).\n",
      "New task added (id 1512).\n",
      "New task added (id 1513).\n",
      "New task added (id 1514).\n",
      "New task added (id 1515).\n"
     ]
    },
    {
     "name": "stderr",
     "output_type": "stream",
     "text": [
      "2024-08-04 13:44:21.321 | DEBUG    | mlutils.distributedcomputing.job_scheduling:run_experiments_in_puepe:219 - /opt/homebrew/bin/pueue add -g quad-split \"/Users/bgulowaty/studia/projekty/quad-splits/.venv/bin/papermill --log-output --log-level DEBUG /Users/bgulowaty/studia/projekty/quad-splits/quadsplit_entrypoint-2-9670d642-dd6e-4fd7-b7a0-5bece18c00d0.ipynb /tmp/e5977abe791d4f849b2d78c5b507e313.ipynb -p EXPERIMENT_INSTANCE_ID e5977abe791d4f849b2d78c5b507e313\"\n",
      "2024-08-04 13:44:21.351 | DEBUG    | mlutils.distributedcomputing.job_scheduling:run_experiments_in_puepe:219 - /opt/homebrew/bin/pueue add -g quad-split \"/Users/bgulowaty/studia/projekty/quad-splits/.venv/bin/papermill --log-output --log-level DEBUG /Users/bgulowaty/studia/projekty/quad-splits/quadsplit_entrypoint-2-9670d642-dd6e-4fd7-b7a0-5bece18c00d0.ipynb /tmp/3ac4cebd34884b51bfdb4ab12c20e6e7.ipynb -p EXPERIMENT_INSTANCE_ID 3ac4cebd34884b51bfdb4ab12c20e6e7\"\n",
      "2024-08-04 13:44:21.408 | DEBUG    | mlutils.distributedcomputing.job_scheduling:run_experiments_in_puepe:219 - /opt/homebrew/bin/pueue add -g quad-split \"/Users/bgulowaty/studia/projekty/quad-splits/.venv/bin/papermill --log-output --log-level DEBUG /Users/bgulowaty/studia/projekty/quad-splits/quadsplit_entrypoint-2-9670d642-dd6e-4fd7-b7a0-5bece18c00d0.ipynb /tmp/e4dd6529f7ce4a468d68acc578e090a4.ipynb -p EXPERIMENT_INSTANCE_ID e4dd6529f7ce4a468d68acc578e090a4\"\n",
      "2024-08-04 13:44:21.443 | DEBUG    | mlutils.distributedcomputing.job_scheduling:run_experiments_in_puepe:219 - /opt/homebrew/bin/pueue add -g quad-split \"/Users/bgulowaty/studia/projekty/quad-splits/.venv/bin/papermill --log-output --log-level DEBUG /Users/bgulowaty/studia/projekty/quad-splits/quadsplit_entrypoint-2-9670d642-dd6e-4fd7-b7a0-5bece18c00d0.ipynb /tmp/5b562f6562f24fb599996fcdc0c942f5.ipynb -p EXPERIMENT_INSTANCE_ID 5b562f6562f24fb599996fcdc0c942f5\"\n"
     ]
    },
    {
     "name": "stdout",
     "output_type": "stream",
     "text": [
      "New task added (id 1516).\n",
      "New task added (id 1517).\n",
      "New task added (id 1518).\n",
      "New task added (id 1519).\n"
     ]
    },
    {
     "name": "stderr",
     "output_type": "stream",
     "text": [
      "2024-08-04 13:44:21.528 | DEBUG    | mlutils.distributedcomputing.job_scheduling:run_experiments_in_puepe:219 - /opt/homebrew/bin/pueue add -g quad-split \"/Users/bgulowaty/studia/projekty/quad-splits/.venv/bin/papermill --log-output --log-level DEBUG /Users/bgulowaty/studia/projekty/quad-splits/quadsplit_entrypoint-2-9670d642-dd6e-4fd7-b7a0-5bece18c00d0.ipynb /tmp/88923b19869d4c7988236fb22a317ff9.ipynb -p EXPERIMENT_INSTANCE_ID 88923b19869d4c7988236fb22a317ff9\"\n",
      "2024-08-04 13:44:21.668 | DEBUG    | mlutils.distributedcomputing.job_scheduling:run_experiments_in_puepe:219 - /opt/homebrew/bin/pueue add -g quad-split \"/Users/bgulowaty/studia/projekty/quad-splits/.venv/bin/papermill --log-output --log-level DEBUG /Users/bgulowaty/studia/projekty/quad-splits/quadsplit_entrypoint-2-9670d642-dd6e-4fd7-b7a0-5bece18c00d0.ipynb /tmp/cf774779ee3d44e591b49324c5c5e3fe.ipynb -p EXPERIMENT_INSTANCE_ID cf774779ee3d44e591b49324c5c5e3fe\"\n",
      "2024-08-04 13:44:21.720 | DEBUG    | mlutils.distributedcomputing.job_scheduling:run_experiments_in_puepe:219 - /opt/homebrew/bin/pueue add -g quad-split \"/Users/bgulowaty/studia/projekty/quad-splits/.venv/bin/papermill --log-output --log-level DEBUG /Users/bgulowaty/studia/projekty/quad-splits/quadsplit_entrypoint-2-9670d642-dd6e-4fd7-b7a0-5bece18c00d0.ipynb /tmp/ae1ffabb195c4d66a08326acfc2bdfe0.ipynb -p EXPERIMENT_INSTANCE_ID ae1ffabb195c4d66a08326acfc2bdfe0\"\n"
     ]
    },
    {
     "name": "stdout",
     "output_type": "stream",
     "text": [
      "New task added (id 1520).\n",
      "New task added (id 1521).\n",
      "New task added (id 1522).\n"
     ]
    },
    {
     "name": "stderr",
     "output_type": "stream",
     "text": [
      "2024-08-04 13:44:21.747 | DEBUG    | mlutils.distributedcomputing.job_scheduling:run_experiments_in_puepe:219 - /opt/homebrew/bin/pueue add -g quad-split \"/Users/bgulowaty/studia/projekty/quad-splits/.venv/bin/papermill --log-output --log-level DEBUG /Users/bgulowaty/studia/projekty/quad-splits/quadsplit_entrypoint-2-9670d642-dd6e-4fd7-b7a0-5bece18c00d0.ipynb /tmp/11f29e05a26542268e6fda319f916342.ipynb -p EXPERIMENT_INSTANCE_ID 11f29e05a26542268e6fda319f916342\"\n",
      "2024-08-04 13:44:21.790 | DEBUG    | mlutils.distributedcomputing.job_scheduling:run_experiments_in_puepe:219 - /opt/homebrew/bin/pueue add -g quad-split \"/Users/bgulowaty/studia/projekty/quad-splits/.venv/bin/papermill --log-output --log-level DEBUG /Users/bgulowaty/studia/projekty/quad-splits/quadsplit_entrypoint-2-9670d642-dd6e-4fd7-b7a0-5bece18c00d0.ipynb /tmp/5309e46ff7c44f5fa780db06535ea3e0.ipynb -p EXPERIMENT_INSTANCE_ID 5309e46ff7c44f5fa780db06535ea3e0\"\n",
      "2024-08-04 13:44:21.875 | DEBUG    | mlutils.distributedcomputing.job_scheduling:run_experiments_in_puepe:219 - /opt/homebrew/bin/pueue add -g quad-split \"/Users/bgulowaty/studia/projekty/quad-splits/.venv/bin/papermill --log-output --log-level DEBUG /Users/bgulowaty/studia/projekty/quad-splits/quadsplit_entrypoint-2-9670d642-dd6e-4fd7-b7a0-5bece18c00d0.ipynb /tmp/6f0bfc8e9550491db4d1b8d43fb6bf92.ipynb -p EXPERIMENT_INSTANCE_ID 6f0bfc8e9550491db4d1b8d43fb6bf92\"\n",
      "2024-08-04 13:44:21.912 | DEBUG    | mlutils.distributedcomputing.job_scheduling:run_experiments_in_puepe:219 - /opt/homebrew/bin/pueue add -g quad-split \"/Users/bgulowaty/studia/projekty/quad-splits/.venv/bin/papermill --log-output --log-level DEBUG /Users/bgulowaty/studia/projekty/quad-splits/quadsplit_entrypoint-2-9670d642-dd6e-4fd7-b7a0-5bece18c00d0.ipynb /tmp/4a3ff687daab46959fd693c07e6b1675.ipynb -p EXPERIMENT_INSTANCE_ID 4a3ff687daab46959fd693c07e6b1675\"\n"
     ]
    },
    {
     "name": "stdout",
     "output_type": "stream",
     "text": [
      "New task added (id 1523).\n",
      "New task added (id 1524).\n",
      "New task added (id 1525).\n",
      "New task added (id 1526).\n"
     ]
    },
    {
     "name": "stderr",
     "output_type": "stream",
     "text": [
      "2024-08-04 13:44:21.950 | DEBUG    | mlutils.distributedcomputing.job_scheduling:run_experiments_in_puepe:219 - /opt/homebrew/bin/pueue add -g quad-split \"/Users/bgulowaty/studia/projekty/quad-splits/.venv/bin/papermill --log-output --log-level DEBUG /Users/bgulowaty/studia/projekty/quad-splits/quadsplit_entrypoint-2-9670d642-dd6e-4fd7-b7a0-5bece18c00d0.ipynb /tmp/03172b0c200545229800623c69a9279d.ipynb -p EXPERIMENT_INSTANCE_ID 03172b0c200545229800623c69a9279d\"\n",
      "2024-08-04 13:44:21.979 | DEBUG    | mlutils.distributedcomputing.job_scheduling:run_experiments_in_puepe:219 - /opt/homebrew/bin/pueue add -g quad-split \"/Users/bgulowaty/studia/projekty/quad-splits/.venv/bin/papermill --log-output --log-level DEBUG /Users/bgulowaty/studia/projekty/quad-splits/quadsplit_entrypoint-2-9670d642-dd6e-4fd7-b7a0-5bece18c00d0.ipynb /tmp/66bce005f0d94be9a5293ac302d71939.ipynb -p EXPERIMENT_INSTANCE_ID 66bce005f0d94be9a5293ac302d71939\"\n",
      "2024-08-04 13:44:22.006 | DEBUG    | mlutils.distributedcomputing.job_scheduling:run_experiments_in_puepe:219 - /opt/homebrew/bin/pueue add -g quad-split \"/Users/bgulowaty/studia/projekty/quad-splits/.venv/bin/papermill --log-output --log-level DEBUG /Users/bgulowaty/studia/projekty/quad-splits/quadsplit_entrypoint-2-9670d642-dd6e-4fd7-b7a0-5bece18c00d0.ipynb /tmp/86ca8f8fe015429d9c137911a61a6943.ipynb -p EXPERIMENT_INSTANCE_ID 86ca8f8fe015429d9c137911a61a6943\"\n",
      "2024-08-04 13:44:22.086 | DEBUG    | mlutils.distributedcomputing.job_scheduling:run_experiments_in_puepe:219 - /opt/homebrew/bin/pueue add -g quad-split \"/Users/bgulowaty/studia/projekty/quad-splits/.venv/bin/papermill --log-output --log-level DEBUG /Users/bgulowaty/studia/projekty/quad-splits/quadsplit_entrypoint-2-9670d642-dd6e-4fd7-b7a0-5bece18c00d0.ipynb /tmp/a9a735f1209c42dcbd30baa5b2943974.ipynb -p EXPERIMENT_INSTANCE_ID a9a735f1209c42dcbd30baa5b2943974\"\n"
     ]
    },
    {
     "name": "stdout",
     "output_type": "stream",
     "text": [
      "New task added (id 1527).\n",
      "New task added (id 1528).\n",
      "New task added (id 1529).\n",
      "New task added (id 1530).\n"
     ]
    },
    {
     "name": "stderr",
     "output_type": "stream",
     "text": [
      "2024-08-04 13:44:22.154 | DEBUG    | mlutils.distributedcomputing.job_scheduling:run_experiments_in_puepe:219 - /opt/homebrew/bin/pueue add -g quad-split \"/Users/bgulowaty/studia/projekty/quad-splits/.venv/bin/papermill --log-output --log-level DEBUG /Users/bgulowaty/studia/projekty/quad-splits/quadsplit_entrypoint-2-9670d642-dd6e-4fd7-b7a0-5bece18c00d0.ipynb /tmp/aa226361602448198fd8fef53cf6e196.ipynb -p EXPERIMENT_INSTANCE_ID aa226361602448198fd8fef53cf6e196\"\n",
      "2024-08-04 13:44:22.239 | DEBUG    | mlutils.distributedcomputing.job_scheduling:run_experiments_in_puepe:219 - /opt/homebrew/bin/pueue add -g quad-split \"/Users/bgulowaty/studia/projekty/quad-splits/.venv/bin/papermill --log-output --log-level DEBUG /Users/bgulowaty/studia/projekty/quad-splits/quadsplit_entrypoint-2-9670d642-dd6e-4fd7-b7a0-5bece18c00d0.ipynb /tmp/9ef68ef885704b1f92884bb19a9ed89d.ipynb -p EXPERIMENT_INSTANCE_ID 9ef68ef885704b1f92884bb19a9ed89d\"\n",
      "2024-08-04 13:44:22.277 | DEBUG    | mlutils.distributedcomputing.job_scheduling:run_experiments_in_puepe:219 - /opt/homebrew/bin/pueue add -g quad-split \"/Users/bgulowaty/studia/projekty/quad-splits/.venv/bin/papermill --log-output --log-level DEBUG /Users/bgulowaty/studia/projekty/quad-splits/quadsplit_entrypoint-2-9670d642-dd6e-4fd7-b7a0-5bece18c00d0.ipynb /tmp/46c87773167b4b3ba97e7c8f9fc2de35.ipynb -p EXPERIMENT_INSTANCE_ID 46c87773167b4b3ba97e7c8f9fc2de35\"\n",
      "2024-08-04 13:44:22.303 | DEBUG    | mlutils.distributedcomputing.job_scheduling:run_experiments_in_puepe:219 - /opt/homebrew/bin/pueue add -g quad-split \"/Users/bgulowaty/studia/projekty/quad-splits/.venv/bin/papermill --log-output --log-level DEBUG /Users/bgulowaty/studia/projekty/quad-splits/quadsplit_entrypoint-2-9670d642-dd6e-4fd7-b7a0-5bece18c00d0.ipynb /tmp/1953c1a94b8b48cfb2209b0143ebd31e.ipynb -p EXPERIMENT_INSTANCE_ID 1953c1a94b8b48cfb2209b0143ebd31e\"\n",
      "2024-08-04 13:44:22.353 | DEBUG    | mlutils.distributedcomputing.job_scheduling:run_experiments_in_puepe:219 - /opt/homebrew/bin/pueue add -g quad-split \"/Users/bgulowaty/studia/projekty/quad-splits/.venv/bin/papermill --log-output --log-level DEBUG /Users/bgulowaty/studia/projekty/quad-splits/quadsplit_entrypoint-2-9670d642-dd6e-4fd7-b7a0-5bece18c00d0.ipynb /tmp/c269252eca914bdc92663def45ba61f3.ipynb -p EXPERIMENT_INSTANCE_ID c269252eca914bdc92663def45ba61f3\"\n"
     ]
    },
    {
     "name": "stdout",
     "output_type": "stream",
     "text": [
      "New task added (id 1531).\n",
      "New task added (id 1532).\n",
      "New task added (id 1533).\n",
      "New task added (id 1534).\n",
      "New task added (id 1535).\n"
     ]
    },
    {
     "name": "stderr",
     "output_type": "stream",
     "text": [
      "2024-08-04 13:44:22.379 | DEBUG    | mlutils.distributedcomputing.job_scheduling:run_experiments_in_puepe:219 - /opt/homebrew/bin/pueue add -g quad-split \"/Users/bgulowaty/studia/projekty/quad-splits/.venv/bin/papermill --log-output --log-level DEBUG /Users/bgulowaty/studia/projekty/quad-splits/quadsplit_entrypoint-2-9670d642-dd6e-4fd7-b7a0-5bece18c00d0.ipynb /tmp/ba74a6f333604ccdb4e1714c86ede874.ipynb -p EXPERIMENT_INSTANCE_ID ba74a6f333604ccdb4e1714c86ede874\"\n",
      "2024-08-04 13:44:22.406 | DEBUG    | mlutils.distributedcomputing.job_scheduling:run_experiments_in_puepe:219 - /opt/homebrew/bin/pueue add -g quad-split \"/Users/bgulowaty/studia/projekty/quad-splits/.venv/bin/papermill --log-output --log-level DEBUG /Users/bgulowaty/studia/projekty/quad-splits/quadsplit_entrypoint-2-9670d642-dd6e-4fd7-b7a0-5bece18c00d0.ipynb /tmp/18b578fa332848fcb28e5d49777d3d3f.ipynb -p EXPERIMENT_INSTANCE_ID 18b578fa332848fcb28e5d49777d3d3f\"\n",
      "2024-08-04 13:44:22.437 | DEBUG    | mlutils.distributedcomputing.job_scheduling:run_experiments_in_puepe:219 - /opt/homebrew/bin/pueue add -g quad-split \"/Users/bgulowaty/studia/projekty/quad-splits/.venv/bin/papermill --log-output --log-level DEBUG /Users/bgulowaty/studia/projekty/quad-splits/quadsplit_entrypoint-2-9670d642-dd6e-4fd7-b7a0-5bece18c00d0.ipynb /tmp/8643d7232c464f8dade9a2ea81d27351.ipynb -p EXPERIMENT_INSTANCE_ID 8643d7232c464f8dade9a2ea81d27351\"\n",
      "2024-08-04 13:44:22.470 | DEBUG    | mlutils.distributedcomputing.job_scheduling:run_experiments_in_puepe:219 - /opt/homebrew/bin/pueue add -g quad-split \"/Users/bgulowaty/studia/projekty/quad-splits/.venv/bin/papermill --log-output --log-level DEBUG /Users/bgulowaty/studia/projekty/quad-splits/quadsplit_entrypoint-2-9670d642-dd6e-4fd7-b7a0-5bece18c00d0.ipynb /tmp/b4ad1c7aad554e8fb3600f862840896a.ipynb -p EXPERIMENT_INSTANCE_ID b4ad1c7aad554e8fb3600f862840896a\"\n",
      "2024-08-04 13:44:22.521 | DEBUG    | mlutils.distributedcomputing.job_scheduling:run_experiments_in_puepe:219 - /opt/homebrew/bin/pueue add -g quad-split \"/Users/bgulowaty/studia/projekty/quad-splits/.venv/bin/papermill --log-output --log-level DEBUG /Users/bgulowaty/studia/projekty/quad-splits/quadsplit_entrypoint-2-9670d642-dd6e-4fd7-b7a0-5bece18c00d0.ipynb /tmp/c35851772afb4db195f6c1a0f2518824.ipynb -p EXPERIMENT_INSTANCE_ID c35851772afb4db195f6c1a0f2518824\"\n",
      "2024-08-04 13:44:22.551 | DEBUG    | mlutils.distributedcomputing.job_scheduling:run_experiments_in_puepe:219 - /opt/homebrew/bin/pueue add -g quad-split \"/Users/bgulowaty/studia/projekty/quad-splits/.venv/bin/papermill --log-output --log-level DEBUG /Users/bgulowaty/studia/projekty/quad-splits/quadsplit_entrypoint-2-9670d642-dd6e-4fd7-b7a0-5bece18c00d0.ipynb /tmp/93382e1bc4b8448ca443d9665f98d70a.ipynb -p EXPERIMENT_INSTANCE_ID 93382e1bc4b8448ca443d9665f98d70a\"\n"
     ]
    },
    {
     "name": "stdout",
     "output_type": "stream",
     "text": [
      "New task added (id 1536).\n",
      "New task added (id 1537).\n",
      "New task added (id 1538).\n",
      "New task added (id 1539).\n",
      "New task added (id 1540).\n",
      "New task added (id 1541).\n"
     ]
    },
    {
     "name": "stderr",
     "output_type": "stream",
     "text": [
      "2024-08-04 13:44:22.621 | DEBUG    | mlutils.distributedcomputing.job_scheduling:run_experiments_in_puepe:219 - /opt/homebrew/bin/pueue add -g quad-split \"/Users/bgulowaty/studia/projekty/quad-splits/.venv/bin/papermill --log-output --log-level DEBUG /Users/bgulowaty/studia/projekty/quad-splits/quadsplit_entrypoint-2-9670d642-dd6e-4fd7-b7a0-5bece18c00d0.ipynb /tmp/54c90a5a7c9046b7aaecf28832ef84fc.ipynb -p EXPERIMENT_INSTANCE_ID 54c90a5a7c9046b7aaecf28832ef84fc\"\n",
      "2024-08-04 13:44:22.648 | DEBUG    | mlutils.distributedcomputing.job_scheduling:run_experiments_in_puepe:219 - /opt/homebrew/bin/pueue add -g quad-split \"/Users/bgulowaty/studia/projekty/quad-splits/.venv/bin/papermill --log-output --log-level DEBUG /Users/bgulowaty/studia/projekty/quad-splits/quadsplit_entrypoint-2-9670d642-dd6e-4fd7-b7a0-5bece18c00d0.ipynb /tmp/b20f73727b4945bbbd3d17ea18c5d0a9.ipynb -p EXPERIMENT_INSTANCE_ID b20f73727b4945bbbd3d17ea18c5d0a9\"\n",
      "2024-08-04 13:44:22.680 | DEBUG    | mlutils.distributedcomputing.job_scheduling:run_experiments_in_puepe:219 - /opt/homebrew/bin/pueue add -g quad-split \"/Users/bgulowaty/studia/projekty/quad-splits/.venv/bin/papermill --log-output --log-level DEBUG /Users/bgulowaty/studia/projekty/quad-splits/quadsplit_entrypoint-2-9670d642-dd6e-4fd7-b7a0-5bece18c00d0.ipynb /tmp/caf66afeeccd40f8b534843433225fe3.ipynb -p EXPERIMENT_INSTANCE_ID caf66afeeccd40f8b534843433225fe3\"\n",
      "2024-08-04 13:44:22.773 | DEBUG    | mlutils.distributedcomputing.job_scheduling:run_experiments_in_puepe:219 - /opt/homebrew/bin/pueue add -g quad-split \"/Users/bgulowaty/studia/projekty/quad-splits/.venv/bin/papermill --log-output --log-level DEBUG /Users/bgulowaty/studia/projekty/quad-splits/quadsplit_entrypoint-2-9670d642-dd6e-4fd7-b7a0-5bece18c00d0.ipynb /tmp/06929dbec9f14be486b6ae98d9f01ab3.ipynb -p EXPERIMENT_INSTANCE_ID 06929dbec9f14be486b6ae98d9f01ab3\"\n",
      "2024-08-04 13:44:22.804 | DEBUG    | mlutils.distributedcomputing.job_scheduling:run_experiments_in_puepe:219 - /opt/homebrew/bin/pueue add -g quad-split \"/Users/bgulowaty/studia/projekty/quad-splits/.venv/bin/papermill --log-output --log-level DEBUG /Users/bgulowaty/studia/projekty/quad-splits/quadsplit_entrypoint-2-9670d642-dd6e-4fd7-b7a0-5bece18c00d0.ipynb /tmp/cb34a0e1c0ba48309ce28179fb46943e.ipynb -p EXPERIMENT_INSTANCE_ID cb34a0e1c0ba48309ce28179fb46943e\"\n"
     ]
    },
    {
     "name": "stdout",
     "output_type": "stream",
     "text": [
      "New task added (id 1542).\n",
      "New task added (id 1543).\n",
      "New task added (id 1544).\n",
      "New task added (id 1545).\n",
      "New task added (id 1546).\n"
     ]
    },
    {
     "name": "stderr",
     "output_type": "stream",
     "text": [
      "2024-08-04 13:44:22.833 | DEBUG    | mlutils.distributedcomputing.job_scheduling:run_experiments_in_puepe:219 - /opt/homebrew/bin/pueue add -g quad-split \"/Users/bgulowaty/studia/projekty/quad-splits/.venv/bin/papermill --log-output --log-level DEBUG /Users/bgulowaty/studia/projekty/quad-splits/quadsplit_entrypoint-2-9670d642-dd6e-4fd7-b7a0-5bece18c00d0.ipynb /tmp/3624ce88ec31435cb531f3f0daffdd96.ipynb -p EXPERIMENT_INSTANCE_ID 3624ce88ec31435cb531f3f0daffdd96\"\n",
      "2024-08-04 13:44:22.861 | DEBUG    | mlutils.distributedcomputing.job_scheduling:run_experiments_in_puepe:219 - /opt/homebrew/bin/pueue add -g quad-split \"/Users/bgulowaty/studia/projekty/quad-splits/.venv/bin/papermill --log-output --log-level DEBUG /Users/bgulowaty/studia/projekty/quad-splits/quadsplit_entrypoint-2-9670d642-dd6e-4fd7-b7a0-5bece18c00d0.ipynb /tmp/58ecdb25e6d24672ae79319d4dbfa969.ipynb -p EXPERIMENT_INSTANCE_ID 58ecdb25e6d24672ae79319d4dbfa969\"\n",
      "2024-08-04 13:44:22.890 | DEBUG    | mlutils.distributedcomputing.job_scheduling:run_experiments_in_puepe:219 - /opt/homebrew/bin/pueue add -g quad-split \"/Users/bgulowaty/studia/projekty/quad-splits/.venv/bin/papermill --log-output --log-level DEBUG /Users/bgulowaty/studia/projekty/quad-splits/quadsplit_entrypoint-2-9670d642-dd6e-4fd7-b7a0-5bece18c00d0.ipynb /tmp/0915215b2f334a59bdbd3b3690516f50.ipynb -p EXPERIMENT_INSTANCE_ID 0915215b2f334a59bdbd3b3690516f50\"\n",
      "2024-08-04 13:44:22.917 | DEBUG    | mlutils.distributedcomputing.job_scheduling:run_experiments_in_puepe:219 - /opt/homebrew/bin/pueue add -g quad-split \"/Users/bgulowaty/studia/projekty/quad-splits/.venv/bin/papermill --log-output --log-level DEBUG /Users/bgulowaty/studia/projekty/quad-splits/quadsplit_entrypoint-2-9670d642-dd6e-4fd7-b7a0-5bece18c00d0.ipynb /tmp/f07ae695e16f4e5dbf37abfd65bf6a9c.ipynb -p EXPERIMENT_INSTANCE_ID f07ae695e16f4e5dbf37abfd65bf6a9c\"\n",
      "2024-08-04 13:44:22.948 | DEBUG    | mlutils.distributedcomputing.job_scheduling:run_experiments_in_puepe:219 - /opt/homebrew/bin/pueue add -g quad-split \"/Users/bgulowaty/studia/projekty/quad-splits/.venv/bin/papermill --log-output --log-level DEBUG /Users/bgulowaty/studia/projekty/quad-splits/quadsplit_entrypoint-2-9670d642-dd6e-4fd7-b7a0-5bece18c00d0.ipynb /tmp/6ea39e5b1a164d31b64d9cdc7fd98edb.ipynb -p EXPERIMENT_INSTANCE_ID 6ea39e5b1a164d31b64d9cdc7fd98edb\"\n",
      "2024-08-04 13:44:23.000 | DEBUG    | mlutils.distributedcomputing.job_scheduling:run_experiments_in_puepe:219 - /opt/homebrew/bin/pueue add -g quad-split \"/Users/bgulowaty/studia/projekty/quad-splits/.venv/bin/papermill --log-output --log-level DEBUG /Users/bgulowaty/studia/projekty/quad-splits/quadsplit_entrypoint-2-9670d642-dd6e-4fd7-b7a0-5bece18c00d0.ipynb /tmp/02d6a8496c604c21af92ae90ae7ae918.ipynb -p EXPERIMENT_INSTANCE_ID 02d6a8496c604c21af92ae90ae7ae918\"\n",
      "2024-08-04 13:44:23.030 | DEBUG    | mlutils.distributedcomputing.job_scheduling:run_experiments_in_puepe:219 - /opt/homebrew/bin/pueue add -g quad-split \"/Users/bgulowaty/studia/projekty/quad-splits/.venv/bin/papermill --log-output --log-level DEBUG /Users/bgulowaty/studia/projekty/quad-splits/quadsplit_entrypoint-2-9670d642-dd6e-4fd7-b7a0-5bece18c00d0.ipynb /tmp/5ae853d869a1420ba187655d2aaeee9f.ipynb -p EXPERIMENT_INSTANCE_ID 5ae853d869a1420ba187655d2aaeee9f\"\n"
     ]
    },
    {
     "name": "stdout",
     "output_type": "stream",
     "text": [
      "New task added (id 1547).\n",
      "New task added (id 1548).\n",
      "New task added (id 1549).\n",
      "New task added (id 1550).\n",
      "New task added (id 1551).\n",
      "New task added (id 1552).\n",
      "New task added (id 1553).\n"
     ]
    },
    {
     "name": "stderr",
     "output_type": "stream",
     "text": [
      "2024-08-04 13:44:23.077 | DEBUG    | mlutils.distributedcomputing.job_scheduling:run_experiments_in_puepe:219 - /opt/homebrew/bin/pueue add -g quad-split \"/Users/bgulowaty/studia/projekty/quad-splits/.venv/bin/papermill --log-output --log-level DEBUG /Users/bgulowaty/studia/projekty/quad-splits/quadsplit_entrypoint-2-9670d642-dd6e-4fd7-b7a0-5bece18c00d0.ipynb /tmp/1ec691a27ec34e029d3696d791c913a2.ipynb -p EXPERIMENT_INSTANCE_ID 1ec691a27ec34e029d3696d791c913a2\"\n",
      "2024-08-04 13:44:23.106 | DEBUG    | mlutils.distributedcomputing.job_scheduling:run_experiments_in_puepe:219 - /opt/homebrew/bin/pueue add -g quad-split \"/Users/bgulowaty/studia/projekty/quad-splits/.venv/bin/papermill --log-output --log-level DEBUG /Users/bgulowaty/studia/projekty/quad-splits/quadsplit_entrypoint-2-9670d642-dd6e-4fd7-b7a0-5bece18c00d0.ipynb /tmp/fc877453bf4a451194ac0cf52d5275d5.ipynb -p EXPERIMENT_INSTANCE_ID fc877453bf4a451194ac0cf52d5275d5\"\n",
      "2024-08-04 13:44:23.133 | DEBUG    | mlutils.distributedcomputing.job_scheduling:run_experiments_in_puepe:219 - /opt/homebrew/bin/pueue add -g quad-split \"/Users/bgulowaty/studia/projekty/quad-splits/.venv/bin/papermill --log-output --log-level DEBUG /Users/bgulowaty/studia/projekty/quad-splits/quadsplit_entrypoint-2-9670d642-dd6e-4fd7-b7a0-5bece18c00d0.ipynb /tmp/f13cd94428f340a39a5fc2d145a8d412.ipynb -p EXPERIMENT_INSTANCE_ID f13cd94428f340a39a5fc2d145a8d412\"\n",
      "2024-08-04 13:44:23.161 | DEBUG    | mlutils.distributedcomputing.job_scheduling:run_experiments_in_puepe:219 - /opt/homebrew/bin/pueue add -g quad-split \"/Users/bgulowaty/studia/projekty/quad-splits/.venv/bin/papermill --log-output --log-level DEBUG /Users/bgulowaty/studia/projekty/quad-splits/quadsplit_entrypoint-2-9670d642-dd6e-4fd7-b7a0-5bece18c00d0.ipynb /tmp/e0174eabe7ee40aba92173bad0286916.ipynb -p EXPERIMENT_INSTANCE_ID e0174eabe7ee40aba92173bad0286916\"\n",
      "2024-08-04 13:44:23.241 | DEBUG    | mlutils.distributedcomputing.job_scheduling:run_experiments_in_puepe:219 - /opt/homebrew/bin/pueue add -g quad-split \"/Users/bgulowaty/studia/projekty/quad-splits/.venv/bin/papermill --log-output --log-level DEBUG /Users/bgulowaty/studia/projekty/quad-splits/quadsplit_entrypoint-2-9670d642-dd6e-4fd7-b7a0-5bece18c00d0.ipynb /tmp/4a90085f742b49ef80be3a312d283274.ipynb -p EXPERIMENT_INSTANCE_ID 4a90085f742b49ef80be3a312d283274\"\n",
      "2024-08-04 13:44:23.274 | DEBUG    | mlutils.distributedcomputing.job_scheduling:run_experiments_in_puepe:219 - /opt/homebrew/bin/pueue add -g quad-split \"/Users/bgulowaty/studia/projekty/quad-splits/.venv/bin/papermill --log-output --log-level DEBUG /Users/bgulowaty/studia/projekty/quad-splits/quadsplit_entrypoint-2-9670d642-dd6e-4fd7-b7a0-5bece18c00d0.ipynb /tmp/4895c68000774409b0b286f091ceee7d.ipynb -p EXPERIMENT_INSTANCE_ID 4895c68000774409b0b286f091ceee7d\"\n"
     ]
    },
    {
     "name": "stdout",
     "output_type": "stream",
     "text": [
      "New task added (id 1554).\n",
      "New task added (id 1555).\n",
      "New task added (id 1556).\n",
      "New task added (id 1557).\n",
      "New task added (id 1558).\n",
      "New task added (id 1559).\n"
     ]
    },
    {
     "name": "stderr",
     "output_type": "stream",
     "text": [
      "2024-08-04 13:44:23.304 | DEBUG    | mlutils.distributedcomputing.job_scheduling:run_experiments_in_puepe:219 - /opt/homebrew/bin/pueue add -g quad-split \"/Users/bgulowaty/studia/projekty/quad-splits/.venv/bin/papermill --log-output --log-level DEBUG /Users/bgulowaty/studia/projekty/quad-splits/quadsplit_entrypoint-2-9670d642-dd6e-4fd7-b7a0-5bece18c00d0.ipynb /tmp/89813d0f6aa74a9fa2b4612c85ade6a4.ipynb -p EXPERIMENT_INSTANCE_ID 89813d0f6aa74a9fa2b4612c85ade6a4\"\n",
      "2024-08-04 13:44:23.344 | DEBUG    | mlutils.distributedcomputing.job_scheduling:run_experiments_in_puepe:219 - /opt/homebrew/bin/pueue add -g quad-split \"/Users/bgulowaty/studia/projekty/quad-splits/.venv/bin/papermill --log-output --log-level DEBUG /Users/bgulowaty/studia/projekty/quad-splits/quadsplit_entrypoint-2-9670d642-dd6e-4fd7-b7a0-5bece18c00d0.ipynb /tmp/690f73374509488b8b6626a9213df2fa.ipynb -p EXPERIMENT_INSTANCE_ID 690f73374509488b8b6626a9213df2fa\"\n",
      "2024-08-04 13:44:23.383 | DEBUG    | mlutils.distributedcomputing.job_scheduling:run_experiments_in_puepe:219 - /opt/homebrew/bin/pueue add -g quad-split \"/Users/bgulowaty/studia/projekty/quad-splits/.venv/bin/papermill --log-output --log-level DEBUG /Users/bgulowaty/studia/projekty/quad-splits/quadsplit_entrypoint-2-9670d642-dd6e-4fd7-b7a0-5bece18c00d0.ipynb /tmp/ae959e2171084c4bb02d05de99b38dc0.ipynb -p EXPERIMENT_INSTANCE_ID ae959e2171084c4bb02d05de99b38dc0\"\n",
      "2024-08-04 13:44:23.410 | DEBUG    | mlutils.distributedcomputing.job_scheduling:run_experiments_in_puepe:219 - /opt/homebrew/bin/pueue add -g quad-split \"/Users/bgulowaty/studia/projekty/quad-splits/.venv/bin/papermill --log-output --log-level DEBUG /Users/bgulowaty/studia/projekty/quad-splits/quadsplit_entrypoint-2-9670d642-dd6e-4fd7-b7a0-5bece18c00d0.ipynb /tmp/cc9276dbe68b4d97b83a3b9d1088b475.ipynb -p EXPERIMENT_INSTANCE_ID cc9276dbe68b4d97b83a3b9d1088b475\"\n",
      "2024-08-04 13:44:23.461 | DEBUG    | mlutils.distributedcomputing.job_scheduling:run_experiments_in_puepe:219 - /opt/homebrew/bin/pueue add -g quad-split \"/Users/bgulowaty/studia/projekty/quad-splits/.venv/bin/papermill --log-output --log-level DEBUG /Users/bgulowaty/studia/projekty/quad-splits/quadsplit_entrypoint-2-9670d642-dd6e-4fd7-b7a0-5bece18c00d0.ipynb /tmp/6686cbf684e74695912d5bd265eb07e6.ipynb -p EXPERIMENT_INSTANCE_ID 6686cbf684e74695912d5bd265eb07e6\"\n",
      "2024-08-04 13:44:23.490 | DEBUG    | mlutils.distributedcomputing.job_scheduling:run_experiments_in_puepe:219 - /opt/homebrew/bin/pueue add -g quad-split \"/Users/bgulowaty/studia/projekty/quad-splits/.venv/bin/papermill --log-output --log-level DEBUG /Users/bgulowaty/studia/projekty/quad-splits/quadsplit_entrypoint-2-9670d642-dd6e-4fd7-b7a0-5bece18c00d0.ipynb /tmp/56d731c4611a4c97ac2a699deb4ef4f6.ipynb -p EXPERIMENT_INSTANCE_ID 56d731c4611a4c97ac2a699deb4ef4f6\"\n"
     ]
    },
    {
     "name": "stdout",
     "output_type": "stream",
     "text": [
      "New task added (id 1560).\n",
      "New task added (id 1561).\n",
      "New task added (id 1562).\n",
      "New task added (id 1563).\n",
      "New task added (id 1564).\n",
      "New task added (id 1565).\n"
     ]
    },
    {
     "name": "stderr",
     "output_type": "stream",
     "text": [
      "2024-08-04 13:44:23.524 | DEBUG    | mlutils.distributedcomputing.job_scheduling:run_experiments_in_puepe:219 - /opt/homebrew/bin/pueue add -g quad-split \"/Users/bgulowaty/studia/projekty/quad-splits/.venv/bin/papermill --log-output --log-level DEBUG /Users/bgulowaty/studia/projekty/quad-splits/quadsplit_entrypoint-2-9670d642-dd6e-4fd7-b7a0-5bece18c00d0.ipynb /tmp/0f0b6b5535a946f0b5b22a3f3e7180f7.ipynb -p EXPERIMENT_INSTANCE_ID 0f0b6b5535a946f0b5b22a3f3e7180f7\"\n",
      "2024-08-04 13:44:23.553 | DEBUG    | mlutils.distributedcomputing.job_scheduling:run_experiments_in_puepe:219 - /opt/homebrew/bin/pueue add -g quad-split \"/Users/bgulowaty/studia/projekty/quad-splits/.venv/bin/papermill --log-output --log-level DEBUG /Users/bgulowaty/studia/projekty/quad-splits/quadsplit_entrypoint-2-9670d642-dd6e-4fd7-b7a0-5bece18c00d0.ipynb /tmp/21c41a0217a3446d8faa627aa98e3657.ipynb -p EXPERIMENT_INSTANCE_ID 21c41a0217a3446d8faa627aa98e3657\"\n",
      "2024-08-04 13:44:23.613 | DEBUG    | mlutils.distributedcomputing.job_scheduling:run_experiments_in_puepe:219 - /opt/homebrew/bin/pueue add -g quad-split \"/Users/bgulowaty/studia/projekty/quad-splits/.venv/bin/papermill --log-output --log-level DEBUG /Users/bgulowaty/studia/projekty/quad-splits/quadsplit_entrypoint-2-9670d642-dd6e-4fd7-b7a0-5bece18c00d0.ipynb /tmp/93a76183dca44b189d2ca226b782b906.ipynb -p EXPERIMENT_INSTANCE_ID 93a76183dca44b189d2ca226b782b906\"\n",
      "2024-08-04 13:44:23.642 | DEBUG    | mlutils.distributedcomputing.job_scheduling:run_experiments_in_puepe:219 - /opt/homebrew/bin/pueue add -g quad-split \"/Users/bgulowaty/studia/projekty/quad-splits/.venv/bin/papermill --log-output --log-level DEBUG /Users/bgulowaty/studia/projekty/quad-splits/quadsplit_entrypoint-2-9670d642-dd6e-4fd7-b7a0-5bece18c00d0.ipynb /tmp/887767707f5547248342804285e9f7d6.ipynb -p EXPERIMENT_INSTANCE_ID 887767707f5547248342804285e9f7d6\"\n",
      "2024-08-04 13:44:23.672 | DEBUG    | mlutils.distributedcomputing.job_scheduling:run_experiments_in_puepe:219 - /opt/homebrew/bin/pueue add -g quad-split \"/Users/bgulowaty/studia/projekty/quad-splits/.venv/bin/papermill --log-output --log-level DEBUG /Users/bgulowaty/studia/projekty/quad-splits/quadsplit_entrypoint-2-9670d642-dd6e-4fd7-b7a0-5bece18c00d0.ipynb /tmp/840ebd3ca995463a93e030d3a78e3a28.ipynb -p EXPERIMENT_INSTANCE_ID 840ebd3ca995463a93e030d3a78e3a28\"\n",
      "2024-08-04 13:44:23.699 | DEBUG    | mlutils.distributedcomputing.job_scheduling:run_experiments_in_puepe:219 - /opt/homebrew/bin/pueue add -g quad-split \"/Users/bgulowaty/studia/projekty/quad-splits/.venv/bin/papermill --log-output --log-level DEBUG /Users/bgulowaty/studia/projekty/quad-splits/quadsplit_entrypoint-2-9670d642-dd6e-4fd7-b7a0-5bece18c00d0.ipynb /tmp/54c83887574c427abb1cc8729d06379e.ipynb -p EXPERIMENT_INSTANCE_ID 54c83887574c427abb1cc8729d06379e\"\n"
     ]
    },
    {
     "name": "stdout",
     "output_type": "stream",
     "text": [
      "New task added (id 1566).\n",
      "New task added (id 1567).\n",
      "New task added (id 1568).\n",
      "New task added (id 1569).\n",
      "New task added (id 1570).\n",
      "New task added (id 1571).\n"
     ]
    },
    {
     "name": "stderr",
     "output_type": "stream",
     "text": [
      "2024-08-04 13:44:23.737 | DEBUG    | mlutils.distributedcomputing.job_scheduling:run_experiments_in_puepe:219 - /opt/homebrew/bin/pueue add -g quad-split \"/Users/bgulowaty/studia/projekty/quad-splits/.venv/bin/papermill --log-output --log-level DEBUG /Users/bgulowaty/studia/projekty/quad-splits/quadsplit_entrypoint-2-9670d642-dd6e-4fd7-b7a0-5bece18c00d0.ipynb /tmp/bdafdc00c6f54eee88bb8a61dfbfa440.ipynb -p EXPERIMENT_INSTANCE_ID bdafdc00c6f54eee88bb8a61dfbfa440\"\n",
      "2024-08-04 13:44:23.779 | DEBUG    | mlutils.distributedcomputing.job_scheduling:run_experiments_in_puepe:219 - /opt/homebrew/bin/pueue add -g quad-split \"/Users/bgulowaty/studia/projekty/quad-splits/.venv/bin/papermill --log-output --log-level DEBUG /Users/bgulowaty/studia/projekty/quad-splits/quadsplit_entrypoint-2-9670d642-dd6e-4fd7-b7a0-5bece18c00d0.ipynb /tmp/ebd37e79867f45b786c687ab7c7c763a.ipynb -p EXPERIMENT_INSTANCE_ID ebd37e79867f45b786c687ab7c7c763a\"\n",
      "2024-08-04 13:44:23.810 | DEBUG    | mlutils.distributedcomputing.job_scheduling:run_experiments_in_puepe:219 - /opt/homebrew/bin/pueue add -g quad-split \"/Users/bgulowaty/studia/projekty/quad-splits/.venv/bin/papermill --log-output --log-level DEBUG /Users/bgulowaty/studia/projekty/quad-splits/quadsplit_entrypoint-2-9670d642-dd6e-4fd7-b7a0-5bece18c00d0.ipynb /tmp/16ce9ad039cf4bee93395c2983a52c21.ipynb -p EXPERIMENT_INSTANCE_ID 16ce9ad039cf4bee93395c2983a52c21\"\n",
      "2024-08-04 13:44:23.837 | DEBUG    | mlutils.distributedcomputing.job_scheduling:run_experiments_in_puepe:219 - /opt/homebrew/bin/pueue add -g quad-split \"/Users/bgulowaty/studia/projekty/quad-splits/.venv/bin/papermill --log-output --log-level DEBUG /Users/bgulowaty/studia/projekty/quad-splits/quadsplit_entrypoint-2-9670d642-dd6e-4fd7-b7a0-5bece18c00d0.ipynb /tmp/3543a03a080746bcab9e6f0ac1226c61.ipynb -p EXPERIMENT_INSTANCE_ID 3543a03a080746bcab9e6f0ac1226c61\"\n",
      "2024-08-04 13:44:23.865 | DEBUG    | mlutils.distributedcomputing.job_scheduling:run_experiments_in_puepe:219 - /opt/homebrew/bin/pueue add -g quad-split \"/Users/bgulowaty/studia/projekty/quad-splits/.venv/bin/papermill --log-output --log-level DEBUG /Users/bgulowaty/studia/projekty/quad-splits/quadsplit_entrypoint-2-9670d642-dd6e-4fd7-b7a0-5bece18c00d0.ipynb /tmp/8b7d3bf6c8854e13b3cde1334c8684b1.ipynb -p EXPERIMENT_INSTANCE_ID 8b7d3bf6c8854e13b3cde1334c8684b1\"\n",
      "2024-08-04 13:44:23.907 | DEBUG    | mlutils.distributedcomputing.job_scheduling:run_experiments_in_puepe:219 - /opt/homebrew/bin/pueue add -g quad-split \"/Users/bgulowaty/studia/projekty/quad-splits/.venv/bin/papermill --log-output --log-level DEBUG /Users/bgulowaty/studia/projekty/quad-splits/quadsplit_entrypoint-2-9670d642-dd6e-4fd7-b7a0-5bece18c00d0.ipynb /tmp/d32b735000124c3f8bf7701ef9a813d1.ipynb -p EXPERIMENT_INSTANCE_ID d32b735000124c3f8bf7701ef9a813d1\"\n",
      "2024-08-04 13:44:23.930 | DEBUG    | mlutils.distributedcomputing.job_scheduling:run_experiments_in_puepe:219 - /opt/homebrew/bin/pueue add -g quad-split \"/Users/bgulowaty/studia/projekty/quad-splits/.venv/bin/papermill --log-output --log-level DEBUG /Users/bgulowaty/studia/projekty/quad-splits/quadsplit_entrypoint-2-9670d642-dd6e-4fd7-b7a0-5bece18c00d0.ipynb /tmp/e7b3b6b0057543079d820b40cf285fd4.ipynb -p EXPERIMENT_INSTANCE_ID e7b3b6b0057543079d820b40cf285fd4\"\n"
     ]
    },
    {
     "name": "stdout",
     "output_type": "stream",
     "text": [
      "New task added (id 1572).\n",
      "New task added (id 1573).\n",
      "New task added (id 1574).\n",
      "New task added (id 1575).\n",
      "New task added (id 1576).\n",
      "New task added (id 1577).\n",
      "New task added (id 1578).\n"
     ]
    },
    {
     "name": "stderr",
     "output_type": "stream",
     "text": [
      "2024-08-04 13:44:23.984 | DEBUG    | mlutils.distributedcomputing.job_scheduling:run_experiments_in_puepe:219 - /opt/homebrew/bin/pueue add -g quad-split \"/Users/bgulowaty/studia/projekty/quad-splits/.venv/bin/papermill --log-output --log-level DEBUG /Users/bgulowaty/studia/projekty/quad-splits/quadsplit_entrypoint-2-9670d642-dd6e-4fd7-b7a0-5bece18c00d0.ipynb /tmp/e27fbf6450a44db582e1d767d2904bc1.ipynb -p EXPERIMENT_INSTANCE_ID e27fbf6450a44db582e1d767d2904bc1\"\n",
      "2024-08-04 13:44:24.021 | DEBUG    | mlutils.distributedcomputing.job_scheduling:run_experiments_in_puepe:219 - /opt/homebrew/bin/pueue add -g quad-split \"/Users/bgulowaty/studia/projekty/quad-splits/.venv/bin/papermill --log-output --log-level DEBUG /Users/bgulowaty/studia/projekty/quad-splits/quadsplit_entrypoint-2-9670d642-dd6e-4fd7-b7a0-5bece18c00d0.ipynb /tmp/d04f0bf3fa8544ca9851d6226c860ab6.ipynb -p EXPERIMENT_INSTANCE_ID d04f0bf3fa8544ca9851d6226c860ab6\"\n",
      "2024-08-04 13:44:24.054 | DEBUG    | mlutils.distributedcomputing.job_scheduling:run_experiments_in_puepe:219 - /opt/homebrew/bin/pueue add -g quad-split \"/Users/bgulowaty/studia/projekty/quad-splits/.venv/bin/papermill --log-output --log-level DEBUG /Users/bgulowaty/studia/projekty/quad-splits/quadsplit_entrypoint-2-9670d642-dd6e-4fd7-b7a0-5bece18c00d0.ipynb /tmp/3d13505ba5aa406f91ff7a039aac261c.ipynb -p EXPERIMENT_INSTANCE_ID 3d13505ba5aa406f91ff7a039aac261c\"\n",
      "2024-08-04 13:44:24.085 | DEBUG    | mlutils.distributedcomputing.job_scheduling:run_experiments_in_puepe:219 - /opt/homebrew/bin/pueue add -g quad-split \"/Users/bgulowaty/studia/projekty/quad-splits/.venv/bin/papermill --log-output --log-level DEBUG /Users/bgulowaty/studia/projekty/quad-splits/quadsplit_entrypoint-2-9670d642-dd6e-4fd7-b7a0-5bece18c00d0.ipynb /tmp/bcb941c60eaf4b798f689b88ede34002.ipynb -p EXPERIMENT_INSTANCE_ID bcb941c60eaf4b798f689b88ede34002\"\n",
      "2024-08-04 13:44:24.123 | DEBUG    | mlutils.distributedcomputing.job_scheduling:run_experiments_in_puepe:219 - /opt/homebrew/bin/pueue add -g quad-split \"/Users/bgulowaty/studia/projekty/quad-splits/.venv/bin/papermill --log-output --log-level DEBUG /Users/bgulowaty/studia/projekty/quad-splits/quadsplit_entrypoint-2-9670d642-dd6e-4fd7-b7a0-5bece18c00d0.ipynb /tmp/52fd99beec194887b3717da27f5f513a.ipynb -p EXPERIMENT_INSTANCE_ID 52fd99beec194887b3717da27f5f513a\"\n",
      "2024-08-04 13:44:24.161 | DEBUG    | mlutils.distributedcomputing.job_scheduling:run_experiments_in_puepe:219 - /opt/homebrew/bin/pueue add -g quad-split \"/Users/bgulowaty/studia/projekty/quad-splits/.venv/bin/papermill --log-output --log-level DEBUG /Users/bgulowaty/studia/projekty/quad-splits/quadsplit_entrypoint-2-9670d642-dd6e-4fd7-b7a0-5bece18c00d0.ipynb /tmp/53de86c02a804d18b8032ff180657584.ipynb -p EXPERIMENT_INSTANCE_ID 53de86c02a804d18b8032ff180657584\"\n"
     ]
    },
    {
     "name": "stdout",
     "output_type": "stream",
     "text": [
      "New task added (id 1579).\n",
      "New task added (id 1580).\n",
      "New task added (id 1581).\n",
      "New task added (id 1582).\n",
      "New task added (id 1583).\n",
      "New task added (id 1584).\n"
     ]
    },
    {
     "name": "stderr",
     "output_type": "stream",
     "text": [
      "2024-08-04 13:44:24.205 | DEBUG    | mlutils.distributedcomputing.job_scheduling:run_experiments_in_puepe:219 - /opt/homebrew/bin/pueue add -g quad-split \"/Users/bgulowaty/studia/projekty/quad-splits/.venv/bin/papermill --log-output --log-level DEBUG /Users/bgulowaty/studia/projekty/quad-splits/quadsplit_entrypoint-2-9670d642-dd6e-4fd7-b7a0-5bece18c00d0.ipynb /tmp/03d90e08e5244dd8b9e607c44b4cca3b.ipynb -p EXPERIMENT_INSTANCE_ID 03d90e08e5244dd8b9e607c44b4cca3b\"\n",
      "2024-08-04 13:44:24.248 | DEBUG    | mlutils.distributedcomputing.job_scheduling:run_experiments_in_puepe:219 - /opt/homebrew/bin/pueue add -g quad-split \"/Users/bgulowaty/studia/projekty/quad-splits/.venv/bin/papermill --log-output --log-level DEBUG /Users/bgulowaty/studia/projekty/quad-splits/quadsplit_entrypoint-2-9670d642-dd6e-4fd7-b7a0-5bece18c00d0.ipynb /tmp/1d4e836a50c740eaa93d99aa8c825453.ipynb -p EXPERIMENT_INSTANCE_ID 1d4e836a50c740eaa93d99aa8c825453\"\n",
      "2024-08-04 13:44:24.275 | DEBUG    | mlutils.distributedcomputing.job_scheduling:run_experiments_in_puepe:219 - /opt/homebrew/bin/pueue add -g quad-split \"/Users/bgulowaty/studia/projekty/quad-splits/.venv/bin/papermill --log-output --log-level DEBUG /Users/bgulowaty/studia/projekty/quad-splits/quadsplit_entrypoint-2-9670d642-dd6e-4fd7-b7a0-5bece18c00d0.ipynb /tmp/4560427a7bb3411e92b1ed9ee01f1107.ipynb -p EXPERIMENT_INSTANCE_ID 4560427a7bb3411e92b1ed9ee01f1107\"\n",
      "2024-08-04 13:44:24.305 | DEBUG    | mlutils.distributedcomputing.job_scheduling:run_experiments_in_puepe:219 - /opt/homebrew/bin/pueue add -g quad-split \"/Users/bgulowaty/studia/projekty/quad-splits/.venv/bin/papermill --log-output --log-level DEBUG /Users/bgulowaty/studia/projekty/quad-splits/quadsplit_entrypoint-2-9670d642-dd6e-4fd7-b7a0-5bece18c00d0.ipynb /tmp/038c5e574bcb47c1ac937f951462d2e0.ipynb -p EXPERIMENT_INSTANCE_ID 038c5e574bcb47c1ac937f951462d2e0\"\n",
      "2024-08-04 13:44:24.333 | DEBUG    | mlutils.distributedcomputing.job_scheduling:run_experiments_in_puepe:219 - /opt/homebrew/bin/pueue add -g quad-split \"/Users/bgulowaty/studia/projekty/quad-splits/.venv/bin/papermill --log-output --log-level DEBUG /Users/bgulowaty/studia/projekty/quad-splits/quadsplit_entrypoint-2-9670d642-dd6e-4fd7-b7a0-5bece18c00d0.ipynb /tmp/0d2d0e01c02e4ae3871fdaca9a9fae84.ipynb -p EXPERIMENT_INSTANCE_ID 0d2d0e01c02e4ae3871fdaca9a9fae84\"\n",
      "2024-08-04 13:44:24.404 | DEBUG    | mlutils.distributedcomputing.job_scheduling:run_experiments_in_puepe:219 - /opt/homebrew/bin/pueue add -g quad-split \"/Users/bgulowaty/studia/projekty/quad-splits/.venv/bin/papermill --log-output --log-level DEBUG /Users/bgulowaty/studia/projekty/quad-splits/quadsplit_entrypoint-2-9670d642-dd6e-4fd7-b7a0-5bece18c00d0.ipynb /tmp/427b4dbe022242c490e7a6af0a4a6f4a.ipynb -p EXPERIMENT_INSTANCE_ID 427b4dbe022242c490e7a6af0a4a6f4a\"\n"
     ]
    },
    {
     "name": "stdout",
     "output_type": "stream",
     "text": [
      "New task added (id 1585).\n",
      "New task added (id 1586).\n",
      "New task added (id 1587).\n",
      "New task added (id 1588).\n",
      "New task added (id 1589).\n",
      "New task added (id 1590).\n"
     ]
    },
    {
     "name": "stderr",
     "output_type": "stream",
     "text": [
      "2024-08-04 13:44:24.440 | DEBUG    | mlutils.distributedcomputing.job_scheduling:run_experiments_in_puepe:219 - /opt/homebrew/bin/pueue add -g quad-split \"/Users/bgulowaty/studia/projekty/quad-splits/.venv/bin/papermill --log-output --log-level DEBUG /Users/bgulowaty/studia/projekty/quad-splits/quadsplit_entrypoint-2-9670d642-dd6e-4fd7-b7a0-5bece18c00d0.ipynb /tmp/ab4153279a2d4eea839fce0a55b5ff67.ipynb -p EXPERIMENT_INSTANCE_ID ab4153279a2d4eea839fce0a55b5ff67\"\n",
      "2024-08-04 13:44:24.468 | DEBUG    | mlutils.distributedcomputing.job_scheduling:run_experiments_in_puepe:219 - /opt/homebrew/bin/pueue add -g quad-split \"/Users/bgulowaty/studia/projekty/quad-splits/.venv/bin/papermill --log-output --log-level DEBUG /Users/bgulowaty/studia/projekty/quad-splits/quadsplit_entrypoint-2-9670d642-dd6e-4fd7-b7a0-5bece18c00d0.ipynb /tmp/b4f3301d277b47db9145edc6267ce892.ipynb -p EXPERIMENT_INSTANCE_ID b4f3301d277b47db9145edc6267ce892\"\n",
      "2024-08-04 13:44:24.503 | DEBUG    | mlutils.distributedcomputing.job_scheduling:run_experiments_in_puepe:219 - /opt/homebrew/bin/pueue add -g quad-split \"/Users/bgulowaty/studia/projekty/quad-splits/.venv/bin/papermill --log-output --log-level DEBUG /Users/bgulowaty/studia/projekty/quad-splits/quadsplit_entrypoint-2-9670d642-dd6e-4fd7-b7a0-5bece18c00d0.ipynb /tmp/4db57691a085465ca713a37f905b2e3d.ipynb -p EXPERIMENT_INSTANCE_ID 4db57691a085465ca713a37f905b2e3d\"\n",
      "2024-08-04 13:44:24.550 | DEBUG    | mlutils.distributedcomputing.job_scheduling:run_experiments_in_puepe:219 - /opt/homebrew/bin/pueue add -g quad-split \"/Users/bgulowaty/studia/projekty/quad-splits/.venv/bin/papermill --log-output --log-level DEBUG /Users/bgulowaty/studia/projekty/quad-splits/quadsplit_entrypoint-2-9670d642-dd6e-4fd7-b7a0-5bece18c00d0.ipynb /tmp/c79806622a7d49f0b531783c4f9b8a5a.ipynb -p EXPERIMENT_INSTANCE_ID c79806622a7d49f0b531783c4f9b8a5a\"\n",
      "2024-08-04 13:44:24.585 | DEBUG    | mlutils.distributedcomputing.job_scheduling:run_experiments_in_puepe:219 - /opt/homebrew/bin/pueue add -g quad-split \"/Users/bgulowaty/studia/projekty/quad-splits/.venv/bin/papermill --log-output --log-level DEBUG /Users/bgulowaty/studia/projekty/quad-splits/quadsplit_entrypoint-2-9670d642-dd6e-4fd7-b7a0-5bece18c00d0.ipynb /tmp/af0f86f5ffe448caa51bb33c5466fd5c.ipynb -p EXPERIMENT_INSTANCE_ID af0f86f5ffe448caa51bb33c5466fd5c\"\n"
     ]
    },
    {
     "name": "stdout",
     "output_type": "stream",
     "text": [
      "New task added (id 1591).\n",
      "New task added (id 1592).\n",
      "New task added (id 1593).\n",
      "New task added (id 1594).\n",
      "New task added (id 1595).\n"
     ]
    },
    {
     "name": "stderr",
     "output_type": "stream",
     "text": [
      "2024-08-04 13:44:24.648 | DEBUG    | mlutils.distributedcomputing.job_scheduling:run_experiments_in_puepe:219 - /opt/homebrew/bin/pueue add -g quad-split \"/Users/bgulowaty/studia/projekty/quad-splits/.venv/bin/papermill --log-output --log-level DEBUG /Users/bgulowaty/studia/projekty/quad-splits/quadsplit_entrypoint-2-9670d642-dd6e-4fd7-b7a0-5bece18c00d0.ipynb /tmp/65eb8750d8964ea18b3d638a857f6d1f.ipynb -p EXPERIMENT_INSTANCE_ID 65eb8750d8964ea18b3d638a857f6d1f\"\n",
      "2024-08-04 13:44:24.673 | DEBUG    | mlutils.distributedcomputing.job_scheduling:run_experiments_in_puepe:219 - /opt/homebrew/bin/pueue add -g quad-split \"/Users/bgulowaty/studia/projekty/quad-splits/.venv/bin/papermill --log-output --log-level DEBUG /Users/bgulowaty/studia/projekty/quad-splits/quadsplit_entrypoint-2-9670d642-dd6e-4fd7-b7a0-5bece18c00d0.ipynb /tmp/576ad021576244ca8197cf34d429ac44.ipynb -p EXPERIMENT_INSTANCE_ID 576ad021576244ca8197cf34d429ac44\"\n",
      "2024-08-04 13:44:24.718 | DEBUG    | mlutils.distributedcomputing.job_scheduling:run_experiments_in_puepe:219 - /opt/homebrew/bin/pueue add -g quad-split \"/Users/bgulowaty/studia/projekty/quad-splits/.venv/bin/papermill --log-output --log-level DEBUG /Users/bgulowaty/studia/projekty/quad-splits/quadsplit_entrypoint-2-9670d642-dd6e-4fd7-b7a0-5bece18c00d0.ipynb /tmp/c27f8feb4c8a48798343504cfe37b62f.ipynb -p EXPERIMENT_INSTANCE_ID c27f8feb4c8a48798343504cfe37b62f\"\n",
      "2024-08-04 13:44:24.773 | DEBUG    | mlutils.distributedcomputing.job_scheduling:run_experiments_in_puepe:219 - /opt/homebrew/bin/pueue add -g quad-split \"/Users/bgulowaty/studia/projekty/quad-splits/.venv/bin/papermill --log-output --log-level DEBUG /Users/bgulowaty/studia/projekty/quad-splits/quadsplit_entrypoint-2-9670d642-dd6e-4fd7-b7a0-5bece18c00d0.ipynb /tmp/dabe670f92b64660a4c8fe370c5ebec1.ipynb -p EXPERIMENT_INSTANCE_ID dabe670f92b64660a4c8fe370c5ebec1\"\n",
      "2024-08-04 13:44:24.799 | DEBUG    | mlutils.distributedcomputing.job_scheduling:run_experiments_in_puepe:219 - /opt/homebrew/bin/pueue add -g quad-split \"/Users/bgulowaty/studia/projekty/quad-splits/.venv/bin/papermill --log-output --log-level DEBUG /Users/bgulowaty/studia/projekty/quad-splits/quadsplit_entrypoint-2-9670d642-dd6e-4fd7-b7a0-5bece18c00d0.ipynb /tmp/8c769e889d3e444b80eb5c72cec53b11.ipynb -p EXPERIMENT_INSTANCE_ID 8c769e889d3e444b80eb5c72cec53b11\"\n",
      "2024-08-04 13:44:24.830 | DEBUG    | mlutils.distributedcomputing.job_scheduling:run_experiments_in_puepe:219 - /opt/homebrew/bin/pueue add -g quad-split \"/Users/bgulowaty/studia/projekty/quad-splits/.venv/bin/papermill --log-output --log-level DEBUG /Users/bgulowaty/studia/projekty/quad-splits/quadsplit_entrypoint-2-9670d642-dd6e-4fd7-b7a0-5bece18c00d0.ipynb /tmp/395a2b90dcd04a13bfb9817377dce4e8.ipynb -p EXPERIMENT_INSTANCE_ID 395a2b90dcd04a13bfb9817377dce4e8\"\n"
     ]
    },
    {
     "name": "stdout",
     "output_type": "stream",
     "text": [
      "New task added (id 1596).\n",
      "New task added (id 1597).\n",
      "New task added (id 1598).\n",
      "New task added (id 1599).\n",
      "New task added (id 1600).\n",
      "New task added (id 1601).\n"
     ]
    },
    {
     "name": "stderr",
     "output_type": "stream",
     "text": [
      "2024-08-04 13:44:24.887 | DEBUG    | mlutils.distributedcomputing.job_scheduling:run_experiments_in_puepe:219 - /opt/homebrew/bin/pueue add -g quad-split \"/Users/bgulowaty/studia/projekty/quad-splits/.venv/bin/papermill --log-output --log-level DEBUG /Users/bgulowaty/studia/projekty/quad-splits/quadsplit_entrypoint-2-9670d642-dd6e-4fd7-b7a0-5bece18c00d0.ipynb /tmp/534347e3f73f49c5bc9b73d32ddb15d5.ipynb -p EXPERIMENT_INSTANCE_ID 534347e3f73f49c5bc9b73d32ddb15d5\"\n",
      "2024-08-04 13:44:24.919 | DEBUG    | mlutils.distributedcomputing.job_scheduling:run_experiments_in_puepe:219 - /opt/homebrew/bin/pueue add -g quad-split \"/Users/bgulowaty/studia/projekty/quad-splits/.venv/bin/papermill --log-output --log-level DEBUG /Users/bgulowaty/studia/projekty/quad-splits/quadsplit_entrypoint-2-9670d642-dd6e-4fd7-b7a0-5bece18c00d0.ipynb /tmp/872cfc92ae214d6384d9f64702aa3cb7.ipynb -p EXPERIMENT_INSTANCE_ID 872cfc92ae214d6384d9f64702aa3cb7\"\n",
      "2024-08-04 13:44:24.997 | DEBUG    | mlutils.distributedcomputing.job_scheduling:run_experiments_in_puepe:219 - /opt/homebrew/bin/pueue add -g quad-split \"/Users/bgulowaty/studia/projekty/quad-splits/.venv/bin/papermill --log-output --log-level DEBUG /Users/bgulowaty/studia/projekty/quad-splits/quadsplit_entrypoint-2-9670d642-dd6e-4fd7-b7a0-5bece18c00d0.ipynb /tmp/7895da15ed1e44b184328f10a2dd26ee.ipynb -p EXPERIMENT_INSTANCE_ID 7895da15ed1e44b184328f10a2dd26ee\"\n",
      "2024-08-04 13:44:25.038 | DEBUG    | mlutils.distributedcomputing.job_scheduling:run_experiments_in_puepe:219 - /opt/homebrew/bin/pueue add -g quad-split \"/Users/bgulowaty/studia/projekty/quad-splits/.venv/bin/papermill --log-output --log-level DEBUG /Users/bgulowaty/studia/projekty/quad-splits/quadsplit_entrypoint-2-9670d642-dd6e-4fd7-b7a0-5bece18c00d0.ipynb /tmp/b41a19e099bc425fa1e8e63418a44c9f.ipynb -p EXPERIMENT_INSTANCE_ID b41a19e099bc425fa1e8e63418a44c9f\"\n",
      "2024-08-04 13:44:25.066 | DEBUG    | mlutils.distributedcomputing.job_scheduling:run_experiments_in_puepe:219 - /opt/homebrew/bin/pueue add -g quad-split \"/Users/bgulowaty/studia/projekty/quad-splits/.venv/bin/papermill --log-output --log-level DEBUG /Users/bgulowaty/studia/projekty/quad-splits/quadsplit_entrypoint-2-9670d642-dd6e-4fd7-b7a0-5bece18c00d0.ipynb /tmp/4c32af2cbc8740cfad3fbbb53618c21d.ipynb -p EXPERIMENT_INSTANCE_ID 4c32af2cbc8740cfad3fbbb53618c21d\"\n"
     ]
    },
    {
     "name": "stdout",
     "output_type": "stream",
     "text": [
      "New task added (id 1602).\n",
      "New task added (id 1603).\n",
      "New task added (id 1604).\n",
      "New task added (id 1605).\n",
      "New task added (id 1606).\n"
     ]
    },
    {
     "name": "stderr",
     "output_type": "stream",
     "text": [
      "2024-08-04 13:44:25.120 | DEBUG    | mlutils.distributedcomputing.job_scheduling:run_experiments_in_puepe:219 - /opt/homebrew/bin/pueue add -g quad-split \"/Users/bgulowaty/studia/projekty/quad-splits/.venv/bin/papermill --log-output --log-level DEBUG /Users/bgulowaty/studia/projekty/quad-splits/quadsplit_entrypoint-2-9670d642-dd6e-4fd7-b7a0-5bece18c00d0.ipynb /tmp/b24526be92fd47a19195f976f5510d22.ipynb -p EXPERIMENT_INSTANCE_ID b24526be92fd47a19195f976f5510d22\"\n",
      "2024-08-04 13:44:25.149 | DEBUG    | mlutils.distributedcomputing.job_scheduling:run_experiments_in_puepe:219 - /opt/homebrew/bin/pueue add -g quad-split \"/Users/bgulowaty/studia/projekty/quad-splits/.venv/bin/papermill --log-output --log-level DEBUG /Users/bgulowaty/studia/projekty/quad-splits/quadsplit_entrypoint-2-9670d642-dd6e-4fd7-b7a0-5bece18c00d0.ipynb /tmp/0ff3706f740b48c69a529f76748723ea.ipynb -p EXPERIMENT_INSTANCE_ID 0ff3706f740b48c69a529f76748723ea\"\n",
      "2024-08-04 13:44:25.179 | DEBUG    | mlutils.distributedcomputing.job_scheduling:run_experiments_in_puepe:219 - /opt/homebrew/bin/pueue add -g quad-split \"/Users/bgulowaty/studia/projekty/quad-splits/.venv/bin/papermill --log-output --log-level DEBUG /Users/bgulowaty/studia/projekty/quad-splits/quadsplit_entrypoint-2-9670d642-dd6e-4fd7-b7a0-5bece18c00d0.ipynb /tmp/3c2d9a9c0ea641c79150dab9f1ef72fa.ipynb -p EXPERIMENT_INSTANCE_ID 3c2d9a9c0ea641c79150dab9f1ef72fa\"\n",
      "2024-08-04 13:44:25.209 | DEBUG    | mlutils.distributedcomputing.job_scheduling:run_experiments_in_puepe:219 - /opt/homebrew/bin/pueue add -g quad-split \"/Users/bgulowaty/studia/projekty/quad-splits/.venv/bin/papermill --log-output --log-level DEBUG /Users/bgulowaty/studia/projekty/quad-splits/quadsplit_entrypoint-2-9670d642-dd6e-4fd7-b7a0-5bece18c00d0.ipynb /tmp/4b1df85b81e94cc5ba49125951ad6b50.ipynb -p EXPERIMENT_INSTANCE_ID 4b1df85b81e94cc5ba49125951ad6b50\"\n",
      "2024-08-04 13:44:25.269 | DEBUG    | mlutils.distributedcomputing.job_scheduling:run_experiments_in_puepe:219 - /opt/homebrew/bin/pueue add -g quad-split \"/Users/bgulowaty/studia/projekty/quad-splits/.venv/bin/papermill --log-output --log-level DEBUG /Users/bgulowaty/studia/projekty/quad-splits/quadsplit_entrypoint-2-9670d642-dd6e-4fd7-b7a0-5bece18c00d0.ipynb /tmp/5d33c9d8f6124dce9e4c0d55f5a624aa.ipynb -p EXPERIMENT_INSTANCE_ID 5d33c9d8f6124dce9e4c0d55f5a624aa\"\n",
      "2024-08-04 13:44:25.298 | DEBUG    | mlutils.distributedcomputing.job_scheduling:run_experiments_in_puepe:219 - /opt/homebrew/bin/pueue add -g quad-split \"/Users/bgulowaty/studia/projekty/quad-splits/.venv/bin/papermill --log-output --log-level DEBUG /Users/bgulowaty/studia/projekty/quad-splits/quadsplit_entrypoint-2-9670d642-dd6e-4fd7-b7a0-5bece18c00d0.ipynb /tmp/f3ccf5da7dcc44b1a37c8e42427a2961.ipynb -p EXPERIMENT_INSTANCE_ID f3ccf5da7dcc44b1a37c8e42427a2961\"\n"
     ]
    },
    {
     "name": "stdout",
     "output_type": "stream",
     "text": [
      "New task added (id 1607).\n",
      "New task added (id 1608).\n",
      "New task added (id 1609).\n",
      "New task added (id 1610).\n",
      "New task added (id 1611).\n",
      "New task added (id 1612).\n"
     ]
    },
    {
     "name": "stderr",
     "output_type": "stream",
     "text": [
      "2024-08-04 13:44:25.323 | DEBUG    | mlutils.distributedcomputing.job_scheduling:run_experiments_in_puepe:219 - /opt/homebrew/bin/pueue add -g quad-split \"/Users/bgulowaty/studia/projekty/quad-splits/.venv/bin/papermill --log-output --log-level DEBUG /Users/bgulowaty/studia/projekty/quad-splits/quadsplit_entrypoint-2-9670d642-dd6e-4fd7-b7a0-5bece18c00d0.ipynb /tmp/2b4e7296f3a64ae59f9aab163170763a.ipynb -p EXPERIMENT_INSTANCE_ID 2b4e7296f3a64ae59f9aab163170763a\"\n",
      "2024-08-04 13:44:25.381 | DEBUG    | mlutils.distributedcomputing.job_scheduling:run_experiments_in_puepe:219 - /opt/homebrew/bin/pueue add -g quad-split \"/Users/bgulowaty/studia/projekty/quad-splits/.venv/bin/papermill --log-output --log-level DEBUG /Users/bgulowaty/studia/projekty/quad-splits/quadsplit_entrypoint-2-9670d642-dd6e-4fd7-b7a0-5bece18c00d0.ipynb /tmp/df4059db7d974e52881bf9ec2e4a81d2.ipynb -p EXPERIMENT_INSTANCE_ID df4059db7d974e52881bf9ec2e4a81d2\"\n",
      "2024-08-04 13:44:25.420 | DEBUG    | mlutils.distributedcomputing.job_scheduling:run_experiments_in_puepe:219 - /opt/homebrew/bin/pueue add -g quad-split \"/Users/bgulowaty/studia/projekty/quad-splits/.venv/bin/papermill --log-output --log-level DEBUG /Users/bgulowaty/studia/projekty/quad-splits/quadsplit_entrypoint-2-9670d642-dd6e-4fd7-b7a0-5bece18c00d0.ipynb /tmp/a5dc2465dae149918e302de47cd905b0.ipynb -p EXPERIMENT_INSTANCE_ID a5dc2465dae149918e302de47cd905b0\"\n",
      "2024-08-04 13:44:25.450 | DEBUG    | mlutils.distributedcomputing.job_scheduling:run_experiments_in_puepe:219 - /opt/homebrew/bin/pueue add -g quad-split \"/Users/bgulowaty/studia/projekty/quad-splits/.venv/bin/papermill --log-output --log-level DEBUG /Users/bgulowaty/studia/projekty/quad-splits/quadsplit_entrypoint-2-9670d642-dd6e-4fd7-b7a0-5bece18c00d0.ipynb /tmp/a056732eee0c4edaa6c03fdf5468e9c1.ipynb -p EXPERIMENT_INSTANCE_ID a056732eee0c4edaa6c03fdf5468e9c1\"\n",
      "2024-08-04 13:44:25.514 | DEBUG    | mlutils.distributedcomputing.job_scheduling:run_experiments_in_puepe:219 - /opt/homebrew/bin/pueue add -g quad-split \"/Users/bgulowaty/studia/projekty/quad-splits/.venv/bin/papermill --log-output --log-level DEBUG /Users/bgulowaty/studia/projekty/quad-splits/quadsplit_entrypoint-2-9670d642-dd6e-4fd7-b7a0-5bece18c00d0.ipynb /tmp/3ea2ee3c7ddb4ff6a199487d3ff8cd28.ipynb -p EXPERIMENT_INSTANCE_ID 3ea2ee3c7ddb4ff6a199487d3ff8cd28\"\n"
     ]
    },
    {
     "name": "stdout",
     "output_type": "stream",
     "text": [
      "New task added (id 1613).\n",
      "New task added (id 1614).\n",
      "New task added (id 1615).\n",
      "New task added (id 1616).\n",
      "New task added (id 1617).\n"
     ]
    },
    {
     "name": "stderr",
     "output_type": "stream",
     "text": [
      "2024-08-04 13:44:25.552 | DEBUG    | mlutils.distributedcomputing.job_scheduling:run_experiments_in_puepe:219 - /opt/homebrew/bin/pueue add -g quad-split \"/Users/bgulowaty/studia/projekty/quad-splits/.venv/bin/papermill --log-output --log-level DEBUG /Users/bgulowaty/studia/projekty/quad-splits/quadsplit_entrypoint-2-9670d642-dd6e-4fd7-b7a0-5bece18c00d0.ipynb /tmp/11da36bc83084946a48babe4c2063c1e.ipynb -p EXPERIMENT_INSTANCE_ID 11da36bc83084946a48babe4c2063c1e\"\n",
      "2024-08-04 13:44:25.580 | DEBUG    | mlutils.distributedcomputing.job_scheduling:run_experiments_in_puepe:219 - /opt/homebrew/bin/pueue add -g quad-split \"/Users/bgulowaty/studia/projekty/quad-splits/.venv/bin/papermill --log-output --log-level DEBUG /Users/bgulowaty/studia/projekty/quad-splits/quadsplit_entrypoint-2-9670d642-dd6e-4fd7-b7a0-5bece18c00d0.ipynb /tmp/1c753dfb06d74b3398e3d9a93a423a50.ipynb -p EXPERIMENT_INSTANCE_ID 1c753dfb06d74b3398e3d9a93a423a50\"\n",
      "2024-08-04 13:44:25.612 | DEBUG    | mlutils.distributedcomputing.job_scheduling:run_experiments_in_puepe:219 - /opt/homebrew/bin/pueue add -g quad-split \"/Users/bgulowaty/studia/projekty/quad-splits/.venv/bin/papermill --log-output --log-level DEBUG /Users/bgulowaty/studia/projekty/quad-splits/quadsplit_entrypoint-2-9670d642-dd6e-4fd7-b7a0-5bece18c00d0.ipynb /tmp/54acbdf3664b41f8b93c35b72cc3424c.ipynb -p EXPERIMENT_INSTANCE_ID 54acbdf3664b41f8b93c35b72cc3424c\"\n",
      "2024-08-04 13:44:25.658 | DEBUG    | mlutils.distributedcomputing.job_scheduling:run_experiments_in_puepe:219 - /opt/homebrew/bin/pueue add -g quad-split \"/Users/bgulowaty/studia/projekty/quad-splits/.venv/bin/papermill --log-output --log-level DEBUG /Users/bgulowaty/studia/projekty/quad-splits/quadsplit_entrypoint-2-9670d642-dd6e-4fd7-b7a0-5bece18c00d0.ipynb /tmp/7ff564532965419cb55f09e2f182e5dc.ipynb -p EXPERIMENT_INSTANCE_ID 7ff564532965419cb55f09e2f182e5dc\"\n",
      "2024-08-04 13:44:25.693 | DEBUG    | mlutils.distributedcomputing.job_scheduling:run_experiments_in_puepe:219 - /opt/homebrew/bin/pueue add -g quad-split \"/Users/bgulowaty/studia/projekty/quad-splits/.venv/bin/papermill --log-output --log-level DEBUG /Users/bgulowaty/studia/projekty/quad-splits/quadsplit_entrypoint-2-9670d642-dd6e-4fd7-b7a0-5bece18c00d0.ipynb /tmp/ef863cd1bc794bdd96e05bec0d2ee9bb.ipynb -p EXPERIMENT_INSTANCE_ID ef863cd1bc794bdd96e05bec0d2ee9bb\"\n"
     ]
    },
    {
     "name": "stdout",
     "output_type": "stream",
     "text": [
      "New task added (id 1618).\n",
      "New task added (id 1619).\n",
      "New task added (id 1620).\n",
      "New task added (id 1621).\n",
      "New task added (id 1622).\n"
     ]
    },
    {
     "name": "stderr",
     "output_type": "stream",
     "text": [
      "2024-08-04 13:44:25.834 | DEBUG    | mlutils.distributedcomputing.job_scheduling:run_experiments_in_puepe:219 - /opt/homebrew/bin/pueue add -g quad-split \"/Users/bgulowaty/studia/projekty/quad-splits/.venv/bin/papermill --log-output --log-level DEBUG /Users/bgulowaty/studia/projekty/quad-splits/quadsplit_entrypoint-2-9670d642-dd6e-4fd7-b7a0-5bece18c00d0.ipynb /tmp/8bbfc1c6dc8b41c9b23378548f3e2b25.ipynb -p EXPERIMENT_INSTANCE_ID 8bbfc1c6dc8b41c9b23378548f3e2b25\"\n",
      "2024-08-04 13:44:25.859 | DEBUG    | mlutils.distributedcomputing.job_scheduling:run_experiments_in_puepe:219 - /opt/homebrew/bin/pueue add -g quad-split \"/Users/bgulowaty/studia/projekty/quad-splits/.venv/bin/papermill --log-output --log-level DEBUG /Users/bgulowaty/studia/projekty/quad-splits/quadsplit_entrypoint-2-9670d642-dd6e-4fd7-b7a0-5bece18c00d0.ipynb /tmp/4935921a53b644ebb3ebcedffb8cc1e6.ipynb -p EXPERIMENT_INSTANCE_ID 4935921a53b644ebb3ebcedffb8cc1e6\"\n",
      "2024-08-04 13:44:25.887 | DEBUG    | mlutils.distributedcomputing.job_scheduling:run_experiments_in_puepe:219 - /opt/homebrew/bin/pueue add -g quad-split \"/Users/bgulowaty/studia/projekty/quad-splits/.venv/bin/papermill --log-output --log-level DEBUG /Users/bgulowaty/studia/projekty/quad-splits/quadsplit_entrypoint-2-9670d642-dd6e-4fd7-b7a0-5bece18c00d0.ipynb /tmp/a22690bb3c304a03b2708091b551849f.ipynb -p EXPERIMENT_INSTANCE_ID a22690bb3c304a03b2708091b551849f\"\n",
      "2024-08-04 13:44:25.921 | DEBUG    | mlutils.distributedcomputing.job_scheduling:run_experiments_in_puepe:219 - /opt/homebrew/bin/pueue add -g quad-split \"/Users/bgulowaty/studia/projekty/quad-splits/.venv/bin/papermill --log-output --log-level DEBUG /Users/bgulowaty/studia/projekty/quad-splits/quadsplit_entrypoint-2-9670d642-dd6e-4fd7-b7a0-5bece18c00d0.ipynb /tmp/33e268035c774bfd86c00c83da7b3d80.ipynb -p EXPERIMENT_INSTANCE_ID 33e268035c774bfd86c00c83da7b3d80\"\n",
      "2024-08-04 13:44:25.947 | DEBUG    | mlutils.distributedcomputing.job_scheduling:run_experiments_in_puepe:219 - /opt/homebrew/bin/pueue add -g quad-split \"/Users/bgulowaty/studia/projekty/quad-splits/.venv/bin/papermill --log-output --log-level DEBUG /Users/bgulowaty/studia/projekty/quad-splits/quadsplit_entrypoint-2-9670d642-dd6e-4fd7-b7a0-5bece18c00d0.ipynb /tmp/eb478296a7f946829add552143f29f8b.ipynb -p EXPERIMENT_INSTANCE_ID eb478296a7f946829add552143f29f8b\"\n",
      "2024-08-04 13:44:26.032 | DEBUG    | mlutils.distributedcomputing.job_scheduling:run_experiments_in_puepe:219 - /opt/homebrew/bin/pueue add -g quad-split \"/Users/bgulowaty/studia/projekty/quad-splits/.venv/bin/papermill --log-output --log-level DEBUG /Users/bgulowaty/studia/projekty/quad-splits/quadsplit_entrypoint-2-9670d642-dd6e-4fd7-b7a0-5bece18c00d0.ipynb /tmp/f46251b115144559bc1a0663161e6abc.ipynb -p EXPERIMENT_INSTANCE_ID f46251b115144559bc1a0663161e6abc\"\n"
     ]
    },
    {
     "name": "stdout",
     "output_type": "stream",
     "text": [
      "New task added (id 1623).\n",
      "New task added (id 1624).\n",
      "New task added (id 1625).\n",
      "New task added (id 1626).\n",
      "New task added (id 1627).\n",
      "New task added (id 1628).\n"
     ]
    },
    {
     "name": "stderr",
     "output_type": "stream",
     "text": [
      "2024-08-04 13:44:26.062 | DEBUG    | mlutils.distributedcomputing.job_scheduling:run_experiments_in_puepe:219 - /opt/homebrew/bin/pueue add -g quad-split \"/Users/bgulowaty/studia/projekty/quad-splits/.venv/bin/papermill --log-output --log-level DEBUG /Users/bgulowaty/studia/projekty/quad-splits/quadsplit_entrypoint-2-9670d642-dd6e-4fd7-b7a0-5bece18c00d0.ipynb /tmp/9f852a8505394114b3e70338f8f14cf7.ipynb -p EXPERIMENT_INSTANCE_ID 9f852a8505394114b3e70338f8f14cf7\"\n",
      "2024-08-04 13:44:26.090 | DEBUG    | mlutils.distributedcomputing.job_scheduling:run_experiments_in_puepe:219 - /opt/homebrew/bin/pueue add -g quad-split \"/Users/bgulowaty/studia/projekty/quad-splits/.venv/bin/papermill --log-output --log-level DEBUG /Users/bgulowaty/studia/projekty/quad-splits/quadsplit_entrypoint-2-9670d642-dd6e-4fd7-b7a0-5bece18c00d0.ipynb /tmp/d09f653ffd03406dbd4341d038bc7246.ipynb -p EXPERIMENT_INSTANCE_ID d09f653ffd03406dbd4341d038bc7246\"\n",
      "2024-08-04 13:44:26.146 | DEBUG    | mlutils.distributedcomputing.job_scheduling:run_experiments_in_puepe:219 - /opt/homebrew/bin/pueue add -g quad-split \"/Users/bgulowaty/studia/projekty/quad-splits/.venv/bin/papermill --log-output --log-level DEBUG /Users/bgulowaty/studia/projekty/quad-splits/quadsplit_entrypoint-2-9670d642-dd6e-4fd7-b7a0-5bece18c00d0.ipynb /tmp/f4dde3f9974a48f0898a10373e66e302.ipynb -p EXPERIMENT_INSTANCE_ID f4dde3f9974a48f0898a10373e66e302\"\n",
      "2024-08-04 13:44:26.173 | DEBUG    | mlutils.distributedcomputing.job_scheduling:run_experiments_in_puepe:219 - /opt/homebrew/bin/pueue add -g quad-split \"/Users/bgulowaty/studia/projekty/quad-splits/.venv/bin/papermill --log-output --log-level DEBUG /Users/bgulowaty/studia/projekty/quad-splits/quadsplit_entrypoint-2-9670d642-dd6e-4fd7-b7a0-5bece18c00d0.ipynb /tmp/1371c34619064d5eb99b13d53228435c.ipynb -p EXPERIMENT_INSTANCE_ID 1371c34619064d5eb99b13d53228435c\"\n",
      "2024-08-04 13:44:26.202 | DEBUG    | mlutils.distributedcomputing.job_scheduling:run_experiments_in_puepe:219 - /opt/homebrew/bin/pueue add -g quad-split \"/Users/bgulowaty/studia/projekty/quad-splits/.venv/bin/papermill --log-output --log-level DEBUG /Users/bgulowaty/studia/projekty/quad-splits/quadsplit_entrypoint-2-9670d642-dd6e-4fd7-b7a0-5bece18c00d0.ipynb /tmp/b261fa351f2446129349d15d3506d114.ipynb -p EXPERIMENT_INSTANCE_ID b261fa351f2446129349d15d3506d114\"\n",
      "2024-08-04 13:44:26.230 | DEBUG    | mlutils.distributedcomputing.job_scheduling:run_experiments_in_puepe:219 - /opt/homebrew/bin/pueue add -g quad-split \"/Users/bgulowaty/studia/projekty/quad-splits/.venv/bin/papermill --log-output --log-level DEBUG /Users/bgulowaty/studia/projekty/quad-splits/quadsplit_entrypoint-2-9670d642-dd6e-4fd7-b7a0-5bece18c00d0.ipynb /tmp/3f1387a8d9f64b39a44095be2acca967.ipynb -p EXPERIMENT_INSTANCE_ID 3f1387a8d9f64b39a44095be2acca967\"\n"
     ]
    },
    {
     "name": "stdout",
     "output_type": "stream",
     "text": [
      "New task added (id 1629).\n",
      "New task added (id 1630).\n",
      "New task added (id 1631).\n",
      "New task added (id 1632).\n",
      "New task added (id 1633).\n",
      "New task added (id 1634).\n"
     ]
    },
    {
     "name": "stderr",
     "output_type": "stream",
     "text": [
      "2024-08-04 13:44:26.284 | DEBUG    | mlutils.distributedcomputing.job_scheduling:run_experiments_in_puepe:219 - /opt/homebrew/bin/pueue add -g quad-split \"/Users/bgulowaty/studia/projekty/quad-splits/.venv/bin/papermill --log-output --log-level DEBUG /Users/bgulowaty/studia/projekty/quad-splits/quadsplit_entrypoint-2-9670d642-dd6e-4fd7-b7a0-5bece18c00d0.ipynb /tmp/dfcb447ccd4a4a378df830da5a904213.ipynb -p EXPERIMENT_INSTANCE_ID dfcb447ccd4a4a378df830da5a904213\"\n",
      "2024-08-04 13:44:26.313 | DEBUG    | mlutils.distributedcomputing.job_scheduling:run_experiments_in_puepe:219 - /opt/homebrew/bin/pueue add -g quad-split \"/Users/bgulowaty/studia/projekty/quad-splits/.venv/bin/papermill --log-output --log-level DEBUG /Users/bgulowaty/studia/projekty/quad-splits/quadsplit_entrypoint-2-9670d642-dd6e-4fd7-b7a0-5bece18c00d0.ipynb /tmp/e8e618a5d8494cd89112a1f82eb9af3d.ipynb -p EXPERIMENT_INSTANCE_ID e8e618a5d8494cd89112a1f82eb9af3d\"\n",
      "2024-08-04 13:44:26.396 | DEBUG    | mlutils.distributedcomputing.job_scheduling:run_experiments_in_puepe:219 - /opt/homebrew/bin/pueue add -g quad-split \"/Users/bgulowaty/studia/projekty/quad-splits/.venv/bin/papermill --log-output --log-level DEBUG /Users/bgulowaty/studia/projekty/quad-splits/quadsplit_entrypoint-2-9670d642-dd6e-4fd7-b7a0-5bece18c00d0.ipynb /tmp/58122569dc3c4e7fa8584989d460691b.ipynb -p EXPERIMENT_INSTANCE_ID 58122569dc3c4e7fa8584989d460691b\"\n",
      "2024-08-04 13:44:26.426 | DEBUG    | mlutils.distributedcomputing.job_scheduling:run_experiments_in_puepe:219 - /opt/homebrew/bin/pueue add -g quad-split \"/Users/bgulowaty/studia/projekty/quad-splits/.venv/bin/papermill --log-output --log-level DEBUG /Users/bgulowaty/studia/projekty/quad-splits/quadsplit_entrypoint-2-9670d642-dd6e-4fd7-b7a0-5bece18c00d0.ipynb /tmp/a2144933c7d0440a90ed66ff2dbd8371.ipynb -p EXPERIMENT_INSTANCE_ID a2144933c7d0440a90ed66ff2dbd8371\"\n",
      "2024-08-04 13:44:26.455 | DEBUG    | mlutils.distributedcomputing.job_scheduling:run_experiments_in_puepe:219 - /opt/homebrew/bin/pueue add -g quad-split \"/Users/bgulowaty/studia/projekty/quad-splits/.venv/bin/papermill --log-output --log-level DEBUG /Users/bgulowaty/studia/projekty/quad-splits/quadsplit_entrypoint-2-9670d642-dd6e-4fd7-b7a0-5bece18c00d0.ipynb /tmp/4ceea51b85c34758a919b12403a538ef.ipynb -p EXPERIMENT_INSTANCE_ID 4ceea51b85c34758a919b12403a538ef\"\n"
     ]
    },
    {
     "name": "stdout",
     "output_type": "stream",
     "text": [
      "New task added (id 1635).\n",
      "New task added (id 1636).\n",
      "New task added (id 1637).\n",
      "New task added (id 1638).\n",
      "New task added (id 1639).\n"
     ]
    },
    {
     "name": "stderr",
     "output_type": "stream",
     "text": [
      "2024-08-04 13:44:26.506 | DEBUG    | mlutils.distributedcomputing.job_scheduling:run_experiments_in_puepe:219 - /opt/homebrew/bin/pueue add -g quad-split \"/Users/bgulowaty/studia/projekty/quad-splits/.venv/bin/papermill --log-output --log-level DEBUG /Users/bgulowaty/studia/projekty/quad-splits/quadsplit_entrypoint-2-9670d642-dd6e-4fd7-b7a0-5bece18c00d0.ipynb /tmp/18be28389d3f4b9f8b6a4aee10f0f0c4.ipynb -p EXPERIMENT_INSTANCE_ID 18be28389d3f4b9f8b6a4aee10f0f0c4\"\n",
      "2024-08-04 13:44:26.549 | DEBUG    | mlutils.distributedcomputing.job_scheduling:run_experiments_in_puepe:219 - /opt/homebrew/bin/pueue add -g quad-split \"/Users/bgulowaty/studia/projekty/quad-splits/.venv/bin/papermill --log-output --log-level DEBUG /Users/bgulowaty/studia/projekty/quad-splits/quadsplit_entrypoint-2-9670d642-dd6e-4fd7-b7a0-5bece18c00d0.ipynb /tmp/aec9c70538a24340a8a89642b88fec64.ipynb -p EXPERIMENT_INSTANCE_ID aec9c70538a24340a8a89642b88fec64\"\n",
      "2024-08-04 13:44:26.583 | DEBUG    | mlutils.distributedcomputing.job_scheduling:run_experiments_in_puepe:219 - /opt/homebrew/bin/pueue add -g quad-split \"/Users/bgulowaty/studia/projekty/quad-splits/.venv/bin/papermill --log-output --log-level DEBUG /Users/bgulowaty/studia/projekty/quad-splits/quadsplit_entrypoint-2-9670d642-dd6e-4fd7-b7a0-5bece18c00d0.ipynb /tmp/c77c863919664afc8c225ec04af89ff1.ipynb -p EXPERIMENT_INSTANCE_ID c77c863919664afc8c225ec04af89ff1\"\n",
      "2024-08-04 13:44:26.615 | DEBUG    | mlutils.distributedcomputing.job_scheduling:run_experiments_in_puepe:219 - /opt/homebrew/bin/pueue add -g quad-split \"/Users/bgulowaty/studia/projekty/quad-splits/.venv/bin/papermill --log-output --log-level DEBUG /Users/bgulowaty/studia/projekty/quad-splits/quadsplit_entrypoint-2-9670d642-dd6e-4fd7-b7a0-5bece18c00d0.ipynb /tmp/4a7e6d293f024593b1e92d88d93f7930.ipynb -p EXPERIMENT_INSTANCE_ID 4a7e6d293f024593b1e92d88d93f7930\"\n",
      "2024-08-04 13:44:26.646 | DEBUG    | mlutils.distributedcomputing.job_scheduling:run_experiments_in_puepe:219 - /opt/homebrew/bin/pueue add -g quad-split \"/Users/bgulowaty/studia/projekty/quad-splits/.venv/bin/papermill --log-output --log-level DEBUG /Users/bgulowaty/studia/projekty/quad-splits/quadsplit_entrypoint-2-9670d642-dd6e-4fd7-b7a0-5bece18c00d0.ipynb /tmp/e818a30babcd4b369d1bacb8680a01f9.ipynb -p EXPERIMENT_INSTANCE_ID e818a30babcd4b369d1bacb8680a01f9\"\n"
     ]
    },
    {
     "name": "stdout",
     "output_type": "stream",
     "text": [
      "New task added (id 1640).\n",
      "New task added (id 1641).\n",
      "New task added (id 1642).\n",
      "New task added (id 1643).\n",
      "New task added (id 1644).\n"
     ]
    },
    {
     "name": "stderr",
     "output_type": "stream",
     "text": [
      "2024-08-04 13:44:26.718 | DEBUG    | mlutils.distributedcomputing.job_scheduling:run_experiments_in_puepe:219 - /opt/homebrew/bin/pueue add -g quad-split \"/Users/bgulowaty/studia/projekty/quad-splits/.venv/bin/papermill --log-output --log-level DEBUG /Users/bgulowaty/studia/projekty/quad-splits/quadsplit_entrypoint-2-9670d642-dd6e-4fd7-b7a0-5bece18c00d0.ipynb /tmp/d81544826d234a4da4ee3654a9e797ef.ipynb -p EXPERIMENT_INSTANCE_ID d81544826d234a4da4ee3654a9e797ef\"\n",
      "2024-08-04 13:44:26.745 | DEBUG    | mlutils.distributedcomputing.job_scheduling:run_experiments_in_puepe:219 - /opt/homebrew/bin/pueue add -g quad-split \"/Users/bgulowaty/studia/projekty/quad-splits/.venv/bin/papermill --log-output --log-level DEBUG /Users/bgulowaty/studia/projekty/quad-splits/quadsplit_entrypoint-2-9670d642-dd6e-4fd7-b7a0-5bece18c00d0.ipynb /tmp/82161e1a9ab847ba8c9b0b3b96ed2ded.ipynb -p EXPERIMENT_INSTANCE_ID 82161e1a9ab847ba8c9b0b3b96ed2ded\"\n",
      "2024-08-04 13:44:26.851 | DEBUG    | mlutils.distributedcomputing.job_scheduling:run_experiments_in_puepe:219 - /opt/homebrew/bin/pueue add -g quad-split \"/Users/bgulowaty/studia/projekty/quad-splits/.venv/bin/papermill --log-output --log-level DEBUG /Users/bgulowaty/studia/projekty/quad-splits/quadsplit_entrypoint-2-9670d642-dd6e-4fd7-b7a0-5bece18c00d0.ipynb /tmp/55e60f7c9caa426b97ee0a44000ac627.ipynb -p EXPERIMENT_INSTANCE_ID 55e60f7c9caa426b97ee0a44000ac627\"\n",
      "2024-08-04 13:44:26.885 | DEBUG    | mlutils.distributedcomputing.job_scheduling:run_experiments_in_puepe:219 - /opt/homebrew/bin/pueue add -g quad-split \"/Users/bgulowaty/studia/projekty/quad-splits/.venv/bin/papermill --log-output --log-level DEBUG /Users/bgulowaty/studia/projekty/quad-splits/quadsplit_entrypoint-2-9670d642-dd6e-4fd7-b7a0-5bece18c00d0.ipynb /tmp/1fd9e53377874b4eaed485602d8208ab.ipynb -p EXPERIMENT_INSTANCE_ID 1fd9e53377874b4eaed485602d8208ab\"\n"
     ]
    },
    {
     "name": "stdout",
     "output_type": "stream",
     "text": [
      "New task added (id 1645).\n",
      "New task added (id 1646).\n",
      "New task added (id 1647).\n",
      "New task added (id 1648).\n"
     ]
    },
    {
     "name": "stderr",
     "output_type": "stream",
     "text": [
      "2024-08-04 13:44:26.919 | DEBUG    | mlutils.distributedcomputing.job_scheduling:run_experiments_in_puepe:219 - /opt/homebrew/bin/pueue add -g quad-split \"/Users/bgulowaty/studia/projekty/quad-splits/.venv/bin/papermill --log-output --log-level DEBUG /Users/bgulowaty/studia/projekty/quad-splits/quadsplit_entrypoint-2-9670d642-dd6e-4fd7-b7a0-5bece18c00d0.ipynb /tmp/3aceb9218db2411c97a0e56f8fad05df.ipynb -p EXPERIMENT_INSTANCE_ID 3aceb9218db2411c97a0e56f8fad05df\"\n",
      "2024-08-04 13:44:26.954 | DEBUG    | mlutils.distributedcomputing.job_scheduling:run_experiments_in_puepe:219 - /opt/homebrew/bin/pueue add -g quad-split \"/Users/bgulowaty/studia/projekty/quad-splits/.venv/bin/papermill --log-output --log-level DEBUG /Users/bgulowaty/studia/projekty/quad-splits/quadsplit_entrypoint-2-9670d642-dd6e-4fd7-b7a0-5bece18c00d0.ipynb /tmp/8ce9ea44c6964d70bd099336332ea3bd.ipynb -p EXPERIMENT_INSTANCE_ID 8ce9ea44c6964d70bd099336332ea3bd\"\n",
      "2024-08-04 13:44:27.023 | DEBUG    | mlutils.distributedcomputing.job_scheduling:run_experiments_in_puepe:219 - /opt/homebrew/bin/pueue add -g quad-split \"/Users/bgulowaty/studia/projekty/quad-splits/.venv/bin/papermill --log-output --log-level DEBUG /Users/bgulowaty/studia/projekty/quad-splits/quadsplit_entrypoint-2-9670d642-dd6e-4fd7-b7a0-5bece18c00d0.ipynb /tmp/f9c9bc5176c647528c9bbba4e618a3e2.ipynb -p EXPERIMENT_INSTANCE_ID f9c9bc5176c647528c9bbba4e618a3e2\"\n",
      "2024-08-04 13:44:27.054 | DEBUG    | mlutils.distributedcomputing.job_scheduling:run_experiments_in_puepe:219 - /opt/homebrew/bin/pueue add -g quad-split \"/Users/bgulowaty/studia/projekty/quad-splits/.venv/bin/papermill --log-output --log-level DEBUG /Users/bgulowaty/studia/projekty/quad-splits/quadsplit_entrypoint-2-9670d642-dd6e-4fd7-b7a0-5bece18c00d0.ipynb /tmp/7ebaf1a47ee149f2b7db36fb1548f7b0.ipynb -p EXPERIMENT_INSTANCE_ID 7ebaf1a47ee149f2b7db36fb1548f7b0\"\n",
      "2024-08-04 13:44:27.103 | DEBUG    | mlutils.distributedcomputing.job_scheduling:run_experiments_in_puepe:219 - /opt/homebrew/bin/pueue add -g quad-split \"/Users/bgulowaty/studia/projekty/quad-splits/.venv/bin/papermill --log-output --log-level DEBUG /Users/bgulowaty/studia/projekty/quad-splits/quadsplit_entrypoint-2-9670d642-dd6e-4fd7-b7a0-5bece18c00d0.ipynb /tmp/ee3a554081694579b0b6b11c2c8b6f35.ipynb -p EXPERIMENT_INSTANCE_ID ee3a554081694579b0b6b11c2c8b6f35\"\n"
     ]
    },
    {
     "name": "stdout",
     "output_type": "stream",
     "text": [
      "New task added (id 1649).\n",
      "New task added (id 1650).\n",
      "New task added (id 1651).\n",
      "New task added (id 1652).\n",
      "New task added (id 1653).\n"
     ]
    },
    {
     "name": "stderr",
     "output_type": "stream",
     "text": [
      "2024-08-04 13:44:27.163 | DEBUG    | mlutils.distributedcomputing.job_scheduling:run_experiments_in_puepe:219 - /opt/homebrew/bin/pueue add -g quad-split \"/Users/bgulowaty/studia/projekty/quad-splits/.venv/bin/papermill --log-output --log-level DEBUG /Users/bgulowaty/studia/projekty/quad-splits/quadsplit_entrypoint-2-9670d642-dd6e-4fd7-b7a0-5bece18c00d0.ipynb /tmp/317042aa56ac414eaeaa5611d49948e0.ipynb -p EXPERIMENT_INSTANCE_ID 317042aa56ac414eaeaa5611d49948e0\"\n",
      "2024-08-04 13:44:27.203 | DEBUG    | mlutils.distributedcomputing.job_scheduling:run_experiments_in_puepe:219 - /opt/homebrew/bin/pueue add -g quad-split \"/Users/bgulowaty/studia/projekty/quad-splits/.venv/bin/papermill --log-output --log-level DEBUG /Users/bgulowaty/studia/projekty/quad-splits/quadsplit_entrypoint-2-9670d642-dd6e-4fd7-b7a0-5bece18c00d0.ipynb /tmp/d96f2d432bd64b69b76afa8f7f48fc0d.ipynb -p EXPERIMENT_INSTANCE_ID d96f2d432bd64b69b76afa8f7f48fc0d\"\n",
      "2024-08-04 13:44:27.242 | DEBUG    | mlutils.distributedcomputing.job_scheduling:run_experiments_in_puepe:219 - /opt/homebrew/bin/pueue add -g quad-split \"/Users/bgulowaty/studia/projekty/quad-splits/.venv/bin/papermill --log-output --log-level DEBUG /Users/bgulowaty/studia/projekty/quad-splits/quadsplit_entrypoint-2-9670d642-dd6e-4fd7-b7a0-5bece18c00d0.ipynb /tmp/ec9172ec9faf4f69943f7d539d0ccc8f.ipynb -p EXPERIMENT_INSTANCE_ID ec9172ec9faf4f69943f7d539d0ccc8f\"\n"
     ]
    },
    {
     "name": "stdout",
     "output_type": "stream",
     "text": [
      "New task added (id 1654).\n",
      "New task added (id 1655).\n",
      "New task added (id 1656).\n"
     ]
    },
    {
     "name": "stderr",
     "output_type": "stream",
     "text": [
      "2024-08-04 13:44:27.448 | DEBUG    | mlutils.distributedcomputing.job_scheduling:run_experiments_in_puepe:219 - /opt/homebrew/bin/pueue add -g quad-split \"/Users/bgulowaty/studia/projekty/quad-splits/.venv/bin/papermill --log-output --log-level DEBUG /Users/bgulowaty/studia/projekty/quad-splits/quadsplit_entrypoint-2-9670d642-dd6e-4fd7-b7a0-5bece18c00d0.ipynb /tmp/886b9aff288c4e4fa2088b31e5e97ed6.ipynb -p EXPERIMENT_INSTANCE_ID 886b9aff288c4e4fa2088b31e5e97ed6\"\n",
      "2024-08-04 13:44:27.505 | DEBUG    | mlutils.distributedcomputing.job_scheduling:run_experiments_in_puepe:219 - /opt/homebrew/bin/pueue add -g quad-split \"/Users/bgulowaty/studia/projekty/quad-splits/.venv/bin/papermill --log-output --log-level DEBUG /Users/bgulowaty/studia/projekty/quad-splits/quadsplit_entrypoint-2-9670d642-dd6e-4fd7-b7a0-5bece18c00d0.ipynb /tmp/b80f728e6b634a67b17ba7c7c538d507.ipynb -p EXPERIMENT_INSTANCE_ID b80f728e6b634a67b17ba7c7c538d507\"\n",
      "2024-08-04 13:44:27.540 | DEBUG    | mlutils.distributedcomputing.job_scheduling:run_experiments_in_puepe:219 - /opt/homebrew/bin/pueue add -g quad-split \"/Users/bgulowaty/studia/projekty/quad-splits/.venv/bin/papermill --log-output --log-level DEBUG /Users/bgulowaty/studia/projekty/quad-splits/quadsplit_entrypoint-2-9670d642-dd6e-4fd7-b7a0-5bece18c00d0.ipynb /tmp/7615d5a1965a452db7a54fdf97122d09.ipynb -p EXPERIMENT_INSTANCE_ID 7615d5a1965a452db7a54fdf97122d09\"\n",
      "2024-08-04 13:44:27.574 | DEBUG    | mlutils.distributedcomputing.job_scheduling:run_experiments_in_puepe:219 - /opt/homebrew/bin/pueue add -g quad-split \"/Users/bgulowaty/studia/projekty/quad-splits/.venv/bin/papermill --log-output --log-level DEBUG /Users/bgulowaty/studia/projekty/quad-splits/quadsplit_entrypoint-2-9670d642-dd6e-4fd7-b7a0-5bece18c00d0.ipynb /tmp/d42636eac5964303b0c585e59ac84f80.ipynb -p EXPERIMENT_INSTANCE_ID d42636eac5964303b0c585e59ac84f80\"\n",
      "2024-08-04 13:44:27.607 | DEBUG    | mlutils.distributedcomputing.job_scheduling:run_experiments_in_puepe:219 - /opt/homebrew/bin/pueue add -g quad-split \"/Users/bgulowaty/studia/projekty/quad-splits/.venv/bin/papermill --log-output --log-level DEBUG /Users/bgulowaty/studia/projekty/quad-splits/quadsplit_entrypoint-2-9670d642-dd6e-4fd7-b7a0-5bece18c00d0.ipynb /tmp/6d1340c5ce1243c8a1221c6c73d500be.ipynb -p EXPERIMENT_INSTANCE_ID 6d1340c5ce1243c8a1221c6c73d500be\"\n",
      "2024-08-04 13:44:27.637 | DEBUG    | mlutils.distributedcomputing.job_scheduling:run_experiments_in_puepe:219 - /opt/homebrew/bin/pueue add -g quad-split \"/Users/bgulowaty/studia/projekty/quad-splits/.venv/bin/papermill --log-output --log-level DEBUG /Users/bgulowaty/studia/projekty/quad-splits/quadsplit_entrypoint-2-9670d642-dd6e-4fd7-b7a0-5bece18c00d0.ipynb /tmp/54a2ccdf1f2d4a7f9895f1ad963e0020.ipynb -p EXPERIMENT_INSTANCE_ID 54a2ccdf1f2d4a7f9895f1ad963e0020\"\n"
     ]
    },
    {
     "name": "stdout",
     "output_type": "stream",
     "text": [
      "New task added (id 1657).\n",
      "New task added (id 1658).\n",
      "New task added (id 1659).\n",
      "New task added (id 1660).\n",
      "New task added (id 1661).\n",
      "New task added (id 1662).\n"
     ]
    },
    {
     "name": "stderr",
     "output_type": "stream",
     "text": [
      "2024-08-04 13:44:27.666 | DEBUG    | mlutils.distributedcomputing.job_scheduling:run_experiments_in_puepe:219 - /opt/homebrew/bin/pueue add -g quad-split \"/Users/bgulowaty/studia/projekty/quad-splits/.venv/bin/papermill --log-output --log-level DEBUG /Users/bgulowaty/studia/projekty/quad-splits/quadsplit_entrypoint-2-9670d642-dd6e-4fd7-b7a0-5bece18c00d0.ipynb /tmp/8af419fd2e014df4af0a7258958a2b84.ipynb -p EXPERIMENT_INSTANCE_ID 8af419fd2e014df4af0a7258958a2b84\"\n",
      "2024-08-04 13:44:27.716 | DEBUG    | mlutils.distributedcomputing.job_scheduling:run_experiments_in_puepe:219 - /opt/homebrew/bin/pueue add -g quad-split \"/Users/bgulowaty/studia/projekty/quad-splits/.venv/bin/papermill --log-output --log-level DEBUG /Users/bgulowaty/studia/projekty/quad-splits/quadsplit_entrypoint-2-9670d642-dd6e-4fd7-b7a0-5bece18c00d0.ipynb /tmp/3b5d4ff364424a19a27b49a3036a4426.ipynb -p EXPERIMENT_INSTANCE_ID 3b5d4ff364424a19a27b49a3036a4426\"\n",
      "2024-08-04 13:44:27.748 | DEBUG    | mlutils.distributedcomputing.job_scheduling:run_experiments_in_puepe:219 - /opt/homebrew/bin/pueue add -g quad-split \"/Users/bgulowaty/studia/projekty/quad-splits/.venv/bin/papermill --log-output --log-level DEBUG /Users/bgulowaty/studia/projekty/quad-splits/quadsplit_entrypoint-2-9670d642-dd6e-4fd7-b7a0-5bece18c00d0.ipynb /tmp/2b99fc190baf492f85d19158ae4ba944.ipynb -p EXPERIMENT_INSTANCE_ID 2b99fc190baf492f85d19158ae4ba944\"\n",
      "2024-08-04 13:44:27.781 | DEBUG    | mlutils.distributedcomputing.job_scheduling:run_experiments_in_puepe:219 - /opt/homebrew/bin/pueue add -g quad-split \"/Users/bgulowaty/studia/projekty/quad-splits/.venv/bin/papermill --log-output --log-level DEBUG /Users/bgulowaty/studia/projekty/quad-splits/quadsplit_entrypoint-2-9670d642-dd6e-4fd7-b7a0-5bece18c00d0.ipynb /tmp/b05df966024c4548b95bea29d845a339.ipynb -p EXPERIMENT_INSTANCE_ID b05df966024c4548b95bea29d845a339\"\n",
      "2024-08-04 13:44:27.820 | DEBUG    | mlutils.distributedcomputing.job_scheduling:run_experiments_in_puepe:219 - /opt/homebrew/bin/pueue add -g quad-split \"/Users/bgulowaty/studia/projekty/quad-splits/.venv/bin/papermill --log-output --log-level DEBUG /Users/bgulowaty/studia/projekty/quad-splits/quadsplit_entrypoint-2-9670d642-dd6e-4fd7-b7a0-5bece18c00d0.ipynb /tmp/0e579bce93ff4752a9e0f2bd4fc04541.ipynb -p EXPERIMENT_INSTANCE_ID 0e579bce93ff4752a9e0f2bd4fc04541\"\n",
      "2024-08-04 13:44:27.851 | DEBUG    | mlutils.distributedcomputing.job_scheduling:run_experiments_in_puepe:219 - /opt/homebrew/bin/pueue add -g quad-split \"/Users/bgulowaty/studia/projekty/quad-splits/.venv/bin/papermill --log-output --log-level DEBUG /Users/bgulowaty/studia/projekty/quad-splits/quadsplit_entrypoint-2-9670d642-dd6e-4fd7-b7a0-5bece18c00d0.ipynb /tmp/2b05f65ad86044479e5ffc774602f01f.ipynb -p EXPERIMENT_INSTANCE_ID 2b05f65ad86044479e5ffc774602f01f\"\n"
     ]
    },
    {
     "name": "stdout",
     "output_type": "stream",
     "text": [
      "New task added (id 1663).\n",
      "New task added (id 1664).\n",
      "New task added (id 1665).\n",
      "New task added (id 1666).\n",
      "New task added (id 1667).\n",
      "New task added (id 1668).\n"
     ]
    },
    {
     "name": "stderr",
     "output_type": "stream",
     "text": [
      "2024-08-04 13:44:27.878 | DEBUG    | mlutils.distributedcomputing.job_scheduling:run_experiments_in_puepe:219 - /opt/homebrew/bin/pueue add -g quad-split \"/Users/bgulowaty/studia/projekty/quad-splits/.venv/bin/papermill --log-output --log-level DEBUG /Users/bgulowaty/studia/projekty/quad-splits/quadsplit_entrypoint-2-9670d642-dd6e-4fd7-b7a0-5bece18c00d0.ipynb /tmp/9226fcc1cc2349c8b810fa4f57882f76.ipynb -p EXPERIMENT_INSTANCE_ID 9226fcc1cc2349c8b810fa4f57882f76\"\n",
      "2024-08-04 13:44:27.922 | DEBUG    | mlutils.distributedcomputing.job_scheduling:run_experiments_in_puepe:219 - /opt/homebrew/bin/pueue add -g quad-split \"/Users/bgulowaty/studia/projekty/quad-splits/.venv/bin/papermill --log-output --log-level DEBUG /Users/bgulowaty/studia/projekty/quad-splits/quadsplit_entrypoint-2-9670d642-dd6e-4fd7-b7a0-5bece18c00d0.ipynb /tmp/044f850f27474a0ba4b45e973a39dbe1.ipynb -p EXPERIMENT_INSTANCE_ID 044f850f27474a0ba4b45e973a39dbe1\"\n",
      "2024-08-04 13:44:27.969 | DEBUG    | mlutils.distributedcomputing.job_scheduling:run_experiments_in_puepe:219 - /opt/homebrew/bin/pueue add -g quad-split \"/Users/bgulowaty/studia/projekty/quad-splits/.venv/bin/papermill --log-output --log-level DEBUG /Users/bgulowaty/studia/projekty/quad-splits/quadsplit_entrypoint-2-9670d642-dd6e-4fd7-b7a0-5bece18c00d0.ipynb /tmp/4b44896f698c46868b7ce20c3831f082.ipynb -p EXPERIMENT_INSTANCE_ID 4b44896f698c46868b7ce20c3831f082\"\n",
      "2024-08-04 13:44:28.002 | DEBUG    | mlutils.distributedcomputing.job_scheduling:run_experiments_in_puepe:219 - /opt/homebrew/bin/pueue add -g quad-split \"/Users/bgulowaty/studia/projekty/quad-splits/.venv/bin/papermill --log-output --log-level DEBUG /Users/bgulowaty/studia/projekty/quad-splits/quadsplit_entrypoint-2-9670d642-dd6e-4fd7-b7a0-5bece18c00d0.ipynb /tmp/12ebbe13d4e84cc4b2e365187ae48fd3.ipynb -p EXPERIMENT_INSTANCE_ID 12ebbe13d4e84cc4b2e365187ae48fd3\"\n",
      "2024-08-04 13:44:28.030 | DEBUG    | mlutils.distributedcomputing.job_scheduling:run_experiments_in_puepe:219 - /opt/homebrew/bin/pueue add -g quad-split \"/Users/bgulowaty/studia/projekty/quad-splits/.venv/bin/papermill --log-output --log-level DEBUG /Users/bgulowaty/studia/projekty/quad-splits/quadsplit_entrypoint-2-9670d642-dd6e-4fd7-b7a0-5bece18c00d0.ipynb /tmp/8635dc9535a140a29f575a6b47a3ae24.ipynb -p EXPERIMENT_INSTANCE_ID 8635dc9535a140a29f575a6b47a3ae24\"\n",
      "2024-08-04 13:44:28.058 | DEBUG    | mlutils.distributedcomputing.job_scheduling:run_experiments_in_puepe:219 - /opt/homebrew/bin/pueue add -g quad-split \"/Users/bgulowaty/studia/projekty/quad-splits/.venv/bin/papermill --log-output --log-level DEBUG /Users/bgulowaty/studia/projekty/quad-splits/quadsplit_entrypoint-2-9670d642-dd6e-4fd7-b7a0-5bece18c00d0.ipynb /tmp/f15f071d06894155806964c2b42a9ecf.ipynb -p EXPERIMENT_INSTANCE_ID f15f071d06894155806964c2b42a9ecf\"\n"
     ]
    },
    {
     "name": "stdout",
     "output_type": "stream",
     "text": [
      "New task added (id 1669).\n",
      "New task added (id 1670).\n",
      "New task added (id 1671).\n",
      "New task added (id 1672).\n",
      "New task added (id 1673).\n",
      "New task added (id 1674).\n"
     ]
    },
    {
     "name": "stderr",
     "output_type": "stream",
     "text": [
      "2024-08-04 13:44:28.106 | DEBUG    | mlutils.distributedcomputing.job_scheduling:run_experiments_in_puepe:219 - /opt/homebrew/bin/pueue add -g quad-split \"/Users/bgulowaty/studia/projekty/quad-splits/.venv/bin/papermill --log-output --log-level DEBUG /Users/bgulowaty/studia/projekty/quad-splits/quadsplit_entrypoint-2-9670d642-dd6e-4fd7-b7a0-5bece18c00d0.ipynb /tmp/a5f9c5dd2e2d43c58cee0943b8e8e7d6.ipynb -p EXPERIMENT_INSTANCE_ID a5f9c5dd2e2d43c58cee0943b8e8e7d6\"\n",
      "2024-08-04 13:44:28.130 | DEBUG    | mlutils.distributedcomputing.job_scheduling:run_experiments_in_puepe:219 - /opt/homebrew/bin/pueue add -g quad-split \"/Users/bgulowaty/studia/projekty/quad-splits/.venv/bin/papermill --log-output --log-level DEBUG /Users/bgulowaty/studia/projekty/quad-splits/quadsplit_entrypoint-2-9670d642-dd6e-4fd7-b7a0-5bece18c00d0.ipynb /tmp/ef93c308d04f4af6a1497983d695481b.ipynb -p EXPERIMENT_INSTANCE_ID ef93c308d04f4af6a1497983d695481b\"\n",
      "2024-08-04 13:44:28.156 | DEBUG    | mlutils.distributedcomputing.job_scheduling:run_experiments_in_puepe:219 - /opt/homebrew/bin/pueue add -g quad-split \"/Users/bgulowaty/studia/projekty/quad-splits/.venv/bin/papermill --log-output --log-level DEBUG /Users/bgulowaty/studia/projekty/quad-splits/quadsplit_entrypoint-2-9670d642-dd6e-4fd7-b7a0-5bece18c00d0.ipynb /tmp/c5d7ff766f9d49b8a16f6a888c23d609.ipynb -p EXPERIMENT_INSTANCE_ID c5d7ff766f9d49b8a16f6a888c23d609\"\n",
      "2024-08-04 13:44:28.232 | DEBUG    | mlutils.distributedcomputing.job_scheduling:run_experiments_in_puepe:219 - /opt/homebrew/bin/pueue add -g quad-split \"/Users/bgulowaty/studia/projekty/quad-splits/.venv/bin/papermill --log-output --log-level DEBUG /Users/bgulowaty/studia/projekty/quad-splits/quadsplit_entrypoint-2-9670d642-dd6e-4fd7-b7a0-5bece18c00d0.ipynb /tmp/1c4051efcfa44f8a843329cae01ece48.ipynb -p EXPERIMENT_INSTANCE_ID 1c4051efcfa44f8a843329cae01ece48\"\n",
      "2024-08-04 13:44:28.259 | DEBUG    | mlutils.distributedcomputing.job_scheduling:run_experiments_in_puepe:219 - /opt/homebrew/bin/pueue add -g quad-split \"/Users/bgulowaty/studia/projekty/quad-splits/.venv/bin/papermill --log-output --log-level DEBUG /Users/bgulowaty/studia/projekty/quad-splits/quadsplit_entrypoint-2-9670d642-dd6e-4fd7-b7a0-5bece18c00d0.ipynb /tmp/446a1c11b3b842f9b793c889797ab43b.ipynb -p EXPERIMENT_INSTANCE_ID 446a1c11b3b842f9b793c889797ab43b\"\n",
      "2024-08-04 13:44:28.287 | DEBUG    | mlutils.distributedcomputing.job_scheduling:run_experiments_in_puepe:219 - /opt/homebrew/bin/pueue add -g quad-split \"/Users/bgulowaty/studia/projekty/quad-splits/.venv/bin/papermill --log-output --log-level DEBUG /Users/bgulowaty/studia/projekty/quad-splits/quadsplit_entrypoint-2-9670d642-dd6e-4fd7-b7a0-5bece18c00d0.ipynb /tmp/b3f131cf1b09483ba7d013a5dc64cce7.ipynb -p EXPERIMENT_INSTANCE_ID b3f131cf1b09483ba7d013a5dc64cce7\"\n"
     ]
    },
    {
     "name": "stdout",
     "output_type": "stream",
     "text": [
      "New task added (id 1675).\n",
      "New task added (id 1676).\n",
      "New task added (id 1677).\n",
      "New task added (id 1678).\n",
      "New task added (id 1679).\n",
      "New task added (id 1680).\n"
     ]
    },
    {
     "name": "stderr",
     "output_type": "stream",
     "text": [
      "2024-08-04 13:44:28.350 | DEBUG    | mlutils.distributedcomputing.job_scheduling:run_experiments_in_puepe:219 - /opt/homebrew/bin/pueue add -g quad-split \"/Users/bgulowaty/studia/projekty/quad-splits/.venv/bin/papermill --log-output --log-level DEBUG /Users/bgulowaty/studia/projekty/quad-splits/quadsplit_entrypoint-2-9670d642-dd6e-4fd7-b7a0-5bece18c00d0.ipynb /tmp/0b11c8b0ac964835989c8158a9caa016.ipynb -p EXPERIMENT_INSTANCE_ID 0b11c8b0ac964835989c8158a9caa016\"\n",
      "2024-08-04 13:44:28.383 | DEBUG    | mlutils.distributedcomputing.job_scheduling:run_experiments_in_puepe:219 - /opt/homebrew/bin/pueue add -g quad-split \"/Users/bgulowaty/studia/projekty/quad-splits/.venv/bin/papermill --log-output --log-level DEBUG /Users/bgulowaty/studia/projekty/quad-splits/quadsplit_entrypoint-2-9670d642-dd6e-4fd7-b7a0-5bece18c00d0.ipynb /tmp/68caec5a2e33406684b9a09c435d3ff1.ipynb -p EXPERIMENT_INSTANCE_ID 68caec5a2e33406684b9a09c435d3ff1\"\n",
      "2024-08-04 13:44:28.415 | DEBUG    | mlutils.distributedcomputing.job_scheduling:run_experiments_in_puepe:219 - /opt/homebrew/bin/pueue add -g quad-split \"/Users/bgulowaty/studia/projekty/quad-splits/.venv/bin/papermill --log-output --log-level DEBUG /Users/bgulowaty/studia/projekty/quad-splits/quadsplit_entrypoint-2-9670d642-dd6e-4fd7-b7a0-5bece18c00d0.ipynb /tmp/8998d36ac2374d8fa8ce2b1933dbc270.ipynb -p EXPERIMENT_INSTANCE_ID 8998d36ac2374d8fa8ce2b1933dbc270\"\n",
      "2024-08-04 13:44:28.460 | DEBUG    | mlutils.distributedcomputing.job_scheduling:run_experiments_in_puepe:219 - /opt/homebrew/bin/pueue add -g quad-split \"/Users/bgulowaty/studia/projekty/quad-splits/.venv/bin/papermill --log-output --log-level DEBUG /Users/bgulowaty/studia/projekty/quad-splits/quadsplit_entrypoint-2-9670d642-dd6e-4fd7-b7a0-5bece18c00d0.ipynb /tmp/e357f93dc70342a49e8f6dbc30bb8f39.ipynb -p EXPERIMENT_INSTANCE_ID e357f93dc70342a49e8f6dbc30bb8f39\"\n",
      "2024-08-04 13:44:28.499 | DEBUG    | mlutils.distributedcomputing.job_scheduling:run_experiments_in_puepe:219 - /opt/homebrew/bin/pueue add -g quad-split \"/Users/bgulowaty/studia/projekty/quad-splits/.venv/bin/papermill --log-output --log-level DEBUG /Users/bgulowaty/studia/projekty/quad-splits/quadsplit_entrypoint-2-9670d642-dd6e-4fd7-b7a0-5bece18c00d0.ipynb /tmp/7125fd04223944a183097ae582c0f407.ipynb -p EXPERIMENT_INSTANCE_ID 7125fd04223944a183097ae582c0f407\"\n",
      "2024-08-04 13:44:28.525 | DEBUG    | mlutils.distributedcomputing.job_scheduling:run_experiments_in_puepe:219 - /opt/homebrew/bin/pueue add -g quad-split \"/Users/bgulowaty/studia/projekty/quad-splits/.venv/bin/papermill --log-output --log-level DEBUG /Users/bgulowaty/studia/projekty/quad-splits/quadsplit_entrypoint-2-9670d642-dd6e-4fd7-b7a0-5bece18c00d0.ipynb /tmp/3a790d1699264943a9f97411a97b4009.ipynb -p EXPERIMENT_INSTANCE_ID 3a790d1699264943a9f97411a97b4009\"\n"
     ]
    },
    {
     "name": "stdout",
     "output_type": "stream",
     "text": [
      "New task added (id 1681).\n",
      "New task added (id 1682).\n",
      "New task added (id 1683).\n",
      "New task added (id 1684).\n",
      "New task added (id 1685).\n",
      "New task added (id 1686).\n"
     ]
    },
    {
     "name": "stderr",
     "output_type": "stream",
     "text": [
      "2024-08-04 13:44:28.595 | DEBUG    | mlutils.distributedcomputing.job_scheduling:run_experiments_in_puepe:219 - /opt/homebrew/bin/pueue add -g quad-split \"/Users/bgulowaty/studia/projekty/quad-splits/.venv/bin/papermill --log-output --log-level DEBUG /Users/bgulowaty/studia/projekty/quad-splits/quadsplit_entrypoint-2-9670d642-dd6e-4fd7-b7a0-5bece18c00d0.ipynb /tmp/f3ca4f9d0d484f0490a104afbcc1d9af.ipynb -p EXPERIMENT_INSTANCE_ID f3ca4f9d0d484f0490a104afbcc1d9af\"\n",
      "2024-08-04 13:44:28.626 | DEBUG    | mlutils.distributedcomputing.job_scheduling:run_experiments_in_puepe:219 - /opt/homebrew/bin/pueue add -g quad-split \"/Users/bgulowaty/studia/projekty/quad-splits/.venv/bin/papermill --log-output --log-level DEBUG /Users/bgulowaty/studia/projekty/quad-splits/quadsplit_entrypoint-2-9670d642-dd6e-4fd7-b7a0-5bece18c00d0.ipynb /tmp/a2d54f19e99649469aa3d04c7efd80d9.ipynb -p EXPERIMENT_INSTANCE_ID a2d54f19e99649469aa3d04c7efd80d9\"\n",
      "2024-08-04 13:44:28.693 | DEBUG    | mlutils.distributedcomputing.job_scheduling:run_experiments_in_puepe:219 - /opt/homebrew/bin/pueue add -g quad-split \"/Users/bgulowaty/studia/projekty/quad-splits/.venv/bin/papermill --log-output --log-level DEBUG /Users/bgulowaty/studia/projekty/quad-splits/quadsplit_entrypoint-2-9670d642-dd6e-4fd7-b7a0-5bece18c00d0.ipynb /tmp/b054256193684cdb988bae8742340c26.ipynb -p EXPERIMENT_INSTANCE_ID b054256193684cdb988bae8742340c26\"\n",
      "2024-08-04 13:44:28.726 | DEBUG    | mlutils.distributedcomputing.job_scheduling:run_experiments_in_puepe:219 - /opt/homebrew/bin/pueue add -g quad-split \"/Users/bgulowaty/studia/projekty/quad-splits/.venv/bin/papermill --log-output --log-level DEBUG /Users/bgulowaty/studia/projekty/quad-splits/quadsplit_entrypoint-2-9670d642-dd6e-4fd7-b7a0-5bece18c00d0.ipynb /tmp/595ecbef1a9b46b2a1907bd5cedb4a99.ipynb -p EXPERIMENT_INSTANCE_ID 595ecbef1a9b46b2a1907bd5cedb4a99\"\n",
      "2024-08-04 13:44:28.775 | DEBUG    | mlutils.distributedcomputing.job_scheduling:run_experiments_in_puepe:219 - /opt/homebrew/bin/pueue add -g quad-split \"/Users/bgulowaty/studia/projekty/quad-splits/.venv/bin/papermill --log-output --log-level DEBUG /Users/bgulowaty/studia/projekty/quad-splits/quadsplit_entrypoint-2-9670d642-dd6e-4fd7-b7a0-5bece18c00d0.ipynb /tmp/8fb15dc8178840c2b3af377d2ea347de.ipynb -p EXPERIMENT_INSTANCE_ID 8fb15dc8178840c2b3af377d2ea347de\"\n"
     ]
    },
    {
     "name": "stdout",
     "output_type": "stream",
     "text": [
      "New task added (id 1687).\n",
      "New task added (id 1688).\n",
      "New task added (id 1689).\n",
      "New task added (id 1690).\n",
      "New task added (id 1691).\n"
     ]
    },
    {
     "name": "stderr",
     "output_type": "stream",
     "text": [
      "2024-08-04 13:44:28.805 | DEBUG    | mlutils.distributedcomputing.job_scheduling:run_experiments_in_puepe:219 - /opt/homebrew/bin/pueue add -g quad-split \"/Users/bgulowaty/studia/projekty/quad-splits/.venv/bin/papermill --log-output --log-level DEBUG /Users/bgulowaty/studia/projekty/quad-splits/quadsplit_entrypoint-2-9670d642-dd6e-4fd7-b7a0-5bece18c00d0.ipynb /tmp/0eb1d8186f3448579c5a336e415f2be7.ipynb -p EXPERIMENT_INSTANCE_ID 0eb1d8186f3448579c5a336e415f2be7\"\n",
      "2024-08-04 13:44:28.841 | DEBUG    | mlutils.distributedcomputing.job_scheduling:run_experiments_in_puepe:219 - /opt/homebrew/bin/pueue add -g quad-split \"/Users/bgulowaty/studia/projekty/quad-splits/.venv/bin/papermill --log-output --log-level DEBUG /Users/bgulowaty/studia/projekty/quad-splits/quadsplit_entrypoint-2-9670d642-dd6e-4fd7-b7a0-5bece18c00d0.ipynb /tmp/2f989636652249cdb832a96df09b950c.ipynb -p EXPERIMENT_INSTANCE_ID 2f989636652249cdb832a96df09b950c\"\n",
      "2024-08-04 13:44:28.897 | DEBUG    | mlutils.distributedcomputing.job_scheduling:run_experiments_in_puepe:219 - /opt/homebrew/bin/pueue add -g quad-split \"/Users/bgulowaty/studia/projekty/quad-splits/.venv/bin/papermill --log-output --log-level DEBUG /Users/bgulowaty/studia/projekty/quad-splits/quadsplit_entrypoint-2-9670d642-dd6e-4fd7-b7a0-5bece18c00d0.ipynb /tmp/5d53425ddc1d4afc8b14f80ef0031a14.ipynb -p EXPERIMENT_INSTANCE_ID 5d53425ddc1d4afc8b14f80ef0031a14\"\n",
      "2024-08-04 13:44:28.928 | DEBUG    | mlutils.distributedcomputing.job_scheduling:run_experiments_in_puepe:219 - /opt/homebrew/bin/pueue add -g quad-split \"/Users/bgulowaty/studia/projekty/quad-splits/.venv/bin/papermill --log-output --log-level DEBUG /Users/bgulowaty/studia/projekty/quad-splits/quadsplit_entrypoint-2-9670d642-dd6e-4fd7-b7a0-5bece18c00d0.ipynb /tmp/43df4c3cd9c24909a0970049acdaf989.ipynb -p EXPERIMENT_INSTANCE_ID 43df4c3cd9c24909a0970049acdaf989\"\n",
      "2024-08-04 13:44:28.959 | DEBUG    | mlutils.distributedcomputing.job_scheduling:run_experiments_in_puepe:219 - /opt/homebrew/bin/pueue add -g quad-split \"/Users/bgulowaty/studia/projekty/quad-splits/.venv/bin/papermill --log-output --log-level DEBUG /Users/bgulowaty/studia/projekty/quad-splits/quadsplit_entrypoint-2-9670d642-dd6e-4fd7-b7a0-5bece18c00d0.ipynb /tmp/e99b27e9f89d469d866f7503b481ad10.ipynb -p EXPERIMENT_INSTANCE_ID e99b27e9f89d469d866f7503b481ad10\"\n"
     ]
    },
    {
     "name": "stdout",
     "output_type": "stream",
     "text": [
      "New task added (id 1692).\n",
      "New task added (id 1693).\n",
      "New task added (id 1694).\n",
      "New task added (id 1695).\n",
      "New task added (id 1696).\n"
     ]
    },
    {
     "name": "stderr",
     "output_type": "stream",
     "text": [
      "2024-08-04 13:44:29.011 | DEBUG    | mlutils.distributedcomputing.job_scheduling:run_experiments_in_puepe:219 - /opt/homebrew/bin/pueue add -g quad-split \"/Users/bgulowaty/studia/projekty/quad-splits/.venv/bin/papermill --log-output --log-level DEBUG /Users/bgulowaty/studia/projekty/quad-splits/quadsplit_entrypoint-2-9670d642-dd6e-4fd7-b7a0-5bece18c00d0.ipynb /tmp/8ca75422e762472fbe626f7b6d24c1ff.ipynb -p EXPERIMENT_INSTANCE_ID 8ca75422e762472fbe626f7b6d24c1ff\"\n",
      "2024-08-04 13:44:29.046 | DEBUG    | mlutils.distributedcomputing.job_scheduling:run_experiments_in_puepe:219 - /opt/homebrew/bin/pueue add -g quad-split \"/Users/bgulowaty/studia/projekty/quad-splits/.venv/bin/papermill --log-output --log-level DEBUG /Users/bgulowaty/studia/projekty/quad-splits/quadsplit_entrypoint-2-9670d642-dd6e-4fd7-b7a0-5bece18c00d0.ipynb /tmp/ba522af8fdf24f1eaaba54799f66a85f.ipynb -p EXPERIMENT_INSTANCE_ID ba522af8fdf24f1eaaba54799f66a85f\"\n",
      "2024-08-04 13:44:29.071 | DEBUG    | mlutils.distributedcomputing.job_scheduling:run_experiments_in_puepe:219 - /opt/homebrew/bin/pueue add -g quad-split \"/Users/bgulowaty/studia/projekty/quad-splits/.venv/bin/papermill --log-output --log-level DEBUG /Users/bgulowaty/studia/projekty/quad-splits/quadsplit_entrypoint-2-9670d642-dd6e-4fd7-b7a0-5bece18c00d0.ipynb /tmp/577b324e62ef4260a82a2740f02939ee.ipynb -p EXPERIMENT_INSTANCE_ID 577b324e62ef4260a82a2740f02939ee\"\n",
      "2024-08-04 13:44:29.097 | DEBUG    | mlutils.distributedcomputing.job_scheduling:run_experiments_in_puepe:219 - /opt/homebrew/bin/pueue add -g quad-split \"/Users/bgulowaty/studia/projekty/quad-splits/.venv/bin/papermill --log-output --log-level DEBUG /Users/bgulowaty/studia/projekty/quad-splits/quadsplit_entrypoint-2-9670d642-dd6e-4fd7-b7a0-5bece18c00d0.ipynb /tmp/6eb035a924d64f6cbe13bef9aead7153.ipynb -p EXPERIMENT_INSTANCE_ID 6eb035a924d64f6cbe13bef9aead7153\"\n",
      "2024-08-04 13:44:29.121 | DEBUG    | mlutils.distributedcomputing.job_scheduling:run_experiments_in_puepe:219 - /opt/homebrew/bin/pueue add -g quad-split \"/Users/bgulowaty/studia/projekty/quad-splits/.venv/bin/papermill --log-output --log-level DEBUG /Users/bgulowaty/studia/projekty/quad-splits/quadsplit_entrypoint-2-9670d642-dd6e-4fd7-b7a0-5bece18c00d0.ipynb /tmp/5c7d97f8b4c14f00b34b0b1efcf30e2b.ipynb -p EXPERIMENT_INSTANCE_ID 5c7d97f8b4c14f00b34b0b1efcf30e2b\"\n",
      "2024-08-04 13:44:29.197 | DEBUG    | mlutils.distributedcomputing.job_scheduling:run_experiments_in_puepe:219 - /opt/homebrew/bin/pueue add -g quad-split \"/Users/bgulowaty/studia/projekty/quad-splits/.venv/bin/papermill --log-output --log-level DEBUG /Users/bgulowaty/studia/projekty/quad-splits/quadsplit_entrypoint-2-9670d642-dd6e-4fd7-b7a0-5bece18c00d0.ipynb /tmp/b1fc47a9d9bb497bbec0198f45b020e5.ipynb -p EXPERIMENT_INSTANCE_ID b1fc47a9d9bb497bbec0198f45b020e5\"\n"
     ]
    },
    {
     "name": "stdout",
     "output_type": "stream",
     "text": [
      "New task added (id 1697).\n",
      "New task added (id 1698).\n",
      "New task added (id 1699).\n",
      "New task added (id 1700).\n",
      "New task added (id 1701).\n",
      "New task added (id 1702).\n"
     ]
    },
    {
     "name": "stderr",
     "output_type": "stream",
     "text": [
      "2024-08-04 13:44:29.223 | DEBUG    | mlutils.distributedcomputing.job_scheduling:run_experiments_in_puepe:219 - /opt/homebrew/bin/pueue add -g quad-split \"/Users/bgulowaty/studia/projekty/quad-splits/.venv/bin/papermill --log-output --log-level DEBUG /Users/bgulowaty/studia/projekty/quad-splits/quadsplit_entrypoint-2-9670d642-dd6e-4fd7-b7a0-5bece18c00d0.ipynb /tmp/68a0112d55c0437bb57b725b46d44a46.ipynb -p EXPERIMENT_INSTANCE_ID 68a0112d55c0437bb57b725b46d44a46\"\n",
      "2024-08-04 13:44:29.286 | DEBUG    | mlutils.distributedcomputing.job_scheduling:run_experiments_in_puepe:219 - /opt/homebrew/bin/pueue add -g quad-split \"/Users/bgulowaty/studia/projekty/quad-splits/.venv/bin/papermill --log-output --log-level DEBUG /Users/bgulowaty/studia/projekty/quad-splits/quadsplit_entrypoint-2-9670d642-dd6e-4fd7-b7a0-5bece18c00d0.ipynb /tmp/f6c81b7302284520a8cf4d7fc8520c34.ipynb -p EXPERIMENT_INSTANCE_ID f6c81b7302284520a8cf4d7fc8520c34\"\n",
      "2024-08-04 13:44:29.310 | DEBUG    | mlutils.distributedcomputing.job_scheduling:run_experiments_in_puepe:219 - /opt/homebrew/bin/pueue add -g quad-split \"/Users/bgulowaty/studia/projekty/quad-splits/.venv/bin/papermill --log-output --log-level DEBUG /Users/bgulowaty/studia/projekty/quad-splits/quadsplit_entrypoint-2-9670d642-dd6e-4fd7-b7a0-5bece18c00d0.ipynb /tmp/e431130deb674630a4d15bd8b3e9785c.ipynb -p EXPERIMENT_INSTANCE_ID e431130deb674630a4d15bd8b3e9785c\"\n",
      "2024-08-04 13:44:29.337 | DEBUG    | mlutils.distributedcomputing.job_scheduling:run_experiments_in_puepe:219 - /opt/homebrew/bin/pueue add -g quad-split \"/Users/bgulowaty/studia/projekty/quad-splits/.venv/bin/papermill --log-output --log-level DEBUG /Users/bgulowaty/studia/projekty/quad-splits/quadsplit_entrypoint-2-9670d642-dd6e-4fd7-b7a0-5bece18c00d0.ipynb /tmp/69cf59842b984be48eed2727d0633e2f.ipynb -p EXPERIMENT_INSTANCE_ID 69cf59842b984be48eed2727d0633e2f\"\n",
      "2024-08-04 13:44:29.366 | DEBUG    | mlutils.distributedcomputing.job_scheduling:run_experiments_in_puepe:219 - /opt/homebrew/bin/pueue add -g quad-split \"/Users/bgulowaty/studia/projekty/quad-splits/.venv/bin/papermill --log-output --log-level DEBUG /Users/bgulowaty/studia/projekty/quad-splits/quadsplit_entrypoint-2-9670d642-dd6e-4fd7-b7a0-5bece18c00d0.ipynb /tmp/febeece3c19a4a6cad16934476a65a7f.ipynb -p EXPERIMENT_INSTANCE_ID febeece3c19a4a6cad16934476a65a7f\"\n"
     ]
    },
    {
     "name": "stdout",
     "output_type": "stream",
     "text": [
      "New task added (id 1703).\n",
      "New task added (id 1704).\n",
      "New task added (id 1705).\n",
      "New task added (id 1706).\n",
      "New task added (id 1707).\n"
     ]
    },
    {
     "name": "stderr",
     "output_type": "stream",
     "text": [
      "2024-08-04 13:44:29.445 | DEBUG    | mlutils.distributedcomputing.job_scheduling:run_experiments_in_puepe:219 - /opt/homebrew/bin/pueue add -g quad-split \"/Users/bgulowaty/studia/projekty/quad-splits/.venv/bin/papermill --log-output --log-level DEBUG /Users/bgulowaty/studia/projekty/quad-splits/quadsplit_entrypoint-2-9670d642-dd6e-4fd7-b7a0-5bece18c00d0.ipynb /tmp/7d72d58ca7dd4ddd99454df80d721bb2.ipynb -p EXPERIMENT_INSTANCE_ID 7d72d58ca7dd4ddd99454df80d721bb2\"\n",
      "2024-08-04 13:44:29.471 | DEBUG    | mlutils.distributedcomputing.job_scheduling:run_experiments_in_puepe:219 - /opt/homebrew/bin/pueue add -g quad-split \"/Users/bgulowaty/studia/projekty/quad-splits/.venv/bin/papermill --log-output --log-level DEBUG /Users/bgulowaty/studia/projekty/quad-splits/quadsplit_entrypoint-2-9670d642-dd6e-4fd7-b7a0-5bece18c00d0.ipynb /tmp/f39af72e37d24ccebd48240fe77af6a2.ipynb -p EXPERIMENT_INSTANCE_ID f39af72e37d24ccebd48240fe77af6a2\"\n",
      "2024-08-04 13:44:29.496 | DEBUG    | mlutils.distributedcomputing.job_scheduling:run_experiments_in_puepe:219 - /opt/homebrew/bin/pueue add -g quad-split \"/Users/bgulowaty/studia/projekty/quad-splits/.venv/bin/papermill --log-output --log-level DEBUG /Users/bgulowaty/studia/projekty/quad-splits/quadsplit_entrypoint-2-9670d642-dd6e-4fd7-b7a0-5bece18c00d0.ipynb /tmp/67952589dc4d4afeb7377fe59f4fbf2f.ipynb -p EXPERIMENT_INSTANCE_ID 67952589dc4d4afeb7377fe59f4fbf2f\"\n",
      "2024-08-04 13:44:29.541 | DEBUG    | mlutils.distributedcomputing.job_scheduling:run_experiments_in_puepe:219 - /opt/homebrew/bin/pueue add -g quad-split \"/Users/bgulowaty/studia/projekty/quad-splits/.venv/bin/papermill --log-output --log-level DEBUG /Users/bgulowaty/studia/projekty/quad-splits/quadsplit_entrypoint-2-9670d642-dd6e-4fd7-b7a0-5bece18c00d0.ipynb /tmp/87133192a5024fd4b7e1fd9d9ae23247.ipynb -p EXPERIMENT_INSTANCE_ID 87133192a5024fd4b7e1fd9d9ae23247\"\n",
      "2024-08-04 13:44:29.589 | DEBUG    | mlutils.distributedcomputing.job_scheduling:run_experiments_in_puepe:219 - /opt/homebrew/bin/pueue add -g quad-split \"/Users/bgulowaty/studia/projekty/quad-splits/.venv/bin/papermill --log-output --log-level DEBUG /Users/bgulowaty/studia/projekty/quad-splits/quadsplit_entrypoint-2-9670d642-dd6e-4fd7-b7a0-5bece18c00d0.ipynb /tmp/1b698ad12d0c41b989eba1040e3b5a11.ipynb -p EXPERIMENT_INSTANCE_ID 1b698ad12d0c41b989eba1040e3b5a11\"\n",
      "2024-08-04 13:44:29.617 | DEBUG    | mlutils.distributedcomputing.job_scheduling:run_experiments_in_puepe:219 - /opt/homebrew/bin/pueue add -g quad-split \"/Users/bgulowaty/studia/projekty/quad-splits/.venv/bin/papermill --log-output --log-level DEBUG /Users/bgulowaty/studia/projekty/quad-splits/quadsplit_entrypoint-2-9670d642-dd6e-4fd7-b7a0-5bece18c00d0.ipynb /tmp/896e8c8b2c44433fac481bbd5f68a5d7.ipynb -p EXPERIMENT_INSTANCE_ID 896e8c8b2c44433fac481bbd5f68a5d7\"\n",
      "2024-08-04 13:44:29.643 | DEBUG    | mlutils.distributedcomputing.job_scheduling:run_experiments_in_puepe:219 - /opt/homebrew/bin/pueue add -g quad-split \"/Users/bgulowaty/studia/projekty/quad-splits/.venv/bin/papermill --log-output --log-level DEBUG /Users/bgulowaty/studia/projekty/quad-splits/quadsplit_entrypoint-2-9670d642-dd6e-4fd7-b7a0-5bece18c00d0.ipynb /tmp/23f4f3dfe8ae4c86aa0a1eca60c1b1a9.ipynb -p EXPERIMENT_INSTANCE_ID 23f4f3dfe8ae4c86aa0a1eca60c1b1a9\"\n"
     ]
    },
    {
     "name": "stdout",
     "output_type": "stream",
     "text": [
      "New task added (id 1708).\n",
      "New task added (id 1709).\n",
      "New task added (id 1710).\n",
      "New task added (id 1711).\n",
      "New task added (id 1712).\n",
      "New task added (id 1713).\n",
      "New task added (id 1714).\n"
     ]
    },
    {
     "name": "stderr",
     "output_type": "stream",
     "text": [
      "2024-08-04 13:44:29.670 | DEBUG    | mlutils.distributedcomputing.job_scheduling:run_experiments_in_puepe:219 - /opt/homebrew/bin/pueue add -g quad-split \"/Users/bgulowaty/studia/projekty/quad-splits/.venv/bin/papermill --log-output --log-level DEBUG /Users/bgulowaty/studia/projekty/quad-splits/quadsplit_entrypoint-2-9670d642-dd6e-4fd7-b7a0-5bece18c00d0.ipynb /tmp/84f6ce94443c4990a44a354ebc4a50ac.ipynb -p EXPERIMENT_INSTANCE_ID 84f6ce94443c4990a44a354ebc4a50ac\"\n",
      "2024-08-04 13:44:29.702 | DEBUG    | mlutils.distributedcomputing.job_scheduling:run_experiments_in_puepe:219 - /opt/homebrew/bin/pueue add -g quad-split \"/Users/bgulowaty/studia/projekty/quad-splits/.venv/bin/papermill --log-output --log-level DEBUG /Users/bgulowaty/studia/projekty/quad-splits/quadsplit_entrypoint-2-9670d642-dd6e-4fd7-b7a0-5bece18c00d0.ipynb /tmp/1e9c8c4941b3482badcd17bc2a2ef40f.ipynb -p EXPERIMENT_INSTANCE_ID 1e9c8c4941b3482badcd17bc2a2ef40f\"\n",
      "2024-08-04 13:44:29.765 | DEBUG    | mlutils.distributedcomputing.job_scheduling:run_experiments_in_puepe:219 - /opt/homebrew/bin/pueue add -g quad-split \"/Users/bgulowaty/studia/projekty/quad-splits/.venv/bin/papermill --log-output --log-level DEBUG /Users/bgulowaty/studia/projekty/quad-splits/quadsplit_entrypoint-2-9670d642-dd6e-4fd7-b7a0-5bece18c00d0.ipynb /tmp/a4ca7ee7b7cc4af1bbfeadb796b263b0.ipynb -p EXPERIMENT_INSTANCE_ID a4ca7ee7b7cc4af1bbfeadb796b263b0\"\n",
      "2024-08-04 13:44:29.799 | DEBUG    | mlutils.distributedcomputing.job_scheduling:run_experiments_in_puepe:219 - /opt/homebrew/bin/pueue add -g quad-split \"/Users/bgulowaty/studia/projekty/quad-splits/.venv/bin/papermill --log-output --log-level DEBUG /Users/bgulowaty/studia/projekty/quad-splits/quadsplit_entrypoint-2-9670d642-dd6e-4fd7-b7a0-5bece18c00d0.ipynb /tmp/74ab3dd663c7480fb709888c156623d5.ipynb -p EXPERIMENT_INSTANCE_ID 74ab3dd663c7480fb709888c156623d5\"\n",
      "2024-08-04 13:44:29.837 | DEBUG    | mlutils.distributedcomputing.job_scheduling:run_experiments_in_puepe:219 - /opt/homebrew/bin/pueue add -g quad-split \"/Users/bgulowaty/studia/projekty/quad-splits/.venv/bin/papermill --log-output --log-level DEBUG /Users/bgulowaty/studia/projekty/quad-splits/quadsplit_entrypoint-2-9670d642-dd6e-4fd7-b7a0-5bece18c00d0.ipynb /tmp/fefed7e983344d82ae6284d266ed5f0e.ipynb -p EXPERIMENT_INSTANCE_ID fefed7e983344d82ae6284d266ed5f0e\"\n"
     ]
    },
    {
     "name": "stdout",
     "output_type": "stream",
     "text": [
      "New task added (id 1715).\n",
      "New task added (id 1716).\n",
      "New task added (id 1717).\n",
      "New task added (id 1718).\n",
      "New task added (id 1719).\n"
     ]
    },
    {
     "name": "stderr",
     "output_type": "stream",
     "text": [
      "2024-08-04 13:44:29.920 | DEBUG    | mlutils.distributedcomputing.job_scheduling:run_experiments_in_puepe:219 - /opt/homebrew/bin/pueue add -g quad-split \"/Users/bgulowaty/studia/projekty/quad-splits/.venv/bin/papermill --log-output --log-level DEBUG /Users/bgulowaty/studia/projekty/quad-splits/quadsplit_entrypoint-2-9670d642-dd6e-4fd7-b7a0-5bece18c00d0.ipynb /tmp/5e69e9331f1b45c087aac8e08d837ece.ipynb -p EXPERIMENT_INSTANCE_ID 5e69e9331f1b45c087aac8e08d837ece\"\n",
      "2024-08-04 13:44:29.948 | DEBUG    | mlutils.distributedcomputing.job_scheduling:run_experiments_in_puepe:219 - /opt/homebrew/bin/pueue add -g quad-split \"/Users/bgulowaty/studia/projekty/quad-splits/.venv/bin/papermill --log-output --log-level DEBUG /Users/bgulowaty/studia/projekty/quad-splits/quadsplit_entrypoint-2-9670d642-dd6e-4fd7-b7a0-5bece18c00d0.ipynb /tmp/c3872c9b1dc0427a9ca2625b3e118b4b.ipynb -p EXPERIMENT_INSTANCE_ID c3872c9b1dc0427a9ca2625b3e118b4b\"\n",
      "2024-08-04 13:44:29.980 | DEBUG    | mlutils.distributedcomputing.job_scheduling:run_experiments_in_puepe:219 - /opt/homebrew/bin/pueue add -g quad-split \"/Users/bgulowaty/studia/projekty/quad-splits/.venv/bin/papermill --log-output --log-level DEBUG /Users/bgulowaty/studia/projekty/quad-splits/quadsplit_entrypoint-2-9670d642-dd6e-4fd7-b7a0-5bece18c00d0.ipynb /tmp/9b2af65d8a8f40838436a40ce145af84.ipynb -p EXPERIMENT_INSTANCE_ID 9b2af65d8a8f40838436a40ce145af84\"\n",
      "2024-08-04 13:44:30.012 | DEBUG    | mlutils.distributedcomputing.job_scheduling:run_experiments_in_puepe:219 - /opt/homebrew/bin/pueue add -g quad-split \"/Users/bgulowaty/studia/projekty/quad-splits/.venv/bin/papermill --log-output --log-level DEBUG /Users/bgulowaty/studia/projekty/quad-splits/quadsplit_entrypoint-2-9670d642-dd6e-4fd7-b7a0-5bece18c00d0.ipynb /tmp/619886fd28534cfa88b2288c3132737b.ipynb -p EXPERIMENT_INSTANCE_ID 619886fd28534cfa88b2288c3132737b\"\n",
      "2024-08-04 13:44:30.051 | DEBUG    | mlutils.distributedcomputing.job_scheduling:run_experiments_in_puepe:219 - /opt/homebrew/bin/pueue add -g quad-split \"/Users/bgulowaty/studia/projekty/quad-splits/.venv/bin/papermill --log-output --log-level DEBUG /Users/bgulowaty/studia/projekty/quad-splits/quadsplit_entrypoint-2-9670d642-dd6e-4fd7-b7a0-5bece18c00d0.ipynb /tmp/9ecf7edab9dd4daab26f1bee83c070d9.ipynb -p EXPERIMENT_INSTANCE_ID 9ecf7edab9dd4daab26f1bee83c070d9\"\n",
      "2024-08-04 13:44:30.080 | DEBUG    | mlutils.distributedcomputing.job_scheduling:run_experiments_in_puepe:219 - /opt/homebrew/bin/pueue add -g quad-split \"/Users/bgulowaty/studia/projekty/quad-splits/.venv/bin/papermill --log-output --log-level DEBUG /Users/bgulowaty/studia/projekty/quad-splits/quadsplit_entrypoint-2-9670d642-dd6e-4fd7-b7a0-5bece18c00d0.ipynb /tmp/0dd2d02ca50c49818e201e56f8c98d6e.ipynb -p EXPERIMENT_INSTANCE_ID 0dd2d02ca50c49818e201e56f8c98d6e\"\n"
     ]
    },
    {
     "name": "stdout",
     "output_type": "stream",
     "text": [
      "New task added (id 1720).\n",
      "New task added (id 1721).\n",
      "New task added (id 1722).\n",
      "New task added (id 1723).\n",
      "New task added (id 1724).\n",
      "New task added (id 1725).\n",
      "New task added (id 1726).\n"
     ]
    },
    {
     "name": "stderr",
     "output_type": "stream",
     "text": [
      "2024-08-04 13:44:30.119 | DEBUG    | mlutils.distributedcomputing.job_scheduling:run_experiments_in_puepe:219 - /opt/homebrew/bin/pueue add -g quad-split \"/Users/bgulowaty/studia/projekty/quad-splits/.venv/bin/papermill --log-output --log-level DEBUG /Users/bgulowaty/studia/projekty/quad-splits/quadsplit_entrypoint-2-9670d642-dd6e-4fd7-b7a0-5bece18c00d0.ipynb /tmp/edcd710c995d4983ad44386f29df34dc.ipynb -p EXPERIMENT_INSTANCE_ID edcd710c995d4983ad44386f29df34dc\"\n",
      "2024-08-04 13:44:30.174 | DEBUG    | mlutils.distributedcomputing.job_scheduling:run_experiments_in_puepe:219 - /opt/homebrew/bin/pueue add -g quad-split \"/Users/bgulowaty/studia/projekty/quad-splits/.venv/bin/papermill --log-output --log-level DEBUG /Users/bgulowaty/studia/projekty/quad-splits/quadsplit_entrypoint-2-9670d642-dd6e-4fd7-b7a0-5bece18c00d0.ipynb /tmp/7caf897b55cb49daa492717f25c9b6c9.ipynb -p EXPERIMENT_INSTANCE_ID 7caf897b55cb49daa492717f25c9b6c9\"\n",
      "2024-08-04 13:44:30.267 | DEBUG    | mlutils.distributedcomputing.job_scheduling:run_experiments_in_puepe:219 - /opt/homebrew/bin/pueue add -g quad-split \"/Users/bgulowaty/studia/projekty/quad-splits/.venv/bin/papermill --log-output --log-level DEBUG /Users/bgulowaty/studia/projekty/quad-splits/quadsplit_entrypoint-2-9670d642-dd6e-4fd7-b7a0-5bece18c00d0.ipynb /tmp/fdf5a22113834f99887d36c8d26a165f.ipynb -p EXPERIMENT_INSTANCE_ID fdf5a22113834f99887d36c8d26a165f\"\n",
      "2024-08-04 13:44:30.311 | DEBUG    | mlutils.distributedcomputing.job_scheduling:run_experiments_in_puepe:219 - /opt/homebrew/bin/pueue add -g quad-split \"/Users/bgulowaty/studia/projekty/quad-splits/.venv/bin/papermill --log-output --log-level DEBUG /Users/bgulowaty/studia/projekty/quad-splits/quadsplit_entrypoint-2-9670d642-dd6e-4fd7-b7a0-5bece18c00d0.ipynb /tmp/98b9d8bac4344ade99dacd3cd780725d.ipynb -p EXPERIMENT_INSTANCE_ID 98b9d8bac4344ade99dacd3cd780725d\"\n",
      "2024-08-04 13:44:30.347 | DEBUG    | mlutils.distributedcomputing.job_scheduling:run_experiments_in_puepe:219 - /opt/homebrew/bin/pueue add -g quad-split \"/Users/bgulowaty/studia/projekty/quad-splits/.venv/bin/papermill --log-output --log-level DEBUG /Users/bgulowaty/studia/projekty/quad-splits/quadsplit_entrypoint-2-9670d642-dd6e-4fd7-b7a0-5bece18c00d0.ipynb /tmp/ccd54044d08c40c68fa9852182d4c923.ipynb -p EXPERIMENT_INSTANCE_ID ccd54044d08c40c68fa9852182d4c923\"\n"
     ]
    },
    {
     "name": "stdout",
     "output_type": "stream",
     "text": [
      "New task added (id 1727).\n",
      "New task added (id 1728).\n",
      "New task added (id 1729).\n",
      "New task added (id 1730).\n"
     ]
    },
    {
     "name": "stderr",
     "output_type": "stream",
     "text": [
      "2024-08-04 13:44:30.379 | DEBUG    | mlutils.distributedcomputing.job_scheduling:run_experiments_in_puepe:219 - /opt/homebrew/bin/pueue add -g quad-split \"/Users/bgulowaty/studia/projekty/quad-splits/.venv/bin/papermill --log-output --log-level DEBUG /Users/bgulowaty/studia/projekty/quad-splits/quadsplit_entrypoint-2-9670d642-dd6e-4fd7-b7a0-5bece18c00d0.ipynb /tmp/179cfc9440f046a589ca56c69740f5a7.ipynb -p EXPERIMENT_INSTANCE_ID 179cfc9440f046a589ca56c69740f5a7\"\n",
      "2024-08-04 13:44:30.429 | DEBUG    | mlutils.distributedcomputing.job_scheduling:run_experiments_in_puepe:219 - /opt/homebrew/bin/pueue add -g quad-split \"/Users/bgulowaty/studia/projekty/quad-splits/.venv/bin/papermill --log-output --log-level DEBUG /Users/bgulowaty/studia/projekty/quad-splits/quadsplit_entrypoint-2-9670d642-dd6e-4fd7-b7a0-5bece18c00d0.ipynb /tmp/3d814e85fe9c40b99ea70ece0aa9cd07.ipynb -p EXPERIMENT_INSTANCE_ID 3d814e85fe9c40b99ea70ece0aa9cd07\"\n",
      "2024-08-04 13:44:30.469 | DEBUG    | mlutils.distributedcomputing.job_scheduling:run_experiments_in_puepe:219 - /opt/homebrew/bin/pueue add -g quad-split \"/Users/bgulowaty/studia/projekty/quad-splits/.venv/bin/papermill --log-output --log-level DEBUG /Users/bgulowaty/studia/projekty/quad-splits/quadsplit_entrypoint-2-9670d642-dd6e-4fd7-b7a0-5bece18c00d0.ipynb /tmp/053fcd68b285446190121e9348e9099a.ipynb -p EXPERIMENT_INSTANCE_ID 053fcd68b285446190121e9348e9099a\"\n",
      "2024-08-04 13:44:30.512 | DEBUG    | mlutils.distributedcomputing.job_scheduling:run_experiments_in_puepe:219 - /opt/homebrew/bin/pueue add -g quad-split \"/Users/bgulowaty/studia/projekty/quad-splits/.venv/bin/papermill --log-output --log-level DEBUG /Users/bgulowaty/studia/projekty/quad-splits/quadsplit_entrypoint-2-9670d642-dd6e-4fd7-b7a0-5bece18c00d0.ipynb /tmp/56f5da98491a4a2faeccad4777a767be.ipynb -p EXPERIMENT_INSTANCE_ID 56f5da98491a4a2faeccad4777a767be\"\n",
      "2024-08-04 13:44:30.574 | DEBUG    | mlutils.distributedcomputing.job_scheduling:run_experiments_in_puepe:219 - /opt/homebrew/bin/pueue add -g quad-split \"/Users/bgulowaty/studia/projekty/quad-splits/.venv/bin/papermill --log-output --log-level DEBUG /Users/bgulowaty/studia/projekty/quad-splits/quadsplit_entrypoint-2-9670d642-dd6e-4fd7-b7a0-5bece18c00d0.ipynb /tmp/e60662471f4f406f80e5ae49f7c0b01b.ipynb -p EXPERIMENT_INSTANCE_ID e60662471f4f406f80e5ae49f7c0b01b\"\n"
     ]
    },
    {
     "name": "stdout",
     "output_type": "stream",
     "text": [
      "New task added (id 1731).\n",
      "New task added (id 1732).\n",
      "New task added (id 1733).\n",
      "New task added (id 1734).\n",
      "New task added (id 1735).\n"
     ]
    },
    {
     "name": "stderr",
     "output_type": "stream",
     "text": [
      "2024-08-04 13:44:30.624 | DEBUG    | mlutils.distributedcomputing.job_scheduling:run_experiments_in_puepe:219 - /opt/homebrew/bin/pueue add -g quad-split \"/Users/bgulowaty/studia/projekty/quad-splits/.venv/bin/papermill --log-output --log-level DEBUG /Users/bgulowaty/studia/projekty/quad-splits/quadsplit_entrypoint-2-9670d642-dd6e-4fd7-b7a0-5bece18c00d0.ipynb /tmp/05b2b09cb64944018b9643d069db2cff.ipynb -p EXPERIMENT_INSTANCE_ID 05b2b09cb64944018b9643d069db2cff\"\n",
      "2024-08-04 13:44:30.659 | DEBUG    | mlutils.distributedcomputing.job_scheduling:run_experiments_in_puepe:219 - /opt/homebrew/bin/pueue add -g quad-split \"/Users/bgulowaty/studia/projekty/quad-splits/.venv/bin/papermill --log-output --log-level DEBUG /Users/bgulowaty/studia/projekty/quad-splits/quadsplit_entrypoint-2-9670d642-dd6e-4fd7-b7a0-5bece18c00d0.ipynb /tmp/8e809cfb635640a88ecc308e7c4003fb.ipynb -p EXPERIMENT_INSTANCE_ID 8e809cfb635640a88ecc308e7c4003fb\"\n",
      "2024-08-04 13:44:30.690 | DEBUG    | mlutils.distributedcomputing.job_scheduling:run_experiments_in_puepe:219 - /opt/homebrew/bin/pueue add -g quad-split \"/Users/bgulowaty/studia/projekty/quad-splits/.venv/bin/papermill --log-output --log-level DEBUG /Users/bgulowaty/studia/projekty/quad-splits/quadsplit_entrypoint-2-9670d642-dd6e-4fd7-b7a0-5bece18c00d0.ipynb /tmp/321f4b6752a6487fbc533ece91a3e82b.ipynb -p EXPERIMENT_INSTANCE_ID 321f4b6752a6487fbc533ece91a3e82b\"\n",
      "2024-08-04 13:44:30.725 | DEBUG    | mlutils.distributedcomputing.job_scheduling:run_experiments_in_puepe:219 - /opt/homebrew/bin/pueue add -g quad-split \"/Users/bgulowaty/studia/projekty/quad-splits/.venv/bin/papermill --log-output --log-level DEBUG /Users/bgulowaty/studia/projekty/quad-splits/quadsplit_entrypoint-2-9670d642-dd6e-4fd7-b7a0-5bece18c00d0.ipynb /tmp/21b83a380f0545e48ce79e0405ee344d.ipynb -p EXPERIMENT_INSTANCE_ID 21b83a380f0545e48ce79e0405ee344d\"\n",
      "2024-08-04 13:44:30.758 | DEBUG    | mlutils.distributedcomputing.job_scheduling:run_experiments_in_puepe:219 - /opt/homebrew/bin/pueue add -g quad-split \"/Users/bgulowaty/studia/projekty/quad-splits/.venv/bin/papermill --log-output --log-level DEBUG /Users/bgulowaty/studia/projekty/quad-splits/quadsplit_entrypoint-2-9670d642-dd6e-4fd7-b7a0-5bece18c00d0.ipynb /tmp/d062d67c86324634acaa65303caa7061.ipynb -p EXPERIMENT_INSTANCE_ID d062d67c86324634acaa65303caa7061\"\n"
     ]
    },
    {
     "name": "stdout",
     "output_type": "stream",
     "text": [
      "New task added (id 1736).\n",
      "New task added (id 1737).\n",
      "New task added (id 1738).\n",
      "New task added (id 1739).\n",
      "New task added (id 1740).\n"
     ]
    },
    {
     "name": "stderr",
     "output_type": "stream",
     "text": [
      "2024-08-04 13:44:30.830 | DEBUG    | mlutils.distributedcomputing.job_scheduling:run_experiments_in_puepe:219 - /opt/homebrew/bin/pueue add -g quad-split \"/Users/bgulowaty/studia/projekty/quad-splits/.venv/bin/papermill --log-output --log-level DEBUG /Users/bgulowaty/studia/projekty/quad-splits/quadsplit_entrypoint-2-9670d642-dd6e-4fd7-b7a0-5bece18c00d0.ipynb /tmp/7ff50874dd684e24987d8dc3bb1fc951.ipynb -p EXPERIMENT_INSTANCE_ID 7ff50874dd684e24987d8dc3bb1fc951\"\n",
      "2024-08-04 13:44:30.867 | DEBUG    | mlutils.distributedcomputing.job_scheduling:run_experiments_in_puepe:219 - /opt/homebrew/bin/pueue add -g quad-split \"/Users/bgulowaty/studia/projekty/quad-splits/.venv/bin/papermill --log-output --log-level DEBUG /Users/bgulowaty/studia/projekty/quad-splits/quadsplit_entrypoint-2-9670d642-dd6e-4fd7-b7a0-5bece18c00d0.ipynb /tmp/60d83fa702bb48d6a2f94275598c588b.ipynb -p EXPERIMENT_INSTANCE_ID 60d83fa702bb48d6a2f94275598c588b\"\n",
      "2024-08-04 13:44:30.906 | DEBUG    | mlutils.distributedcomputing.job_scheduling:run_experiments_in_puepe:219 - /opt/homebrew/bin/pueue add -g quad-split \"/Users/bgulowaty/studia/projekty/quad-splits/.venv/bin/papermill --log-output --log-level DEBUG /Users/bgulowaty/studia/projekty/quad-splits/quadsplit_entrypoint-2-9670d642-dd6e-4fd7-b7a0-5bece18c00d0.ipynb /tmp/e93e5fa4d3b249edaa026616a036c5fb.ipynb -p EXPERIMENT_INSTANCE_ID e93e5fa4d3b249edaa026616a036c5fb\"\n",
      "2024-08-04 13:44:30.937 | DEBUG    | mlutils.distributedcomputing.job_scheduling:run_experiments_in_puepe:219 - /opt/homebrew/bin/pueue add -g quad-split \"/Users/bgulowaty/studia/projekty/quad-splits/.venv/bin/papermill --log-output --log-level DEBUG /Users/bgulowaty/studia/projekty/quad-splits/quadsplit_entrypoint-2-9670d642-dd6e-4fd7-b7a0-5bece18c00d0.ipynb /tmp/e8bf1404c2d04ab7bd8aa11d7b782aa6.ipynb -p EXPERIMENT_INSTANCE_ID e8bf1404c2d04ab7bd8aa11d7b782aa6\"\n",
      "2024-08-04 13:44:30.973 | DEBUG    | mlutils.distributedcomputing.job_scheduling:run_experiments_in_puepe:219 - /opt/homebrew/bin/pueue add -g quad-split \"/Users/bgulowaty/studia/projekty/quad-splits/.venv/bin/papermill --log-output --log-level DEBUG /Users/bgulowaty/studia/projekty/quad-splits/quadsplit_entrypoint-2-9670d642-dd6e-4fd7-b7a0-5bece18c00d0.ipynb /tmp/d0db9fefb8cf44d8a19c7b6b3210177e.ipynb -p EXPERIMENT_INSTANCE_ID d0db9fefb8cf44d8a19c7b6b3210177e\"\n",
      "2024-08-04 13:44:31.008 | DEBUG    | mlutils.distributedcomputing.job_scheduling:run_experiments_in_puepe:219 - /opt/homebrew/bin/pueue add -g quad-split \"/Users/bgulowaty/studia/projekty/quad-splits/.venv/bin/papermill --log-output --log-level DEBUG /Users/bgulowaty/studia/projekty/quad-splits/quadsplit_entrypoint-2-9670d642-dd6e-4fd7-b7a0-5bece18c00d0.ipynb /tmp/023d5d9551e24c7fb28d525d86688d15.ipynb -p EXPERIMENT_INSTANCE_ID 023d5d9551e24c7fb28d525d86688d15\"\n"
     ]
    },
    {
     "name": "stdout",
     "output_type": "stream",
     "text": [
      "New task added (id 1741).\n",
      "New task added (id 1742).\n",
      "New task added (id 1743).\n",
      "New task added (id 1744).\n",
      "New task added (id 1745).\n",
      "New task added (id 1746).\n"
     ]
    },
    {
     "name": "stderr",
     "output_type": "stream",
     "text": [
      "2024-08-04 13:44:31.036 | DEBUG    | mlutils.distributedcomputing.job_scheduling:run_experiments_in_puepe:219 - /opt/homebrew/bin/pueue add -g quad-split \"/Users/bgulowaty/studia/projekty/quad-splits/.venv/bin/papermill --log-output --log-level DEBUG /Users/bgulowaty/studia/projekty/quad-splits/quadsplit_entrypoint-2-9670d642-dd6e-4fd7-b7a0-5bece18c00d0.ipynb /tmp/74d51806aa37434caceb6c0211d8371c.ipynb -p EXPERIMENT_INSTANCE_ID 74d51806aa37434caceb6c0211d8371c\"\n",
      "2024-08-04 13:44:31.064 | DEBUG    | mlutils.distributedcomputing.job_scheduling:run_experiments_in_puepe:219 - /opt/homebrew/bin/pueue add -g quad-split \"/Users/bgulowaty/studia/projekty/quad-splits/.venv/bin/papermill --log-output --log-level DEBUG /Users/bgulowaty/studia/projekty/quad-splits/quadsplit_entrypoint-2-9670d642-dd6e-4fd7-b7a0-5bece18c00d0.ipynb /tmp/6f3802c6c2f44ea1806cf13b774c49ed.ipynb -p EXPERIMENT_INSTANCE_ID 6f3802c6c2f44ea1806cf13b774c49ed\"\n",
      "2024-08-04 13:44:31.120 | DEBUG    | mlutils.distributedcomputing.job_scheduling:run_experiments_in_puepe:219 - /opt/homebrew/bin/pueue add -g quad-split \"/Users/bgulowaty/studia/projekty/quad-splits/.venv/bin/papermill --log-output --log-level DEBUG /Users/bgulowaty/studia/projekty/quad-splits/quadsplit_entrypoint-2-9670d642-dd6e-4fd7-b7a0-5bece18c00d0.ipynb /tmp/9171cde2844243b19f8e31ab8f1eb5f2.ipynb -p EXPERIMENT_INSTANCE_ID 9171cde2844243b19f8e31ab8f1eb5f2\"\n",
      "2024-08-04 13:44:31.155 | DEBUG    | mlutils.distributedcomputing.job_scheduling:run_experiments_in_puepe:219 - /opt/homebrew/bin/pueue add -g quad-split \"/Users/bgulowaty/studia/projekty/quad-splits/.venv/bin/papermill --log-output --log-level DEBUG /Users/bgulowaty/studia/projekty/quad-splits/quadsplit_entrypoint-2-9670d642-dd6e-4fd7-b7a0-5bece18c00d0.ipynb /tmp/2c8395d3a6f74c998a22b70ff8c61b21.ipynb -p EXPERIMENT_INSTANCE_ID 2c8395d3a6f74c998a22b70ff8c61b21\"\n",
      "2024-08-04 13:44:31.184 | DEBUG    | mlutils.distributedcomputing.job_scheduling:run_experiments_in_puepe:219 - /opt/homebrew/bin/pueue add -g quad-split \"/Users/bgulowaty/studia/projekty/quad-splits/.venv/bin/papermill --log-output --log-level DEBUG /Users/bgulowaty/studia/projekty/quad-splits/quadsplit_entrypoint-2-9670d642-dd6e-4fd7-b7a0-5bece18c00d0.ipynb /tmp/d86eed762edb484791c2d325a5b86ce7.ipynb -p EXPERIMENT_INSTANCE_ID d86eed762edb484791c2d325a5b86ce7\"\n",
      "2024-08-04 13:44:31.215 | DEBUG    | mlutils.distributedcomputing.job_scheduling:run_experiments_in_puepe:219 - /opt/homebrew/bin/pueue add -g quad-split \"/Users/bgulowaty/studia/projekty/quad-splits/.venv/bin/papermill --log-output --log-level DEBUG /Users/bgulowaty/studia/projekty/quad-splits/quadsplit_entrypoint-2-9670d642-dd6e-4fd7-b7a0-5bece18c00d0.ipynb /tmp/b59c513d33cb42be962aba6dffcaeff3.ipynb -p EXPERIMENT_INSTANCE_ID b59c513d33cb42be962aba6dffcaeff3\"\n"
     ]
    },
    {
     "name": "stdout",
     "output_type": "stream",
     "text": [
      "New task added (id 1747).\n",
      "New task added (id 1748).\n",
      "New task added (id 1749).\n",
      "New task added (id 1750).\n",
      "New task added (id 1751).\n",
      "New task added (id 1752).\n"
     ]
    },
    {
     "name": "stderr",
     "output_type": "stream",
     "text": [
      "2024-08-04 13:44:31.247 | DEBUG    | mlutils.distributedcomputing.job_scheduling:run_experiments_in_puepe:219 - /opt/homebrew/bin/pueue add -g quad-split \"/Users/bgulowaty/studia/projekty/quad-splits/.venv/bin/papermill --log-output --log-level DEBUG /Users/bgulowaty/studia/projekty/quad-splits/quadsplit_entrypoint-2-9670d642-dd6e-4fd7-b7a0-5bece18c00d0.ipynb /tmp/4b3a4a048f934785a3ba7246876bfefa.ipynb -p EXPERIMENT_INSTANCE_ID 4b3a4a048f934785a3ba7246876bfefa\"\n",
      "2024-08-04 13:44:31.334 | DEBUG    | mlutils.distributedcomputing.job_scheduling:run_experiments_in_puepe:219 - /opt/homebrew/bin/pueue add -g quad-split \"/Users/bgulowaty/studia/projekty/quad-splits/.venv/bin/papermill --log-output --log-level DEBUG /Users/bgulowaty/studia/projekty/quad-splits/quadsplit_entrypoint-2-9670d642-dd6e-4fd7-b7a0-5bece18c00d0.ipynb /tmp/92de66c0e82b49a4bc54976195bd6c22.ipynb -p EXPERIMENT_INSTANCE_ID 92de66c0e82b49a4bc54976195bd6c22\"\n",
      "2024-08-04 13:44:31.371 | DEBUG    | mlutils.distributedcomputing.job_scheduling:run_experiments_in_puepe:219 - /opt/homebrew/bin/pueue add -g quad-split \"/Users/bgulowaty/studia/projekty/quad-splits/.venv/bin/papermill --log-output --log-level DEBUG /Users/bgulowaty/studia/projekty/quad-splits/quadsplit_entrypoint-2-9670d642-dd6e-4fd7-b7a0-5bece18c00d0.ipynb /tmp/27c789cb40e243c89d0236781d44e0f8.ipynb -p EXPERIMENT_INSTANCE_ID 27c789cb40e243c89d0236781d44e0f8\"\n",
      "2024-08-04 13:44:31.401 | DEBUG    | mlutils.distributedcomputing.job_scheduling:run_experiments_in_puepe:219 - /opt/homebrew/bin/pueue add -g quad-split \"/Users/bgulowaty/studia/projekty/quad-splits/.venv/bin/papermill --log-output --log-level DEBUG /Users/bgulowaty/studia/projekty/quad-splits/quadsplit_entrypoint-2-9670d642-dd6e-4fd7-b7a0-5bece18c00d0.ipynb /tmp/9dd8315a510d4cf7a3bf8bb14634d4cd.ipynb -p EXPERIMENT_INSTANCE_ID 9dd8315a510d4cf7a3bf8bb14634d4cd\"\n",
      "2024-08-04 13:44:31.432 | DEBUG    | mlutils.distributedcomputing.job_scheduling:run_experiments_in_puepe:219 - /opt/homebrew/bin/pueue add -g quad-split \"/Users/bgulowaty/studia/projekty/quad-splits/.venv/bin/papermill --log-output --log-level DEBUG /Users/bgulowaty/studia/projekty/quad-splits/quadsplit_entrypoint-2-9670d642-dd6e-4fd7-b7a0-5bece18c00d0.ipynb /tmp/ebbd3aa0fd654f9096b131aaccfe84a9.ipynb -p EXPERIMENT_INSTANCE_ID ebbd3aa0fd654f9096b131aaccfe84a9\"\n"
     ]
    },
    {
     "name": "stdout",
     "output_type": "stream",
     "text": [
      "New task added (id 1753).\n",
      "New task added (id 1754).\n",
      "New task added (id 1755).\n",
      "New task added (id 1756).\n",
      "New task added (id 1757).\n"
     ]
    },
    {
     "name": "stderr",
     "output_type": "stream",
     "text": [
      "2024-08-04 13:44:31.461 | DEBUG    | mlutils.distributedcomputing.job_scheduling:run_experiments_in_puepe:219 - /opt/homebrew/bin/pueue add -g quad-split \"/Users/bgulowaty/studia/projekty/quad-splits/.venv/bin/papermill --log-output --log-level DEBUG /Users/bgulowaty/studia/projekty/quad-splits/quadsplit_entrypoint-2-9670d642-dd6e-4fd7-b7a0-5bece18c00d0.ipynb /tmp/7fe72edb888a406a961a0ef87129d9da.ipynb -p EXPERIMENT_INSTANCE_ID 7fe72edb888a406a961a0ef87129d9da\"\n"
     ]
    },
    {
     "name": "stdout",
     "output_type": "stream",
     "text": [
      "New task added (id 1758).\n",
      "New task added (id 1759).\n"
     ]
    }
   ],
   "execution_count": 21
  }
 ],
 "metadata": {
  "kernelspec": {
   "display_name": "Python 3 (ipykernel)",
   "language": "python",
   "name": "python3"
  },
  "language_info": {
   "codemirror_mode": {
    "name": "ipython",
    "version": 3
   },
   "file_extension": ".py",
   "mimetype": "text/x-python",
   "name": "python",
   "nbconvert_exporter": "python",
   "pygments_lexer": "ipython3",
   "version": "3.8.16"
  }
 },
 "nbformat": 4,
 "nbformat_minor": 5
}

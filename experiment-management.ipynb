{
 "cells": [
  {
   "cell_type": "code",
   "execution_count": 2,
   "id": "ddde3ae6873e45b1",
   "metadata": {
    "collapsed": false,
    "ExecuteTime": {
     "end_time": "2023-08-23T20:19:38.157150Z",
     "start_time": "2023-08-23T20:19:38.128327Z"
    }
   },
   "outputs": [],
   "source": [
    "%load_ext autoreload\n",
    "%autoreload 2\n"
   ]
  },
  {
   "cell_type": "code",
   "execution_count": 3,
   "id": "ffbebe59831051ed",
   "metadata": {
    "collapsed": false,
    "ExecuteTime": {
     "end_time": "2023-08-23T20:19:42.569765Z",
     "start_time": "2023-08-23T20:19:40.150451Z"
    }
   },
   "outputs": [
    {
     "name": "stdout",
     "output_type": "stream",
     "text": [
      "The autoreload extension is already loaded. To reload it, use:\n",
      "  %reload_ext autoreload\n"
     ]
    }
   ],
   "source": [
    "%run experiment.ipynb"
   ]
  },
  {
   "cell_type": "code",
   "execution_count": 5,
   "id": "initial_id",
   "metadata": {
    "ExecuteTime": {
     "end_time": "2023-08-23T20:20:13.226116Z",
     "start_time": "2023-08-23T20:20:13.180293Z"
    }
   },
   "outputs": [],
   "source": [
    "from mlutils.mlflow.utils import create_runs_for_params, get_unfinished_run_ids, get_runs, get_unfinished_runs, get_run_params, experiment_name_to_id\n",
    "from glob import glob\n",
    "from mlutils.distributedcomputing.experiments import run_experiments\n",
    "from sklearn.model_selection import ParameterGrid\n",
    "from mlflow import MlflowClient\n",
    "import mlflow\n",
    "\n"
   ]
  },
  {
   "cell_type": "code",
   "execution_count": 4,
   "id": "847d1a9dd326fdcf",
   "metadata": {
    "collapsed": false,
    "ExecuteTime": {
     "end_time": "2023-08-22T06:38:13.774940Z",
     "start_time": "2023-08-22T06:38:13.746637Z"
    }
   },
   "outputs": [
    {
     "name": "stdout",
     "output_type": "stream",
     "text": [
      "['shuttle-5-5tra.csv', 'pima-5-5tra.csv', 'wisconsin-5-4tra.csv', 'automobile-5-2tra.csv', 'spambase-5-1tra.csv']\n"
     ]
    }
   ],
   "source": [
    "all_processed_data_files = glob(f\"../datasets/notebooks/processed/*.csv\")\n",
    "\n",
    "all_file_names = [\n",
    "    file.split('/')[-1].split('train')[0].rstrip('-') for file in all_processed_data_files if 'tra.csv' in file\n",
    "]\n",
    "print(all_file_names[:5])"
   ]
  },
  {
   "cell_type": "code",
   "execution_count": 5,
   "id": "9c3168a2d3c35322",
   "metadata": {
    "collapsed": false,
    "ExecuteTime": {
     "end_time": "2023-08-22T06:38:25.414613Z",
     "start_time": "2023-08-22T06:38:25.383294Z"
    }
   },
   "outputs": [],
   "source": [
    "train_file_paths = [it for it in all_processed_data_files if 'tra.csv' in it]\n",
    "dataset_names = {path.split('/')[-1].split('-')[0] for path in train_file_paths}\n",
    "selected_datasets = []\n",
    "for name in dataset_names:\n",
    "    selected_datasets.append([p for p in train_file_paths if name in p][0])"
   ]
  },
  {
   "cell_type": "code",
   "execution_count": 9,
   "outputs": [
    {
     "data": {
      "text/plain": "100"
     },
     "execution_count": 9,
     "metadata": {},
     "output_type": "execute_result"
    }
   ],
   "source": [
    "len(train_file_paths)"
   ],
   "metadata": {
    "collapsed": false,
    "ExecuteTime": {
     "end_time": "2023-08-22T06:39:06.260880Z",
     "start_time": "2023-08-22T06:39:06.230646Z"
    }
   },
   "id": "1ac050580247da78"
  },
  {
   "cell_type": "code",
   "execution_count": 12,
   "outputs": [
    {
     "data": {
      "text/plain": "['../datasets/notebooks/processed/heart-5-5tra.csv',\n '../datasets/notebooks/processed/ecoli-5-3tra.csv',\n '../datasets/notebooks/processed/mushroom-5-3tra.csv',\n '../datasets/notebooks/processed/haberman-5-3tra.csv',\n '../datasets/notebooks/processed/titanic-5-4tra.csv',\n '../datasets/notebooks/processed/shuttle-5-5tra.csv',\n '../datasets/notebooks/processed/wine-5-2tra.csv',\n '../datasets/notebooks/processed/nursery-5-2tra.csv',\n '../datasets/notebooks/processed/vowel-5-5tra.csv',\n '../datasets/notebooks/processed/balance-5-5tra.csv',\n '../datasets/notebooks/processed/car-5-5tra.csv',\n '../datasets/notebooks/processed/breast-5-2tra.csv',\n '../datasets/notebooks/processed/banana-5-4tra.csv',\n '../datasets/notebooks/processed/mammographic-5-5tra.csv',\n '../datasets/notebooks/processed/chess-5-5tra.csv',\n '../datasets/notebooks/processed/pima-5-5tra.csv',\n '../datasets/notebooks/processed/automobile-5-2tra.csv',\n '../datasets/notebooks/processed/wisconsin-5-4tra.csv',\n '../datasets/notebooks/processed/yeast-5-5tra.csv',\n '../datasets/notebooks/processed/spambase-5-1tra.csv']"
     },
     "execution_count": 12,
     "metadata": {},
     "output_type": "execute_result"
    }
   ],
   "source": [
    "selected_datasets"
   ],
   "metadata": {
    "collapsed": false,
    "ExecuteTime": {
     "end_time": "2023-08-22T06:39:46.127764Z",
     "start_time": "2023-08-22T06:39:46.093950Z"
    }
   },
   "id": "71da8301a1e53fc1"
  },
  {
   "cell_type": "code",
   "execution_count": 7,
   "id": "6421163090f77983",
   "metadata": {
    "collapsed": false,
    "ExecuteTime": {
     "end_time": "2023-08-23T20:20:25.862079Z",
     "start_time": "2023-08-23T20:20:25.829037Z"
    }
   },
   "outputs": [],
   "source": [
    "mlflow.set_tracking_uri(\"sqlite:///experiments.db\")"
   ]
  },
  {
   "cell_type": "code",
   "execution_count": 14,
   "id": "77372bbd19958470",
   "metadata": {
    "collapsed": false,
    "ExecuteTime": {
     "end_time": "2023-08-22T06:40:03.040111Z",
     "start_time": "2023-08-22T06:40:03.011729Z"
    }
   },
   "outputs": [],
   "source": [
    "params_v6 = ParameterGrid({\n",
    "    'train_path': selected_datasets,\n",
    "    'base_clf': [\"perceptron\", \"dt\", \"knn\", \"nb\"],\n",
    "    'min_samples': [10, 25],\n",
    "    \"complexity_measure\": [\"f2\", \"n3\", \"l3\", \"density\"],\n",
    "    \"min_split_percentage\": [0.1, 0.3, 0.5]\n",
    "})"
   ]
  },
  {
   "cell_type": "code",
   "execution_count": 15,
   "id": "3500584a98bed7d2",
   "metadata": {
    "collapsed": false,
    "ExecuteTime": {
     "end_time": "2023-08-22T06:40:05.572352Z",
     "start_time": "2023-08-22T06:40:05.544431Z"
    }
   },
   "outputs": [],
   "source": [
    "base_params = ParameterGrid({\n",
    "    'train_path': train_file_paths,\n",
    "})"
   ]
  },
  {
   "cell_type": "code",
   "execution_count": 8,
   "id": "378268784bf3d8bd",
   "metadata": {
    "collapsed": false,
    "ExecuteTime": {
     "end_time": "2023-08-23T20:20:31.758783Z",
     "start_time": "2023-08-23T20:20:31.313350Z"
    }
   },
   "outputs": [],
   "source": [
    "client = MlflowClient(tracking_uri=\"sqlite:///experiments.db\")"
   ]
  },
  {
   "cell_type": "code",
   "execution_count": null,
   "id": "40773e2965b81d57",
   "metadata": {
    "ExecuteTime": {
     "end_time": "2023-08-17T15:35:42.213091Z",
     "start_time": "2023-08-17T15:35:40.072821Z"
    },
    "collapsed": false
   },
   "outputs": [],
   "source": [
    "base_runs = create_runs_for_params(base_params, experiment_name='base', client=client)\n"
   ]
  },
  {
   "cell_type": "code",
   "execution_count": 18,
   "id": "5e05cf6f699fe925",
   "metadata": {
    "collapsed": false,
    "scrolled": true,
    "ExecuteTime": {
     "end_time": "2023-08-22T06:41:04.693162Z",
     "start_time": "2023-08-22T06:40:45.153596Z"
    }
   },
   "outputs": [
    {
     "name": "stderr",
     "output_type": "stream",
     "text": [
      "2023-08-22 08:40:45.191 | INFO     | mlutils.mlflow.utils:create_runs_for_params:32 - Experiment not found, creating new. Id=4\n",
      "100%|██████████| 1920/1920 [00:18<00:00, 102.99it/s]\n"
     ]
    }
   ],
   "source": [
    "v6_runs = create_runs_for_params(params_v6, experiment_name='v6', client=client)"
   ]
  },
  {
   "cell_type": "code",
   "execution_count": 13,
   "id": "95e3966801d34420",
   "metadata": {
    "collapsed": false,
    "ExecuteTime": {
     "end_time": "2023-08-23T21:15:35.572984Z",
     "start_time": "2023-08-23T21:15:34.968214Z"
    }
   },
   "outputs": [],
   "source": [
    "v6_runs = get_runs(experiment_name_to_id(\"v6\", client=client))\n",
    "base_runs = get_runs(experiment_name_to_id(\"base\", client=client))"
   ]
  },
  {
   "cell_type": "code",
   "execution_count": null,
   "id": "d527c704583ad9ea",
   "metadata": {
    "ExecuteTime": {
     "end_time": "2023-08-13T09:32:35.706898Z",
     "start_time": "2023-08-13T09:32:35.676461Z"
    },
    "collapsed": false
   },
   "outputs": [],
   "source": [
    "v1_run_ids = v1_runs.run_id"
   ]
  },
  {
   "cell_type": "code",
   "execution_count": 30,
   "id": "6e740d88c3bfd6de",
   "metadata": {
    "collapsed": false,
    "ExecuteTime": {
     "end_time": "2023-08-24T15:54:55.377200Z",
     "start_time": "2023-08-24T15:54:54.795314Z"
    }
   },
   "outputs": [],
   "source": [
    "unfinished_runs = get_unfinished_run_ids(experiment_name_to_id('v6', client=client))"
   ]
  },
  {
   "cell_type": "code",
   "execution_count": 31,
   "id": "99df7da295d22545",
   "metadata": {
    "collapsed": false,
    "scrolled": true,
    "ExecuteTime": {
     "end_time": "2023-08-24T15:54:56.002709Z",
     "start_time": "2023-08-24T15:54:55.915305Z"
    }
   },
   "outputs": [
    {
     "data": {
      "text/plain": "785"
     },
     "execution_count": 31,
     "metadata": {},
     "output_type": "execute_result"
    }
   ],
   "source": [
    "len(unfinished_runs)"
   ]
  },
  {
   "cell_type": "code",
   "execution_count": null,
   "id": "faabf9cc03e7d458",
   "metadata": {
    "collapsed": false,
    "scrolled": true,
    "is_executing": true,
    "ExecuteTime": {
     "start_time": "2023-08-24T15:55:05.228564Z"
    }
   },
   "outputs": [
    {
     "name": "stderr",
     "output_type": "stream",
     "text": [
      "2023-08-24 17:55:05.265 | INFO     | mlutils.distributedcomputing.experiments:run_experiments:11 - {'notebook_path': 'experiment.ipynb', 'n_jobs': 5}\n",
      "2023-08-24 17:55:05.268 | WARNING  | mlutils.distributedcomputing.experiments:run_experiments:21 - Using Papermill backend. Make sure you execute this function not from experiment notebook!\n",
      "2023-08-24 17:55:05.270 | INFO     | mlutils.distributedcomputing.job_scheduling:create_experiment_notebook:91 - \n",
      "    Creating experiment notebook\n",
      "        notebook_name=experiment.ipynb\n",
      "        experiment_function=do_experiment_v1\n",
      "        instance_id_param_name=EXPERIMENT_INSTANCE_ID\n",
      "        \n",
      "2023-08-24 17:55:05.275 | INFO     | mlutils.distributedcomputing.experiments:run_experiments:34 - Notebook path=/Users/bgulowaty/studia/projekty/quad-splits/experiment-014077fa-662c-4ad5-94a3-9fae35f278b5.ipynb\n",
      "2023-08-24 17:55:05.282 | INFO     | mlutils.distributedcomputing.job_scheduling:run_in_papermill:37 - \n",
      "    papermill_path=/Users/bgulowaty/studia/projekty/quad-splits/.venv/bin/papermill\n",
      "    output_dir_path=/var/folders/fd/dyfc8ph167q7r5pf9y8451540000gn/T/tmpay3x89or\n",
      "    n_jobs=5\n",
      "\n",
      "\n",
      "\n",
      "  0%|          | 0/785 [00:00<?, ?it/s]\u001B[A\u001B[A\u001B[ABlack is not installed, parameters wont be formatted\n",
      "Black is not installed, parameters wont be formatted\n",
      "Black is not installed, parameters wont be formatted\n",
      "\n",
      "\n",
      "\n",
      "\n",
      "\n",
      "\n",
      "\n",
      "\n",
      "\n",
      "\n",
      "\n",
      "\n",
      "\n",
      "Executing:   0%|          | 0/5 [00:00<?, ?cell/s]Black is not installed, parameters wont be formatted\n",
      "\u001B[A\u001B[A\u001B[A\u001B[A\u001B[A\u001B[A\u001B[A\u001B[A\u001B[A\u001B[A\u001B[A\u001B[A\u001B[A\n",
      "\n",
      "\n",
      "\n",
      "\n",
      "\n",
      "\n",
      "\n",
      "\n",
      "\n",
      "\n",
      "\n",
      "\n",
      "\n",
      "Black is not installed, parameters wont be formatted\n",
      "Executing:   0%|          | 0/5 [00:00<?, ?cell/s]\u001B[A\u001B[A\u001B[A\u001B[A\u001B[A\u001B[A\u001B[A\u001B[A\u001B[A\u001B[A\u001B[A\u001B[A\u001B[A\u001B[A\n",
      "\n",
      "\n",
      "\n",
      "\n",
      "\n",
      "\n",
      "\n",
      "\n",
      "\n",
      "\n",
      "\n",
      "\n",
      "\n",
      "\n",
      "Executing:   0%|          | 0/5 [00:00<?, ?cell/s]\u001B[A\u001B[A\u001B[A\u001B[A\u001B[A\u001B[A\u001B[A\u001B[A\u001B[A\u001B[A\u001B[A\u001B[A\u001B[A\u001B[A\u001B[A\n",
      "\n",
      "\n",
      "\n",
      "\n",
      "\n",
      "\n",
      "\n",
      "\n",
      "\n",
      "\n",
      "\n",
      "\n",
      "\n",
      "\n",
      "\n",
      "Executing:   0%|          | 0/5 [00:00<?, ?cell/s]\u001B[A\u001B[A\u001B[A\u001B[A\u001B[A\u001B[A\u001B[A\u001B[A\u001B[A\u001B[A\u001B[A\u001B[A\u001B[A\u001B[A\u001B[A\u001B[A\n",
      "\n",
      "\n",
      "\n",
      "\n",
      "\n",
      "\n",
      "\n",
      "\n",
      "\n",
      "\n",
      "\n",
      "\n",
      "\n",
      "\n",
      "\n",
      "\n",
      "Executing:   0%|          | 0/5 [00:00<?, ?cell/s]\u001B[A\u001B[A\u001B[A\u001B[A\u001B[A\u001B[A\u001B[A\u001B[A\u001B[A\u001B[A\u001B[A\u001B[A\u001B[A\u001B[A\u001B[A\u001B[A\u001B[A\n",
      "\n",
      "\n",
      "\n",
      "\n",
      "\n",
      "\n",
      "\n",
      "\n",
      "\n",
      "\n",
      "\n",
      "\n",
      "\n",
      "\n",
      "Executing:  20%|██        | 1/5 [00:02<00:09,  2.27s/cell]\u001B[A\u001B[A\u001B[A\u001B[A\u001B[A\u001B[A\u001B[A\u001B[A\u001B[A\u001B[A\u001B[A\u001B[A\u001B[A\u001B[A\u001B[A\n",
      "\n",
      "\n",
      "\n",
      "\n",
      "\n",
      "\n",
      "\n",
      "\n",
      "\n",
      "\n",
      "\n",
      "\n",
      "\n",
      "Executing:  20%|██        | 1/5 [00:02<00:10,  2.58s/cell]\u001B[A\u001B[A\u001B[A\u001B[A\u001B[A\u001B[A\u001B[A\u001B[A\u001B[A\u001B[A\u001B[A\u001B[A\u001B[A\u001B[A\n",
      "\n",
      "\n",
      "\n",
      "\n",
      "\n",
      "\n",
      "\n",
      "\n",
      "\n",
      "\n",
      "\n",
      "\n",
      "Executing:  20%|██        | 1/5 [00:02<00:10,  2.60s/cell]\u001B[A\u001B[A\u001B[A\u001B[A\u001B[A\u001B[A\u001B[A\u001B[A\u001B[A\u001B[A\u001B[A\u001B[A\u001B[A\n",
      "\n",
      "\n",
      "\n",
      "\n",
      "\n",
      "\n",
      "\n",
      "\n",
      "\n",
      "\n",
      "\n",
      "\n",
      "\n",
      "\n",
      "\n",
      "Executing:  20%|██        | 1/5 [00:03<00:12,  3.05s/cell]\u001B[A\u001B[A\u001B[A\u001B[A\u001B[A\u001B[A\u001B[A\u001B[A\u001B[A\u001B[A\u001B[A\u001B[A\u001B[A\u001B[A\u001B[A\u001B[A\n",
      "\n",
      "\n",
      "\n",
      "\n",
      "\n",
      "\n",
      "\n",
      "\n",
      "\n",
      "\n",
      "\n",
      "\n",
      "\n",
      "\n",
      "\n",
      "\n",
      "Executing:  20%|██        | 1/5 [00:03<00:12,  3.19s/cell]\u001B[A\u001B[A\u001B[A\u001B[A\u001B[A\u001B[A\u001B[A\u001B[A\u001B[A\u001B[A\u001B[A\u001B[A\u001B[A\u001B[A\u001B[A\u001B[A\u001B[A\n",
      "\n",
      "\n",
      "\n",
      "\n",
      "\n",
      "\n",
      "\n",
      "\n",
      "\n",
      "\n",
      "\n",
      "\n",
      "\n",
      "\n",
      "\n",
      "Executing:  40%|████      | 2/5 [00:03<00:04,  1.36s/cell]\u001B[A\u001B[A\u001B[A\u001B[A\u001B[A\u001B[A\u001B[A\u001B[A\u001B[A\u001B[A\u001B[A\u001B[A\u001B[A\u001B[A\u001B[A\u001B[A\n",
      "\n",
      "\n",
      "\n",
      "\n",
      "\n",
      "\n",
      "\n",
      "\n",
      "\n",
      "\n",
      "\n",
      "\n",
      "\n",
      "\n",
      "Executing:  80%|████████  | 4/5 [00:06<00:01,  1.69s/cell]\u001B[A\u001B[A\u001B[A\u001B[A\u001B[A\u001B[A\u001B[A\u001B[A\u001B[A\u001B[A\u001B[A\u001B[A\u001B[A\u001B[A\u001B[A\n",
      "\n",
      "\n",
      "\n",
      "\n",
      "\n",
      "\n",
      "\n",
      "\n",
      "\n",
      "\n",
      "\n",
      "\n",
      "\n",
      "Executing:  80%|████████  | 4/5 [00:07<00:01,  1.91s/cell]\u001B[A\u001B[A\u001B[A\u001B[A\u001B[A\u001B[A\u001B[A\u001B[A\u001B[A\u001B[A\u001B[A\u001B[A\u001B[A\u001B[A\n",
      "\n",
      "\n",
      "\n",
      "\n",
      "\n",
      "\n",
      "\n",
      "\n",
      "\n",
      "\n",
      "\n",
      "\n",
      "\n",
      "\n",
      "\n",
      "Executing:  80%|████████  | 4/5 [00:07<00:02,  2.00s/cell]\u001B[A\u001B[A\u001B[A\u001B[A\u001B[A\u001B[A\u001B[A\u001B[A\u001B[A\u001B[A\u001B[A\u001B[A\u001B[A\u001B[A\u001B[A\u001B[A\n",
      "\n",
      "\n",
      "\n",
      "\n",
      "\n",
      "\n",
      "\n",
      "\n",
      "\n",
      "\n",
      "\n",
      "\n",
      "Executing:  80%|████████  | 4/5 [00:08<00:02,  2.06s/cell]\u001B[A\u001B[A\u001B[A\u001B[A\u001B[A\u001B[A\u001B[A\u001B[A\u001B[A\u001B[A\u001B[A\u001B[A\u001B[A\n",
      "\n",
      "\n",
      "\n",
      "\n",
      "\n",
      "\n",
      "\n",
      "\n",
      "\n",
      "\n",
      "\n",
      "\n",
      "\n",
      "\n",
      "\n",
      "\n",
      "Executing:  80%|████████  | 4/5 [00:08<00:02,  2.02s/cell]\u001B[A\u001B[A\u001B[A\u001B[A\u001B[A\u001B[A\u001B[A\u001B[A\u001B[A\u001B[A\u001B[A\u001B[A\u001B[A\u001B[A\u001B[A\u001B[A\u001B[A"
     ]
    }
   ],
   "source": [
    "run_experiments(unfinished_runs, 'do_experiment_v1', notebook_path=\"experiment.ipynb\", backend='papermill', n_jobs=5)"
   ]
  },
  {
   "cell_type": "code",
   "execution_count": null,
   "id": "83439eef2b9b795d",
   "metadata": {
    "ExecuteTime": {
     "end_time": "2023-08-17T16:05:02.783378Z",
     "start_time": "2023-08-17T16:05:02.745486Z"
    },
    "collapsed": false
   },
   "outputs": [],
   "source": [
    "v4_runs.run_id[25]"
   ]
  },
  {
   "cell_type": "code",
   "execution_count": 15,
   "id": "de135a3b0072f25a",
   "metadata": {
    "collapsed": false,
    "ExecuteTime": {
     "end_time": "2023-08-23T21:16:20.969119Z",
     "start_time": "2023-08-23T21:15:53.343357Z"
    }
   },
   "outputs": [
    {
     "name": "stderr",
     "output_type": "stream",
     "text": [
      "2023-08-23 23:15:53.371 | INFO     | mlutils.distributedcomputing.experiments:run_experiments:11 - {}\n",
      "2023-08-23 23:15:53.382 | INFO     | __main__:do_experiment_base:5 - {'train_path': '../datasets/notebooks/processed/banana-5-3tra.csv'}\n",
      "2023-08-23 23:15:53.774 | INFO     | __main__:do_experiment_base:5 - {'train_path': '../datasets/notebooks/processed/vowel-5-2tra.csv'}\n",
      "2023-08-23 23:15:53.938 | INFO     | __main__:do_experiment_base:5 - {'train_path': '../datasets/notebooks/processed/nursery-5-5tra.csv'}\n",
      "2023-08-23 23:15:54.350 | INFO     | __main__:do_experiment_base:5 - {'train_path': '../datasets/notebooks/processed/car-5-2tra.csv'}\n",
      "2023-08-23 23:15:54.453 | INFO     | __main__:do_experiment_base:5 - {'train_path': '../datasets/notebooks/processed/yeast-5-2tra.csv'}\n",
      "2023-08-23 23:15:54.607 | INFO     | __main__:do_experiment_base:5 - {'train_path': '../datasets/notebooks/processed/wisconsin-5-1tra.csv'}\n",
      "2023-08-23 23:15:54.683 | INFO     | __main__:do_experiment_base:5 - {'train_path': '../datasets/notebooks/processed/mammographic-5-2tra.csv'}\n",
      "2023-08-23 23:15:54.772 | INFO     | __main__:do_experiment_base:5 - {'train_path': '../datasets/notebooks/processed/titanic-5-3tra.csv'}\n",
      "2023-08-23 23:15:54.851 | INFO     | __main__:do_experiment_base:5 - {'train_path': '../datasets/notebooks/processed/spambase-5-4tra.csv'}\n",
      "2023-08-23 23:15:55.445 | INFO     | __main__:do_experiment_base:5 - {'train_path': '../datasets/notebooks/processed/breast-5-5tra.csv'}\n",
      "2023-08-23 23:15:55.671 | INFO     | __main__:do_experiment_base:5 - {'train_path': '../datasets/notebooks/processed/ecoli-5-4tra.csv'}\n",
      "2023-08-23 23:15:55.750 | INFO     | __main__:do_experiment_base:5 - {'train_path': '../datasets/notebooks/processed/titanic-5-1tra.csv'}\n",
      "2023-08-23 23:15:55.831 | INFO     | __main__:do_experiment_base:5 - {'train_path': '../datasets/notebooks/processed/heart-5-2tra.csv'}\n",
      "2023-08-23 23:15:55.905 | INFO     | __main__:do_experiment_base:5 - {'train_path': '../datasets/notebooks/processed/haberman-5-4tra.csv'}\n",
      "2023-08-23 23:15:55.975 | INFO     | __main__:do_experiment_base:5 - {'train_path': '../datasets/notebooks/processed/chess-5-2tra.csv'}\n",
      "2023-08-23 23:15:56.186 | INFO     | __main__:do_experiment_base:5 - {'train_path': '../datasets/notebooks/processed/balance-5-2tra.csv'}\n",
      "2023-08-23 23:15:56.314 | INFO     | __main__:do_experiment_base:5 - {'train_path': '../datasets/notebooks/processed/mushroom-5-4tra.csv'}\n",
      "2023-08-23 23:15:56.610 | INFO     | __main__:do_experiment_base:5 - {'train_path': '../datasets/notebooks/processed/automobile-5-5tra.csv'}\n",
      "2023-08-23 23:15:56.856 | INFO     | __main__:do_experiment_base:5 - {'train_path': '../datasets/notebooks/processed/mammographic-5-4tra.csv'}\n",
      "2023-08-23 23:15:56.943 | INFO     | __main__:do_experiment_base:5 - {'train_path': '../datasets/notebooks/processed/wisconsin-5-3tra.csv'}\n",
      "2023-08-23 23:15:57.020 | INFO     | __main__:do_experiment_base:5 - {'train_path': '../datasets/notebooks/processed/wine-5-5tra.csv'}\n",
      "2023-08-23 23:15:57.091 | INFO     | __main__:do_experiment_base:5 - {'train_path': '../datasets/notebooks/processed/yeast-5-4tra.csv'}\n",
      "2023-08-23 23:15:57.242 | INFO     | __main__:do_experiment_base:5 - {'train_path': '../datasets/notebooks/processed/banana-5-1tra.csv'}\n",
      "2023-08-23 23:15:57.530 | INFO     | __main__:do_experiment_base:5 - {'train_path': '../datasets/notebooks/processed/shuttle-5-2tra.csv'}\n",
      "2023-08-23 23:15:59.445 | INFO     | __main__:do_experiment_base:5 - {'train_path': '../datasets/notebooks/processed/pima-5-2tra.csv'}\n",
      "2023-08-23 23:15:59.576 | INFO     | __main__:do_experiment_base:5 - {'train_path': '../datasets/notebooks/processed/spambase-5-2tra.csv'}\n",
      "2023-08-23 23:16:00.177 | INFO     | __main__:do_experiment_base:5 - {'train_path': '../datasets/notebooks/processed/wine-5-1tra.csv'}\n",
      "2023-08-23 23:16:00.351 | INFO     | __main__:do_experiment_base:5 - {'train_path': '../datasets/notebooks/processed/pima-5-4tra.csv'}\n",
      "2023-08-23 23:16:00.483 | INFO     | __main__:do_experiment_base:5 - {'train_path': '../datasets/notebooks/processed/nursery-5-1tra.csv'}\n",
      "2023-08-23 23:16:00.896 | INFO     | __main__:do_experiment_base:5 - {'train_path': '../datasets/notebooks/processed/breast-5-1tra.csv'}\n",
      "2023-08-23 23:16:00.969 | INFO     | __main__:do_experiment_base:5 - {'train_path': '../datasets/notebooks/processed/titanic-5-5tra.csv'}\n",
      "2023-08-23 23:16:01.048 | INFO     | __main__:do_experiment_base:5 - {'train_path': '../datasets/notebooks/processed/haberman-5-2tra.csv'}\n",
      "2023-08-23 23:16:01.118 | INFO     | __main__:do_experiment_base:5 - {'train_path': '../datasets/notebooks/processed/car-5-4tra.csv'}\n",
      "2023-08-23 23:16:01.220 | INFO     | __main__:do_experiment_base:5 - {'train_path': '../datasets/notebooks/processed/banana-5-5tra.csv'}\n",
      "2023-08-23 23:16:01.507 | INFO     | __main__:do_experiment_base:5 - {'train_path': '../datasets/notebooks/processed/shuttle-5-4tra.csv'}\n",
      "2023-08-23 23:16:03.432 | INFO     | __main__:do_experiment_base:5 - {'train_path': '../datasets/notebooks/processed/automobile-5-1tra.csv'}\n",
      "2023-08-23 23:16:03.536 | INFO     | __main__:do_experiment_base:5 - {'train_path': '../datasets/notebooks/processed/vowel-5-4tra.csv'}\n",
      "2023-08-23 23:16:03.767 | INFO     | __main__:do_experiment_base:5 - {'train_path': '../datasets/notebooks/processed/wisconsin-5-5tra.csv'}\n",
      "2023-08-23 23:16:03.843 | INFO     | __main__:do_experiment_base:5 - {'train_path': '../datasets/notebooks/processed/automobile-5-3tra.csv'}\n",
      "2023-08-23 23:16:03.921 | INFO     | __main__:do_experiment_base:5 - {'train_path': '../datasets/notebooks/processed/chess-5-1tra.csv'}\n",
      "2023-08-23 23:16:04.157 | INFO     | __main__:do_experiment_base:5 - {'train_path': '../datasets/notebooks/processed/chess-5-4tra.csv'}\n",
      "2023-08-23 23:16:04.510 | INFO     | __main__:do_experiment_base:5 - {'train_path': '../datasets/notebooks/processed/breast-5-3tra.csv'}\n",
      "2023-08-23 23:16:04.722 | INFO     | __main__:do_experiment_base:5 - {'train_path': '../datasets/notebooks/processed/mushroom-5-2tra.csv'}\n",
      "2023-08-23 23:16:04.986 | INFO     | __main__:do_experiment_base:5 - {'train_path': '../datasets/notebooks/processed/wine-5-3tra.csv'}\n",
      "2023-08-23 23:16:05.122 | INFO     | __main__:do_experiment_base:5 - {'train_path': '../datasets/notebooks/processed/balance-5-4tra.csv'}\n",
      "2023-08-23 23:16:05.234 | INFO     | __main__:do_experiment_base:5 - {'train_path': '../datasets/notebooks/processed/heart-5-4tra.csv'}\n",
      "2023-08-23 23:16:05.308 | INFO     | __main__:do_experiment_base:5 - {'train_path': '../datasets/notebooks/processed/ecoli-5-2tra.csv'}\n",
      "2023-08-23 23:16:05.385 | INFO     | __main__:do_experiment_base:5 - {'train_path': '../datasets/notebooks/processed/nursery-5-3tra.csv'}\n",
      "2023-08-23 23:16:05.807 | INFO     | __main__:do_experiment_base:5 - {'train_path': '../datasets/notebooks/processed/spambase-5-5tra.csv'}\n",
      "2023-08-23 23:16:06.354 | INFO     | __main__:do_experiment_base:5 - {'train_path': '../datasets/notebooks/processed/mammographic-5-3tra.csv'}\n",
      "2023-08-23 23:16:06.638 | INFO     | __main__:do_experiment_base:5 - {'train_path': '../datasets/notebooks/processed/balance-5-1tra.csv'}\n",
      "2023-08-23 23:16:06.727 | INFO     | __main__:do_experiment_base:5 - {'train_path': '../datasets/notebooks/processed/titanic-5-2tra.csv'}\n",
      "2023-08-23 23:16:06.806 | INFO     | __main__:do_experiment_base:5 - {'train_path': '../datasets/notebooks/processed/heart-5-1tra.csv'}\n",
      "2023-08-23 23:16:06.878 | INFO     | __main__:do_experiment_base:5 - {'train_path': '../datasets/notebooks/processed/shuttle-5-1tra.csv'}\n",
      "2023-08-23 23:16:08.752 | INFO     | __main__:do_experiment_base:5 - {'train_path': '../datasets/notebooks/processed/car-5-3tra.csv'}\n",
      "2023-08-23 23:16:08.960 | INFO     | __main__:do_experiment_base:5 - {'train_path': '../datasets/notebooks/processed/yeast-5-3tra.csv'}\n",
      "2023-08-23 23:16:09.128 | INFO     | __main__:do_experiment_base:5 - {'train_path': '../datasets/notebooks/processed/pima-5-1tra.csv'}\n",
      "2023-08-23 23:16:09.233 | INFO     | __main__:do_experiment_base:5 - {'train_path': '../datasets/notebooks/processed/banana-5-2tra.csv'}\n",
      "2023-08-23 23:16:09.531 | INFO     | __main__:do_experiment_base:5 - {'train_path': '../datasets/notebooks/processed/vowel-5-3tra.csv'}\n",
      "2023-08-23 23:16:09.694 | INFO     | __main__:do_experiment_base:5 - {'train_path': '../datasets/notebooks/processed/pima-5-3tra.csv'}\n",
      "2023-08-23 23:16:09.794 | INFO     | __main__:do_experiment_base:5 - {'train_path': '../datasets/notebooks/processed/yeast-5-1tra.csv'}\n",
      "2023-08-23 23:16:09.946 | INFO     | __main__:do_experiment_base:5 - {'train_path': '../datasets/notebooks/processed/wisconsin-5-2tra.csv'}\n",
      "2023-08-23 23:16:10.032 | INFO     | __main__:do_experiment_base:5 - {'train_path': '../datasets/notebooks/processed/shuttle-5-3tra.csv'}\n",
      "2023-08-23 23:16:11.973 | INFO     | __main__:do_experiment_base:5 - {'train_path': '../datasets/notebooks/processed/car-5-1tra.csv'}\n",
      "2023-08-23 23:16:12.152 | INFO     | __main__:do_experiment_base:5 - {'train_path': '../datasets/notebooks/processed/vowel-5-1tra.csv'}\n",
      "2023-08-23 23:16:12.337 | INFO     | __main__:do_experiment_base:5 - {'train_path': '../datasets/notebooks/processed/automobile-5-4tra.csv'}\n",
      "2023-08-23 23:16:12.417 | INFO     | __main__:do_experiment_base:5 - {'train_path': '../datasets/notebooks/processed/chess-5-3tra.csv'}\n",
      "2023-08-23 23:16:12.636 | INFO     | __main__:do_experiment_base:5 - {'train_path': '../datasets/notebooks/processed/mushroom-5-5tra.csv'}\n",
      "2023-08-23 23:16:12.996 | INFO     | __main__:do_experiment_base:5 - {'train_path': '../datasets/notebooks/processed/wine-5-4tra.csv'}\n",
      "2023-08-23 23:16:13.244 | INFO     | __main__:do_experiment_base:5 - {'train_path': '../datasets/notebooks/processed/haberman-5-5tra.csv'}\n",
      "2023-08-23 23:16:13.485 | INFO     | __main__:do_experiment_base:5 - {'train_path': '../datasets/notebooks/processed/heart-5-3tra.csv'}\n",
      "2023-08-23 23:16:13.587 | INFO     | __main__:do_experiment_base:5 - {'train_path': '../datasets/notebooks/processed/ecoli-5-5tra.csv'}\n",
      "2023-08-23 23:16:13.664 | INFO     | __main__:do_experiment_base:5 - {'train_path': '../datasets/notebooks/processed/breast-5-4tra.csv'}\n",
      "2023-08-23 23:16:13.736 | INFO     | __main__:do_experiment_base:5 - {'train_path': '../datasets/notebooks/processed/nursery-5-4tra.csv'}\n",
      "2023-08-23 23:16:14.157 | INFO     | __main__:do_experiment_base:5 - {'train_path': '../datasets/notebooks/processed/mammographic-5-1tra.csv'}\n",
      "2023-08-23 23:16:14.246 | INFO     | __main__:do_experiment_base:5 - {'train_path': '../datasets/notebooks/processed/balance-5-3tra.csv'}\n",
      "2023-08-23 23:16:14.326 | INFO     | __main__:do_experiment_base:5 - {'train_path': '../datasets/notebooks/processed/banana-5-4tra.csv'}\n",
      "2023-08-23 23:16:14.614 | INFO     | __main__:do_experiment_base:5 - {'train_path': '../datasets/notebooks/processed/vowel-5-5tra.csv'}\n",
      "2023-08-23 23:16:14.775 | INFO     | __main__:do_experiment_base:5 - {'train_path': '../datasets/notebooks/processed/car-5-5tra.csv'}\n",
      "2023-08-23 23:16:14.880 | INFO     | __main__:do_experiment_base:5 - {'train_path': '../datasets/notebooks/processed/yeast-5-5tra.csv'}\n",
      "2023-08-23 23:16:15.031 | INFO     | __main__:do_experiment_base:5 - {'train_path': '../datasets/notebooks/processed/mammographic-5-5tra.csv'}\n",
      "2023-08-23 23:16:15.116 | INFO     | __main__:do_experiment_base:5 - {'train_path': '../datasets/notebooks/processed/ecoli-5-1tra.csv'}\n",
      "2023-08-23 23:16:15.193 | INFO     | __main__:do_experiment_base:5 - {'train_path': '../datasets/notebooks/processed/haberman-5-1tra.csv'}\n",
      "2023-08-23 23:16:15.263 | INFO     | __main__:do_experiment_base:5 - {'train_path': '../datasets/notebooks/processed/titanic-5-4tra.csv'}\n",
      "2023-08-23 23:16:15.342 | INFO     | __main__:do_experiment_base:5 - {'train_path': '../datasets/notebooks/processed/spambase-5-3tra.csv'}\n",
      "2023-08-23 23:16:15.910 | INFO     | __main__:do_experiment_base:5 - {'train_path': '../datasets/notebooks/processed/mushroom-5-1tra.csv'}\n",
      "2023-08-23 23:16:16.288 | INFO     | __main__:do_experiment_base:5 - {'train_path': '../datasets/notebooks/processed/breast-5-2tra.csv'}\n",
      "2023-08-23 23:16:16.459 | INFO     | __main__:do_experiment_base:5 - {'train_path': '../datasets/notebooks/processed/ecoli-5-3tra.csv'}\n",
      "2023-08-23 23:16:16.563 | INFO     | __main__:do_experiment_base:5 - {'train_path': '../datasets/notebooks/processed/haberman-5-3tra.csv'}\n",
      "2023-08-23 23:16:16.633 | INFO     | __main__:do_experiment_base:5 - {'train_path': '../datasets/notebooks/processed/heart-5-5tra.csv'}\n",
      "2023-08-23 23:16:16.706 | INFO     | __main__:do_experiment_base:5 - {'train_path': '../datasets/notebooks/processed/mushroom-5-3tra.csv'}\n",
      "2023-08-23 23:16:16.932 | INFO     | __main__:do_experiment_base:5 - {'train_path': '../datasets/notebooks/processed/spambase-5-1tra.csv'}\n",
      "2023-08-23 23:16:17.614 | INFO     | __main__:do_experiment_base:5 - {'train_path': '../datasets/notebooks/processed/wisconsin-5-4tra.csv'}\n",
      "2023-08-23 23:16:17.852 | INFO     | __main__:do_experiment_base:5 - {'train_path': '../datasets/notebooks/processed/chess-5-5tra.csv'}\n",
      "2023-08-23 23:16:18.094 | INFO     | __main__:do_experiment_base:5 - {'train_path': '../datasets/notebooks/processed/balance-5-5tra.csv'}\n",
      "2023-08-23 23:16:18.249 | INFO     | __main__:do_experiment_base:5 - {'train_path': '../datasets/notebooks/processed/pima-5-5tra.csv'}\n",
      "2023-08-23 23:16:18.389 | INFO     | __main__:do_experiment_base:5 - {'train_path': '../datasets/notebooks/processed/nursery-5-2tra.csv'}\n",
      "2023-08-23 23:16:18.796 | INFO     | __main__:do_experiment_base:5 - {'train_path': '../datasets/notebooks/processed/shuttle-5-5tra.csv'}\n",
      "2023-08-23 23:16:20.715 | INFO     | __main__:do_experiment_base:5 - {'train_path': '../datasets/notebooks/processed/wine-5-2tra.csv'}\n",
      "2023-08-23 23:16:20.836 | INFO     | __main__:do_experiment_base:5 - {'train_path': '../datasets/notebooks/processed/automobile-5-2tra.csv'}\n"
     ]
    },
    {
     "data": {
      "text/plain": "[None,\n None,\n None,\n None,\n None,\n None,\n None,\n None,\n None,\n None,\n None,\n None,\n None,\n None,\n None,\n None,\n None,\n None,\n None,\n None,\n None,\n None,\n None,\n None,\n None,\n None,\n None,\n None,\n None,\n None,\n None,\n None,\n None,\n None,\n None,\n None,\n None,\n None,\n None,\n None,\n None,\n None,\n None,\n None,\n None,\n None,\n None,\n None,\n None,\n None,\n None,\n None,\n None,\n None,\n None,\n None,\n None,\n None,\n None,\n None,\n None,\n None,\n None,\n None,\n None,\n None,\n None,\n None,\n None,\n None,\n None,\n None,\n None,\n None,\n None,\n None,\n None,\n None,\n None,\n None,\n None,\n None,\n None,\n None,\n None,\n None,\n None,\n None,\n None,\n None,\n None,\n None,\n None,\n None,\n None,\n None,\n None,\n None,\n None,\n None]"
     },
     "execution_count": 15,
     "metadata": {},
     "output_type": "execute_result"
    }
   ],
   "source": [
    "run_experiments(base_runs.run_id, do_experiment_base, backend='plain')"
   ]
  },
  {
   "cell_type": "code",
   "execution_count": 13,
   "id": "46774765-a61f-4d6a-b2d3-4cd439363b44",
   "metadata": {},
   "outputs": [
    {
     "data": {
      "text/plain": [
       "status\n",
       "RUNNING     8832\n",
       "FAILED       672\n",
       "FINISHED      96\n",
       "Name: count, dtype: int64"
      ]
     },
     "execution_count": 13,
     "metadata": {},
     "output_type": "execute_result"
    }
   ],
   "source": [
    "v4_runs.status.value_counts()"
   ]
  }
 ],
 "metadata": {
  "kernelspec": {
   "display_name": "Python 3 (ipykernel)",
   "language": "python",
   "name": "python3"
  },
  "language_info": {
   "codemirror_mode": {
    "name": "ipython",
    "version": 3
   },
   "file_extension": ".py",
   "mimetype": "text/x-python",
   "name": "python",
   "nbconvert_exporter": "python",
   "pygments_lexer": "ipython3",
   "version": "3.8.16"
  }
 },
 "nbformat": 4,
 "nbformat_minor": 5
}

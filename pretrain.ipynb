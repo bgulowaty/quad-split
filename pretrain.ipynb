{
 "cells": [
  {
   "cell_type": "code",
   "execution_count": null,
   "id": "9231fdeb-e40f-425e-aa68-f93749458cec",
   "metadata": {},
   "outputs": [],
   "source": [
    "PRETRAIN_DATASETS = ['wisconsin', 'australian', 'saheart', 'haberman']\n"
   ]
  },
  {
   "cell_type": "code",
   "execution_count": null,
   "id": "abe1f865-8538-49e9-ba19-63df3f1c8c7c",
   "metadata": {},
   "outputs": [],
   "source": [
    "param_grid_quad_split = [\n",
    "    {\n",
    "        'minimal_split_percentage': scipy.stats.uniform(loc=0.01, scale=0.49),\n",
    "        'min_samples': scipy.stats.betabinom(65, 2.578, 5.106),\n",
    "    },\n",
    "]"
   ]
  },
  {
   "cell_type": "code",
   "execution_count": null,
   "id": "78159e36-b455-46ac-8daa-b8d8af2b3c05",
   "metadata": {},
   "outputs": [],
   "source": [
    "for dataset_name in PRETRAIN_DATASETS:\n",
    "    dataset = load_embedded_dataset('keel-binary-fast', dataset_name).encode_x_to_labels()\n",
    "    x = dataset.x()\n",
    "    y = dataset.y()\n",
    "\n",
    "    rf_rs = RandomizedSearchCV(QuadSplitClassifier(minimal_split_percentage=0.3, min_samples=10, complexity_measure=COMPLEXITY_METRICS['f2'], base_clf=DecisionTreeClassifier(**DT_PARAMS)),\n",
    "                               param_distributions=param_grid_quad_split,\n",
    "                               scoring='accuracy',\n",
    "                               n_iter=100,\n",
    "                               cv=5,\n",
    "                               random_state=42)\n",
    "    rf_rs.fit(x, y)\n",
    "    print(f\"{dataset_name} \\t {rf_rs.best_params_}\")\n",
    "    qs_search[dataset_name] = rf_rs"
   ]
  }
 ],
 "metadata": {
  "kernelspec": {
   "display_name": "Python 3 (ipykernel)",
   "language": "python",
   "name": "python3"
  },
  "language_info": {
   "codemirror_mode": {
    "name": "ipython",
    "version": 3
   },
   "file_extension": ".py",
   "mimetype": "text/x-python",
   "name": "python",
   "nbconvert_exporter": "python",
   "pygments_lexer": "ipython3",
   "version": "3.8.16"
  }
 },
 "nbformat": 4,
 "nbformat_minor": 5
}

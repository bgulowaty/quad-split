{
 "cells": [
  {
   "cell_type": "raw",
   "source": [
    "---\n",
    "execute:\n",
    "  echo: false\n",
    "format:\n",
    "    html:\n",
    "        code-fold: true\n",
    "        code-tools: true\n",
    "jupyter: python3\n",
    "site-url: github.com/bgulowaty/quad-split\n",
    "---"
   ],
   "metadata": {
    "collapsed": false
   },
   "id": "8f67b34132ee0819"
  },
  {
   "cell_type": "markdown",
   "source": [
    "\n",
    "# Quad-split\n",
    "recursive subspace split\n",
    "\n",
    "## How it works:\n",
    "1. For every feature consider all values as splitting axis (eg. If we have samples: [[1,2], [3,4]] then we would consider two features: F1 with points: 1,3 and F2 with points 2,3\n",
    "2. For every point split the feature space (so we have \"left\" and \"right\" subspaces). Only split that fulfil `minimal_split_percentage` criterion are considered (eg. if `minimal_split_percentage` is 0.1, then in either of the sides there needs to be at least 10% of samples) For every subspace calculate complexity using complexity metrics (https://arxiv.org/abs/1808.03591) using OVO approach if there are multiple classes. As a result, for every point we have sum of complexities for both subspaces.\n",
    "3. Select point which offers lowest complexity after split\n",
    "4. For left and right subspaces, repeat the process recursively UNTIL there are no more splitting points (due to `minimal_split_percentage`) or `min_samples` was reached.\n",
    "5. In each of subpaces `base_clf` is trained. Or if subspace is \"pure\" (contains only samples of one class) its using DummyClassifier - all samples are according to the pure class\n"
   ],
   "metadata": {
    "collapsed": false
   },
   "id": "2b06815d2aee61"
  },
  {
   "cell_type": "markdown",
   "source": [
    "## Processing"
   ],
   "metadata": {
    "collapsed": false
   },
   "id": "597eef60d8074a07"
  },
  {
   "cell_type": "code",
   "execution_count": 1,
   "id": "initial_id",
   "metadata": {
    "collapsed": true,
    "ExecuteTime": {
     "end_time": "2023-10-27T19:14:45.686095Z",
     "start_time": "2023-10-27T19:14:44.677321Z"
    }
   },
   "outputs": [],
   "source": [
    "import mlflow\n",
    "from mlflow import MlflowClient\n",
    "import numpy as np\n",
    "from pandas import DataFrame, Series\n",
    "from IPython.display import display, Markdown, HTML\n",
    "from mlutils.mlflow.utils import create_runs_for_params, get_unfinished_run_ids, get_runs, get_unfinished_runs, get_run_params, experiment_name_to_id"
   ]
  },
  {
   "cell_type": "code",
   "execution_count": 2,
   "outputs": [],
   "source": [
    "def display_md(val):\n",
    "    return display(Markdown(val))\n",
    "\n",
    "def display_df(df):\n",
    "    if type(df) == Series:\n",
    "        df = df.to_frame()\n",
    "    return display(HTML(df.to_html()))\n",
    "\n",
    "mlflow.set_tracking_uri(\"sqlite:///experiments.db\")\n",
    "client = MlflowClient(tracking_uri=\"sqlite:///experiments.db\")"
   ],
   "metadata": {
    "collapsed": false,
    "ExecuteTime": {
     "end_time": "2023-10-27T19:14:45.990240Z",
     "start_time": "2023-10-27T19:14:45.688834Z"
    }
   },
   "id": "93a8160a4f43c625"
  },
  {
   "cell_type": "code",
   "execution_count": 3,
   "outputs": [],
   "source": [
    "v6_runs = get_runs(experiment_name_to_id(\"v6\", client=client))\n",
    "base_runs = get_runs(experiment_name_to_id(\"base\", client=client))"
   ],
   "metadata": {
    "collapsed": false,
    "ExecuteTime": {
     "end_time": "2023-10-27T19:14:46.706908Z",
     "start_time": "2023-10-27T19:14:45.991382Z"
    }
   },
   "id": "61d14034310136f2"
  },
  {
   "cell_type": "code",
   "execution_count": 4,
   "outputs": [],
   "source": [
    "merged = v6_runs.merge(base_runs, on=\"params.train_path\", suffixes=('', '_base'))[\n",
    "    ['status', 'params.train_path', 'params.complexity_measure', 'params.base_clf', 'metrics.dt_acc', 'metrics.rf_acc', 'metrics.perceptron_acc', 'metrics.acc', 'params.min_samples', 'params.min_split_percentage']\n",
    "]"
   ],
   "metadata": {
    "collapsed": false,
    "ExecuteTime": {
     "end_time": "2023-10-27T19:14:46.715438Z",
     "start_time": "2023-10-27T19:14:46.710896Z"
    }
   },
   "id": "5fb0545356ff43ec"
  },
  {
   "cell_type": "code",
   "execution_count": 5,
   "outputs": [],
   "source": [
    "merged['better_equal_rf'] = merged['metrics.acc'] >= merged['metrics.rf_acc']\n",
    "merged['better_than_dt'] = merged['metrics.acc'] > merged['metrics.dt_acc']"
   ],
   "metadata": {
    "collapsed": false,
    "ExecuteTime": {
     "end_time": "2023-10-27T19:14:46.722150Z",
     "start_time": "2023-10-27T19:14:46.718304Z"
    }
   },
   "id": "2176e60d1ad3076"
  },
  {
   "cell_type": "code",
   "execution_count": 6,
   "outputs": [
    {
     "data": {
      "text/plain": "<IPython.core.display.HTML object>",
      "text/html": "<table border=\"1\" class=\"dataframe\">\n  <thead>\n    <tr style=\"text-align: right;\">\n      <th></th>\n      <th>count</th>\n    </tr>\n    <tr>\n      <th>status</th>\n      <th></th>\n    </tr>\n  </thead>\n  <tbody>\n    <tr>\n      <th>RUNNING</th>\n      <td>707</td>\n    </tr>\n    <tr>\n      <th>FAILED</th>\n      <td>688</td>\n    </tr>\n    <tr>\n      <th>FINISHED</th>\n      <td>525</td>\n    </tr>\n  </tbody>\n</table>"
     },
     "metadata": {},
     "output_type": "display_data"
    }
   ],
   "source": [
    "display_df(merged.status.value_counts())"
   ],
   "metadata": {
    "collapsed": false,
    "ExecuteTime": {
     "end_time": "2023-10-27T19:14:46.733340Z",
     "start_time": "2023-10-27T19:14:46.722460Z"
    }
   },
   "id": "2685d75202498fac"
  },
  {
   "cell_type": "code",
   "execution_count": 7,
   "outputs": [
    {
     "data": {
      "text/plain": "<IPython.core.display.HTML object>",
      "text/html": "<table border=\"1\" class=\"dataframe\">\n  <thead>\n    <tr style=\"text-align: right;\">\n      <th></th>\n      <th></th>\n      <th>params.train_path</th>\n    </tr>\n    <tr>\n      <th>params.complexity_measure</th>\n      <th>status</th>\n      <th></th>\n    </tr>\n  </thead>\n  <tbody>\n    <tr>\n      <th rowspan=\"3\" valign=\"top\">density</th>\n      <th>FAILED</th>\n      <td>359</td>\n    </tr>\n    <tr>\n      <th>FINISHED</th>\n      <td>1</td>\n    </tr>\n    <tr>\n      <th>RUNNING</th>\n      <td>120</td>\n    </tr>\n    <tr>\n      <th rowspan=\"3\" valign=\"top\">f2</th>\n      <th>FAILED</th>\n      <td>66</td>\n    </tr>\n    <tr>\n      <th>FINISHED</th>\n      <td>175</td>\n    </tr>\n    <tr>\n      <th>RUNNING</th>\n      <td>239</td>\n    </tr>\n    <tr>\n      <th rowspan=\"3\" valign=\"top\">l3</th>\n      <th>FAILED</th>\n      <td>115</td>\n    </tr>\n    <tr>\n      <th>FINISHED</th>\n      <td>243</td>\n    </tr>\n    <tr>\n      <th>RUNNING</th>\n      <td>122</td>\n    </tr>\n    <tr>\n      <th rowspan=\"3\" valign=\"top\">n3</th>\n      <th>FAILED</th>\n      <td>148</td>\n    </tr>\n    <tr>\n      <th>FINISHED</th>\n      <td>106</td>\n    </tr>\n    <tr>\n      <th>RUNNING</th>\n      <td>226</td>\n    </tr>\n  </tbody>\n</table>"
     },
     "metadata": {},
     "output_type": "display_data"
    }
   ],
   "source": [
    "display_df(merged.groupby([\"params.complexity_measure\", \"status\"]).count()['params.train_path'])"
   ],
   "metadata": {
    "collapsed": false,
    "ExecuteTime": {
     "end_time": "2023-10-27T19:14:46.751633Z",
     "start_time": "2023-10-27T19:14:46.728625Z"
    }
   },
   "id": "3ce68ab60ecad78c"
  },
  {
   "cell_type": "code",
   "execution_count": 8,
   "outputs": [
    {
     "ename": "TypeError",
     "evalue": "Markdown expects text, not params.complexity_measure\ndensity    480\nf2         480\nl3         480\nn3         480\nName: status, dtype: int64",
     "output_type": "error",
     "traceback": [
      "\u001B[0;31m---------------------------------------------------------------------------\u001B[0m",
      "\u001B[0;31mTypeError\u001B[0m                                 Traceback (most recent call last)",
      "Cell \u001B[0;32mIn[8], line 1\u001B[0m\n\u001B[0;32m----> 1\u001B[0m \u001B[43mdisplay_md\u001B[49m\u001B[43m(\u001B[49m\u001B[43mmerged\u001B[49m\u001B[38;5;241;43m.\u001B[39;49m\u001B[43mgroupby\u001B[49m\u001B[43m(\u001B[49m\u001B[38;5;124;43m\"\u001B[39;49m\u001B[38;5;124;43mparams.complexity_measure\u001B[39;49m\u001B[38;5;124;43m\"\u001B[39;49m\u001B[43m)\u001B[49m\u001B[38;5;241;43m.\u001B[39;49m\u001B[43mcount\u001B[49m\u001B[43m(\u001B[49m\u001B[43m)\u001B[49m\u001B[38;5;241;43m.\u001B[39;49m\u001B[43mstatus\u001B[49m\u001B[43m)\u001B[49m\n",
      "Cell \u001B[0;32mIn[2], line 2\u001B[0m, in \u001B[0;36mdisplay_md\u001B[0;34m(val)\u001B[0m\n\u001B[1;32m      1\u001B[0m \u001B[38;5;28;01mdef\u001B[39;00m \u001B[38;5;21mdisplay_md\u001B[39m(val):\n\u001B[0;32m----> 2\u001B[0m     \u001B[38;5;28;01mreturn\u001B[39;00m display(\u001B[43mMarkdown\u001B[49m\u001B[43m(\u001B[49m\u001B[43mval\u001B[49m\u001B[43m)\u001B[49m)\n",
      "File \u001B[0;32m~/studia/projekty/quad-splits/.venv/lib/python3.8/site-packages/IPython/core/display.py:328\u001B[0m, in \u001B[0;36mDisplayObject.__init__\u001B[0;34m(self, data, url, filename, metadata)\u001B[0m\n\u001B[1;32m    325\u001B[0m     \u001B[38;5;28mself\u001B[39m\u001B[38;5;241m.\u001B[39mmetadata \u001B[38;5;241m=\u001B[39m {}\n\u001B[1;32m    327\u001B[0m \u001B[38;5;28mself\u001B[39m\u001B[38;5;241m.\u001B[39mreload()\n\u001B[0;32m--> 328\u001B[0m \u001B[38;5;28;43mself\u001B[39;49m\u001B[38;5;241;43m.\u001B[39;49m\u001B[43m_check_data\u001B[49m\u001B[43m(\u001B[49m\u001B[43m)\u001B[49m\n",
      "File \u001B[0;32m~/studia/projekty/quad-splits/.venv/lib/python3.8/site-packages/IPython/core/display.py:407\u001B[0m, in \u001B[0;36mTextDisplayObject._check_data\u001B[0;34m(self)\u001B[0m\n\u001B[1;32m    405\u001B[0m \u001B[38;5;28;01mdef\u001B[39;00m \u001B[38;5;21m_check_data\u001B[39m(\u001B[38;5;28mself\u001B[39m):\n\u001B[1;32m    406\u001B[0m     \u001B[38;5;28;01mif\u001B[39;00m \u001B[38;5;28mself\u001B[39m\u001B[38;5;241m.\u001B[39mdata \u001B[38;5;129;01mis\u001B[39;00m \u001B[38;5;129;01mnot\u001B[39;00m \u001B[38;5;28;01mNone\u001B[39;00m \u001B[38;5;129;01mand\u001B[39;00m \u001B[38;5;129;01mnot\u001B[39;00m \u001B[38;5;28misinstance\u001B[39m(\u001B[38;5;28mself\u001B[39m\u001B[38;5;241m.\u001B[39mdata, \u001B[38;5;28mstr\u001B[39m):\n\u001B[0;32m--> 407\u001B[0m         \u001B[38;5;28;01mraise\u001B[39;00m \u001B[38;5;167;01mTypeError\u001B[39;00m(\u001B[38;5;124m\"\u001B[39m\u001B[38;5;132;01m%s\u001B[39;00m\u001B[38;5;124m expects text, not \u001B[39m\u001B[38;5;132;01m%r\u001B[39;00m\u001B[38;5;124m\"\u001B[39m \u001B[38;5;241m%\u001B[39m (\u001B[38;5;28mself\u001B[39m\u001B[38;5;241m.\u001B[39m\u001B[38;5;18m__class__\u001B[39m\u001B[38;5;241m.\u001B[39m\u001B[38;5;18m__name__\u001B[39m, \u001B[38;5;28mself\u001B[39m\u001B[38;5;241m.\u001B[39mdata))\n",
      "\u001B[0;31mTypeError\u001B[0m: Markdown expects text, not params.complexity_measure\ndensity    480\nf2         480\nl3         480\nn3         480\nName: status, dtype: int64"
     ]
    }
   ],
   "source": [
    "display_md(merged.groupby(\"params.complexity_measure\").count().status)"
   ],
   "metadata": {
    "collapsed": false,
    "ExecuteTime": {
     "end_time": "2023-10-27T19:14:46.996842Z",
     "start_time": "2023-10-27T19:14:46.735472Z"
    }
   },
   "id": "ff8a1c92f1c1d3e9"
  },
  {
   "cell_type": "code",
   "execution_count": null,
   "outputs": [],
   "source": [
    "merged = merged.query(\"status == 'FINISHED'\")"
   ],
   "metadata": {
    "collapsed": false,
    "ExecuteTime": {
     "start_time": "2023-10-27T19:14:47.001408Z"
    }
   },
   "id": "d3737ae4ffbedb5"
  },
  {
   "cell_type": "markdown",
   "source": [],
   "metadata": {
    "collapsed": false
   },
   "id": "9ba84b5dd3ba8074"
  },
  {
   "cell_type": "markdown",
   "source": [
    "## Visualization\n",
    "### Better or equal RF \n",
    "[(with default params - 100 estimators)](https://scikit-learn.org/stable/modules/generated/sklearn.ensemble.RandomForestClassifier.html)"
   ],
   "metadata": {
    "collapsed": false
   },
   "id": "a57365a49508ef34"
  },
  {
   "cell_type": "code",
   "execution_count": null,
   "outputs": [],
   "source": [
    "display_md(\"**All across**\")\n",
    "display(\n",
    "    merged['better_equal_rf'].mean()\n",
    ")\n",
    "\n",
    "\n",
    "display_md(\"**Grouped by complexity_measure and base_clf**\")\n",
    "display_df(\n",
    "    merged.groupby([\"params.complexity_measure\", \"params.base_clf\"])\\\n",
    "    ['better_equal_rf'] \\\n",
    "    .apply(lambda x: np.sum(x)/len(x))\n",
    ")\n",
    "\n",
    "display_md(\"**Grouped by min_samples allowed in split/subspace**\")\n",
    "display_df(\n",
    "    merged.groupby([\"params.min_samples\"]) \\\n",
    "    ['better_equal_rf'] \\\n",
    "    .apply(lambda x: np.sum(x)/len(x))\n",
    ")\n",
    "\n",
    "\n",
    "display_md(\"**Grouped by min_split_percentage for the point to be considered as split**\")\n",
    "display_df(\n",
    "    merged.groupby([\"params.min_split_percentage\"]) \\\n",
    "        ['better_equal_rf'] \\\n",
    "        .apply(lambda x: np.sum(x)/len(x))\n",
    ")\n",
    "\n",
    "display_md(\"**Grouped by base_clf trained in the split**\")\n",
    "display_df(\n",
    "    merged.groupby([\"params.base_clf\"]) \\\n",
    "        ['better_equal_rf'] \\\n",
    "        .apply(lambda x: np.sum(x)/len(x))\n",
    ")"
   ],
   "metadata": {
    "collapsed": false,
    "ExecuteTime": {
     "start_time": "2023-10-27T19:14:47.003230Z"
    }
   },
   "id": "4abfdd18cdee0ebc"
  },
  {
   "cell_type": "markdown",
   "source": [
    "### Better than DT [(with default params - no max depth)](https://scikit-learn.org/stable/modules/generated/sklearn.tree.DecisionTreeClassifier.html) "
   ],
   "metadata": {
    "collapsed": false
   },
   "id": "f6a7c4acbc3aad74"
  },
  {
   "cell_type": "code",
   "execution_count": null,
   "outputs": [],
   "source": [
    "display_md(\"**All across**\")\n",
    "display(\n",
    "    merged['better_than_dt'].mean()\n",
    ")\n",
    "\n",
    "\n",
    "display_md(\"**Grouped by complexity_measure and base_clf**\")\n",
    "display_df(\n",
    "    merged.groupby([\"params.complexity_measure\", \"params.base_clf\"]) \\\n",
    "        ['better_than_dt'] \\\n",
    "        .apply(lambda x: np.sum(x)/len(x))\n",
    ")\n",
    "\n",
    "display_md(\"**Grouped by min_samples allowed in split/subspace**\")\n",
    "display_df(\n",
    "    merged.groupby([\"params.min_samples\"]) \\\n",
    "        ['better_than_dt'] \\\n",
    "        .apply(lambda x: np.sum(x)/len(x))\n",
    ")\n",
    "\n",
    "\n",
    "display_md(\"**Grouped by min_split_percentage for the point to be considered as split**\")\n",
    "display_df(\n",
    "    merged.groupby([\"params.min_split_percentage\"]) \\\n",
    "        ['better_than_dt'] \\\n",
    "        .apply(lambda x: np.sum(x)/len(x))\n",
    ")\n",
    "\n",
    "display_md(\"**Grouped by base_clf trained in the split**\")\n",
    "display_df(\n",
    "    merged.groupby([\"params.base_clf\"]) \\\n",
    "        ['better_than_dt'] \\\n",
    "        .apply(lambda x: np.sum(x)/len(x))\n",
    ")"
   ],
   "metadata": {
    "collapsed": false,
    "ExecuteTime": {
     "start_time": "2023-10-27T19:14:47.004189Z"
    }
   },
   "id": "d7560659e6420d1c"
  }
 ],
 "metadata": {
  "kernelspec": {
   "display_name": "Python 3",
   "language": "python",
   "name": "python3"
  },
  "language_info": {
   "codemirror_mode": {
    "name": "ipython",
    "version": 2
   },
   "file_extension": ".py",
   "mimetype": "text/x-python",
   "name": "python",
   "nbconvert_exporter": "python",
   "pygments_lexer": "ipython2",
   "version": "2.7.6"
  }
 },
 "nbformat": 4,
 "nbformat_minor": 5
}

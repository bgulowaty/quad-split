{
 "cells": [
  {
   "cell_type": "raw",
   "source": [
    "---\n",
    "execute:\n",
    "  echo: false\n",
    "format:\n",
    "    html:\n",
    "        code-fold: true\n",
    "        code-tools: true\n",
    "jupyter: python3\n",
    "site-url: github.com/bgulowaty/quad-split\n",
    "---"
   ],
   "metadata": {
    "collapsed": false
   },
   "id": "8f67b34132ee0819"
  },
  {
   "cell_type": "markdown",
   "source": [
    "\n",
    "# Quad-split\n",
    "recursive subspace split\n",
    "\n",
    "## How it works:\n",
    "1. For every feature consider all values as splitting axis (eg. If we have samples: [[1,2], [3,4]] then we would consider two features: F1 with points: 1,3 and F2 with points 2,3\n",
    "2. For every point split the feature space (so we have \"left\" and \"right\" subspaces). Only split that fulfil `minimal_split_percentage` criterion are considered (eg. if `minimal_split_percentage` is 0.1, then in either of the sides there needs to be at least 10% of samples) For every subspace calculate complexity using complexity metrics (https://arxiv.org/abs/1808.03591) using OVO approach if there are multiple classes. As a result, for every point we have sum of complexities for both subspaces.\n",
    "3. Select point which offers lowest complexity after split\n",
    "4. For left and right subspaces, repeat the process recursively UNTIL there are no more splitting points (due to `minimal_split_percentage`) or `min_samples` was reached.\n",
    "5. In each of subpaces `base_clf` is trained. Or if subspace is \"pure\" (contains only samples of one class) its using DummyClassifier - all samples are according to the pure class\n"
   ],
   "metadata": {
    "collapsed": false
   },
   "id": "2b06815d2aee61"
  },
  {
   "cell_type": "markdown",
   "source": [
    "## Processing"
   ],
   "metadata": {
    "collapsed": false
   },
   "id": "597eef60d8074a07"
  },
  {
   "cell_type": "code",
   "execution_count": 1,
   "id": "initial_id",
   "metadata": {
    "collapsed": true,
    "ExecuteTime": {
     "end_time": "2023-11-27T23:09:46.474565Z",
     "start_time": "2023-11-27T23:09:45.318379Z"
    }
   },
   "outputs": [],
   "source": [
    "import mlflow\n",
    "from mlflow import MlflowClient\n",
    "import numpy as np\n",
    "from pandas import DataFrame, Series\n",
    "from IPython.display import display, Markdown, HTML\n",
    "from mlutils.mlflow.utils import create_runs_for_params, get_unfinished_run_ids, get_runs, get_unfinished_runs, get_run_params, experiment_name_to_id"
   ]
  },
  {
   "cell_type": "code",
   "execution_count": 2,
   "outputs": [],
   "source": [
    "def display_md(val):\n",
    "    return display(Markdown(val))\n",
    "\n",
    "def display_df(df):\n",
    "    if type(df) == Series:\n",
    "        df = df.to_frame()\n",
    "    return display(HTML(df.to_html()))\n",
    "\n",
    "mlflow.set_tracking_uri(\"sqlite:///experiments.db\")\n",
    "client = MlflowClient(tracking_uri=\"sqlite:///experiments.db\")"
   ],
   "metadata": {
    "collapsed": false,
    "ExecuteTime": {
     "end_time": "2023-11-27T23:09:47.002091Z",
     "start_time": "2023-11-27T23:09:46.477136Z"
    }
   },
   "id": "93a8160a4f43c625"
  },
  {
   "cell_type": "code",
   "execution_count": 3,
   "outputs": [],
   "source": [
    "# v6_runs = get_runs(experiment_name_to_id(\"linear-params-more-metrics\", client=client))\n",
    "v6_runs = get_runs(experiment_name_to_id(\"new_features_v2\", client=client))\n",
    "base_runs = get_runs(experiment_name_to_id(\"base\", client=client))"
   ],
   "metadata": {
    "collapsed": false,
    "ExecuteTime": {
     "end_time": "2023-11-27T23:09:48.897421Z",
     "start_time": "2023-11-27T23:09:47.001560Z"
    }
   },
   "id": "61d14034310136f2"
  },
  {
   "cell_type": "code",
   "execution_count": 4,
   "outputs": [
    {
     "data": {
      "text/plain": "Index(['run_id', 'experiment_id', 'status', 'artifact_uri', 'start_time',\n       'end_time', 'metrics.actual_min_split_percentage',\n       'metrics.simple_areas', 'metrics.acc', 'metrics.statements_size',\n       'metrics.no_statements', 'params.min_samples',\n       'params.neighbors_in_learning', 'params.base_clf',\n       'params.min_split_percentage', 'params.train_path',\n       'params.oversampling_in_splitting', 'params.complexity_measure',\n       'tags.mlflow.runName', 'tags.exception'],\n      dtype='object')"
     },
     "execution_count": 4,
     "metadata": {},
     "output_type": "execute_result"
    }
   ],
   "source": [
    "v6_runs.columns"
   ],
   "metadata": {
    "collapsed": false,
    "ExecuteTime": {
     "end_time": "2023-11-27T23:09:48.908665Z",
     "start_time": "2023-11-27T23:09:48.898478Z"
    }
   },
   "id": "3bf6281267040d93"
  },
  {
   "cell_type": "code",
   "execution_count": 5,
   "outputs": [],
   "source": [
    "merged = v6_runs.merge(base_runs, on=\"params.train_path\", suffixes=('', '_base'))[\n",
    "    ['status',\n",
    "     'metrics.actual_min_split_percentage',\n",
    "     'metrics.simple_areas', 'metrics.statements_size', 'metrics.acc',\n",
    "     'metrics.rf_acc', 'metrics.dt_acc', 'metrics.perceptron_acc',\n",
    "     'metrics.no_statements', 'params.train_path', 'params.min_samples',\n",
    "     'params.base_clf', 'params.min_split_percentage',\n",
    "     'params.neighbors_in_learning', 'params.complexity_measure',\n",
    "     'params.oversampling_in_splitting', 'tags.exception']\n",
    "]"
   ],
   "metadata": {
    "collapsed": false,
    "ExecuteTime": {
     "end_time": "2023-11-27T23:09:48.930178Z",
     "start_time": "2023-11-27T23:09:48.918721Z"
    }
   },
   "id": "5fb0545356ff43ec"
  },
  {
   "cell_type": "code",
   "execution_count": 6,
   "outputs": [],
   "source": [
    "merged['better_equal_rf'] = merged['metrics.acc'] >= merged['metrics.rf_acc']\n",
    "merged['better_than_dt'] = merged['metrics.acc'] > merged['metrics.dt_acc']\n",
    "merged['better_than_perceptron'] = merged['metrics.acc'] > merged['metrics.perceptron_acc']"
   ],
   "metadata": {
    "collapsed": false,
    "ExecuteTime": {
     "end_time": "2023-11-27T23:09:48.945849Z",
     "start_time": "2023-11-27T23:09:48.929200Z"
    }
   },
   "id": "2176e60d1ad3076"
  },
  {
   "cell_type": "code",
   "execution_count": 7,
   "outputs": [
    {
     "data": {
      "text/plain": "<IPython.core.display.HTML object>",
      "text/html": "<table border=\"1\" class=\"dataframe\">\n  <thead>\n    <tr style=\"text-align: right;\">\n      <th></th>\n      <th>count</th>\n    </tr>\n    <tr>\n      <th>status</th>\n      <th></th>\n    </tr>\n  </thead>\n  <tbody>\n    <tr>\n      <th>FINISHED</th>\n      <td>2562</td>\n    </tr>\n    <tr>\n      <th>FAILED</th>\n      <td>318</td>\n    </tr>\n  </tbody>\n</table>"
     },
     "metadata": {},
     "output_type": "display_data"
    }
   ],
   "source": [
    "display_df(merged.status.value_counts())"
   ],
   "metadata": {
    "collapsed": false,
    "ExecuteTime": {
     "end_time": "2023-11-27T23:09:48.968890Z",
     "start_time": "2023-11-27T23:09:48.948101Z"
    }
   },
   "id": "2685d75202498fac"
  },
  {
   "cell_type": "code",
   "execution_count": 8,
   "outputs": [
    {
     "data": {
      "text/plain": "Index(['status', 'metrics.actual_min_split_percentage', 'metrics.simple_areas',\n       'metrics.statements_size', 'metrics.acc', 'metrics.rf_acc',\n       'metrics.dt_acc', 'metrics.perceptron_acc', 'metrics.no_statements',\n       'params.train_path', 'params.min_samples', 'params.base_clf',\n       'params.min_split_percentage', 'params.neighbors_in_learning',\n       'params.complexity_measure', 'params.oversampling_in_splitting',\n       'tags.exception', 'better_equal_rf', 'better_than_dt',\n       'better_than_perceptron'],\n      dtype='object')"
     },
     "execution_count": 8,
     "metadata": {},
     "output_type": "execute_result"
    }
   ],
   "source": [
    "merged.columns"
   ],
   "metadata": {
    "collapsed": false,
    "ExecuteTime": {
     "end_time": "2023-11-27T23:09:48.975769Z",
     "start_time": "2023-11-27T23:09:48.966797Z"
    }
   },
   "id": "689c460e0d6c8a3"
  },
  {
   "cell_type": "code",
   "execution_count": 9,
   "outputs": [],
   "source": [
    "merged = merged.query(\"status == 'FINISHED'\")"
   ],
   "metadata": {
    "collapsed": false,
    "ExecuteTime": {
     "end_time": "2023-11-27T23:09:48.982973Z",
     "start_time": "2023-11-27T23:09:48.977120Z"
    }
   },
   "id": "d3737ae4ffbedb5"
  },
  {
   "cell_type": "markdown",
   "source": [],
   "metadata": {
    "collapsed": false
   },
   "id": "9ba84b5dd3ba8074"
  },
  {
   "cell_type": "markdown",
   "source": [
    "## Visualization\n",
    "### Better or equal RF \n",
    "[(with default params - 100 estimators)](https://scikit-learn.org/stable/modules/generated/sklearn.ensemble.RandomForestClassifier.html)"
   ],
   "metadata": {
    "collapsed": false
   },
   "id": "a57365a49508ef34"
  },
  {
   "cell_type": "code",
   "execution_count": 10,
   "outputs": [
    {
     "data": {
      "text/plain": "<IPython.core.display.Markdown object>",
      "text/markdown": "**All across**"
     },
     "metadata": {},
     "output_type": "display_data"
    },
    {
     "data": {
      "text/plain": "0.23145979703356753"
     },
     "metadata": {},
     "output_type": "display_data"
    },
    {
     "data": {
      "text/plain": "<IPython.core.display.Markdown object>",
      "text/markdown": "**Better or equal to RF - grouped by complexity_measure and base_clf**"
     },
     "metadata": {},
     "output_type": "display_data"
    },
    {
     "data": {
      "text/plain": "<IPython.core.display.HTML object>",
      "text/html": "<table border=\"1\" class=\"dataframe\">\n  <thead>\n    <tr style=\"text-align: right;\">\n      <th>params.base_clf</th>\n      <th>dt</th>\n      <th>svm</th>\n    </tr>\n    <tr>\n      <th>params.complexity_measure</th>\n      <th></th>\n      <th></th>\n    </tr>\n  </thead>\n  <tbody>\n    <tr>\n      <th>l1</th>\n      <td>0.221294</td>\n      <td>0.240625</td>\n    </tr>\n    <tr>\n      <th>l2</th>\n      <td>0.225000</td>\n      <td>0.239264</td>\n    </tr>\n    <tr>\n      <th>l3</th>\n      <td>0.220833</td>\n      <td>0.247379</td>\n    </tr>\n  </tbody>\n</table>"
     },
     "metadata": {},
     "output_type": "display_data"
    },
    {
     "data": {
      "text/plain": "<IPython.core.display.Markdown object>",
      "text/markdown": "**Better or equal to RF - grouped by min_samples allowed in split/subspace**"
     },
     "metadata": {},
     "output_type": "display_data"
    },
    {
     "data": {
      "text/plain": "<IPython.core.display.HTML object>",
      "text/html": "<table border=\"1\" class=\"dataframe\">\n  <thead>\n    <tr style=\"text-align: right;\">\n      <th>params.min_samples</th>\n      <th>10</th>\n      <th>25</th>\n    </tr>\n    <tr>\n      <th>params.base_clf</th>\n      <th></th>\n      <th></th>\n    </tr>\n  </thead>\n  <tbody>\n    <tr>\n      <th>dt</th>\n      <td>0.221140</td>\n      <td>0.223611</td>\n    </tr>\n    <tr>\n      <th>svm</th>\n      <td>0.232975</td>\n      <td>0.253097</td>\n    </tr>\n  </tbody>\n</table>"
     },
     "metadata": {},
     "output_type": "display_data"
    },
    {
     "data": {
      "text/plain": "<IPython.core.display.Markdown object>",
      "text/markdown": "**Better or equal to RF - grouped by min_split_percentage for the point to be considered as split**"
     },
     "metadata": {},
     "output_type": "display_data"
    },
    {
     "data": {
      "text/plain": "<IPython.core.display.HTML object>",
      "text/html": "<table border=\"1\" class=\"dataframe\">\n  <thead>\n    <tr style=\"text-align: right;\">\n      <th>params.min_split_percentage</th>\n      <th>0.1</th>\n      <th>0.4</th>\n    </tr>\n    <tr>\n      <th>params.base_clf</th>\n      <th></th>\n      <th></th>\n    </tr>\n  </thead>\n  <tbody>\n    <tr>\n      <th>dt</th>\n      <td>0.398611</td>\n      <td>0.045897</td>\n    </tr>\n    <tr>\n      <th>svm</th>\n      <td>0.350000</td>\n      <td>0.136767</td>\n    </tr>\n  </tbody>\n</table>"
     },
     "metadata": {},
     "output_type": "display_data"
    },
    {
     "data": {
      "text/plain": "<IPython.core.display.Markdown object>",
      "text/markdown": "**Better or equal to RF - grouped by base_clf trained in the split**"
     },
     "metadata": {},
     "output_type": "display_data"
    },
    {
     "data": {
      "text/plain": "<IPython.core.display.HTML object>",
      "text/html": "<table border=\"1\" class=\"dataframe\">\n  <thead>\n    <tr style=\"text-align: right;\">\n      <th></th>\n      <th>better_equal_rf</th>\n    </tr>\n    <tr>\n      <th>params.base_clf</th>\n      <th></th>\n    </tr>\n  </thead>\n  <tbody>\n    <tr>\n      <th>dt</th>\n      <td>0.222377</td>\n    </tr>\n    <tr>\n      <th>svm</th>\n      <td>0.243099</td>\n    </tr>\n  </tbody>\n</table>"
     },
     "metadata": {},
     "output_type": "display_data"
    }
   ],
   "source": [
    "display_md(\"**All across**\")\n",
    "display(\n",
    "    merged['better_equal_rf'].mean()\n",
    ")\n",
    "\n",
    "display_md(\"**Better or equal to RF - grouped by complexity_measure and base_clf**\")\n",
    "display_df(\n",
    "    merged.groupby([\"params.complexity_measure\", \"params.base_clf\"])\\\n",
    "    ['better_equal_rf'] \\\n",
    "    .apply(lambda x: np.sum(x)/len(x)) \\\n",
    "    .unstack()\n",
    ")\n",
    "\n",
    "display_md(\"**Better or equal to RF - grouped by min_samples allowed in split/subspace**\")\n",
    "display_df(\n",
    "    merged.groupby([\"params.base_clf\", \"params.min_samples\"]) \\\n",
    "    ['better_equal_rf'] \\\n",
    "    .apply(lambda x: np.sum(x)/len(x)) \\\n",
    "    .unstack()\n",
    ")\n",
    "\n",
    "\n",
    "display_md(\"**Better or equal to RF - grouped by min_split_percentage for the point to be considered as split**\")\n",
    "display_df(\n",
    "    merged.groupby([\"params.base_clf\", \"params.min_split_percentage\"]) \\\n",
    "        ['better_equal_rf'] \\\n",
    "        .apply(lambda x: np.sum(x)/len(x))\\\n",
    "        .unstack()\n",
    ")\n",
    "\n",
    "display_md(\"**Better or equal to RF - grouped by base_clf trained in the split**\")\n",
    "display_df(\n",
    "    merged.groupby([\"params.base_clf\"]) \\\n",
    "        ['better_equal_rf'] \\\n",
    "        .apply(lambda x: np.sum(x)/len(x))\n",
    ")"
   ],
   "metadata": {
    "collapsed": false,
    "ExecuteTime": {
     "end_time": "2023-11-27T23:09:49.041129Z",
     "start_time": "2023-11-27T23:09:48.984733Z"
    }
   },
   "id": "4abfdd18cdee0ebc"
  },
  {
   "cell_type": "markdown",
   "source": [
    "### Better than DT [(with default params - no max depth)](https://scikit-learn.org/stable/modules/generated/sklearn.tree.DecisionTreeClassifier.html) "
   ],
   "metadata": {
    "collapsed": false
   },
   "id": "f6a7c4acbc3aad74"
  },
  {
   "cell_type": "code",
   "execution_count": 11,
   "outputs": [
    {
     "data": {
      "text/plain": "<IPython.core.display.Markdown object>",
      "text/markdown": "**All across**"
     },
     "metadata": {},
     "output_type": "display_data"
    },
    {
     "data": {
      "text/plain": "0.156128024980484"
     },
     "metadata": {},
     "output_type": "display_data"
    },
    {
     "data": {
      "text/plain": "<IPython.core.display.Markdown object>",
      "text/markdown": "**Better than DT - grouped by complexity_measure and base_clf**"
     },
     "metadata": {},
     "output_type": "display_data"
    },
    {
     "data": {
      "text/plain": "<IPython.core.display.HTML object>",
      "text/html": "<table border=\"1\" class=\"dataframe\">\n  <thead>\n    <tr style=\"text-align: right;\">\n      <th>params.complexity_measure</th>\n      <th>l1</th>\n      <th>l2</th>\n      <th>l3</th>\n    </tr>\n    <tr>\n      <th>params.base_clf</th>\n      <th></th>\n      <th></th>\n      <th></th>\n    </tr>\n  </thead>\n  <tbody>\n    <tr>\n      <th>dt</th>\n      <td>0.056367</td>\n      <td>0.060417</td>\n      <td>0.068750</td>\n    </tr>\n    <tr>\n      <th>svm</th>\n      <td>0.275000</td>\n      <td>0.285276</td>\n      <td>0.272537</td>\n    </tr>\n  </tbody>\n</table>"
     },
     "metadata": {},
     "output_type": "display_data"
    },
    {
     "data": {
      "text/plain": "<IPython.core.display.Markdown object>",
      "text/markdown": "**Better than DT - grouped by min_samples allowed in split/subspace**"
     },
     "metadata": {},
     "output_type": "display_data"
    },
    {
     "data": {
      "text/plain": "<IPython.core.display.HTML object>",
      "text/html": "<table border=\"1\" class=\"dataframe\">\n  <thead>\n    <tr style=\"text-align: right;\">\n      <th>params.min_samples</th>\n      <th>10</th>\n      <th>25</th>\n    </tr>\n    <tr>\n      <th>params.base_clf</th>\n      <th></th>\n      <th></th>\n    </tr>\n  </thead>\n  <tbody>\n    <tr>\n      <th>dt</th>\n      <td>0.058414</td>\n      <td>0.065278</td>\n    </tr>\n    <tr>\n      <th>svm</th>\n      <td>0.259857</td>\n      <td>0.293805</td>\n    </tr>\n  </tbody>\n</table>"
     },
     "metadata": {},
     "output_type": "display_data"
    },
    {
     "data": {
      "text/plain": "<IPython.core.display.Markdown object>",
      "text/markdown": "**Better than DT - grouped by min_split_percentage for the point to be considered as split**"
     },
     "metadata": {},
     "output_type": "display_data"
    },
    {
     "data": {
      "text/plain": "<IPython.core.display.HTML object>",
      "text/html": "<table border=\"1\" class=\"dataframe\">\n  <thead>\n    <tr style=\"text-align: right;\">\n      <th>params.min_split_percentage</th>\n      <th>0.1</th>\n      <th>0.4</th>\n    </tr>\n    <tr>\n      <th>params.base_clf</th>\n      <th></th>\n      <th></th>\n    </tr>\n  </thead>\n  <tbody>\n    <tr>\n      <th>dt</th>\n      <td>0.00</td>\n      <td>0.123783</td>\n    </tr>\n    <tr>\n      <th>svm</th>\n      <td>0.35</td>\n      <td>0.204263</td>\n    </tr>\n  </tbody>\n</table>"
     },
     "metadata": {},
     "output_type": "display_data"
    },
    {
     "data": {
      "text/plain": "<IPython.core.display.Markdown object>",
      "text/markdown": "**Better than DT - grouped by base_clf trained in the split**"
     },
     "metadata": {},
     "output_type": "display_data"
    },
    {
     "data": {
      "text/plain": "<IPython.core.display.HTML object>",
      "text/html": "<table border=\"1\" class=\"dataframe\">\n  <thead>\n    <tr style=\"text-align: right;\">\n      <th></th>\n      <th>better_than_dt</th>\n    </tr>\n    <tr>\n      <th>params.base_clf</th>\n      <th></th>\n    </tr>\n  </thead>\n  <tbody>\n    <tr>\n      <th>dt</th>\n      <td>0.061849</td>\n    </tr>\n    <tr>\n      <th>svm</th>\n      <td>0.276937</td>\n    </tr>\n  </tbody>\n</table>"
     },
     "metadata": {},
     "output_type": "display_data"
    }
   ],
   "source": [
    "display_md(\"**All across**\")\n",
    "display(\n",
    "    merged['better_than_dt'].mean()\n",
    ")\n",
    "\n",
    "\n",
    "display_md(\"**Better than DT - grouped by complexity_measure and base_clf**\")\n",
    "display_df(\n",
    "    merged.groupby([\"params.base_clf\", \"params.complexity_measure\"]) \\\n",
    "        ['better_than_dt'] \\\n",
    "        .apply(lambda x: np.sum(x)/len(x))\\\n",
    "        .unstack()\n",
    ")\n",
    "\n",
    "display_md(\"**Better than DT - grouped by min_samples allowed in split/subspace**\")\n",
    "display_df(\n",
    "    merged.groupby([\"params.base_clf\", \"params.min_samples\"]) \\\n",
    "        ['better_than_dt'] \\\n",
    "        .apply(lambda x: np.sum(x)/len(x)) \\\n",
    "        .unstack()\n",
    ")\n",
    "\n",
    "\n",
    "display_md(\"**Better than DT - grouped by min_split_percentage for the point to be considered as split**\")\n",
    "display_df(\n",
    "    merged.groupby([\"params.base_clf\", \"params.min_split_percentage\"]) \\\n",
    "        ['better_than_dt'] \\\n",
    "        .apply(lambda x: np.sum(x)/len(x))\\\n",
    "        .unstack()\n",
    ")\n",
    "\n",
    "display_md(\"**Better than DT - grouped by base_clf trained in the split**\")\n",
    "display_df(\n",
    "    merged.groupby([\"params.base_clf\"]) \\\n",
    "        ['better_than_dt'] \\\n",
    "        .apply(lambda x: np.sum(x)/len(x))\n",
    ")"
   ],
   "metadata": {
    "collapsed": false,
    "ExecuteTime": {
     "end_time": "2023-11-27T23:09:49.203092Z",
     "start_time": "2023-11-27T23:09:49.028141Z"
    }
   },
   "id": "d7560659e6420d1c"
  },
  {
   "cell_type": "markdown",
   "source": [
    "### Better than perceptron"
   ],
   "metadata": {
    "collapsed": false
   },
   "id": "afa0927ccfc2200"
  },
  {
   "cell_type": "code",
   "execution_count": 12,
   "outputs": [
    {
     "data": {
      "text/plain": "<IPython.core.display.Markdown object>",
      "text/markdown": "**All across**"
     },
     "metadata": {},
     "output_type": "display_data"
    },
    {
     "data": {
      "text/plain": "0.7591725214676034"
     },
     "metadata": {},
     "output_type": "display_data"
    },
    {
     "data": {
      "text/plain": "<IPython.core.display.Markdown object>",
      "text/markdown": "**Better than perceptron - grouped by complexity_measure and base_clf**"
     },
     "metadata": {},
     "output_type": "display_data"
    },
    {
     "data": {
      "text/plain": "<IPython.core.display.HTML object>",
      "text/html": "<table border=\"1\" class=\"dataframe\">\n  <thead>\n    <tr style=\"text-align: right;\">\n      <th>params.complexity_measure</th>\n      <th>l1</th>\n      <th>l2</th>\n      <th>l3</th>\n    </tr>\n    <tr>\n      <th>params.base_clf</th>\n      <th></th>\n      <th></th>\n      <th></th>\n    </tr>\n  </thead>\n  <tbody>\n    <tr>\n      <th>dt</th>\n      <td>0.776618</td>\n      <td>0.775000</td>\n      <td>0.781250</td>\n    </tr>\n    <tr>\n      <th>svm</th>\n      <td>0.737500</td>\n      <td>0.733129</td>\n      <td>0.735849</td>\n    </tr>\n  </tbody>\n</table>"
     },
     "metadata": {},
     "output_type": "display_data"
    },
    {
     "data": {
      "text/plain": "<IPython.core.display.Markdown object>",
      "text/markdown": "**Better than perceptron - grouped by min_samples allowed in split/subspace**"
     },
     "metadata": {},
     "output_type": "display_data"
    },
    {
     "data": {
      "text/plain": "<IPython.core.display.HTML object>",
      "text/html": "<table border=\"1\" class=\"dataframe\">\n  <thead>\n    <tr style=\"text-align: right;\">\n      <th>params.min_samples</th>\n      <th>10</th>\n      <th>25</th>\n    </tr>\n    <tr>\n      <th>params.base_clf</th>\n      <th></th>\n      <th></th>\n    </tr>\n  </thead>\n  <tbody>\n    <tr>\n      <th>dt</th>\n      <td>0.773296</td>\n      <td>0.781944</td>\n    </tr>\n    <tr>\n      <th>svm</th>\n      <td>0.727599</td>\n      <td>0.743363</td>\n    </tr>\n  </tbody>\n</table>"
     },
     "metadata": {},
     "output_type": "display_data"
    },
    {
     "data": {
      "text/plain": "<IPython.core.display.Markdown object>",
      "text/markdown": "**Better than perceptron - grouped by min_split_percentage for the point to be considered as split**"
     },
     "metadata": {},
     "output_type": "display_data"
    },
    {
     "data": {
      "text/plain": "<IPython.core.display.HTML object>",
      "text/html": "<table border=\"1\" class=\"dataframe\">\n  <thead>\n    <tr style=\"text-align: right;\">\n      <th>params.min_split_percentage</th>\n      <th>0.1</th>\n      <th>0.4</th>\n    </tr>\n    <tr>\n      <th>params.base_clf</th>\n      <th></th>\n      <th></th>\n    </tr>\n  </thead>\n  <tbody>\n    <tr>\n      <th>dt</th>\n      <td>0.797222</td>\n      <td>0.757997</td>\n    </tr>\n    <tr>\n      <th>svm</th>\n      <td>0.700000</td>\n      <td>0.770870</td>\n    </tr>\n  </tbody>\n</table>"
     },
     "metadata": {},
     "output_type": "display_data"
    },
    {
     "data": {
      "text/plain": "<IPython.core.display.Markdown object>",
      "text/markdown": "**Better than perceptron - grouped by base_clf trained in the split**"
     },
     "metadata": {},
     "output_type": "display_data"
    },
    {
     "data": {
      "text/plain": "<IPython.core.display.HTML object>",
      "text/html": "<table border=\"1\" class=\"dataframe\">\n  <thead>\n    <tr style=\"text-align: right;\">\n      <th></th>\n      <th>better_than_perceptron</th>\n    </tr>\n    <tr>\n      <th>params.base_clf</th>\n      <th></th>\n    </tr>\n  </thead>\n  <tbody>\n    <tr>\n      <th>dt</th>\n      <td>0.777623</td>\n    </tr>\n    <tr>\n      <th>svm</th>\n      <td>0.735530</td>\n    </tr>\n  </tbody>\n</table>"
     },
     "metadata": {},
     "output_type": "display_data"
    }
   ],
   "source": [
    "display_md(\"**All across**\")\n",
    "display(\n",
    "    merged['better_than_perceptron'].mean()\n",
    ")\n",
    "\n",
    "\n",
    "display_md(\"**Better than perceptron - grouped by complexity_measure and base_clf**\")\n",
    "display_df(\n",
    "    merged.groupby([\"params.base_clf\", \"params.complexity_measure\"]) \\\n",
    "        ['better_than_perceptron'] \\\n",
    "        .apply(lambda x: np.sum(x)/len(x)) \\\n",
    "        .unstack()\n",
    ")\n",
    "\n",
    "display_md(\"**Better than perceptron - grouped by min_samples allowed in split/subspace**\")\n",
    "display_df(\n",
    "    merged.groupby([\"params.base_clf\", \"params.min_samples\"]) \\\n",
    "        ['better_than_perceptron'] \\\n",
    "        .apply(lambda x: np.sum(x)/len(x)) \\\n",
    "        .unstack()\n",
    ")\n",
    "\n",
    "\n",
    "display_md(\"**Better than perceptron - grouped by min_split_percentage for the point to be considered as split**\")\n",
    "display_df(\n",
    "    merged.groupby([\"params.base_clf\", \"params.min_split_percentage\"]) \\\n",
    "        ['better_than_perceptron'] \\\n",
    "        .apply(lambda x: np.sum(x)/len(x)) \\\n",
    "        .unstack()\n",
    ")\n",
    "\n",
    "display_md(\"**Better than perceptron - grouped by base_clf trained in the split**\")\n",
    "display_df(\n",
    "    merged.groupby([\"params.base_clf\"]) \\\n",
    "        ['better_than_perceptron'] \\\n",
    "        .apply(lambda x: np.sum(x)/len(x))\n",
    ")"
   ],
   "metadata": {
    "collapsed": false,
    "ExecuteTime": {
     "end_time": "2023-11-27T23:09:49.640869Z",
     "start_time": "2023-11-27T23:09:49.096187Z"
    }
   },
   "id": "aa2bea5ad13c75fb"
  },
  {
   "cell_type": "code",
   "execution_count": 13,
   "outputs": [
    {
     "data": {
      "text/plain": "<IPython.core.display.Markdown object>",
      "text/markdown": "**Accuracy**"
     },
     "metadata": {},
     "output_type": "display_data"
    },
    {
     "data": {
      "text/plain": "<IPython.core.display.HTML object>",
      "text/html": "<table border=\"1\" class=\"dataframe\">\n  <thead>\n    <tr style=\"text-align: right;\">\n      <th></th>\n      <th>metrics.acc</th>\n    </tr>\n    <tr>\n      <th>params.neighbors_in_learning</th>\n      <th></th>\n    </tr>\n  </thead>\n  <tbody>\n    <tr>\n      <th>20</th>\n      <td>0.764623</td>\n    </tr>\n    <tr>\n      <th>5</th>\n      <td>0.763488</td>\n    </tr>\n    <tr>\n      <th>None</th>\n      <td>0.779999</td>\n    </tr>\n  </tbody>\n</table>"
     },
     "metadata": {},
     "output_type": "display_data"
    },
    {
     "data": {
      "text/plain": "<IPython.core.display.HTML object>",
      "text/html": "<table border=\"1\" class=\"dataframe\">\n  <thead>\n    <tr style=\"text-align: right;\">\n      <th></th>\n      <th>metrics.acc</th>\n    </tr>\n    <tr>\n      <th>params.oversampling_in_splitting</th>\n      <th></th>\n    </tr>\n  </thead>\n  <tbody>\n    <tr>\n      <th>None</th>\n      <td>0.767662</td>\n    </tr>\n    <tr>\n      <th>SMOTE</th>\n      <td>0.768426</td>\n    </tr>\n  </tbody>\n</table>"
     },
     "metadata": {},
     "output_type": "display_data"
    },
    {
     "data": {
      "text/plain": "<IPython.core.display.HTML object>",
      "text/html": "<table border=\"1\" class=\"dataframe\">\n  <thead>\n    <tr style=\"text-align: right;\">\n      <th>params.oversampling_in_splitting</th>\n      <th>None</th>\n      <th>SMOTE</th>\n    </tr>\n    <tr>\n      <th>params.complexity_measure</th>\n      <th></th>\n      <th></th>\n    </tr>\n  </thead>\n  <tbody>\n    <tr>\n      <th>l1</th>\n      <td>0.769359</td>\n      <td>0.769993</td>\n    </tr>\n    <tr>\n      <th>l2</th>\n      <td>0.769914</td>\n      <td>0.771562</td>\n    </tr>\n    <tr>\n      <th>l3</th>\n      <td>0.764370</td>\n      <td>0.764456</td>\n    </tr>\n  </tbody>\n</table>"
     },
     "metadata": {},
     "output_type": "display_data"
    },
    {
     "data": {
      "text/plain": "<IPython.core.display.HTML object>",
      "text/html": "<table border=\"1\" class=\"dataframe\">\n  <thead>\n    <tr style=\"text-align: right;\">\n      <th>params.neighbors_in_learning</th>\n      <th>20</th>\n      <th>5</th>\n      <th>None</th>\n    </tr>\n    <tr>\n      <th>params.complexity_measure</th>\n      <th></th>\n      <th></th>\n      <th></th>\n    </tr>\n  </thead>\n  <tbody>\n    <tr>\n      <th>l1</th>\n      <td>0.763814</td>\n      <td>0.763279</td>\n      <td>0.794499</td>\n    </tr>\n    <tr>\n      <th>l2</th>\n      <td>0.764410</td>\n      <td>0.763681</td>\n      <td>0.796491</td>\n    </tr>\n    <tr>\n      <th>l3</th>\n      <td>0.765644</td>\n      <td>0.763504</td>\n      <td>0.764086</td>\n    </tr>\n  </tbody>\n</table>"
     },
     "metadata": {},
     "output_type": "display_data"
    }
   ],
   "source": [
    "display_md(\"**Accuracy**\")\n",
    "\n",
    "\n",
    "display_df(\n",
    "    merged.groupby([\"params.neighbors_in_learning\"]) \\\n",
    "        ['metrics.acc'] \\\n",
    "        .apply(np.mean)\n",
    ")\n",
    "\n",
    "\n",
    "display_df(\n",
    "    merged.groupby([\"params.oversampling_in_splitting\"]) \\\n",
    "        ['metrics.acc'] \\\n",
    "        .apply(np.mean) \n",
    ")\n",
    "\n",
    "\n",
    "display_df(\n",
    "    merged.groupby([\"params.complexity_measure\", \"params.oversampling_in_splitting\"]) \\\n",
    "        ['metrics.acc'] \\\n",
    "        .apply(np.mean) \\\n",
    "        .unstack()\n",
    ")\n",
    "\n",
    "display_df(\n",
    "    merged.groupby([\"params.complexity_measure\", \"params.neighbors_in_learning\"]) \\\n",
    "        ['metrics.acc'] \\\n",
    "        .apply(np.mean) \\\n",
    "        .unstack()\n",
    ")\n",
    "\n"
   ],
   "metadata": {
    "collapsed": false,
    "ExecuteTime": {
     "end_time": "2023-11-27T23:09:49.746625Z",
     "start_time": "2023-11-27T23:09:49.143394Z"
    }
   },
   "id": "ae968baeaf6269b1"
  },
  {
   "cell_type": "code",
   "execution_count": 14,
   "outputs": [],
   "source": [
    "v6_runs['dataset_name'] = v6_runs['params.train_path'].str.split('/').str[-1].str.split(\"-\").str[0]"
   ],
   "metadata": {
    "collapsed": false,
    "ExecuteTime": {
     "end_time": "2023-11-27T23:09:49.762585Z",
     "start_time": "2023-11-27T23:09:49.192782Z"
    }
   },
   "id": "d6e6eb2d06cbe909"
  },
  {
   "cell_type": "code",
   "execution_count": 15,
   "outputs": [],
   "source": [
    "merged['dataset_name'] = merged['params.train_path'].str.split('/').str[-1].str.split(\"-\").str[0]\n"
   ],
   "metadata": {
    "collapsed": false,
    "ExecuteTime": {
     "end_time": "2023-11-27T23:09:50.013124Z",
     "start_time": "2023-11-27T23:09:49.204109Z"
    }
   },
   "id": "93e6d80b361269cb"
  },
  {
   "cell_type": "markdown",
   "source": [],
   "metadata": {
    "collapsed": false
   },
   "id": "978dc1d0f30d327"
  },
  {
   "cell_type": "code",
   "execution_count": 16,
   "outputs": [],
   "source": [
    "from scipy.stats import wilcoxon"
   ],
   "metadata": {
    "collapsed": false,
    "ExecuteTime": {
     "end_time": "2023-11-27T23:09:50.245396Z",
     "start_time": "2023-11-27T23:09:49.211453Z"
    }
   },
   "id": "34b5a32463fb2c3c"
  },
  {
   "cell_type": "code",
   "execution_count": 17,
   "outputs": [],
   "source": [
    "def calculate_wilcoxon(df, significance=0.05):\n",
    "    return wilcoxon(df['metrics.acc'] - df['metrics.dt_acc'], zero_method='zsplit')[1] < significance"
   ],
   "metadata": {
    "collapsed": false,
    "ExecuteTime": {
     "end_time": "2023-11-27T23:09:50.253356Z",
     "start_time": "2023-11-27T23:09:49.762705Z"
    }
   },
   "id": "ef1c54f5be2ee72c"
  },
  {
   "cell_type": "code",
   "execution_count": 18,
   "outputs": [],
   "source": [
    "def mean_better_than_df(df):\n",
    "    return df['metrics.acc'].mean() > df['metrics.dt_acc'].mean()"
   ],
   "metadata": {
    "collapsed": false,
    "ExecuteTime": {
     "end_time": "2023-11-27T23:09:50.253716Z",
     "start_time": "2023-11-27T23:09:49.942437Z"
    }
   },
   "id": "9c5861e66a66be8e"
  },
  {
   "cell_type": "code",
   "execution_count": 19,
   "outputs": [],
   "source": [
    "def percent_better_than_dt(df):\n",
    "    return ((df['metrics.acc'] > df['metrics.dt_acc']).sum() / df['metrics.dt_acc'].count()) * 100"
   ],
   "metadata": {
    "collapsed": false,
    "ExecuteTime": {
     "end_time": "2023-11-27T23:09:50.253757Z",
     "start_time": "2023-11-27T23:09:49.966028Z"
    }
   },
   "id": "f877a17bcd65f539"
  },
  {
   "cell_type": "code",
   "execution_count": 20,
   "outputs": [],
   "source": [
    "def diff_to_dt(df):\n",
    "    return (df['metrics.acc'] - df['metrics.dt_acc']).mean()"
   ],
   "metadata": {
    "collapsed": false,
    "ExecuteTime": {
     "end_time": "2023-11-27T23:09:50.253796Z",
     "start_time": "2023-11-27T23:09:49.972363Z"
    }
   },
   "id": "364535566db4b5d5"
  },
  {
   "cell_type": "code",
   "execution_count": 21,
   "outputs": [
    {
     "data": {
      "text/plain": "<IPython.core.display.Markdown object>",
      "text/markdown": "Diff to DT (perceptron)"
     },
     "metadata": {},
     "output_type": "display_data"
    },
    {
     "data": {
      "text/plain": "<IPython.core.display.HTML object>",
      "text/html": "<table border=\"1\" class=\"dataframe\">\n  <thead>\n    <tr style=\"text-align: right;\">\n      <th>params.complexity_measure</th>\n      <th>l1</th>\n      <th>l2</th>\n      <th>l3</th>\n    </tr>\n    <tr>\n      <th>dataset_name</th>\n      <th></th>\n      <th></th>\n      <th></th>\n    </tr>\n  </thead>\n  <tbody>\n    <tr>\n      <th>automobile</th>\n      <td>-3.419118e-01</td>\n      <td>-0.345588</td>\n      <td>-0.319853</td>\n    </tr>\n    <tr>\n      <th>balance</th>\n      <td>6.900000e-02</td>\n      <td>0.069000</td>\n      <td>0.074000</td>\n    </tr>\n    <tr>\n      <th>banana</th>\n      <td>-3.183962e-01</td>\n      <td>-0.323585</td>\n      <td>-0.293829</td>\n    </tr>\n    <tr>\n      <th>breast</th>\n      <td>-4.464286e-03</td>\n      <td>-0.006696</td>\n      <td>-0.002232</td>\n    </tr>\n    <tr>\n      <th>car</th>\n      <td>-2.833333e-01</td>\n      <td>-0.283333</td>\n      <td>-0.283092</td>\n    </tr>\n    <tr>\n      <th>chess</th>\n      <td>-3.169014e-02</td>\n      <td>-0.031690</td>\n      <td>-0.032603</td>\n    </tr>\n    <tr>\n      <th>ecoli</th>\n      <td>-2.182836e-01</td>\n      <td>-0.211589</td>\n      <td>-0.215796</td>\n    </tr>\n    <tr>\n      <th>haberman</th>\n      <td>8.196721e-03</td>\n      <td>0.007172</td>\n      <td>0.008880</td>\n    </tr>\n    <tr>\n      <th>heart</th>\n      <td>-1.944444e-01</td>\n      <td>-0.177083</td>\n      <td>-0.177469</td>\n    </tr>\n    <tr>\n      <th>mammographic</th>\n      <td>4.411765e-02</td>\n      <td>0.052941</td>\n      <td>0.056863</td>\n    </tr>\n    <tr>\n      <th>mushroom</th>\n      <td>-5.936675e-03</td>\n      <td>-0.005691</td>\n      <td>-0.006157</td>\n    </tr>\n    <tr>\n      <th>nursery</th>\n      <td>-1.728395e-01</td>\n      <td>-0.169481</td>\n      <td>-0.172389</td>\n    </tr>\n    <tr>\n      <th>pima</th>\n      <td>-1.205065e-01</td>\n      <td>-0.125000</td>\n      <td>-0.119826</td>\n    </tr>\n    <tr>\n      <th>shuttle</th>\n      <td>-2.479740e-02</td>\n      <td>-0.025202</td>\n      <td>-0.027662</td>\n    </tr>\n    <tr>\n      <th>spambase</th>\n      <td>-2.160326e-02</td>\n      <td>-0.021671</td>\n      <td>-0.020743</td>\n    </tr>\n    <tr>\n      <th>titanic</th>\n      <td>0.000000e+00</td>\n      <td>0.000000</td>\n      <td>0.000000</td>\n    </tr>\n    <tr>\n      <th>vowel</th>\n      <td>-2.136995e-01</td>\n      <td>-0.191919</td>\n      <td>-0.215278</td>\n    </tr>\n    <tr>\n      <th>wine</th>\n      <td>2.775558e-17</td>\n      <td>-0.004902</td>\n      <td>-0.002315</td>\n    </tr>\n    <tr>\n      <th>wisconsin</th>\n      <td>2.518657e-02</td>\n      <td>0.025187</td>\n      <td>0.014303</td>\n    </tr>\n    <tr>\n      <th>yeast</th>\n      <td>-7.791385e-02</td>\n      <td>-0.080870</td>\n      <td>-0.078407</td>\n    </tr>\n  </tbody>\n</table>"
     },
     "metadata": {},
     "output_type": "display_data"
    },
    {
     "data": {
      "text/plain": "<IPython.core.display.Markdown object>",
      "text/markdown": "Diff to DT (dt)"
     },
     "metadata": {},
     "output_type": "display_data"
    },
    {
     "data": {
      "text/plain": "<IPython.core.display.HTML object>",
      "text/html": "<table border=\"1\" class=\"dataframe\">\n  <thead>\n    <tr style=\"text-align: right;\">\n      <th>params.complexity_measure</th>\n      <th>l1</th>\n      <th>l2</th>\n      <th>l3</th>\n    </tr>\n    <tr>\n      <th>dataset_name</th>\n      <th></th>\n      <th></th>\n      <th></th>\n    </tr>\n  </thead>\n  <tbody>\n    <tr>\n      <th>automobile</th>\n      <td>-0.063725</td>\n      <td>-6.617647e-02</td>\n      <td>-0.068627</td>\n    </tr>\n    <tr>\n      <th>balance</th>\n      <td>-0.002000</td>\n      <td>-3.333333e-04</td>\n      <td>0.001000</td>\n    </tr>\n    <tr>\n      <th>banana</th>\n      <td>-0.019615</td>\n      <td>-1.875000e-02</td>\n      <td>-0.017138</td>\n    </tr>\n    <tr>\n      <th>breast</th>\n      <td>-0.002232</td>\n      <td>1.387779e-17</td>\n      <td>-0.000744</td>\n    </tr>\n    <tr>\n      <th>car</th>\n      <td>-0.042271</td>\n      <td>-4.227053e-02</td>\n      <td>-0.042271</td>\n    </tr>\n    <tr>\n      <th>chess</th>\n      <td>-0.019301</td>\n      <td>-1.930099e-02</td>\n      <td>-0.019301</td>\n    </tr>\n    <tr>\n      <th>ecoli</th>\n      <td>-0.069652</td>\n      <td>-7.089552e-02</td>\n      <td>-0.074005</td>\n    </tr>\n    <tr>\n      <th>haberman</th>\n      <td>-0.012295</td>\n      <td>-1.140413e-02</td>\n      <td>-0.001426</td>\n    </tr>\n    <tr>\n      <th>heart</th>\n      <td>-0.047840</td>\n      <td>-5.475040e-02</td>\n      <td>-0.048611</td>\n    </tr>\n    <tr>\n      <th>mammographic</th>\n      <td>0.002046</td>\n      <td>-2.205882e-03</td>\n      <td>0.001961</td>\n    </tr>\n    <tr>\n      <th>mushroom</th>\n      <td>-0.000806</td>\n      <td>-8.062152e-04</td>\n      <td>-0.000806</td>\n    </tr>\n    <tr>\n      <th>nursery</th>\n      <td>-0.024820</td>\n      <td>-2.481996e-02</td>\n      <td>-0.024820</td>\n    </tr>\n    <tr>\n      <th>pima</th>\n      <td>-0.066993</td>\n      <td>-6.072985e-02</td>\n      <td>-0.058551</td>\n    </tr>\n    <tr>\n      <th>shuttle</th>\n      <td>-0.000726</td>\n      <td>-7.040837e-04</td>\n      <td>-0.000747</td>\n    </tr>\n    <tr>\n      <th>spambase</th>\n      <td>-0.022543</td>\n      <td>-2.296196e-02</td>\n      <td>-0.020335</td>\n    </tr>\n    <tr>\n      <th>titanic</th>\n      <td>-0.000758</td>\n      <td>-7.575758e-04</td>\n      <td>-0.000758</td>\n    </tr>\n    <tr>\n      <th>vowel</th>\n      <td>0.004209</td>\n      <td>7.154882e-03</td>\n      <td>0.003788</td>\n    </tr>\n    <tr>\n      <th>wine</th>\n      <td>-0.067130</td>\n      <td>-6.712963e-02</td>\n      <td>-0.067130</td>\n    </tr>\n    <tr>\n      <th>wisconsin</th>\n      <td>-0.005286</td>\n      <td>-6.529851e-03</td>\n      <td>-0.006841</td>\n    </tr>\n    <tr>\n      <th>yeast</th>\n      <td>-0.015484</td>\n      <td>-9.712838e-03</td>\n      <td>-0.013091</td>\n    </tr>\n  </tbody>\n</table>"
     },
     "metadata": {},
     "output_type": "display_data"
    }
   ],
   "source": [
    "display_md(\"Diff to DT (perceptron)\")\n",
    "display_df(merged.query('`params.base_clf` == \"svm\"').groupby(['dataset_name', 'params.complexity_measure']).apply(diff_to_dt).unstack())\n",
    "\n",
    "display_md(\"Diff to DT (dt)\")\n",
    "display_df(merged.query('`params.base_clf` == \"dt\"').groupby(['dataset_name', 'params.complexity_measure']).apply(diff_to_dt).unstack())"
   ],
   "metadata": {
    "collapsed": false,
    "ExecuteTime": {
     "end_time": "2023-11-27T23:09:50.487171Z",
     "start_time": "2023-11-27T23:09:49.982729Z"
    }
   },
   "id": "9e5dc640bff77960"
  },
  {
   "cell_type": "code",
   "execution_count": 22,
   "outputs": [
    {
     "data": {
      "text/plain": "<IPython.core.display.Markdown object>",
      "text/markdown": "Percentage of better than dt"
     },
     "metadata": {},
     "output_type": "display_data"
    },
    {
     "data": {
      "text/plain": "<IPython.core.display.HTML object>",
      "text/html": "<table border=\"1\" class=\"dataframe\">\n  <thead>\n    <tr style=\"text-align: right;\">\n      <th>params.min_split_percentage</th>\n      <th>0.1</th>\n      <th>0.4</th>\n    </tr>\n    <tr>\n      <th>params.base_clf</th>\n      <th></th>\n      <th></th>\n    </tr>\n  </thead>\n  <tbody>\n    <tr>\n      <th>dt</th>\n      <td>0.0</td>\n      <td>12.378303</td>\n    </tr>\n    <tr>\n      <th>svm</th>\n      <td>35.0</td>\n      <td>20.426288</td>\n    </tr>\n  </tbody>\n</table>"
     },
     "metadata": {},
     "output_type": "display_data"
    }
   ],
   "source": [
    "display_md(\"Percentage of better than dt\")\n",
    "display_df(merged.groupby([\"params.base_clf\", \"params.min_split_percentage\"]).apply(percent_better_than_dt).unstack())"
   ],
   "metadata": {
    "collapsed": false,
    "ExecuteTime": {
     "end_time": "2023-11-27T23:09:50.551347Z",
     "start_time": "2023-11-27T23:09:50.164618Z"
    }
   },
   "id": "9937ac757cce9524"
  },
  {
   "cell_type": "code",
   "execution_count": 23,
   "outputs": [
    {
     "data": {
      "text/plain": "<IPython.core.display.Markdown object>",
      "text/markdown": "Mean acc better than DF (perceptron)"
     },
     "metadata": {},
     "output_type": "display_data"
    },
    {
     "data": {
      "text/plain": "<IPython.core.display.HTML object>",
      "text/html": "<table border=\"1\" class=\"dataframe\">\n  <thead>\n    <tr style=\"text-align: right;\">\n      <th>params.complexity_measure</th>\n      <th>l1</th>\n      <th>l2</th>\n      <th>l3</th>\n    </tr>\n    <tr>\n      <th>dataset_name</th>\n      <th></th>\n      <th></th>\n      <th></th>\n    </tr>\n  </thead>\n  <tbody>\n    <tr>\n      <th>automobile</th>\n      <td>False</td>\n      <td>False</td>\n      <td>False</td>\n    </tr>\n    <tr>\n      <th>balance</th>\n      <td>True</td>\n      <td>True</td>\n      <td>True</td>\n    </tr>\n    <tr>\n      <th>banana</th>\n      <td>False</td>\n      <td>False</td>\n      <td>False</td>\n    </tr>\n    <tr>\n      <th>breast</th>\n      <td>False</td>\n      <td>False</td>\n      <td>False</td>\n    </tr>\n    <tr>\n      <th>car</th>\n      <td>False</td>\n      <td>False</td>\n      <td>False</td>\n    </tr>\n    <tr>\n      <th>chess</th>\n      <td>False</td>\n      <td>False</td>\n      <td>False</td>\n    </tr>\n    <tr>\n      <th>ecoli</th>\n      <td>False</td>\n      <td>False</td>\n      <td>False</td>\n    </tr>\n    <tr>\n      <th>haberman</th>\n      <td>True</td>\n      <td>True</td>\n      <td>True</td>\n    </tr>\n    <tr>\n      <th>heart</th>\n      <td>False</td>\n      <td>False</td>\n      <td>False</td>\n    </tr>\n    <tr>\n      <th>mammographic</th>\n      <td>True</td>\n      <td>True</td>\n      <td>True</td>\n    </tr>\n    <tr>\n      <th>mushroom</th>\n      <td>False</td>\n      <td>False</td>\n      <td>False</td>\n    </tr>\n    <tr>\n      <th>nursery</th>\n      <td>False</td>\n      <td>False</td>\n      <td>False</td>\n    </tr>\n    <tr>\n      <th>pima</th>\n      <td>False</td>\n      <td>False</td>\n      <td>False</td>\n    </tr>\n    <tr>\n      <th>shuttle</th>\n      <td>False</td>\n      <td>False</td>\n      <td>False</td>\n    </tr>\n    <tr>\n      <th>spambase</th>\n      <td>False</td>\n      <td>False</td>\n      <td>False</td>\n    </tr>\n    <tr>\n      <th>titanic</th>\n      <td>False</td>\n      <td>False</td>\n      <td>False</td>\n    </tr>\n    <tr>\n      <th>vowel</th>\n      <td>False</td>\n      <td>False</td>\n      <td>False</td>\n    </tr>\n    <tr>\n      <th>wine</th>\n      <td>False</td>\n      <td>False</td>\n      <td>False</td>\n    </tr>\n    <tr>\n      <th>wisconsin</th>\n      <td>True</td>\n      <td>True</td>\n      <td>True</td>\n    </tr>\n    <tr>\n      <th>yeast</th>\n      <td>False</td>\n      <td>False</td>\n      <td>False</td>\n    </tr>\n  </tbody>\n</table>"
     },
     "metadata": {},
     "output_type": "display_data"
    }
   ],
   "source": [
    "display_md(\"Mean acc better than DF (perceptron)\")\n",
    "display_df(merged.query('`params.base_clf` == \"svm\"').groupby(['dataset_name', 'params.complexity_measure']).apply(mean_better_than_df).unstack())"
   ],
   "metadata": {
    "collapsed": false,
    "ExecuteTime": {
     "end_time": "2023-11-27T23:09:50.790159Z",
     "start_time": "2023-11-27T23:09:50.178123Z"
    }
   },
   "id": "6e92a4e18adf3e79"
  },
  {
   "cell_type": "code",
   "execution_count": 24,
   "outputs": [
    {
     "data": {
      "text/plain": "<IPython.core.display.Markdown object>",
      "text/markdown": "Mean better than DF (perceptron)"
     },
     "metadata": {},
     "output_type": "display_data"
    },
    {
     "data": {
      "text/plain": "<IPython.core.display.HTML object>",
      "text/html": "<table border=\"1\" class=\"dataframe\">\n  <thead>\n    <tr style=\"text-align: right;\">\n      <th>params.min_split_percentage</th>\n      <th>0.1</th>\n      <th>0.4</th>\n    </tr>\n    <tr>\n      <th>dataset_name</th>\n      <th></th>\n      <th></th>\n    </tr>\n  </thead>\n  <tbody>\n    <tr>\n      <th>automobile</th>\n      <td>False</td>\n      <td>False</td>\n    </tr>\n    <tr>\n      <th>balance</th>\n      <td>False</td>\n      <td>False</td>\n    </tr>\n    <tr>\n      <th>banana</th>\n      <td>False</td>\n      <td>False</td>\n    </tr>\n    <tr>\n      <th>breast</th>\n      <td>False</td>\n      <td>False</td>\n    </tr>\n    <tr>\n      <th>car</th>\n      <td>False</td>\n      <td>False</td>\n    </tr>\n    <tr>\n      <th>chess</th>\n      <td>False</td>\n      <td>False</td>\n    </tr>\n    <tr>\n      <th>ecoli</th>\n      <td>False</td>\n      <td>False</td>\n    </tr>\n    <tr>\n      <th>haberman</th>\n      <td>False</td>\n      <td>False</td>\n    </tr>\n    <tr>\n      <th>heart</th>\n      <td>False</td>\n      <td>False</td>\n    </tr>\n    <tr>\n      <th>mammographic</th>\n      <td>False</td>\n      <td>True</td>\n    </tr>\n    <tr>\n      <th>mushroom</th>\n      <td>False</td>\n      <td>False</td>\n    </tr>\n    <tr>\n      <th>nursery</th>\n      <td>False</td>\n      <td>False</td>\n    </tr>\n    <tr>\n      <th>pima</th>\n      <td>False</td>\n      <td>False</td>\n    </tr>\n    <tr>\n      <th>shuttle</th>\n      <td>False</td>\n      <td>False</td>\n    </tr>\n    <tr>\n      <th>spambase</th>\n      <td>False</td>\n      <td>False</td>\n    </tr>\n    <tr>\n      <th>titanic</th>\n      <td>False</td>\n      <td>False</td>\n    </tr>\n    <tr>\n      <th>vowel</th>\n      <td>False</td>\n      <td>True</td>\n    </tr>\n    <tr>\n      <th>wine</th>\n      <td>False</td>\n      <td>False</td>\n    </tr>\n    <tr>\n      <th>wisconsin</th>\n      <td>False</td>\n      <td>False</td>\n    </tr>\n    <tr>\n      <th>yeast</th>\n      <td>False</td>\n      <td>False</td>\n    </tr>\n  </tbody>\n</table>"
     },
     "metadata": {},
     "output_type": "display_data"
    }
   ],
   "source": [
    "display_md(\"Mean better than DF (perceptron)\")\n",
    "display_df(merged.query('`params.base_clf` == \"dt\"').groupby(['dataset_name', 'params.min_split_percentage']).apply(mean_better_than_df).unstack())"
   ],
   "metadata": {
    "collapsed": false,
    "ExecuteTime": {
     "end_time": "2023-11-27T23:09:50.804830Z",
     "start_time": "2023-11-27T23:09:50.219093Z"
    }
   },
   "id": "44e99666f48dc018"
  },
  {
   "cell_type": "code",
   "execution_count": 25,
   "outputs": [
    {
     "data": {
      "text/plain": "<IPython.core.display.Markdown object>",
      "text/markdown": "Wilcoxon < 0.05"
     },
     "metadata": {},
     "output_type": "display_data"
    },
    {
     "name": "stderr",
     "output_type": "stream",
     "text": [
      "/Users/bgulowaty/studia/projekty/quad-splits/.venv/lib/python3.8/site-packages/scipy/stats/_morestats.py:3337: UserWarning: Exact p-value calculation does not work if there are zeros. Switching to normal approximation.\n",
      "  warnings.warn(\"Exact p-value calculation does not work if there are \"\n"
     ]
    },
    {
     "data": {
      "text/plain": "<IPython.core.display.HTML object>",
      "text/html": "<table border=\"1\" class=\"dataframe\">\n  <thead>\n    <tr style=\"text-align: right;\">\n      <th></th>\n      <th>params.min_split_percentage</th>\n      <th>0.1</th>\n      <th>0.4</th>\n    </tr>\n    <tr>\n      <th>dataset_name</th>\n      <th>params.base_clf</th>\n      <th></th>\n      <th></th>\n    </tr>\n  </thead>\n  <tbody>\n    <tr>\n      <th rowspan=\"2\" valign=\"top\">automobile</th>\n      <th>dt</th>\n      <td>False</td>\n      <td>True</td>\n    </tr>\n    <tr>\n      <th>svm</th>\n      <td>True</td>\n      <td>True</td>\n    </tr>\n    <tr>\n      <th rowspan=\"2\" valign=\"top\">balance</th>\n      <th>dt</th>\n      <td>False</td>\n      <td>False</td>\n    </tr>\n    <tr>\n      <th>svm</th>\n      <td>True</td>\n      <td>True</td>\n    </tr>\n    <tr>\n      <th rowspan=\"2\" valign=\"top\">banana</th>\n      <th>dt</th>\n      <td>False</td>\n      <td>True</td>\n    </tr>\n    <tr>\n      <th>svm</th>\n      <td>True</td>\n      <td>True</td>\n    </tr>\n    <tr>\n      <th rowspan=\"2\" valign=\"top\">breast</th>\n      <th>dt</th>\n      <td>False</td>\n      <td>False</td>\n    </tr>\n    <tr>\n      <th>svm</th>\n      <td>True</td>\n      <td>True</td>\n    </tr>\n    <tr>\n      <th rowspan=\"2\" valign=\"top\">car</th>\n      <th>dt</th>\n      <td>False</td>\n      <td>True</td>\n    </tr>\n    <tr>\n      <th>svm</th>\n      <td>True</td>\n      <td>True</td>\n    </tr>\n    <tr>\n      <th rowspan=\"2\" valign=\"top\">chess</th>\n      <th>dt</th>\n      <td>False</td>\n      <td>True</td>\n    </tr>\n    <tr>\n      <th>svm</th>\n      <td>True</td>\n      <td>True</td>\n    </tr>\n    <tr>\n      <th rowspan=\"2\" valign=\"top\">ecoli</th>\n      <th>dt</th>\n      <td>False</td>\n      <td>True</td>\n    </tr>\n    <tr>\n      <th>svm</th>\n      <td>True</td>\n      <td>True</td>\n    </tr>\n    <tr>\n      <th rowspan=\"2\" valign=\"top\">haberman</th>\n      <th>dt</th>\n      <td>False</td>\n      <td>False</td>\n    </tr>\n    <tr>\n      <th>svm</th>\n      <td>True</td>\n      <td>False</td>\n    </tr>\n    <tr>\n      <th rowspan=\"2\" valign=\"top\">heart</th>\n      <th>dt</th>\n      <td>False</td>\n      <td>True</td>\n    </tr>\n    <tr>\n      <th>svm</th>\n      <td>True</td>\n      <td>True</td>\n    </tr>\n    <tr>\n      <th rowspan=\"2\" valign=\"top\">mammographic</th>\n      <th>dt</th>\n      <td>False</td>\n      <td>False</td>\n    </tr>\n    <tr>\n      <th>svm</th>\n      <td>True</td>\n      <td>True</td>\n    </tr>\n    <tr>\n      <th rowspan=\"2\" valign=\"top\">mushroom</th>\n      <th>dt</th>\n      <td>False</td>\n      <td>True</td>\n    </tr>\n    <tr>\n      <th>svm</th>\n      <td>True</td>\n      <td>True</td>\n    </tr>\n    <tr>\n      <th rowspan=\"2\" valign=\"top\">nursery</th>\n      <th>dt</th>\n      <td>False</td>\n      <td>True</td>\n    </tr>\n    <tr>\n      <th>svm</th>\n      <td>True</td>\n      <td>True</td>\n    </tr>\n    <tr>\n      <th rowspan=\"2\" valign=\"top\">pima</th>\n      <th>dt</th>\n      <td>False</td>\n      <td>True</td>\n    </tr>\n    <tr>\n      <th>svm</th>\n      <td>True</td>\n      <td>True</td>\n    </tr>\n    <tr>\n      <th rowspan=\"2\" valign=\"top\">shuttle</th>\n      <th>dt</th>\n      <td>False</td>\n      <td>True</td>\n    </tr>\n    <tr>\n      <th>svm</th>\n      <td>True</td>\n      <td>True</td>\n    </tr>\n    <tr>\n      <th rowspan=\"2\" valign=\"top\">spambase</th>\n      <th>dt</th>\n      <td>False</td>\n      <td>True</td>\n    </tr>\n    <tr>\n      <th>svm</th>\n      <td>True</td>\n      <td>True</td>\n    </tr>\n    <tr>\n      <th rowspan=\"2\" valign=\"top\">titanic</th>\n      <th>dt</th>\n      <td>False</td>\n      <td>True</td>\n    </tr>\n    <tr>\n      <th>svm</th>\n      <td>False</td>\n      <td>False</td>\n    </tr>\n    <tr>\n      <th rowspan=\"2\" valign=\"top\">vowel</th>\n      <th>dt</th>\n      <td>False</td>\n      <td>False</td>\n    </tr>\n    <tr>\n      <th>svm</th>\n      <td>True</td>\n      <td>True</td>\n    </tr>\n    <tr>\n      <th rowspan=\"2\" valign=\"top\">wine</th>\n      <th>dt</th>\n      <td>False</td>\n      <td>True</td>\n    </tr>\n    <tr>\n      <th>svm</th>\n      <td>True</td>\n      <td>True</td>\n    </tr>\n    <tr>\n      <th rowspan=\"2\" valign=\"top\">wisconsin</th>\n      <th>dt</th>\n      <td>False</td>\n      <td>True</td>\n    </tr>\n    <tr>\n      <th>svm</th>\n      <td>True</td>\n      <td>False</td>\n    </tr>\n    <tr>\n      <th rowspan=\"2\" valign=\"top\">yeast</th>\n      <th>dt</th>\n      <td>False</td>\n      <td>True</td>\n    </tr>\n    <tr>\n      <th>svm</th>\n      <td>True</td>\n      <td>True</td>\n    </tr>\n  </tbody>\n</table>"
     },
     "metadata": {},
     "output_type": "display_data"
    }
   ],
   "source": [
    "display_md(\"Wilcoxon < 0.05\")\n",
    "display_df(merged.groupby(['dataset_name', 'params.base_clf', 'params.min_split_percentage']).apply(calculate_wilcoxon).unstack())"
   ],
   "metadata": {
    "collapsed": false,
    "ExecuteTime": {
     "end_time": "2023-11-27T23:09:50.859505Z",
     "start_time": "2023-11-27T23:09:50.251887Z"
    }
   },
   "id": "bad75c6054127b31"
  }
 ],
 "metadata": {
  "kernelspec": {
   "display_name": "Python 3",
   "language": "python",
   "name": "python3"
  },
  "language_info": {
   "codemirror_mode": {
    "name": "ipython",
    "version": 2
   },
   "file_extension": ".py",
   "mimetype": "text/x-python",
   "name": "python",
   "nbconvert_exporter": "python",
   "pygments_lexer": "ipython2",
   "version": "2.7.6"
  }
 },
 "nbformat": 4,
 "nbformat_minor": 5
}

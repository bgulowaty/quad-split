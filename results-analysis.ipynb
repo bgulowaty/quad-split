{
 "cells": [
  {
   "cell_type": "raw",
   "source": [
    "---\n",
    "execute:\n",
    "  echo: false\n",
    "format:\n",
    "    html:\n",
    "        code-fold: true\n",
    "        code-tools: true\n",
    "jupyter: python3\n",
    "site-url: github.com/bgulowaty/quad-split\n",
    "---"
   ],
   "metadata": {
    "collapsed": false
   },
   "id": "8f67b34132ee0819"
  },
  {
   "cell_type": "markdown",
   "source": [
    "\n",
    "# Quad-split\n",
    "recursive subspace split\n",
    "\n",
    "## How it works:\n",
    "1. For every feature consider all values as splitting axis (eg. If we have samples: [[1,2], [3,4]] then we would consider two features: F1 with points: 1,3 and F2 with points 2,3\n",
    "2. For every point split the feature space (so we have \"left\" and \"right\" subspaces). Only split that fulfil `minimal_split_percentage` criterion are considered (eg. if `minimal_split_percentage` is 0.1, then in either of the sides there needs to be at least 10% of samples) For every subspace calculate complexity using complexity metrics (https://arxiv.org/abs/1808.03591) using OVO approach if there are multiple classes. As a result, for every point we have sum of complexities for both subspaces.\n",
    "3. Select point which offers lowest complexity after split\n",
    "4. For left and right subspaces, repeat the process recursively UNTIL there are no more splitting points (due to `minimal_split_percentage`) or `min_samples` was reached.\n",
    "5. In each of subpaces `base_clf` is trained. Or if subspace is \"pure\" (contains only samples of one class) its using DummyClassifier - all samples are according to the pure class\n"
   ],
   "metadata": {
    "collapsed": false
   },
   "id": "2b06815d2aee61"
  },
  {
   "cell_type": "markdown",
   "source": [
    "## Processing"
   ],
   "metadata": {
    "collapsed": false
   },
   "id": "597eef60d8074a07"
  },
  {
   "cell_type": "code",
   "execution_count": 1,
   "id": "initial_id",
   "metadata": {
    "collapsed": true,
    "ExecuteTime": {
     "end_time": "2023-11-08T23:24:13.410738Z",
     "start_time": "2023-11-08T23:24:12.723571Z"
    }
   },
   "outputs": [],
   "source": [
    "import mlflow\n",
    "from mlflow import MlflowClient\n",
    "import numpy as np\n",
    "from pandas import DataFrame, Series\n",
    "from IPython.display import display, Markdown, HTML\n",
    "from mlutils.mlflow.utils import create_runs_for_params, get_unfinished_run_ids, get_runs, get_unfinished_runs, get_run_params, experiment_name_to_id"
   ]
  },
  {
   "cell_type": "code",
   "execution_count": 2,
   "outputs": [],
   "source": [
    "def display_md(val):\n",
    "    return display(Markdown(val))\n",
    "\n",
    "def display_df(df):\n",
    "    if type(df) == Series:\n",
    "        df = df.to_frame()\n",
    "    return display(HTML(df.to_html()))\n",
    "\n",
    "mlflow.set_tracking_uri(\"sqlite:///experiments.db\")\n",
    "client = MlflowClient(tracking_uri=\"sqlite:///experiments.db\")"
   ],
   "metadata": {
    "collapsed": false,
    "ExecuteTime": {
     "end_time": "2023-11-08T23:24:13.680183Z",
     "start_time": "2023-11-08T23:24:13.431035Z"
    }
   },
   "id": "93a8160a4f43c625"
  },
  {
   "cell_type": "code",
   "execution_count": 3,
   "outputs": [],
   "source": [
    "v6_runs = get_runs(experiment_name_to_id(\"v8\", client=client))\n",
    "base_runs = get_runs(experiment_name_to_id(\"base\", client=client))"
   ],
   "metadata": {
    "collapsed": false,
    "ExecuteTime": {
     "end_time": "2023-11-08T23:24:14.176561Z",
     "start_time": "2023-11-08T23:24:13.680633Z"
    }
   },
   "id": "61d14034310136f2"
  },
  {
   "cell_type": "code",
   "execution_count": 4,
   "outputs": [],
   "source": [
    "merged = v6_runs.merge(base_runs, on=\"params.train_path\", suffixes=('', '_base'))[\n",
    "    ['status', 'params.train_path', 'params.complexity_measure', 'params.base_clf', 'metrics.dt_acc', 'metrics.rf_acc', 'metrics.perceptron_acc', 'metrics.acc', 'params.min_samples', 'params.min_split_percentage']\n",
    "]"
   ],
   "metadata": {
    "collapsed": false,
    "ExecuteTime": {
     "end_time": "2023-11-08T23:24:14.182303Z",
     "start_time": "2023-11-08T23:24:14.178455Z"
    }
   },
   "id": "5fb0545356ff43ec"
  },
  {
   "cell_type": "code",
   "execution_count": 5,
   "outputs": [],
   "source": [
    "merged['better_equal_rf'] = merged['metrics.acc'] >= merged['metrics.rf_acc']\n",
    "merged['better_than_dt'] = merged['metrics.acc'] > merged['metrics.dt_acc']"
   ],
   "metadata": {
    "collapsed": false,
    "ExecuteTime": {
     "end_time": "2023-11-08T23:24:14.186571Z",
     "start_time": "2023-11-08T23:24:14.184559Z"
    }
   },
   "id": "2176e60d1ad3076"
  },
  {
   "cell_type": "code",
   "execution_count": 6,
   "outputs": [
    {
     "data": {
      "text/plain": "<IPython.core.display.HTML object>",
      "text/html": "<table border=\"1\" class=\"dataframe\">\n  <thead>\n    <tr style=\"text-align: right;\">\n      <th></th>\n      <th>count</th>\n    </tr>\n    <tr>\n      <th>status</th>\n      <th></th>\n    </tr>\n  </thead>\n  <tbody>\n    <tr>\n      <th>FINISHED</th>\n      <td>1424</td>\n    </tr>\n    <tr>\n      <th>RUNNING</th>\n      <td>16</td>\n    </tr>\n  </tbody>\n</table>"
     },
     "metadata": {},
     "output_type": "display_data"
    }
   ],
   "source": [
    "display_df(merged.status.value_counts())"
   ],
   "metadata": {
    "collapsed": false,
    "ExecuteTime": {
     "end_time": "2023-11-08T23:24:14.193733Z",
     "start_time": "2023-11-08T23:24:14.187832Z"
    }
   },
   "id": "2685d75202498fac"
  },
  {
   "cell_type": "code",
   "execution_count": 7,
   "outputs": [
    {
     "data": {
      "text/plain": "<IPython.core.display.HTML object>",
      "text/html": "<table border=\"1\" class=\"dataframe\">\n  <thead>\n    <tr style=\"text-align: right;\">\n      <th></th>\n      <th></th>\n      <th>params.train_path</th>\n    </tr>\n    <tr>\n      <th>params.complexity_measure</th>\n      <th>status</th>\n      <th></th>\n    </tr>\n  </thead>\n  <tbody>\n    <tr>\n      <th>f2</th>\n      <th>FINISHED</th>\n      <td>480</td>\n    </tr>\n    <tr>\n      <th>l3</th>\n      <th>FINISHED</th>\n      <td>480</td>\n    </tr>\n    <tr>\n      <th rowspan=\"2\" valign=\"top\">n3</th>\n      <th>FINISHED</th>\n      <td>464</td>\n    </tr>\n    <tr>\n      <th>RUNNING</th>\n      <td>16</td>\n    </tr>\n  </tbody>\n</table>"
     },
     "metadata": {},
     "output_type": "display_data"
    }
   ],
   "source": [
    "display_df(merged.groupby([\"params.complexity_measure\", \"status\"]).count()['params.train_path'])"
   ],
   "metadata": {
    "collapsed": false,
    "ExecuteTime": {
     "end_time": "2023-11-08T23:24:14.203467Z",
     "start_time": "2023-11-08T23:24:14.193432Z"
    }
   },
   "id": "3ce68ab60ecad78c"
  },
  {
   "cell_type": "code",
   "execution_count": 8,
   "outputs": [],
   "source": [
    "merged = merged.query(\"status == 'FINISHED'\")"
   ],
   "metadata": {
    "collapsed": false,
    "ExecuteTime": {
     "end_time": "2023-11-08T23:24:14.240683Z",
     "start_time": "2023-11-08T23:24:14.199248Z"
    }
   },
   "id": "d3737ae4ffbedb5"
  },
  {
   "cell_type": "markdown",
   "source": [],
   "metadata": {
    "collapsed": false
   },
   "id": "9ba84b5dd3ba8074"
  },
  {
   "cell_type": "markdown",
   "source": [
    "## Visualization\n",
    "### Better or equal RF \n",
    "[(with default params - 100 estimators)](https://scikit-learn.org/stable/modules/generated/sklearn.ensemble.RandomForestClassifier.html)"
   ],
   "metadata": {
    "collapsed": false
   },
   "id": "a57365a49508ef34"
  },
  {
   "cell_type": "code",
   "execution_count": 9,
   "outputs": [
    {
     "data": {
      "text/plain": "<IPython.core.display.Markdown object>",
      "text/markdown": "**All across**"
     },
     "metadata": {},
     "output_type": "display_data"
    },
    {
     "data": {
      "text/plain": "0.18117977528089887"
     },
     "metadata": {},
     "output_type": "display_data"
    },
    {
     "data": {
      "text/plain": "<IPython.core.display.Markdown object>",
      "text/markdown": "**Grouped by complexity_measure and base_clf**"
     },
     "metadata": {},
     "output_type": "display_data"
    },
    {
     "data": {
      "text/plain": "<IPython.core.display.HTML object>",
      "text/html": "<table border=\"1\" class=\"dataframe\">\n  <thead>\n    <tr style=\"text-align: right;\">\n      <th></th>\n      <th></th>\n      <th>better_equal_rf</th>\n    </tr>\n    <tr>\n      <th>params.complexity_measure</th>\n      <th>params.base_clf</th>\n      <th></th>\n    </tr>\n  </thead>\n  <tbody>\n    <tr>\n      <th rowspan=\"4\" valign=\"top\">f2</th>\n      <th>dt</th>\n      <td>0.233333</td>\n    </tr>\n    <tr>\n      <th>knn</th>\n      <td>0.200000</td>\n    </tr>\n    <tr>\n      <th>nb</th>\n      <td>0.166667</td>\n    </tr>\n    <tr>\n      <th>perceptron</th>\n      <td>0.116667</td>\n    </tr>\n    <tr>\n      <th rowspan=\"4\" valign=\"top\">l3</th>\n      <th>dt</th>\n      <td>0.241667</td>\n    </tr>\n    <tr>\n      <th>knn</th>\n      <td>0.200000</td>\n    </tr>\n    <tr>\n      <th>nb</th>\n      <td>0.183333</td>\n    </tr>\n    <tr>\n      <th>perceptron</th>\n      <td>0.100000</td>\n    </tr>\n    <tr>\n      <th rowspan=\"4\" valign=\"top\">n3</th>\n      <th>dt</th>\n      <td>0.232759</td>\n    </tr>\n    <tr>\n      <th>knn</th>\n      <td>0.206897</td>\n    </tr>\n    <tr>\n      <th>nb</th>\n      <td>0.189655</td>\n    </tr>\n    <tr>\n      <th>perceptron</th>\n      <td>0.103448</td>\n    </tr>\n  </tbody>\n</table>"
     },
     "metadata": {},
     "output_type": "display_data"
    },
    {
     "data": {
      "text/plain": "<IPython.core.display.Markdown object>",
      "text/markdown": "**Grouped by min_samples allowed in split/subspace**"
     },
     "metadata": {},
     "output_type": "display_data"
    },
    {
     "data": {
      "text/plain": "<IPython.core.display.HTML object>",
      "text/html": "<table border=\"1\" class=\"dataframe\">\n  <thead>\n    <tr style=\"text-align: right;\">\n      <th></th>\n      <th>better_equal_rf</th>\n    </tr>\n    <tr>\n      <th>params.min_samples</th>\n      <th></th>\n    </tr>\n  </thead>\n  <tbody>\n    <tr>\n      <th>10</th>\n      <td>0.182584</td>\n    </tr>\n    <tr>\n      <th>25</th>\n      <td>0.179775</td>\n    </tr>\n  </tbody>\n</table>"
     },
     "metadata": {},
     "output_type": "display_data"
    },
    {
     "data": {
      "text/plain": "<IPython.core.display.Markdown object>",
      "text/markdown": "**Grouped by min_split_percentage for the point to be considered as split**"
     },
     "metadata": {},
     "output_type": "display_data"
    },
    {
     "data": {
      "text/plain": "<IPython.core.display.HTML object>",
      "text/html": "<table border=\"1\" class=\"dataframe\">\n  <thead>\n    <tr style=\"text-align: right;\">\n      <th></th>\n      <th>better_equal_rf</th>\n    </tr>\n    <tr>\n      <th>params.min_split_percentage</th>\n      <th></th>\n    </tr>\n  </thead>\n  <tbody>\n    <tr>\n      <th>0.1</th>\n      <td>0.260417</td>\n    </tr>\n    <tr>\n      <th>0.3</th>\n      <td>0.154661</td>\n    </tr>\n    <tr>\n      <th>0.4</th>\n      <td>0.127119</td>\n    </tr>\n  </tbody>\n</table>"
     },
     "metadata": {},
     "output_type": "display_data"
    },
    {
     "data": {
      "text/plain": "<IPython.core.display.Markdown object>",
      "text/markdown": "**Grouped by base_clf trained in the split**"
     },
     "metadata": {},
     "output_type": "display_data"
    },
    {
     "data": {
      "text/plain": "<IPython.core.display.HTML object>",
      "text/html": "<table border=\"1\" class=\"dataframe\">\n  <thead>\n    <tr style=\"text-align: right;\">\n      <th></th>\n      <th>better_equal_rf</th>\n    </tr>\n    <tr>\n      <th>params.base_clf</th>\n      <th></th>\n    </tr>\n  </thead>\n  <tbody>\n    <tr>\n      <th>dt</th>\n      <td>0.235955</td>\n    </tr>\n    <tr>\n      <th>knn</th>\n      <td>0.202247</td>\n    </tr>\n    <tr>\n      <th>nb</th>\n      <td>0.179775</td>\n    </tr>\n    <tr>\n      <th>perceptron</th>\n      <td>0.106742</td>\n    </tr>\n  </tbody>\n</table>"
     },
     "metadata": {},
     "output_type": "display_data"
    }
   ],
   "source": [
    "display_md(\"**All across**\")\n",
    "display(\n",
    "    merged['better_equal_rf'].mean()\n",
    ")\n",
    "\n",
    "\n",
    "display_md(\"**Grouped by complexity_measure and base_clf**\")\n",
    "display_df(\n",
    "    merged.groupby([\"params.complexity_measure\", \"params.base_clf\"])\\\n",
    "    ['better_equal_rf'] \\\n",
    "    .apply(lambda x: np.sum(x)/len(x))\n",
    ")\n",
    "\n",
    "display_md(\"**Grouped by min_samples allowed in split/subspace**\")\n",
    "display_df(\n",
    "    merged.groupby([\"params.min_samples\"]) \\\n",
    "    ['better_equal_rf'] \\\n",
    "    .apply(lambda x: np.sum(x)/len(x))\n",
    ")\n",
    "\n",
    "\n",
    "display_md(\"**Grouped by min_split_percentage for the point to be considered as split**\")\n",
    "display_df(\n",
    "    merged.groupby([\"params.min_split_percentage\"]) \\\n",
    "        ['better_equal_rf'] \\\n",
    "        .apply(lambda x: np.sum(x)/len(x))\n",
    ")\n",
    "\n",
    "display_md(\"**Grouped by base_clf trained in the split**\")\n",
    "display_df(\n",
    "    merged.groupby([\"params.base_clf\"]) \\\n",
    "        ['better_equal_rf'] \\\n",
    "        .apply(lambda x: np.sum(x)/len(x))\n",
    ")"
   ],
   "metadata": {
    "collapsed": false,
    "ExecuteTime": {
     "end_time": "2023-11-08T23:24:14.272396Z",
     "start_time": "2023-11-08T23:24:14.204172Z"
    }
   },
   "id": "4abfdd18cdee0ebc"
  },
  {
   "cell_type": "markdown",
   "source": [
    "### Better than DT [(with default params - no max depth)](https://scikit-learn.org/stable/modules/generated/sklearn.tree.DecisionTreeClassifier.html) "
   ],
   "metadata": {
    "collapsed": false
   },
   "id": "f6a7c4acbc3aad74"
  },
  {
   "cell_type": "code",
   "execution_count": 10,
   "outputs": [
    {
     "data": {
      "text/plain": "<IPython.core.display.Markdown object>",
      "text/markdown": "**All across**"
     },
     "metadata": {},
     "output_type": "display_data"
    },
    {
     "data": {
      "text/plain": "0.2654494382022472"
     },
     "metadata": {},
     "output_type": "display_data"
    },
    {
     "data": {
      "text/plain": "<IPython.core.display.Markdown object>",
      "text/markdown": "**Grouped by complexity_measure and base_clf**"
     },
     "metadata": {},
     "output_type": "display_data"
    },
    {
     "data": {
      "text/plain": "<IPython.core.display.HTML object>",
      "text/html": "<table border=\"1\" class=\"dataframe\">\n  <thead>\n    <tr style=\"text-align: right;\">\n      <th></th>\n      <th></th>\n      <th>better_than_dt</th>\n    </tr>\n    <tr>\n      <th>params.complexity_measure</th>\n      <th>params.base_clf</th>\n      <th></th>\n    </tr>\n  </thead>\n  <tbody>\n    <tr>\n      <th rowspan=\"4\" valign=\"top\">f2</th>\n      <th>dt</th>\n      <td>0.166667</td>\n    </tr>\n    <tr>\n      <th>knn</th>\n      <td>0.383333</td>\n    </tr>\n    <tr>\n      <th>nb</th>\n      <td>0.300000</td>\n    </tr>\n    <tr>\n      <th>perceptron</th>\n      <td>0.183333</td>\n    </tr>\n    <tr>\n      <th rowspan=\"4\" valign=\"top\">l3</th>\n      <th>dt</th>\n      <td>0.183333</td>\n    </tr>\n    <tr>\n      <th>knn</th>\n      <td>0.416667</td>\n    </tr>\n    <tr>\n      <th>nb</th>\n      <td>0.333333</td>\n    </tr>\n    <tr>\n      <th>perceptron</th>\n      <td>0.158333</td>\n    </tr>\n    <tr>\n      <th rowspan=\"4\" valign=\"top\">n3</th>\n      <th>dt</th>\n      <td>0.163793</td>\n    </tr>\n    <tr>\n      <th>knn</th>\n      <td>0.413793</td>\n    </tr>\n    <tr>\n      <th>nb</th>\n      <td>0.327586</td>\n    </tr>\n    <tr>\n      <th>perceptron</th>\n      <td>0.155172</td>\n    </tr>\n  </tbody>\n</table>"
     },
     "metadata": {},
     "output_type": "display_data"
    },
    {
     "data": {
      "text/plain": "<IPython.core.display.Markdown object>",
      "text/markdown": "**Grouped by min_samples allowed in split/subspace**"
     },
     "metadata": {},
     "output_type": "display_data"
    },
    {
     "data": {
      "text/plain": "<IPython.core.display.HTML object>",
      "text/html": "<table border=\"1\" class=\"dataframe\">\n  <thead>\n    <tr style=\"text-align: right;\">\n      <th></th>\n      <th>better_than_dt</th>\n    </tr>\n    <tr>\n      <th>params.min_samples</th>\n      <th></th>\n    </tr>\n  </thead>\n  <tbody>\n    <tr>\n      <th>10</th>\n      <td>0.265449</td>\n    </tr>\n    <tr>\n      <th>25</th>\n      <td>0.265449</td>\n    </tr>\n  </tbody>\n</table>"
     },
     "metadata": {},
     "output_type": "display_data"
    },
    {
     "data": {
      "text/plain": "<IPython.core.display.Markdown object>",
      "text/markdown": "**Grouped by min_split_percentage for the point to be considered as split**"
     },
     "metadata": {},
     "output_type": "display_data"
    },
    {
     "data": {
      "text/plain": "<IPython.core.display.HTML object>",
      "text/html": "<table border=\"1\" class=\"dataframe\">\n  <thead>\n    <tr style=\"text-align: right;\">\n      <th></th>\n      <th>better_than_dt</th>\n    </tr>\n    <tr>\n      <th>params.min_split_percentage</th>\n      <th></th>\n    </tr>\n  </thead>\n  <tbody>\n    <tr>\n      <th>0.1</th>\n      <td>0.225000</td>\n    </tr>\n    <tr>\n      <th>0.3</th>\n      <td>0.286017</td>\n    </tr>\n    <tr>\n      <th>0.4</th>\n      <td>0.286017</td>\n    </tr>\n  </tbody>\n</table>"
     },
     "metadata": {},
     "output_type": "display_data"
    },
    {
     "data": {
      "text/plain": "<IPython.core.display.Markdown object>",
      "text/markdown": "**Grouped by base_clf trained in the split**"
     },
     "metadata": {},
     "output_type": "display_data"
    },
    {
     "data": {
      "text/plain": "<IPython.core.display.HTML object>",
      "text/html": "<table border=\"1\" class=\"dataframe\">\n  <thead>\n    <tr style=\"text-align: right;\">\n      <th></th>\n      <th>better_than_dt</th>\n    </tr>\n    <tr>\n      <th>params.base_clf</th>\n      <th></th>\n    </tr>\n  </thead>\n  <tbody>\n    <tr>\n      <th>dt</th>\n      <td>0.171348</td>\n    </tr>\n    <tr>\n      <th>knn</th>\n      <td>0.404494</td>\n    </tr>\n    <tr>\n      <th>nb</th>\n      <td>0.320225</td>\n    </tr>\n    <tr>\n      <th>perceptron</th>\n      <td>0.165730</td>\n    </tr>\n  </tbody>\n</table>"
     },
     "metadata": {},
     "output_type": "display_data"
    }
   ],
   "source": [
    "display_md(\"**All across**\")\n",
    "display(\n",
    "    merged['better_than_dt'].mean()\n",
    ")\n",
    "\n",
    "\n",
    "display_md(\"**Grouped by complexity_measure and base_clf**\")\n",
    "display_df(\n",
    "    merged.groupby([\"params.complexity_measure\", \"params.base_clf\"]) \\\n",
    "        ['better_than_dt'] \\\n",
    "        .apply(lambda x: np.sum(x)/len(x))\n",
    ")\n",
    "\n",
    "display_md(\"**Grouped by min_samples allowed in split/subspace**\")\n",
    "display_df(\n",
    "    merged.groupby([\"params.min_samples\"]) \\\n",
    "        ['better_than_dt'] \\\n",
    "        .apply(lambda x: np.sum(x)/len(x))\n",
    ")\n",
    "\n",
    "\n",
    "display_md(\"**Grouped by min_split_percentage for the point to be considered as split**\")\n",
    "display_df(\n",
    "    merged.groupby([\"params.min_split_percentage\"]) \\\n",
    "        ['better_than_dt'] \\\n",
    "        .apply(lambda x: np.sum(x)/len(x))\n",
    ")\n",
    "\n",
    "display_md(\"**Grouped by base_clf trained in the split**\")\n",
    "display_df(\n",
    "    merged.groupby([\"params.base_clf\"]) \\\n",
    "        ['better_than_dt'] \\\n",
    "        .apply(lambda x: np.sum(x)/len(x))\n",
    ")"
   ],
   "metadata": {
    "collapsed": false,
    "ExecuteTime": {
     "end_time": "2023-11-08T23:24:14.328584Z",
     "start_time": "2023-11-08T23:24:14.221032Z"
    }
   },
   "id": "d7560659e6420d1c"
  },
  {
   "cell_type": "code",
   "execution_count": 11,
   "outputs": [],
   "source": [
    "v6_runs['dataset_name'] = v6_runs['params.train_path'].str.split('/').str[-1].str.split(\"-\").str[0]"
   ],
   "metadata": {
    "collapsed": false,
    "ExecuteTime": {
     "end_time": "2023-11-08T23:24:14.328715Z",
     "start_time": "2023-11-08T23:24:14.238219Z"
    }
   },
   "id": "d6e6eb2d06cbe909"
  },
  {
   "cell_type": "code",
   "execution_count": 12,
   "outputs": [],
   "source": [
    "merged['dataset_name'] = merged['params.train_path'].str.split('/').str[-1].str.split(\"-\").str[0]\n"
   ],
   "metadata": {
    "collapsed": false,
    "ExecuteTime": {
     "end_time": "2023-11-08T23:24:14.329484Z",
     "start_time": "2023-11-08T23:24:14.242321Z"
    }
   },
   "id": "93e6d80b361269cb"
  },
  {
   "cell_type": "code",
   "execution_count": 13,
   "outputs": [
    {
     "data": {
      "text/plain": "        status                                  params.train_path   \n0     FINISHED   ../datasets/notebooks/processed/chess-5-5tra.csv  \\\n1     FINISHED   ../datasets/notebooks/processed/chess-5-5tra.csv   \n2     FINISHED   ../datasets/notebooks/processed/chess-5-5tra.csv   \n3     FINISHED   ../datasets/notebooks/processed/chess-5-5tra.csv   \n4     FINISHED   ../datasets/notebooks/processed/chess-5-5tra.csv   \n...        ...                                                ...   \n1435  FINISHED  ../datasets/notebooks/processed/breast-5-2tra.csv   \n1436  FINISHED  ../datasets/notebooks/processed/breast-5-2tra.csv   \n1437  FINISHED  ../datasets/notebooks/processed/breast-5-2tra.csv   \n1438  FINISHED  ../datasets/notebooks/processed/breast-5-2tra.csv   \n1439  FINISHED  ../datasets/notebooks/processed/breast-5-2tra.csv   \n\n     params.complexity_measure params.base_clf  metrics.dt_acc   \n0                           l3              nb        0.998435  \\\n1                           l3              nb        0.998435   \n2                           l3              nb        0.998435   \n3                           l3              nb        0.998435   \n4                           l3              nb        0.998435   \n...                        ...             ...             ...   \n1435                        f2      perceptron        0.696429   \n1436                        f2      perceptron        0.696429   \n1437                        f2      perceptron        0.696429   \n1438                        f2      perceptron        0.696429   \n1439                        f2      perceptron        0.696429   \n\n      metrics.rf_acc  metrics.perceptron_acc  metrics.acc params.min_samples   \n0           0.996870                0.945227     0.627543                 25  \\\n1           0.996870                0.945227     0.671362                 25   \n2           0.996870                0.945227     0.599374                 25   \n3           0.996870                0.945227     0.599374                 10   \n4           0.996870                0.945227     0.671362                 10   \n...              ...                     ...          ...                ...   \n1435        0.732143                0.696429     0.589286                 25   \n1436        0.732143                0.696429     0.696429                 25   \n1437        0.732143                0.696429     0.589286                 10   \n1438        0.732143                0.696429     0.589286                 10   \n1439        0.732143                0.696429     0.696429                 10   \n\n     params.min_split_percentage  better_equal_rf  better_than_dt dataset_name  \n0                            0.1            False           False        chess  \n1                            0.3            False           False        chess  \n2                            0.4            False           False        chess  \n3                            0.4            False           False        chess  \n4                            0.3            False           False        chess  \n...                          ...              ...             ...          ...  \n1435                         0.3            False           False       breast  \n1436                         0.1            False           False       breast  \n1437                         0.4            False           False       breast  \n1438                         0.3            False           False       breast  \n1439                         0.1            False           False       breast  \n\n[1424 rows x 13 columns]",
      "text/html": "<div>\n<style scoped>\n    .dataframe tbody tr th:only-of-type {\n        vertical-align: middle;\n    }\n\n    .dataframe tbody tr th {\n        vertical-align: top;\n    }\n\n    .dataframe thead th {\n        text-align: right;\n    }\n</style>\n<table border=\"1\" class=\"dataframe\">\n  <thead>\n    <tr style=\"text-align: right;\">\n      <th></th>\n      <th>status</th>\n      <th>params.train_path</th>\n      <th>params.complexity_measure</th>\n      <th>params.base_clf</th>\n      <th>metrics.dt_acc</th>\n      <th>metrics.rf_acc</th>\n      <th>metrics.perceptron_acc</th>\n      <th>metrics.acc</th>\n      <th>params.min_samples</th>\n      <th>params.min_split_percentage</th>\n      <th>better_equal_rf</th>\n      <th>better_than_dt</th>\n      <th>dataset_name</th>\n    </tr>\n  </thead>\n  <tbody>\n    <tr>\n      <th>0</th>\n      <td>FINISHED</td>\n      <td>../datasets/notebooks/processed/chess-5-5tra.csv</td>\n      <td>l3</td>\n      <td>nb</td>\n      <td>0.998435</td>\n      <td>0.996870</td>\n      <td>0.945227</td>\n      <td>0.627543</td>\n      <td>25</td>\n      <td>0.1</td>\n      <td>False</td>\n      <td>False</td>\n      <td>chess</td>\n    </tr>\n    <tr>\n      <th>1</th>\n      <td>FINISHED</td>\n      <td>../datasets/notebooks/processed/chess-5-5tra.csv</td>\n      <td>l3</td>\n      <td>nb</td>\n      <td>0.998435</td>\n      <td>0.996870</td>\n      <td>0.945227</td>\n      <td>0.671362</td>\n      <td>25</td>\n      <td>0.3</td>\n      <td>False</td>\n      <td>False</td>\n      <td>chess</td>\n    </tr>\n    <tr>\n      <th>2</th>\n      <td>FINISHED</td>\n      <td>../datasets/notebooks/processed/chess-5-5tra.csv</td>\n      <td>l3</td>\n      <td>nb</td>\n      <td>0.998435</td>\n      <td>0.996870</td>\n      <td>0.945227</td>\n      <td>0.599374</td>\n      <td>25</td>\n      <td>0.4</td>\n      <td>False</td>\n      <td>False</td>\n      <td>chess</td>\n    </tr>\n    <tr>\n      <th>3</th>\n      <td>FINISHED</td>\n      <td>../datasets/notebooks/processed/chess-5-5tra.csv</td>\n      <td>l3</td>\n      <td>nb</td>\n      <td>0.998435</td>\n      <td>0.996870</td>\n      <td>0.945227</td>\n      <td>0.599374</td>\n      <td>10</td>\n      <td>0.4</td>\n      <td>False</td>\n      <td>False</td>\n      <td>chess</td>\n    </tr>\n    <tr>\n      <th>4</th>\n      <td>FINISHED</td>\n      <td>../datasets/notebooks/processed/chess-5-5tra.csv</td>\n      <td>l3</td>\n      <td>nb</td>\n      <td>0.998435</td>\n      <td>0.996870</td>\n      <td>0.945227</td>\n      <td>0.671362</td>\n      <td>10</td>\n      <td>0.3</td>\n      <td>False</td>\n      <td>False</td>\n      <td>chess</td>\n    </tr>\n    <tr>\n      <th>...</th>\n      <td>...</td>\n      <td>...</td>\n      <td>...</td>\n      <td>...</td>\n      <td>...</td>\n      <td>...</td>\n      <td>...</td>\n      <td>...</td>\n      <td>...</td>\n      <td>...</td>\n      <td>...</td>\n      <td>...</td>\n      <td>...</td>\n    </tr>\n    <tr>\n      <th>1435</th>\n      <td>FINISHED</td>\n      <td>../datasets/notebooks/processed/breast-5-2tra.csv</td>\n      <td>f2</td>\n      <td>perceptron</td>\n      <td>0.696429</td>\n      <td>0.732143</td>\n      <td>0.696429</td>\n      <td>0.589286</td>\n      <td>25</td>\n      <td>0.3</td>\n      <td>False</td>\n      <td>False</td>\n      <td>breast</td>\n    </tr>\n    <tr>\n      <th>1436</th>\n      <td>FINISHED</td>\n      <td>../datasets/notebooks/processed/breast-5-2tra.csv</td>\n      <td>f2</td>\n      <td>perceptron</td>\n      <td>0.696429</td>\n      <td>0.732143</td>\n      <td>0.696429</td>\n      <td>0.696429</td>\n      <td>25</td>\n      <td>0.1</td>\n      <td>False</td>\n      <td>False</td>\n      <td>breast</td>\n    </tr>\n    <tr>\n      <th>1437</th>\n      <td>FINISHED</td>\n      <td>../datasets/notebooks/processed/breast-5-2tra.csv</td>\n      <td>f2</td>\n      <td>perceptron</td>\n      <td>0.696429</td>\n      <td>0.732143</td>\n      <td>0.696429</td>\n      <td>0.589286</td>\n      <td>10</td>\n      <td>0.4</td>\n      <td>False</td>\n      <td>False</td>\n      <td>breast</td>\n    </tr>\n    <tr>\n      <th>1438</th>\n      <td>FINISHED</td>\n      <td>../datasets/notebooks/processed/breast-5-2tra.csv</td>\n      <td>f2</td>\n      <td>perceptron</td>\n      <td>0.696429</td>\n      <td>0.732143</td>\n      <td>0.696429</td>\n      <td>0.589286</td>\n      <td>10</td>\n      <td>0.3</td>\n      <td>False</td>\n      <td>False</td>\n      <td>breast</td>\n    </tr>\n    <tr>\n      <th>1439</th>\n      <td>FINISHED</td>\n      <td>../datasets/notebooks/processed/breast-5-2tra.csv</td>\n      <td>f2</td>\n      <td>perceptron</td>\n      <td>0.696429</td>\n      <td>0.732143</td>\n      <td>0.696429</td>\n      <td>0.696429</td>\n      <td>10</td>\n      <td>0.1</td>\n      <td>False</td>\n      <td>False</td>\n      <td>breast</td>\n    </tr>\n  </tbody>\n</table>\n<p>1424 rows × 13 columns</p>\n</div>"
     },
     "execution_count": 13,
     "metadata": {},
     "output_type": "execute_result"
    }
   ],
   "source": [
    "merged"
   ],
   "metadata": {
    "collapsed": false,
    "ExecuteTime": {
     "end_time": "2023-11-08T23:24:14.332052Z",
     "start_time": "2023-11-08T23:24:14.245757Z"
    }
   },
   "id": "82b34a845296d0d3"
  },
  {
   "cell_type": "markdown",
   "source": [],
   "metadata": {
    "collapsed": false
   },
   "id": "978dc1d0f30d327"
  },
  {
   "cell_type": "code",
   "execution_count": 14,
   "outputs": [
    {
     "data": {
      "text/plain": "<pandas.core.groupby.generic.DataFrameGroupBy object at 0x103199d60>"
     },
     "execution_count": 14,
     "metadata": {},
     "output_type": "execute_result"
    }
   ],
   "source": [
    "merged.groupby('dataset_name')"
   ],
   "metadata": {
    "collapsed": false,
    "ExecuteTime": {
     "end_time": "2023-11-08T23:24:14.332147Z",
     "start_time": "2023-11-08T23:24:14.256380Z"
    }
   },
   "id": "1a20718c82b361a8"
  },
  {
   "cell_type": "code",
   "execution_count": 15,
   "outputs": [],
   "source": [
    "from scipy.stats import wilcoxon"
   ],
   "metadata": {
    "collapsed": false,
    "ExecuteTime": {
     "end_time": "2023-11-08T23:24:14.592253Z",
     "start_time": "2023-11-08T23:24:14.259247Z"
    }
   },
   "id": "34b5a32463fb2c3c"
  },
  {
   "cell_type": "code",
   "execution_count": 16,
   "outputs": [],
   "source": [
    "def calculate_wilcoxon(df):\n",
    "    return wilcoxon(df['metrics.acc'] - df['metrics.dt_acc'], zero_method='zsplit')[1]"
   ],
   "metadata": {
    "collapsed": false,
    "ExecuteTime": {
     "end_time": "2023-11-08T23:24:14.613008Z",
     "start_time": "2023-11-08T23:24:14.503686Z"
    }
   },
   "id": "ef1c54f5be2ee72c"
  },
  {
   "cell_type": "code",
   "execution_count": 17,
   "outputs": [],
   "source": [
    "def mean_better_than_df(df):\n",
    "    return df['metrics.acc'].mean() > df['metrics.dt_acc'].mean()"
   ],
   "metadata": {
    "collapsed": false,
    "ExecuteTime": {
     "end_time": "2023-11-08T23:24:14.613141Z",
     "start_time": "2023-11-08T23:24:14.506Z"
    }
   },
   "id": "9c5861e66a66be8e"
  },
  {
   "cell_type": "code",
   "execution_count": 18,
   "outputs": [
    {
     "name": "stderr",
     "output_type": "stream",
     "text": [
      "/Users/bgulowaty/studia/projekty/quad-splits/.venv/lib/python3.8/site-packages/scipy/stats/_morestats.py:3337: UserWarning: Exact p-value calculation does not work if there are zeros. Switching to normal approximation.\n",
      "  warnings.warn(\"Exact p-value calculation does not work if there are \"\n"
     ]
    },
    {
     "data": {
      "text/plain": "dataset_name  params.base_clf\nautomobile    dt                 1.000000\n              knn                0.000008\n              nb                 0.000008\n              perceptron         0.000008\nbalance       dt                 0.000973\n                                   ...   \nwisconsin     perceptron         0.351360\nyeast         dt                 0.007167\n              knn                0.000008\n              nb                 0.000008\n              perceptron         0.000008\nLength: 80, dtype: float64"
     },
     "execution_count": 18,
     "metadata": {},
     "output_type": "execute_result"
    }
   ],
   "source": [
    "merged.groupby(['dataset_name', 'params.base_clf']).apply(calculate_wilcoxon) "
   ],
   "metadata": {
    "collapsed": false,
    "ExecuteTime": {
     "end_time": "2023-11-08T23:24:14.641188Z",
     "start_time": "2023-11-08T23:24:14.508488Z"
    }
   },
   "id": "d2cc7c460e0aad86"
  },
  {
   "cell_type": "code",
   "execution_count": 19,
   "outputs": [
    {
     "name": "stderr",
     "output_type": "stream",
     "text": [
      "/Users/bgulowaty/studia/projekty/quad-splits/.venv/lib/python3.8/site-packages/scipy/stats/_morestats.py:3337: UserWarning: Exact p-value calculation does not work if there are zeros. Switching to normal approximation.\n",
      "  warnings.warn(\"Exact p-value calculation does not work if there are \"\n"
     ]
    },
    {
     "data": {
      "text/plain": "<IPython.core.display.HTML object>",
      "text/html": "<table border=\"1\" class=\"dataframe\">\n  <thead>\n    <tr style=\"text-align: right;\">\n      <th></th>\n      <th></th>\n      <th>0</th>\n    </tr>\n    <tr>\n      <th>dataset_name</th>\n      <th>params.base_clf</th>\n      <th></th>\n    </tr>\n  </thead>\n  <tbody>\n    <tr>\n      <th rowspan=\"4\" valign=\"top\">automobile</th>\n      <th>dt</th>\n      <td>False</td>\n    </tr>\n    <tr>\n      <th>knn</th>\n      <td>True</td>\n    </tr>\n    <tr>\n      <th>nb</th>\n      <td>True</td>\n    </tr>\n    <tr>\n      <th>perceptron</th>\n      <td>True</td>\n    </tr>\n    <tr>\n      <th rowspan=\"4\" valign=\"top\">balance</th>\n      <th>dt</th>\n      <td>True</td>\n    </tr>\n    <tr>\n      <th>knn</th>\n      <td>True</td>\n    </tr>\n    <tr>\n      <th>nb</th>\n      <td>True</td>\n    </tr>\n    <tr>\n      <th>perceptron</th>\n      <td>True</td>\n    </tr>\n    <tr>\n      <th rowspan=\"4\" valign=\"top\">banana</th>\n      <th>dt</th>\n      <td>True</td>\n    </tr>\n    <tr>\n      <th>knn</th>\n      <td>True</td>\n    </tr>\n    <tr>\n      <th>nb</th>\n      <td>True</td>\n    </tr>\n    <tr>\n      <th>perceptron</th>\n      <td>True</td>\n    </tr>\n    <tr>\n      <th rowspan=\"4\" valign=\"top\">breast</th>\n      <th>dt</th>\n      <td>True</td>\n    </tr>\n    <tr>\n      <th>knn</th>\n      <td>True</td>\n    </tr>\n    <tr>\n      <th>nb</th>\n      <td>True</td>\n    </tr>\n    <tr>\n      <th>perceptron</th>\n      <td>True</td>\n    </tr>\n    <tr>\n      <th rowspan=\"4\" valign=\"top\">car</th>\n      <th>dt</th>\n      <td>True</td>\n    </tr>\n    <tr>\n      <th>knn</th>\n      <td>True</td>\n    </tr>\n    <tr>\n      <th>nb</th>\n      <td>False</td>\n    </tr>\n    <tr>\n      <th>perceptron</th>\n      <td>True</td>\n    </tr>\n    <tr>\n      <th rowspan=\"4\" valign=\"top\">chess</th>\n      <th>dt</th>\n      <td>True</td>\n    </tr>\n    <tr>\n      <th>knn</th>\n      <td>True</td>\n    </tr>\n    <tr>\n      <th>nb</th>\n      <td>True</td>\n    </tr>\n    <tr>\n      <th>perceptron</th>\n      <td>True</td>\n    </tr>\n    <tr>\n      <th rowspan=\"4\" valign=\"top\">ecoli</th>\n      <th>dt</th>\n      <td>True</td>\n    </tr>\n    <tr>\n      <th>knn</th>\n      <td>False</td>\n    </tr>\n    <tr>\n      <th>nb</th>\n      <td>True</td>\n    </tr>\n    <tr>\n      <th>perceptron</th>\n      <td>True</td>\n    </tr>\n    <tr>\n      <th rowspan=\"4\" valign=\"top\">haberman</th>\n      <th>dt</th>\n      <td>False</td>\n    </tr>\n    <tr>\n      <th>knn</th>\n      <td>False</td>\n    </tr>\n    <tr>\n      <th>nb</th>\n      <td>True</td>\n    </tr>\n    <tr>\n      <th>perceptron</th>\n      <td>True</td>\n    </tr>\n    <tr>\n      <th rowspan=\"4\" valign=\"top\">heart</th>\n      <th>dt</th>\n      <td>True</td>\n    </tr>\n    <tr>\n      <th>knn</th>\n      <td>True</td>\n    </tr>\n    <tr>\n      <th>nb</th>\n      <td>True</td>\n    </tr>\n    <tr>\n      <th>perceptron</th>\n      <td>True</td>\n    </tr>\n    <tr>\n      <th rowspan=\"4\" valign=\"top\">mammographic</th>\n      <th>dt</th>\n      <td>False</td>\n    </tr>\n    <tr>\n      <th>knn</th>\n      <td>True</td>\n    </tr>\n    <tr>\n      <th>nb</th>\n      <td>True</td>\n    </tr>\n    <tr>\n      <th>perceptron</th>\n      <td>False</td>\n    </tr>\n    <tr>\n      <th rowspan=\"4\" valign=\"top\">mushroom</th>\n      <th>dt</th>\n      <td>False</td>\n    </tr>\n    <tr>\n      <th>knn</th>\n      <td>True</td>\n    </tr>\n    <tr>\n      <th>nb</th>\n      <td>True</td>\n    </tr>\n    <tr>\n      <th>perceptron</th>\n      <td>False</td>\n    </tr>\n    <tr>\n      <th rowspan=\"4\" valign=\"top\">nursery</th>\n      <th>dt</th>\n      <td>True</td>\n    </tr>\n    <tr>\n      <th>knn</th>\n      <td>True</td>\n    </tr>\n    <tr>\n      <th>nb</th>\n      <td>True</td>\n    </tr>\n    <tr>\n      <th>perceptron</th>\n      <td>True</td>\n    </tr>\n    <tr>\n      <th rowspan=\"4\" valign=\"top\">pima</th>\n      <th>dt</th>\n      <td>True</td>\n    </tr>\n    <tr>\n      <th>knn</th>\n      <td>True</td>\n    </tr>\n    <tr>\n      <th>nb</th>\n      <td>True</td>\n    </tr>\n    <tr>\n      <th>perceptron</th>\n      <td>True</td>\n    </tr>\n    <tr>\n      <th rowspan=\"4\" valign=\"top\">shuttle</th>\n      <th>dt</th>\n      <td>True</td>\n    </tr>\n    <tr>\n      <th>knn</th>\n      <td>True</td>\n    </tr>\n    <tr>\n      <th>nb</th>\n      <td>True</td>\n    </tr>\n    <tr>\n      <th>perceptron</th>\n      <td>True</td>\n    </tr>\n    <tr>\n      <th rowspan=\"4\" valign=\"top\">spambase</th>\n      <th>dt</th>\n      <td>True</td>\n    </tr>\n    <tr>\n      <th>knn</th>\n      <td>True</td>\n    </tr>\n    <tr>\n      <th>nb</th>\n      <td>False</td>\n    </tr>\n    <tr>\n      <th>perceptron</th>\n      <td>True</td>\n    </tr>\n    <tr>\n      <th rowspan=\"4\" valign=\"top\">titanic</th>\n      <th>dt</th>\n      <td>False</td>\n    </tr>\n    <tr>\n      <th>knn</th>\n      <td>True</td>\n    </tr>\n    <tr>\n      <th>nb</th>\n      <td>True</td>\n    </tr>\n    <tr>\n      <th>perceptron</th>\n      <td>True</td>\n    </tr>\n    <tr>\n      <th rowspan=\"4\" valign=\"top\">vowel</th>\n      <th>dt</th>\n      <td>True</td>\n    </tr>\n    <tr>\n      <th>knn</th>\n      <td>True</td>\n    </tr>\n    <tr>\n      <th>nb</th>\n      <td>False</td>\n    </tr>\n    <tr>\n      <th>perceptron</th>\n      <td>True</td>\n    </tr>\n    <tr>\n      <th rowspan=\"4\" valign=\"top\">wine</th>\n      <th>dt</th>\n      <td>False</td>\n    </tr>\n    <tr>\n      <th>knn</th>\n      <td>True</td>\n    </tr>\n    <tr>\n      <th>nb</th>\n      <td>True</td>\n    </tr>\n    <tr>\n      <th>perceptron</th>\n      <td>False</td>\n    </tr>\n    <tr>\n      <th rowspan=\"4\" valign=\"top\">wisconsin</th>\n      <th>dt</th>\n      <td>True</td>\n    </tr>\n    <tr>\n      <th>knn</th>\n      <td>True</td>\n    </tr>\n    <tr>\n      <th>nb</th>\n      <td>True</td>\n    </tr>\n    <tr>\n      <th>perceptron</th>\n      <td>False</td>\n    </tr>\n    <tr>\n      <th rowspan=\"4\" valign=\"top\">yeast</th>\n      <th>dt</th>\n      <td>True</td>\n    </tr>\n    <tr>\n      <th>knn</th>\n      <td>True</td>\n    </tr>\n    <tr>\n      <th>nb</th>\n      <td>True</td>\n    </tr>\n    <tr>\n      <th>perceptron</th>\n      <td>True</td>\n    </tr>\n  </tbody>\n</table>"
     },
     "metadata": {},
     "output_type": "display_data"
    }
   ],
   "source": [
    "display_df(merged.groupby(['dataset_name', 'params.base_clf']).apply(calculate_wilcoxon) < 0.05)"
   ],
   "metadata": {
    "collapsed": false,
    "ExecuteTime": {
     "end_time": "2023-11-08T23:24:14.659650Z",
     "start_time": "2023-11-08T23:24:14.542606Z"
    }
   },
   "id": "9964c68ab85cae27"
  },
  {
   "cell_type": "code",
   "execution_count": 20,
   "outputs": [
    {
     "data": {
      "text/plain": "<IPython.core.display.HTML object>",
      "text/html": "<table border=\"1\" class=\"dataframe\">\n  <thead>\n    <tr style=\"text-align: right;\">\n      <th></th>\n      <th></th>\n      <th>0</th>\n    </tr>\n    <tr>\n      <th>dataset_name</th>\n      <th>params.base_clf</th>\n      <th></th>\n    </tr>\n  </thead>\n  <tbody>\n    <tr>\n      <th rowspan=\"4\" valign=\"top\">automobile</th>\n      <th>dt</th>\n      <td>False</td>\n    </tr>\n    <tr>\n      <th>knn</th>\n      <td>False</td>\n    </tr>\n    <tr>\n      <th>nb</th>\n      <td>False</td>\n    </tr>\n    <tr>\n      <th>perceptron</th>\n      <td>False</td>\n    </tr>\n    <tr>\n      <th rowspan=\"4\" valign=\"top\">balance</th>\n      <th>dt</th>\n      <td>True</td>\n    </tr>\n    <tr>\n      <th>knn</th>\n      <td>True</td>\n    </tr>\n    <tr>\n      <th>nb</th>\n      <td>True</td>\n    </tr>\n    <tr>\n      <th>perceptron</th>\n      <td>True</td>\n    </tr>\n    <tr>\n      <th rowspan=\"4\" valign=\"top\">banana</th>\n      <th>dt</th>\n      <td>True</td>\n    </tr>\n    <tr>\n      <th>knn</th>\n      <td>True</td>\n    </tr>\n    <tr>\n      <th>nb</th>\n      <td>False</td>\n    </tr>\n    <tr>\n      <th>perceptron</th>\n      <td>False</td>\n    </tr>\n    <tr>\n      <th rowspan=\"4\" valign=\"top\">breast</th>\n      <th>dt</th>\n      <td>False</td>\n    </tr>\n    <tr>\n      <th>knn</th>\n      <td>True</td>\n    </tr>\n    <tr>\n      <th>nb</th>\n      <td>False</td>\n    </tr>\n    <tr>\n      <th>perceptron</th>\n      <td>False</td>\n    </tr>\n    <tr>\n      <th rowspan=\"4\" valign=\"top\">car</th>\n      <th>dt</th>\n      <td>False</td>\n    </tr>\n    <tr>\n      <th>knn</th>\n      <td>False</td>\n    </tr>\n    <tr>\n      <th>nb</th>\n      <td>False</td>\n    </tr>\n    <tr>\n      <th>perceptron</th>\n      <td>False</td>\n    </tr>\n    <tr>\n      <th rowspan=\"4\" valign=\"top\">chess</th>\n      <th>dt</th>\n      <td>False</td>\n    </tr>\n    <tr>\n      <th>knn</th>\n      <td>False</td>\n    </tr>\n    <tr>\n      <th>nb</th>\n      <td>False</td>\n    </tr>\n    <tr>\n      <th>perceptron</th>\n      <td>False</td>\n    </tr>\n    <tr>\n      <th rowspan=\"4\" valign=\"top\">ecoli</th>\n      <th>dt</th>\n      <td>False</td>\n    </tr>\n    <tr>\n      <th>knn</th>\n      <td>False</td>\n    </tr>\n    <tr>\n      <th>nb</th>\n      <td>False</td>\n    </tr>\n    <tr>\n      <th>perceptron</th>\n      <td>False</td>\n    </tr>\n    <tr>\n      <th rowspan=\"4\" valign=\"top\">haberman</th>\n      <th>dt</th>\n      <td>False</td>\n    </tr>\n    <tr>\n      <th>knn</th>\n      <td>False</td>\n    </tr>\n    <tr>\n      <th>nb</th>\n      <td>True</td>\n    </tr>\n    <tr>\n      <th>perceptron</th>\n      <td>True</td>\n    </tr>\n    <tr>\n      <th rowspan=\"4\" valign=\"top\">heart</th>\n      <th>dt</th>\n      <td>False</td>\n    </tr>\n    <tr>\n      <th>knn</th>\n      <td>False</td>\n    </tr>\n    <tr>\n      <th>nb</th>\n      <td>True</td>\n    </tr>\n    <tr>\n      <th>perceptron</th>\n      <td>False</td>\n    </tr>\n    <tr>\n      <th rowspan=\"4\" valign=\"top\">mammographic</th>\n      <th>dt</th>\n      <td>True</td>\n    </tr>\n    <tr>\n      <th>knn</th>\n      <td>True</td>\n    </tr>\n    <tr>\n      <th>nb</th>\n      <td>True</td>\n    </tr>\n    <tr>\n      <th>perceptron</th>\n      <td>False</td>\n    </tr>\n    <tr>\n      <th rowspan=\"4\" valign=\"top\">mushroom</th>\n      <th>dt</th>\n      <td>False</td>\n    </tr>\n    <tr>\n      <th>knn</th>\n      <td>False</td>\n    </tr>\n    <tr>\n      <th>nb</th>\n      <td>False</td>\n    </tr>\n    <tr>\n      <th>perceptron</th>\n      <td>False</td>\n    </tr>\n    <tr>\n      <th rowspan=\"4\" valign=\"top\">nursery</th>\n      <th>dt</th>\n      <td>False</td>\n    </tr>\n    <tr>\n      <th>knn</th>\n      <td>False</td>\n    </tr>\n    <tr>\n      <th>nb</th>\n      <td>False</td>\n    </tr>\n    <tr>\n      <th>perceptron</th>\n      <td>False</td>\n    </tr>\n    <tr>\n      <th rowspan=\"4\" valign=\"top\">pima</th>\n      <th>dt</th>\n      <td>False</td>\n    </tr>\n    <tr>\n      <th>knn</th>\n      <td>False</td>\n    </tr>\n    <tr>\n      <th>nb</th>\n      <td>False</td>\n    </tr>\n    <tr>\n      <th>perceptron</th>\n      <td>False</td>\n    </tr>\n    <tr>\n      <th rowspan=\"4\" valign=\"top\">shuttle</th>\n      <th>dt</th>\n      <td>False</td>\n    </tr>\n    <tr>\n      <th>knn</th>\n      <td>False</td>\n    </tr>\n    <tr>\n      <th>nb</th>\n      <td>False</td>\n    </tr>\n    <tr>\n      <th>perceptron</th>\n      <td>False</td>\n    </tr>\n    <tr>\n      <th rowspan=\"4\" valign=\"top\">spambase</th>\n      <th>dt</th>\n      <td>False</td>\n    </tr>\n    <tr>\n      <th>knn</th>\n      <td>False</td>\n    </tr>\n    <tr>\n      <th>nb</th>\n      <td>False</td>\n    </tr>\n    <tr>\n      <th>perceptron</th>\n      <td>False</td>\n    </tr>\n    <tr>\n      <th rowspan=\"4\" valign=\"top\">titanic</th>\n      <th>dt</th>\n      <td>False</td>\n    </tr>\n    <tr>\n      <th>knn</th>\n      <td>False</td>\n    </tr>\n    <tr>\n      <th>nb</th>\n      <td>False</td>\n    </tr>\n    <tr>\n      <th>perceptron</th>\n      <td>False</td>\n    </tr>\n    <tr>\n      <th rowspan=\"4\" valign=\"top\">vowel</th>\n      <th>dt</th>\n      <td>True</td>\n    </tr>\n    <tr>\n      <th>knn</th>\n      <td>True</td>\n    </tr>\n    <tr>\n      <th>nb</th>\n      <td>True</td>\n    </tr>\n    <tr>\n      <th>perceptron</th>\n      <td>False</td>\n    </tr>\n    <tr>\n      <th rowspan=\"4\" valign=\"top\">wine</th>\n      <th>dt</th>\n      <td>False</td>\n    </tr>\n    <tr>\n      <th>knn</th>\n      <td>True</td>\n    </tr>\n    <tr>\n      <th>nb</th>\n      <td>True</td>\n    </tr>\n    <tr>\n      <th>perceptron</th>\n      <td>False</td>\n    </tr>\n    <tr>\n      <th rowspan=\"4\" valign=\"top\">wisconsin</th>\n      <th>dt</th>\n      <td>True</td>\n    </tr>\n    <tr>\n      <th>knn</th>\n      <td>True</td>\n    </tr>\n    <tr>\n      <th>nb</th>\n      <td>False</td>\n    </tr>\n    <tr>\n      <th>perceptron</th>\n      <td>False</td>\n    </tr>\n    <tr>\n      <th rowspan=\"4\" valign=\"top\">yeast</th>\n      <th>dt</th>\n      <td>True</td>\n    </tr>\n    <tr>\n      <th>knn</th>\n      <td>True</td>\n    </tr>\n    <tr>\n      <th>nb</th>\n      <td>False</td>\n    </tr>\n    <tr>\n      <th>perceptron</th>\n      <td>False</td>\n    </tr>\n  </tbody>\n</table>"
     },
     "metadata": {},
     "output_type": "display_data"
    }
   ],
   "source": [
    "display_df(merged.groupby(['dataset_name', 'params.base_clf']).apply(mean_better_than_df))"
   ],
   "metadata": {
    "collapsed": false,
    "ExecuteTime": {
     "end_time": "2023-11-08T23:24:14.681481Z",
     "start_time": "2023-11-08T23:24:14.573881Z"
    }
   },
   "id": "8bcd821dc826b51d"
  },
  {
   "cell_type": "code",
   "execution_count": 21,
   "outputs": [
    {
     "data": {
      "text/plain": "<IPython.core.display.HTML object>",
      "text/html": "<table border=\"1\" class=\"dataframe\">\n  <thead>\n    <tr style=\"text-align: right;\">\n      <th></th>\n      <th></th>\n      <th>0</th>\n    </tr>\n    <tr>\n      <th>dataset_name</th>\n      <th>params.complexity_measure</th>\n      <th></th>\n    </tr>\n  </thead>\n  <tbody>\n    <tr>\n      <th rowspan=\"3\" valign=\"top\">automobile</th>\n      <th>f2</th>\n      <td>False</td>\n    </tr>\n    <tr>\n      <th>l3</th>\n      <td>False</td>\n    </tr>\n    <tr>\n      <th>n3</th>\n      <td>False</td>\n    </tr>\n    <tr>\n      <th rowspan=\"3\" valign=\"top\">balance</th>\n      <th>f2</th>\n      <td>True</td>\n    </tr>\n    <tr>\n      <th>l3</th>\n      <td>True</td>\n    </tr>\n    <tr>\n      <th>n3</th>\n      <td>True</td>\n    </tr>\n    <tr>\n      <th rowspan=\"3\" valign=\"top\">banana</th>\n      <th>f2</th>\n      <td>False</td>\n    </tr>\n    <tr>\n      <th>l3</th>\n      <td>False</td>\n    </tr>\n    <tr>\n      <th>n3</th>\n      <td>False</td>\n    </tr>\n    <tr>\n      <th rowspan=\"3\" valign=\"top\">breast</th>\n      <th>f2</th>\n      <td>False</td>\n    </tr>\n    <tr>\n      <th>l3</th>\n      <td>False</td>\n    </tr>\n    <tr>\n      <th>n3</th>\n      <td>False</td>\n    </tr>\n    <tr>\n      <th rowspan=\"3\" valign=\"top\">car</th>\n      <th>f2</th>\n      <td>False</td>\n    </tr>\n    <tr>\n      <th>l3</th>\n      <td>False</td>\n    </tr>\n    <tr>\n      <th>n3</th>\n      <td>False</td>\n    </tr>\n    <tr>\n      <th rowspan=\"3\" valign=\"top\">chess</th>\n      <th>f2</th>\n      <td>False</td>\n    </tr>\n    <tr>\n      <th>l3</th>\n      <td>False</td>\n    </tr>\n    <tr>\n      <th>n3</th>\n      <td>False</td>\n    </tr>\n    <tr>\n      <th rowspan=\"3\" valign=\"top\">ecoli</th>\n      <th>f2</th>\n      <td>False</td>\n    </tr>\n    <tr>\n      <th>l3</th>\n      <td>False</td>\n    </tr>\n    <tr>\n      <th>n3</th>\n      <td>False</td>\n    </tr>\n    <tr>\n      <th rowspan=\"3\" valign=\"top\">haberman</th>\n      <th>f2</th>\n      <td>True</td>\n    </tr>\n    <tr>\n      <th>l3</th>\n      <td>True</td>\n    </tr>\n    <tr>\n      <th>n3</th>\n      <td>True</td>\n    </tr>\n    <tr>\n      <th rowspan=\"3\" valign=\"top\">heart</th>\n      <th>f2</th>\n      <td>False</td>\n    </tr>\n    <tr>\n      <th>l3</th>\n      <td>False</td>\n    </tr>\n    <tr>\n      <th>n3</th>\n      <td>False</td>\n    </tr>\n    <tr>\n      <th rowspan=\"3\" valign=\"top\">mammographic</th>\n      <th>f2</th>\n      <td>True</td>\n    </tr>\n    <tr>\n      <th>l3</th>\n      <td>True</td>\n    </tr>\n    <tr>\n      <th>n3</th>\n      <td>True</td>\n    </tr>\n    <tr>\n      <th rowspan=\"3\" valign=\"top\">mushroom</th>\n      <th>f2</th>\n      <td>False</td>\n    </tr>\n    <tr>\n      <th>l3</th>\n      <td>False</td>\n    </tr>\n    <tr>\n      <th>n3</th>\n      <td>False</td>\n    </tr>\n    <tr>\n      <th rowspan=\"3\" valign=\"top\">nursery</th>\n      <th>f2</th>\n      <td>False</td>\n    </tr>\n    <tr>\n      <th>l3</th>\n      <td>False</td>\n    </tr>\n    <tr>\n      <th>n3</th>\n      <td>False</td>\n    </tr>\n    <tr>\n      <th rowspan=\"3\" valign=\"top\">pima</th>\n      <th>f2</th>\n      <td>False</td>\n    </tr>\n    <tr>\n      <th>l3</th>\n      <td>False</td>\n    </tr>\n    <tr>\n      <th>n3</th>\n      <td>False</td>\n    </tr>\n    <tr>\n      <th rowspan=\"3\" valign=\"top\">shuttle</th>\n      <th>f2</th>\n      <td>False</td>\n    </tr>\n    <tr>\n      <th>l3</th>\n      <td>False</td>\n    </tr>\n    <tr>\n      <th>n3</th>\n      <td>False</td>\n    </tr>\n    <tr>\n      <th rowspan=\"3\" valign=\"top\">spambase</th>\n      <th>f2</th>\n      <td>False</td>\n    </tr>\n    <tr>\n      <th>l3</th>\n      <td>False</td>\n    </tr>\n    <tr>\n      <th>n3</th>\n      <td>False</td>\n    </tr>\n    <tr>\n      <th rowspan=\"3\" valign=\"top\">titanic</th>\n      <th>f2</th>\n      <td>False</td>\n    </tr>\n    <tr>\n      <th>l3</th>\n      <td>False</td>\n    </tr>\n    <tr>\n      <th>n3</th>\n      <td>False</td>\n    </tr>\n    <tr>\n      <th rowspan=\"3\" valign=\"top\">vowel</th>\n      <th>f2</th>\n      <td>True</td>\n    </tr>\n    <tr>\n      <th>l3</th>\n      <td>True</td>\n    </tr>\n    <tr>\n      <th>n3</th>\n      <td>True</td>\n    </tr>\n    <tr>\n      <th rowspan=\"3\" valign=\"top\">wine</th>\n      <th>f2</th>\n      <td>True</td>\n    </tr>\n    <tr>\n      <th>l3</th>\n      <td>True</td>\n    </tr>\n    <tr>\n      <th>n3</th>\n      <td>False</td>\n    </tr>\n    <tr>\n      <th rowspan=\"3\" valign=\"top\">wisconsin</th>\n      <th>f2</th>\n      <td>True</td>\n    </tr>\n    <tr>\n      <th>l3</th>\n      <td>True</td>\n    </tr>\n    <tr>\n      <th>n3</th>\n      <td>False</td>\n    </tr>\n    <tr>\n      <th rowspan=\"3\" valign=\"top\">yeast</th>\n      <th>f2</th>\n      <td>False</td>\n    </tr>\n    <tr>\n      <th>l3</th>\n      <td>False</td>\n    </tr>\n    <tr>\n      <th>n3</th>\n      <td>False</td>\n    </tr>\n  </tbody>\n</table>"
     },
     "metadata": {},
     "output_type": "display_data"
    }
   ],
   "source": [
    "display_df(merged.groupby(['dataset_name', 'params.complexity_measure']).apply(mean_better_than_df))"
   ],
   "metadata": {
    "collapsed": false,
    "ExecuteTime": {
     "end_time": "2023-11-08T23:24:14.682484Z",
     "start_time": "2023-11-08T23:24:14.587861Z"
    }
   },
   "id": "6e92a4e18adf3e79"
  },
  {
   "cell_type": "code",
   "execution_count": 22,
   "outputs": [
    {
     "data": {
      "text/plain": "<IPython.core.display.HTML object>",
      "text/html": "<table border=\"1\" class=\"dataframe\">\n  <thead>\n    <tr style=\"text-align: right;\">\n      <th></th>\n      <th></th>\n      <th>0</th>\n    </tr>\n    <tr>\n      <th>dataset_name</th>\n      <th>params.min_split_percentage</th>\n      <th></th>\n    </tr>\n  </thead>\n  <tbody>\n    <tr>\n      <th rowspan=\"3\" valign=\"top\">automobile</th>\n      <th>0.1</th>\n      <td>False</td>\n    </tr>\n    <tr>\n      <th>0.3</th>\n      <td>False</td>\n    </tr>\n    <tr>\n      <th>0.4</th>\n      <td>False</td>\n    </tr>\n    <tr>\n      <th rowspan=\"3\" valign=\"top\">balance</th>\n      <th>0.1</th>\n      <td>True</td>\n    </tr>\n    <tr>\n      <th>0.3</th>\n      <td>True</td>\n    </tr>\n    <tr>\n      <th>0.4</th>\n      <td>True</td>\n    </tr>\n    <tr>\n      <th rowspan=\"3\" valign=\"top\">banana</th>\n      <th>0.1</th>\n      <td>False</td>\n    </tr>\n    <tr>\n      <th>0.3</th>\n      <td>False</td>\n    </tr>\n    <tr>\n      <th>0.4</th>\n      <td>False</td>\n    </tr>\n    <tr>\n      <th rowspan=\"3\" valign=\"top\">breast</th>\n      <th>0.1</th>\n      <td>True</td>\n    </tr>\n    <tr>\n      <th>0.3</th>\n      <td>False</td>\n    </tr>\n    <tr>\n      <th>0.4</th>\n      <td>False</td>\n    </tr>\n    <tr>\n      <th rowspan=\"3\" valign=\"top\">car</th>\n      <th>0.1</th>\n      <td>False</td>\n    </tr>\n    <tr>\n      <th>0.3</th>\n      <td>False</td>\n    </tr>\n    <tr>\n      <th>0.4</th>\n      <td>False</td>\n    </tr>\n    <tr>\n      <th rowspan=\"3\" valign=\"top\">chess</th>\n      <th>0.1</th>\n      <td>False</td>\n    </tr>\n    <tr>\n      <th>0.3</th>\n      <td>False</td>\n    </tr>\n    <tr>\n      <th>0.4</th>\n      <td>False</td>\n    </tr>\n    <tr>\n      <th rowspan=\"3\" valign=\"top\">ecoli</th>\n      <th>0.1</th>\n      <td>False</td>\n    </tr>\n    <tr>\n      <th>0.3</th>\n      <td>False</td>\n    </tr>\n    <tr>\n      <th>0.4</th>\n      <td>False</td>\n    </tr>\n    <tr>\n      <th rowspan=\"3\" valign=\"top\">haberman</th>\n      <th>0.1</th>\n      <td>True</td>\n    </tr>\n    <tr>\n      <th>0.3</th>\n      <td>False</td>\n    </tr>\n    <tr>\n      <th>0.4</th>\n      <td>False</td>\n    </tr>\n    <tr>\n      <th rowspan=\"3\" valign=\"top\">heart</th>\n      <th>0.1</th>\n      <td>False</td>\n    </tr>\n    <tr>\n      <th>0.3</th>\n      <td>False</td>\n    </tr>\n    <tr>\n      <th>0.4</th>\n      <td>False</td>\n    </tr>\n    <tr>\n      <th rowspan=\"3\" valign=\"top\">mammographic</th>\n      <th>0.1</th>\n      <td>False</td>\n    </tr>\n    <tr>\n      <th>0.3</th>\n      <td>True</td>\n    </tr>\n    <tr>\n      <th>0.4</th>\n      <td>True</td>\n    </tr>\n    <tr>\n      <th rowspan=\"3\" valign=\"top\">mushroom</th>\n      <th>0.1</th>\n      <td>False</td>\n    </tr>\n    <tr>\n      <th>0.3</th>\n      <td>False</td>\n    </tr>\n    <tr>\n      <th>0.4</th>\n      <td>False</td>\n    </tr>\n    <tr>\n      <th rowspan=\"3\" valign=\"top\">nursery</th>\n      <th>0.1</th>\n      <td>False</td>\n    </tr>\n    <tr>\n      <th>0.3</th>\n      <td>False</td>\n    </tr>\n    <tr>\n      <th>0.4</th>\n      <td>False</td>\n    </tr>\n    <tr>\n      <th rowspan=\"3\" valign=\"top\">pima</th>\n      <th>0.1</th>\n      <td>False</td>\n    </tr>\n    <tr>\n      <th>0.3</th>\n      <td>False</td>\n    </tr>\n    <tr>\n      <th>0.4</th>\n      <td>False</td>\n    </tr>\n    <tr>\n      <th rowspan=\"3\" valign=\"top\">shuttle</th>\n      <th>0.1</th>\n      <td>False</td>\n    </tr>\n    <tr>\n      <th>0.3</th>\n      <td>False</td>\n    </tr>\n    <tr>\n      <th>0.4</th>\n      <td>False</td>\n    </tr>\n    <tr>\n      <th rowspan=\"3\" valign=\"top\">spambase</th>\n      <th>0.1</th>\n      <td>False</td>\n    </tr>\n    <tr>\n      <th>0.3</th>\n      <td>False</td>\n    </tr>\n    <tr>\n      <th>0.4</th>\n      <td>False</td>\n    </tr>\n    <tr>\n      <th rowspan=\"3\" valign=\"top\">titanic</th>\n      <th>0.1</th>\n      <td>False</td>\n    </tr>\n    <tr>\n      <th>0.3</th>\n      <td>False</td>\n    </tr>\n    <tr>\n      <th>0.4</th>\n      <td>False</td>\n    </tr>\n    <tr>\n      <th rowspan=\"3\" valign=\"top\">vowel</th>\n      <th>0.1</th>\n      <td>False</td>\n    </tr>\n    <tr>\n      <th>0.3</th>\n      <td>True</td>\n    </tr>\n    <tr>\n      <th>0.4</th>\n      <td>True</td>\n    </tr>\n    <tr>\n      <th rowspan=\"3\" valign=\"top\">wine</th>\n      <th>0.1</th>\n      <td>True</td>\n    </tr>\n    <tr>\n      <th>0.3</th>\n      <td>True</td>\n    </tr>\n    <tr>\n      <th>0.4</th>\n      <td>False</td>\n    </tr>\n    <tr>\n      <th rowspan=\"3\" valign=\"top\">wisconsin</th>\n      <th>0.1</th>\n      <td>True</td>\n    </tr>\n    <tr>\n      <th>0.3</th>\n      <td>False</td>\n    </tr>\n    <tr>\n      <th>0.4</th>\n      <td>True</td>\n    </tr>\n    <tr>\n      <th rowspan=\"3\" valign=\"top\">yeast</th>\n      <th>0.1</th>\n      <td>False</td>\n    </tr>\n    <tr>\n      <th>0.3</th>\n      <td>False</td>\n    </tr>\n    <tr>\n      <th>0.4</th>\n      <td>False</td>\n    </tr>\n  </tbody>\n</table>"
     },
     "metadata": {},
     "output_type": "display_data"
    }
   ],
   "source": [
    "display_df(merged.groupby(['dataset_name', 'params.min_split_percentage']).apply(mean_better_than_df))"
   ],
   "metadata": {
    "collapsed": false,
    "ExecuteTime": {
     "end_time": "2023-11-08T23:24:14.730264Z",
     "start_time": "2023-11-08T23:24:14.610235Z"
    }
   },
   "id": "44e99666f48dc018"
  }
 ],
 "metadata": {
  "kernelspec": {
   "display_name": "Python 3",
   "language": "python",
   "name": "python3"
  },
  "language_info": {
   "codemirror_mode": {
    "name": "ipython",
    "version": 2
   },
   "file_extension": ".py",
   "mimetype": "text/x-python",
   "name": "python",
   "nbconvert_exporter": "python",
   "pygments_lexer": "ipython2",
   "version": "2.7.6"
  }
 },
 "nbformat": 4,
 "nbformat_minor": 5
}

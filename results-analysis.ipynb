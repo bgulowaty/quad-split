{
 "cells": [
  {
   "cell_type": "raw",
   "source": [
    "---\n",
    "format:\n",
    "    html:\n",
    "        code-fold: true\n",
    "        code-tools: true\n",
    "jupyter: python3\n",
    "---"
   ],
   "metadata": {
    "collapsed": false
   },
   "id": "8f67b34132ee0819"
  },
  {
   "cell_type": "markdown",
   "source": [
    "\n",
    "# Quad-split\n",
    "recursive subspace split\n",
    "\n",
    "## How it works:\n",
    "1. For every feature consider all values as splitting axis (eg. If we have samples: [[1,2], [3,4]] then we would consider two features: F1 with points: 1,3 and F2 with points 2,3\n",
    "2. For every point split the feature space (so we have \"left\" and \"right\" subspaces). Only split that fulfil `minimal_split_percentage` criterion are considered (eg. if `minimal_split_percentage` is 0.1, then in either of the sides there needs to be at least 10% of samples) For every subspace calculate complexity using complexity metrics (https://arxiv.org/abs/1808.03591) using OVO approach if there are multiple classes. As a result, for every point we have sum of complexities for both subspaces.\n",
    "3. Select point which offers lowest complexity after split\n",
    "4. For left and right subspaces, repeat the process recursively UNTIL there are no more splitting points (due to `minimal_split_percentage`) or `min_samples` was reached.\n",
    "5. In each of subpaces `base_clf` is trained. Or if subspace is \"pure\" (contains only samples of one class) its using DummyClassifier - all samples are according to the pure class\n"
   ],
   "metadata": {
    "collapsed": false
   },
   "id": "2b06815d2aee61"
  },
  {
   "cell_type": "markdown",
   "source": [
    "## Processing"
   ],
   "metadata": {
    "collapsed": false
   },
   "id": "597eef60d8074a07"
  },
  {
   "cell_type": "code",
   "execution_count": 3,
   "id": "initial_id",
   "metadata": {
    "collapsed": true,
    "ExecuteTime": {
     "end_time": "2023-08-24T20:09:27.116672Z",
     "start_time": "2023-08-24T20:09:27.016793Z"
    }
   },
   "outputs": [],
   "source": [
    "import mlflow\n",
    "from mlflow import MlflowClient\n",
    "import numpy as np\n",
    "from pandas import DataFrame, Series\n",
    "from IPython.display import display, Markdown, HTML\n",
    "from mlutils.mlflow.utils import create_runs_for_params, get_unfinished_run_ids, get_runs, get_unfinished_runs, get_run_params, experiment_name_to_id"
   ]
  },
  {
   "cell_type": "code",
   "execution_count": 4,
   "outputs": [],
   "source": [
    "def display_md(val):\n",
    "    return display(Markdown(val))\n",
    "\n",
    "def display_df(df):\n",
    "    if type(df) == Series:\n",
    "        df = df.to_frame()\n",
    "    return display(HTML(df.to_html()))\n",
    "\n",
    "mlflow.set_tracking_uri(\"sqlite:///../experiments.db\")\n",
    "client = MlflowClient(tracking_uri=\"sqlite:///../experiments.db\")"
   ],
   "metadata": {
    "collapsed": false,
    "ExecuteTime": {
     "end_time": "2023-08-24T20:09:27.972460Z",
     "start_time": "2023-08-24T20:09:27.017166Z"
    }
   },
   "id": "93a8160a4f43c625"
  },
  {
   "cell_type": "code",
   "execution_count": 5,
   "outputs": [],
   "source": [
    "v6_runs = get_runs(experiment_name_to_id(\"v6\", client=client))\n",
    "base_runs = get_runs(experiment_name_to_id(\"base\", client=client))"
   ],
   "metadata": {
    "collapsed": false,
    "ExecuteTime": {
     "end_time": "2023-08-24T20:09:28.927116Z",
     "start_time": "2023-08-24T20:09:27.999049Z"
    }
   },
   "id": "61d14034310136f2"
  },
  {
   "cell_type": "code",
   "execution_count": 6,
   "outputs": [],
   "source": [
    "merged = v6_runs.merge(base_runs, on=\"params.train_path\", suffixes=('', '_base'))[\n",
    "    ['status', 'params.train_path', 'params.complexity_measure', 'params.base_clf', 'metrics.dt_acc', 'metrics.rf_acc', 'metrics.perceptron_acc', 'metrics.acc', 'params.min_samples', 'params.min_split_percentage']\n",
    "]"
   ],
   "metadata": {
    "collapsed": false,
    "ExecuteTime": {
     "end_time": "2023-08-24T20:09:29.008479Z",
     "start_time": "2023-08-24T20:09:28.944826Z"
    }
   },
   "id": "5fb0545356ff43ec"
  },
  {
   "cell_type": "code",
   "execution_count": 7,
   "outputs": [],
   "source": [
    "merged['better_equal_rf'] = merged['metrics.acc'] >= merged['metrics.rf_acc']\n",
    "merged['better_than_dt'] = merged['metrics.acc'] > merged['metrics.dt_acc']"
   ],
   "metadata": {
    "collapsed": false,
    "ExecuteTime": {
     "end_time": "2023-08-24T20:09:29.115480Z",
     "start_time": "2023-08-24T20:09:29.029072Z"
    }
   },
   "id": "2176e60d1ad3076"
  },
  {
   "cell_type": "code",
   "execution_count": 8,
   "outputs": [
    {
     "data": {
      "text/plain": "status\nRUNNING     781\nFAILED      657\nFINISHED    482\nName: count, dtype: int64"
     },
     "execution_count": 8,
     "metadata": {},
     "output_type": "execute_result"
    }
   ],
   "source": [
    "merged.status.value_counts()"
   ],
   "metadata": {
    "collapsed": false,
    "ExecuteTime": {
     "end_time": "2023-08-24T20:09:29.167598Z",
     "start_time": "2023-08-24T20:09:29.107647Z"
    }
   },
   "id": "2685d75202498fac"
  },
  {
   "cell_type": "code",
   "execution_count": 9,
   "outputs": [],
   "source": [
    "merged = merged.query(\"status == 'FINISHED'\")"
   ],
   "metadata": {
    "collapsed": false,
    "ExecuteTime": {
     "end_time": "2023-08-24T20:09:29.196064Z",
     "start_time": "2023-08-24T20:09:29.155398Z"
    }
   },
   "id": "d3737ae4ffbedb5"
  },
  {
   "cell_type": "markdown",
   "source": [],
   "metadata": {
    "collapsed": false
   },
   "id": "9ba84b5dd3ba8074"
  },
  {
   "cell_type": "markdown",
   "source": [
    "## Visualization\n",
    "### Better or equal RF \n",
    "[(with default params - 100 estimators)](https://scikit-learn.org/stable/modules/generated/sklearn.ensemble.RandomForestClassifier.html)"
   ],
   "metadata": {
    "collapsed": false
   },
   "id": "a57365a49508ef34"
  },
  {
   "cell_type": "code",
   "execution_count": 10,
   "outputs": [
    {
     "data": {
      "text/plain": "<IPython.core.display.Markdown object>",
      "text/markdown": "**All across**"
     },
     "metadata": {},
     "output_type": "display_data"
    },
    {
     "data": {
      "text/plain": "0.2012448132780083"
     },
     "metadata": {},
     "output_type": "display_data"
    },
    {
     "data": {
      "text/plain": "<IPython.core.display.Markdown object>",
      "text/markdown": "**Grouped by complexity_measure and base_clf**"
     },
     "metadata": {},
     "output_type": "display_data"
    },
    {
     "data": {
      "text/plain": "<IPython.core.display.HTML object>",
      "text/html": "<table border=\"1\" class=\"dataframe\">\n  <thead>\n    <tr style=\"text-align: right;\">\n      <th></th>\n      <th></th>\n      <th>better_equal_rf</th>\n    </tr>\n    <tr>\n      <th>params.complexity_measure</th>\n      <th>params.base_clf</th>\n      <th></th>\n    </tr>\n  </thead>\n  <tbody>\n    <tr>\n      <th rowspan=\"2\" valign=\"top\">f2</th>\n      <th>knn</th>\n      <td>0.255814</td>\n    </tr>\n    <tr>\n      <th>nb</th>\n      <td>0.113636</td>\n    </tr>\n    <tr>\n      <th rowspan=\"3\" valign=\"top\">l3</th>\n      <th>dt</th>\n      <td>0.189189</td>\n    </tr>\n    <tr>\n      <th>knn</th>\n      <td>0.195122</td>\n    </tr>\n    <tr>\n      <th>nb</th>\n      <td>0.142857</td>\n    </tr>\n    <tr>\n      <th rowspan=\"2\" valign=\"top\">n3</th>\n      <th>knn</th>\n      <td>0.296296</td>\n    </tr>\n    <tr>\n      <th>nb</th>\n      <td>0.274510</td>\n    </tr>\n  </tbody>\n</table>"
     },
     "metadata": {},
     "output_type": "display_data"
    },
    {
     "data": {
      "text/plain": "<IPython.core.display.Markdown object>",
      "text/markdown": "**Grouped by min_samples allowed in split/subspace**"
     },
     "metadata": {},
     "output_type": "display_data"
    },
    {
     "data": {
      "text/plain": "<IPython.core.display.HTML object>",
      "text/html": "<table border=\"1\" class=\"dataframe\">\n  <thead>\n    <tr style=\"text-align: right;\">\n      <th></th>\n      <th>better_equal_rf</th>\n    </tr>\n    <tr>\n      <th>params.min_samples</th>\n      <th></th>\n    </tr>\n  </thead>\n  <tbody>\n    <tr>\n      <th>10</th>\n      <td>0.205357</td>\n    </tr>\n    <tr>\n      <th>25</th>\n      <td>0.197674</td>\n    </tr>\n  </tbody>\n</table>"
     },
     "metadata": {},
     "output_type": "display_data"
    },
    {
     "data": {
      "text/plain": "<IPython.core.display.Markdown object>",
      "text/markdown": "**Grouped by min_split_percentage for the point to be considered as split**"
     },
     "metadata": {},
     "output_type": "display_data"
    },
    {
     "data": {
      "text/plain": "<IPython.core.display.HTML object>",
      "text/html": "<table border=\"1\" class=\"dataframe\">\n  <thead>\n    <tr style=\"text-align: right;\">\n      <th></th>\n      <th>better_equal_rf</th>\n    </tr>\n    <tr>\n      <th>params.min_split_percentage</th>\n      <th></th>\n    </tr>\n  </thead>\n  <tbody>\n    <tr>\n      <th>0.1</th>\n      <td>0.206731</td>\n    </tr>\n    <tr>\n      <th>0.3</th>\n      <td>0.162162</td>\n    </tr>\n    <tr>\n      <th>0.5</th>\n      <td>0.346154</td>\n    </tr>\n  </tbody>\n</table>"
     },
     "metadata": {},
     "output_type": "display_data"
    },
    {
     "data": {
      "text/plain": "<IPython.core.display.Markdown object>",
      "text/markdown": "**Grouped by base_clf trained in the split**"
     },
     "metadata": {},
     "output_type": "display_data"
    },
    {
     "data": {
      "text/plain": "<IPython.core.display.HTML object>",
      "text/html": "<table border=\"1\" class=\"dataframe\">\n  <thead>\n    <tr style=\"text-align: right;\">\n      <th></th>\n      <th>better_equal_rf</th>\n    </tr>\n    <tr>\n      <th>params.base_clf</th>\n      <th></th>\n    </tr>\n  </thead>\n  <tbody>\n    <tr>\n      <th>dt</th>\n      <td>0.189189</td>\n    </tr>\n    <tr>\n      <th>knn</th>\n      <td>0.243243</td>\n    </tr>\n    <tr>\n      <th>nb</th>\n      <td>0.161435</td>\n    </tr>\n  </tbody>\n</table>"
     },
     "metadata": {},
     "output_type": "display_data"
    }
   ],
   "source": [
    "display_md(\"**All across**\")\n",
    "display(\n",
    "    merged['better_equal_rf'].mean()\n",
    ")\n",
    "\n",
    "\n",
    "display_md(\"**Grouped by complexity_measure and base_clf**\")\n",
    "display_df(\n",
    "    merged.groupby([\"params.complexity_measure\", \"params.base_clf\"])\\\n",
    "    ['better_equal_rf'] \\\n",
    "    .apply(lambda x: np.sum(x)/len(x))\n",
    ")\n",
    "\n",
    "display_md(\"**Grouped by min_samples allowed in split/subspace**\")\n",
    "display_df(\n",
    "    merged.groupby([\"params.min_samples\"]) \\\n",
    "    ['better_equal_rf'] \\\n",
    "    .apply(lambda x: np.sum(x)/len(x))\n",
    ")\n",
    "\n",
    "\n",
    "display_md(\"**Grouped by min_split_percentage for the point to be considered as split**\")\n",
    "display_df(\n",
    "    merged.groupby([\"params.min_split_percentage\"]) \\\n",
    "        ['better_equal_rf'] \\\n",
    "        .apply(lambda x: np.sum(x)/len(x))\n",
    ")\n",
    "\n",
    "display_md(\"**Grouped by base_clf trained in the split**\")\n",
    "display_df(\n",
    "    merged.groupby([\"params.base_clf\"]) \\\n",
    "        ['better_equal_rf'] \\\n",
    "        .apply(lambda x: np.sum(x)/len(x))\n",
    ")"
   ],
   "metadata": {
    "collapsed": false,
    "ExecuteTime": {
     "end_time": "2023-08-24T20:09:30.117618Z",
     "start_time": "2023-08-24T20:09:29.193002Z"
    }
   },
   "id": "4abfdd18cdee0ebc"
  },
  {
   "cell_type": "markdown",
   "source": [
    "### Better than DT [(with default params - no max depth)](https://scikit-learn.org/stable/modules/generated/sklearn.tree.DecisionTreeClassifier.html) "
   ],
   "metadata": {
    "collapsed": false
   },
   "id": "f6a7c4acbc3aad74"
  },
  {
   "cell_type": "code",
   "execution_count": 11,
   "outputs": [
    {
     "data": {
      "text/plain": "<IPython.core.display.Markdown object>",
      "text/markdown": "**All across**"
     },
     "metadata": {},
     "output_type": "display_data"
    },
    {
     "data": {
      "text/plain": "0.3941908713692946"
     },
     "metadata": {},
     "output_type": "display_data"
    },
    {
     "data": {
      "text/plain": "<IPython.core.display.Markdown object>",
      "text/markdown": "**Grouped by complexity_measure and base_clf**"
     },
     "metadata": {},
     "output_type": "display_data"
    },
    {
     "data": {
      "text/plain": "<IPython.core.display.HTML object>",
      "text/html": "<table border=\"1\" class=\"dataframe\">\n  <thead>\n    <tr style=\"text-align: right;\">\n      <th></th>\n      <th></th>\n      <th>better_than_dt</th>\n    </tr>\n    <tr>\n      <th>params.complexity_measure</th>\n      <th>params.base_clf</th>\n      <th></th>\n    </tr>\n  </thead>\n  <tbody>\n    <tr>\n      <th rowspan=\"2\" valign=\"top\">f2</th>\n      <th>knn</th>\n      <td>0.418605</td>\n    </tr>\n    <tr>\n      <th>nb</th>\n      <td>0.363636</td>\n    </tr>\n    <tr>\n      <th rowspan=\"3\" valign=\"top\">l3</th>\n      <th>dt</th>\n      <td>0.324324</td>\n    </tr>\n    <tr>\n      <th>knn</th>\n      <td>0.353659</td>\n    </tr>\n    <tr>\n      <th>nb</th>\n      <td>0.369048</td>\n    </tr>\n    <tr>\n      <th rowspan=\"2\" valign=\"top\">n3</th>\n      <th>knn</th>\n      <td>0.481481</td>\n    </tr>\n    <tr>\n      <th>nb</th>\n      <td>0.470588</td>\n    </tr>\n  </tbody>\n</table>"
     },
     "metadata": {},
     "output_type": "display_data"
    },
    {
     "data": {
      "text/plain": "<IPython.core.display.Markdown object>",
      "text/markdown": "**Grouped by min_samples allowed in split/subspace**"
     },
     "metadata": {},
     "output_type": "display_data"
    },
    {
     "data": {
      "text/plain": "<IPython.core.display.HTML object>",
      "text/html": "<table border=\"1\" class=\"dataframe\">\n  <thead>\n    <tr style=\"text-align: right;\">\n      <th></th>\n      <th>better_than_dt</th>\n    </tr>\n    <tr>\n      <th>params.min_samples</th>\n      <th></th>\n    </tr>\n  </thead>\n  <tbody>\n    <tr>\n      <th>10</th>\n      <td>0.392857</td>\n    </tr>\n    <tr>\n      <th>25</th>\n      <td>0.395349</td>\n    </tr>\n  </tbody>\n</table>"
     },
     "metadata": {},
     "output_type": "display_data"
    },
    {
     "data": {
      "text/plain": "<IPython.core.display.Markdown object>",
      "text/markdown": "**Grouped by min_split_percentage for the point to be considered as split**"
     },
     "metadata": {},
     "output_type": "display_data"
    },
    {
     "data": {
      "text/plain": "<IPython.core.display.HTML object>",
      "text/html": "<table border=\"1\" class=\"dataframe\">\n  <thead>\n    <tr style=\"text-align: right;\">\n      <th></th>\n      <th>better_than_dt</th>\n    </tr>\n    <tr>\n      <th>params.min_split_percentage</th>\n      <th></th>\n    </tr>\n  </thead>\n  <tbody>\n    <tr>\n      <th>0.1</th>\n      <td>0.365385</td>\n    </tr>\n    <tr>\n      <th>0.3</th>\n      <td>0.360360</td>\n    </tr>\n    <tr>\n      <th>0.5</th>\n      <td>0.653846</td>\n    </tr>\n  </tbody>\n</table>"
     },
     "metadata": {},
     "output_type": "display_data"
    },
    {
     "data": {
      "text/plain": "<IPython.core.display.Markdown object>",
      "text/markdown": "**Grouped by base_clf trained in the split**"
     },
     "metadata": {},
     "output_type": "display_data"
    },
    {
     "data": {
      "text/plain": "<IPython.core.display.HTML object>",
      "text/html": "<table border=\"1\" class=\"dataframe\">\n  <thead>\n    <tr style=\"text-align: right;\">\n      <th></th>\n      <th>better_than_dt</th>\n    </tr>\n    <tr>\n      <th>params.base_clf</th>\n      <th></th>\n    </tr>\n  </thead>\n  <tbody>\n    <tr>\n      <th>dt</th>\n      <td>0.324324</td>\n    </tr>\n    <tr>\n      <th>knn</th>\n      <td>0.409910</td>\n    </tr>\n    <tr>\n      <th>nb</th>\n      <td>0.390135</td>\n    </tr>\n  </tbody>\n</table>"
     },
     "metadata": {},
     "output_type": "display_data"
    }
   ],
   "source": [
    "display_md(\"**All across**\")\n",
    "display(\n",
    "    merged['better_than_dt'].mean()\n",
    ")\n",
    "\n",
    "\n",
    "display_md(\"**Grouped by complexity_measure and base_clf**\")\n",
    "display_df(\n",
    "    merged.groupby([\"params.complexity_measure\", \"params.base_clf\"]) \\\n",
    "        ['better_than_dt'] \\\n",
    "        .apply(lambda x: np.sum(x)/len(x))\n",
    ")\n",
    "\n",
    "display_md(\"**Grouped by min_samples allowed in split/subspace**\")\n",
    "display_df(\n",
    "    merged.groupby([\"params.min_samples\"]) \\\n",
    "        ['better_than_dt'] \\\n",
    "        .apply(lambda x: np.sum(x)/len(x))\n",
    ")\n",
    "\n",
    "\n",
    "display_md(\"**Grouped by min_split_percentage for the point to be considered as split**\")\n",
    "display_df(\n",
    "    merged.groupby([\"params.min_split_percentage\"]) \\\n",
    "        ['better_than_dt'] \\\n",
    "        .apply(lambda x: np.sum(x)/len(x))\n",
    ")\n",
    "\n",
    "display_md(\"**Grouped by base_clf trained in the split**\")\n",
    "display_df(\n",
    "    merged.groupby([\"params.base_clf\"]) \\\n",
    "        ['better_than_dt'] \\\n",
    "        .apply(lambda x: np.sum(x)/len(x))\n",
    ")"
   ],
   "metadata": {
    "collapsed": false,
    "ExecuteTime": {
     "end_time": "2023-08-24T20:09:30.287969Z",
     "start_time": "2023-08-24T20:09:29.741026Z"
    }
   },
   "id": "d7560659e6420d1c"
  }
 ],
 "metadata": {
  "kernelspec": {
   "display_name": "Python 3",
   "language": "python",
   "name": "python3"
  },
  "language_info": {
   "codemirror_mode": {
    "name": "ipython",
    "version": 2
   },
   "file_extension": ".py",
   "mimetype": "text/x-python",
   "name": "python",
   "nbconvert_exporter": "python",
   "pygments_lexer": "ipython2",
   "version": "2.7.6"
  }
 },
 "nbformat": 4,
 "nbformat_minor": 5
}
